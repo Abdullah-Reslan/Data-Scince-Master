{
 "cells": [
  {
   "cell_type": "markdown",
   "id": "7621cc21-1e14-42ff-ba46-f378c905c28e",
   "metadata": {},
   "source": [
    "Q1"
   ]
  },
  {
   "cell_type": "code",
   "execution_count": 2,
   "id": "6c09c03d-fb7e-43ea-8d3a-aa9da49ae281",
   "metadata": {},
   "outputs": [
    {
     "data": {
      "text/plain": [
       "' Hello World'"
      ]
     },
     "execution_count": 2,
     "metadata": {},
     "output_type": "execute_result"
    }
   ],
   "source": [
    "#i\n",
    "a = \" Hello World\"\n",
    "a"
   ]
  },
  {
   "cell_type": "code",
   "execution_count": 3,
   "id": "886c39d0-bc49-49cf-8c4b-e6fe11c72e16",
   "metadata": {},
   "outputs": [
    {
     "data": {
      "text/plain": [
       "[22, 33, 44, 'Hallo', True, False, (5+2j)]"
      ]
     },
     "execution_count": 3,
     "metadata": {},
     "output_type": "execute_result"
    }
   ],
   "source": [
    "#ii\n",
    "l = [22,33,44, \"Hallo\", True, False, 5+2j ]\n",
    "l"
   ]
  },
  {
   "cell_type": "code",
   "execution_count": 3,
   "id": "d4ab2577-a017-46e9-b754-e559957d3029",
   "metadata": {},
   "outputs": [
    {
     "data": {
      "text/plain": [
       "25.125"
      ]
     },
     "execution_count": 3,
     "metadata": {},
     "output_type": "execute_result"
    }
   ],
   "source": [
    "#ii\n",
    "x=25.125\n",
    "x"
   ]
  },
  {
   "cell_type": "code",
   "execution_count": 7,
   "id": "ff82f563-0e35-4802-ad00-7c23fd79b040",
   "metadata": {},
   "outputs": [
    {
     "data": {
      "text/plain": [
       "('hallo', True, 'pwskills')"
      ]
     },
     "execution_count": 7,
     "metadata": {},
     "output_type": "execute_result"
    }
   ],
   "source": [
    "#iv\n",
    "thistuple = (\"hallo\", True, \"pwskills\")\n",
    "thistuple"
   ]
  },
  {
   "cell_type": "markdown",
   "id": "41bb917d-f691-4651-bdec-981a62ef7527",
   "metadata": {},
   "source": [
    "Q2"
   ]
  },
  {
   "cell_type": "code",
   "execution_count": 9,
   "id": "2ab96799-975c-41f9-9e8c-bb315d600a70",
   "metadata": {},
   "outputs": [],
   "source": [
    "var1 = ''\n",
    "\n",
    "var2 = '[DS,ML,Python]'\n",
    "\n",
    "var3 = ['DS', 'ML', 'Python']\n",
    "\n",
    "var4 = 1."
   ]
  },
  {
   "cell_type": "code",
   "execution_count": 10,
   "id": "f3e62561-4488-4913-b09a-b1ddd8dae5e9",
   "metadata": {},
   "outputs": [
    {
     "data": {
      "text/plain": [
       "str"
      ]
     },
     "execution_count": 10,
     "metadata": {},
     "output_type": "execute_result"
    }
   ],
   "source": [
    "#i\n",
    "type(var1)"
   ]
  },
  {
   "cell_type": "code",
   "execution_count": 11,
   "id": "016f4233-f16a-4aa3-8cc9-e2c38097ab39",
   "metadata": {},
   "outputs": [
    {
     "data": {
      "text/plain": [
       "str"
      ]
     },
     "execution_count": 11,
     "metadata": {},
     "output_type": "execute_result"
    }
   ],
   "source": [
    "#ii\n",
    "type(var2)"
   ]
  },
  {
   "cell_type": "code",
   "execution_count": 12,
   "id": "efcf2c25-28aa-4e40-bf5a-7e4b3eb4c659",
   "metadata": {},
   "outputs": [
    {
     "data": {
      "text/plain": [
       "list"
      ]
     },
     "execution_count": 12,
     "metadata": {},
     "output_type": "execute_result"
    }
   ],
   "source": [
    "#ii\n",
    "type(var3)"
   ]
  },
  {
   "cell_type": "code",
   "execution_count": 13,
   "id": "ac90b9fe-329c-40ca-afc4-97d2cc526d4d",
   "metadata": {},
   "outputs": [
    {
     "data": {
      "text/plain": [
       "float"
      ]
     },
     "execution_count": 13,
     "metadata": {},
     "output_type": "execute_result"
    }
   ],
   "source": [
    "#iv\n",
    "type(var4)"
   ]
  },
  {
   "cell_type": "markdown",
   "id": "532964ba-763a-4f87-bd9d-c5dd5bee23a7",
   "metadata": {},
   "source": [
    "Q3"
   ]
  },
  {
   "cell_type": "code",
   "execution_count": 14,
   "id": "64da3ea2-a5bb-443e-8fe3-115cbead6b96",
   "metadata": {},
   "outputs": [
    {
     "data": {
      "text/plain": [
       "1.0"
      ]
     },
     "execution_count": 14,
     "metadata": {},
     "output_type": "execute_result"
    }
   ],
   "source": [
    "#i\n",
    "# the slash operator used for deviding two numbers\n",
    "#Exp\n",
    "2/2"
   ]
  },
  {
   "cell_type": "code",
   "execution_count": 17,
   "id": "a1888a0a-300f-4860-be5b-1b1d7e1ee17f",
   "metadata": {},
   "outputs": [
    {
     "data": {
      "text/plain": [
       "4"
      ]
     },
     "execution_count": 17,
     "metadata": {},
     "output_type": "execute_result"
    }
   ],
   "source": [
    "#ii\n",
    "#the modulus operator returns the remainder of dividing two numbers.\n",
    "#Exp\n",
    "4 % 5\n",
    "#the remainder is 4"
   ]
  },
  {
   "cell_type": "markdown",
   "id": "07c175b2-a22b-4c8b-8856-b3f101bf5ed5",
   "metadata": {},
   "source": [
    "#iii\n",
    "#the floor division operator rounds the result down to the whole nearst number \n",
    "#Exp\n",
    "1256 // 644"
   ]
  },
  {
   "cell_type": "code",
   "execution_count": 23,
   "id": "a9eb2e21-afb4-4154-947b-cdc61f7a3ac0",
   "metadata": {},
   "outputs": [
    {
     "data": {
      "text/plain": [
       "25"
      ]
     },
     "execution_count": 23,
     "metadata": {},
     "output_type": "execute_result"
    }
   ],
   "source": [
    "#iv\n",
    "# the Exponentiation operator is used to get the result of number to the power of another number \n",
    "#Exp\n",
    "a = 5\n",
    "b = 2\n",
    "\n",
    "a ** b"
   ]
  },
  {
   "cell_type": "markdown",
   "id": "b5f80d45-a9bb-4a57-9fbc-cb775c0d0182",
   "metadata": {},
   "source": [
    "Q4"
   ]
  },
  {
   "cell_type": "code",
   "execution_count": 24,
   "id": "8e1e27f6-b7c9-4238-80b9-53676e431a64",
   "metadata": {},
   "outputs": [
    {
     "name": "stdout",
     "output_type": "stream",
     "text": [
      "1 <class 'int'>\n",
      "2 <class 'int'>\n",
      "3 <class 'int'>\n",
      "Hi <class 'str'>\n",
      "True <class 'bool'>\n",
      "False <class 'bool'>\n",
      "(4+2j) <class 'complex'>\n",
      "('pw', True) <class 'tuple'>\n",
      "2.1 <class 'float'>\n",
      "{'Reslan', '2'} <class 'set'>\n"
     ]
    }
   ],
   "source": [
    "my_list = [1,2,3, 'Hi', True, False, 4+2j, ('pw', True), 2.1,{'Reslan','2'}]\n",
    "\n",
    "for element in my_list :\n",
    "    print(element, type(element))"
   ]
  },
  {
   "cell_type": "markdown",
   "id": "1e007248-39ca-4de0-8bb7-95d34f1534a2",
   "metadata": {},
   "source": [
    "Q5"
   ]
  },
  {
   "cell_type": "code",
   "execution_count": 12,
   "id": "66641776-142f-41f9-8b46-575d62a10cd9",
   "metadata": {},
   "outputs": [
    {
     "name": "stdout",
     "output_type": "stream",
     "text": [
      "5.0 cannt be evenly divided by 10\n"
     ]
    }
   ],
   "source": [
    "A = 50\n",
    "B = 10\n",
    "\n",
    "while A % B == 0 :\n",
    "    A /= B\n",
    "if A % B != 0 :\n",
    "    print(f'{A} cannt be evenly divided by {B}')\n",
    "else :\n",
    "    print(f'{A} is divisible by {B}')"
   ]
  },
  {
   "cell_type": "markdown",
   "id": "72cafde9-35c0-464b-89d2-4a77643933b0",
   "metadata": {},
   "source": [
    "Q6"
   ]
  },
  {
   "cell_type": "code",
   "execution_count": 31,
   "id": "d106372a-f429-4c02-afed-b536091727ad",
   "metadata": {},
   "outputs": [
    {
     "name": "stdout",
     "output_type": "stream",
     "text": [
      "23 is not divisible by 3\n",
      "56 is not divisible by 3\n",
      "3 is divisible by 3\n",
      "9 is divisible by 3\n",
      "45 is divisible by 3\n",
      "65 is not divisible by 3\n",
      "78 is divisible by 3\n",
      "89 is not divisible by 3\n",
      "45 is divisible by 3\n",
      "55 is not divisible by 3\n",
      "89 is not divisible by 3\n",
      "78 is divisible by 3\n",
      "65 is not divisible by 3\n",
      "23 is not divisible by 3\n",
      "46 is not divisible by 3\n",
      "8989 is not divisible by 3\n",
      "9565 is not divisible by 3\n",
      "565645 is not divisible by 3\n",
      "454 is not divisible by 3\n",
      "4545 is divisible by 3\n",
      "565 is not divisible by 3\n",
      "21 is divisible by 3\n",
      "312 is divisible by 3\n",
      "3213 is divisible by 3\n",
      "1000 is not divisible by 3\n"
     ]
    }
   ],
   "source": [
    "The_List = [23,56,3,9,45,65,78,89,45,55,89,78,65,23,46,8989,9565,565645,454,4545,565,21,312,3213,1000]\n",
    "\n",
    "for e in The_List :\n",
    "    \n",
    "    if e % 3 == 0 :\n",
    "        print(f'{e} is divisible by 3')\n",
    "    else :\n",
    "        print(f\"{e} is not divisible by 3\")\n",
    "    "
   ]
  },
  {
   "cell_type": "markdown",
   "id": "58bc941b-2c65-4f8c-b0c4-21d0424588cf",
   "metadata": {},
   "source": [
    "Q7"
   ]
  },
  {
   "cell_type": "code",
   "execution_count": 32,
   "id": "d2e6662d-888f-435f-b92f-5396618d845e",
   "metadata": {},
   "outputs": [
    {
     "name": "stdout",
     "output_type": "stream",
     "text": [
      "[1, 2, 3, 4]\n"
     ]
    }
   ],
   "source": [
    "'''mutable data means that the data can be modified,\n",
    "immutable data means that the data can't be modified,Mutable objects can be modified in-place, while immutable objects require creating new objects to represent any changes. '''\n",
    "#Exp mutable\n",
    "list1 = [1,2,3,4]\n",
    "print(list1)\n"
   ]
  },
  {
   "cell_type": "code",
   "execution_count": 33,
   "id": "ba11d5ba-9ccb-4aaa-a81e-e21a19796bf5",
   "metadata": {},
   "outputs": [
    {
     "name": "stdout",
     "output_type": "stream",
     "text": [
      "Datascince\n"
     ]
    }
   ],
   "source": [
    "#Exp immutable\n",
    "my_String = 'Datascince'\n",
    "print(my_String)"
   ]
  },
  {
   "cell_type": "code",
   "execution_count": null,
   "id": "518eb72f-9b79-4350-a641-eada45dc4fc2",
   "metadata": {},
   "outputs": [],
   "source": []
  }
 ],
 "metadata": {
  "kernelspec": {
   "display_name": "Python 3 (ipykernel)",
   "language": "python",
   "name": "python3"
  },
  "language_info": {
   "codemirror_mode": {
    "name": "ipython",
    "version": 3
   },
   "file_extension": ".py",
   "mimetype": "text/x-python",
   "name": "python",
   "nbconvert_exporter": "python",
   "pygments_lexer": "ipython3",
   "version": "3.10.8"
  }
 },
 "nbformat": 4,
 "nbformat_minor": 5
}
