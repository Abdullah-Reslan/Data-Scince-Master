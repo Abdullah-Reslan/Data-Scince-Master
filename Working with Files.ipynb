{
 "cells": [
  {
   "cell_type": "code",
   "execution_count": 16,
   "id": "3b80b67c-fd77-46f4-8b17-be8e1d8e5393",
   "metadata": {},
   "outputs": [],
   "source": [
    "f = open(\"test.txt\" , \"a\" )"
   ]
  },
  {
   "cell_type": "code",
   "execution_count": 17,
   "id": "4f9cd86e-12ba-423e-b98d-b2562e55ef04",
   "metadata": {},
   "outputs": [
    {
     "data": {
      "text/plain": [
       "'/home/jovyan/work/Week5'"
      ]
     },
     "execution_count": 17,
     "metadata": {},
     "output_type": "execute_result"
    }
   ],
   "source": [
    "pwd"
   ]
  },
  {
   "cell_type": "code",
   "execution_count": 18,
   "id": "7d0558b9-5e27-42b5-82f8-e2bc260b42f0",
   "metadata": {},
   "outputs": [
    {
     "name": "stdout",
     "output_type": "stream",
     "text": [
      " test.txt  'Working with Files.ipynb'\n"
     ]
    }
   ],
   "source": [
    "ls"
   ]
  },
  {
   "cell_type": "code",
   "execution_count": 19,
   "id": "e43b787c-02e0-4bd4-939b-be2bc3d97823",
   "metadata": {},
   "outputs": [
    {
     "data": {
      "text/plain": [
       "400"
      ]
     },
     "execution_count": 19,
     "metadata": {},
     "output_type": "execute_result"
    }
   ],
   "source": [
    "f.write(\"Embark on a transformative learning journey with our Python and Machine Learning Essentials course. Delve into the foundations of Python programming and seamlessly transition into the fascinating world of machine learning. This course is designed for individuals with a keen interest in machine learning and a desire to harness the power of Python for creating intelligent and impactful applications.\")"
   ]
  },
  {
   "cell_type": "code",
   "execution_count": 20,
   "id": "b0fe9474-bb1f-4e94-9a53-73471d375375",
   "metadata": {},
   "outputs": [],
   "source": [
    "f.close()"
   ]
  },
  {
   "cell_type": "code",
   "execution_count": 21,
   "id": "1bef10ef-c9a2-4c63-b1e7-4444d7c3d897",
   "metadata": {},
   "outputs": [],
   "source": [
    "data = open(\"test.txt\", \"r\")"
   ]
  },
  {
   "cell_type": "code",
   "execution_count": 22,
   "id": "b11751f8-c7af-4ca2-be3d-ede1fb3b6c8c",
   "metadata": {},
   "outputs": [
    {
     "data": {
      "text/plain": [
       "'Embark on a transformative learning journey with our Python and Machine Learning Essentials course. Delve into the foundations of Python programming and seamlessly transition into the fascinating world of machine learning. This course is designed for individuals with a keen interest in machine learning and a desire to harness the power of Python for creating intelligent and impactful applications.Embark on a transformative learning journey with our Python and Machine Learning Essentials course. Delve into the foundations of Python programming and seamlessly transition into the fascinating world of machine learning. This course is designed for individuals with a keen interest in machine learning and a desire to harness the power of Python for creating intelligent and impactful applications.'"
      ]
     },
     "execution_count": 22,
     "metadata": {},
     "output_type": "execute_result"
    }
   ],
   "source": [
    "data.read()"
   ]
  },
  {
   "cell_type": "code",
   "execution_count": 23,
   "id": "a76d6a24-91bf-4747-aa39-816fc5460676",
   "metadata": {},
   "outputs": [
    {
     "data": {
      "text/plain": [
       "''"
      ]
     },
     "execution_count": 23,
     "metadata": {},
     "output_type": "execute_result"
    }
   ],
   "source": [
    "data.read() # because in the previus step there is no data after \" ...\" (here there is no Data)"
   ]
  },
  {
   "cell_type": "code",
   "execution_count": 28,
   "id": "fb141edb-47fb-4c9b-9e14-d2f321bfd222",
   "metadata": {},
   "outputs": [
    {
     "data": {
      "text/plain": [
       "0"
      ]
     },
     "execution_count": 28,
     "metadata": {},
     "output_type": "execute_result"
    }
   ],
   "source": [
    "data.seek(0)"
   ]
  },
  {
   "cell_type": "code",
   "execution_count": 29,
   "id": "b4a68c9d-46a0-42b1-8236-520f56480661",
   "metadata": {},
   "outputs": [
    {
     "data": {
      "text/plain": [
       "'Embark on a transformative learning journey with our Python and Machine Learning Essentials course. Delve into the foundations of Python programming and seamlessly transition into the fascinating world of machine learning. This course is designed for individuals with a keen interest in machine learning and a desire to harness the power of Python for creating intelligent and impactful applications.Embark on a transformative learning journey with our Python and Machine Learning Essentials course. Delve into the foundations of Python programming and seamlessly transition into the fascinating world of machine learning. This course is designed for individuals with a keen interest in machine learning and a desire to harness the power of Python for creating intelligent and impactful applications.'"
      ]
     },
     "execution_count": 29,
     "metadata": {},
     "output_type": "execute_result"
    }
   ],
   "source": [
    "data.read() # this is how you can read the same file again from a certain index"
   ]
  },
  {
   "cell_type": "code",
   "execution_count": 30,
   "id": "f4f17e4c-09e0-4c0a-8bb5-5db3add877ff",
   "metadata": {},
   "outputs": [
    {
     "data": {
      "text/plain": [
       "''"
      ]
     },
     "execution_count": 30,
     "metadata": {},
     "output_type": "execute_result"
    }
   ],
   "source": [
    "data.read()"
   ]
  },
  {
   "cell_type": "code",
   "execution_count": 31,
   "id": "c0f8e5af-08e5-4980-903c-26de134c6c53",
   "metadata": {},
   "outputs": [
    {
     "data": {
      "text/plain": [
       "100"
      ]
     },
     "execution_count": 31,
     "metadata": {},
     "output_type": "execute_result"
    }
   ],
   "source": [
    "data.seek(100)"
   ]
  },
  {
   "cell_type": "code",
   "execution_count": 32,
   "id": "a7798e6d-2fc5-4c34-b213-3a7c469f0fa1",
   "metadata": {},
   "outputs": [
    {
     "data": {
      "text/plain": [
       "'Delve into the foundations of Python programming and seamlessly transition into the fascinating world of machine learning. This course is designed for individuals with a keen interest in machine learning and a desire to harness the power of Python for creating intelligent and impactful applications.Embark on a transformative learning journey with our Python and Machine Learning Essentials course. Delve into the foundations of Python programming and seamlessly transition into the fascinating world of machine learning. This course is designed for individuals with a keen interest in machine learning and a desire to harness the power of Python for creating intelligent and impactful applications.'"
      ]
     },
     "execution_count": 32,
     "metadata": {},
     "output_type": "execute_result"
    }
   ],
   "source": [
    "data.read()"
   ]
  },
  {
   "cell_type": "code",
   "execution_count": 34,
   "id": "89e7826f-41de-4149-9b32-0acf2997c209",
   "metadata": {},
   "outputs": [],
   "source": [
    "data1 = open(\"test.txt\", \"r\")"
   ]
  },
  {
   "cell_type": "code",
   "execution_count": 35,
   "id": "e1ce8c46-a83b-4ed7-84bc-25d273918037",
   "metadata": {},
   "outputs": [
    {
     "name": "stdout",
     "output_type": "stream",
     "text": [
      "Embark on a transformative learning journey with our Python and Machine Learning Essentials course. Delve into the foundations of Python programming and seamlessly transition into the fascinating world of machine learning. This course is designed for individuals with a keen interest in machine learning and a desire to harness the power of Python for creating intelligent and impactful applications.Embark on a transformative learning journey with our Python and Machine Learning Essentials course. Delve into the foundations of Python programming and seamlessly transition into the fascinating world of machine learning. This course is designed for individuals with a keen interest in machine learning and a desire to harness the power of Python for creating intelligent and impactful applications.\n"
     ]
    }
   ],
   "source": [
    "for i in data1:\n",
    "    print(i)"
   ]
  },
  {
   "cell_type": "code",
   "execution_count": 36,
   "id": "8e2e625d-91a3-4fdb-b8a0-4619635f33c9",
   "metadata": {},
   "outputs": [],
   "source": [
    "# how to know the file size ?\n",
    "import os"
   ]
  },
  {
   "cell_type": "code",
   "execution_count": 37,
   "id": "ca8da3aa-7384-48b6-bbef-7d604fc19183",
   "metadata": {},
   "outputs": [
    {
     "data": {
      "text/plain": [
       "800"
      ]
     },
     "execution_count": 37,
     "metadata": {},
     "output_type": "execute_result"
    }
   ],
   "source": [
    "os.path.getsize(\"test.txt\") "
   ]
  },
  {
   "cell_type": "code",
   "execution_count": 38,
   "id": "2a7ed790-4fcf-4b01-93c2-b251182175c9",
   "metadata": {},
   "outputs": [],
   "source": [
    "# creat a copy of a file \n",
    "import shutil"
   ]
  },
  {
   "cell_type": "code",
   "execution_count": 40,
   "id": "ed0ed02d-f58e-4c79-ae91-d48bf777f398",
   "metadata": {},
   "outputs": [
    {
     "data": {
      "text/plain": [
       "'new_test.txt'"
      ]
     },
     "execution_count": 40,
     "metadata": {},
     "output_type": "execute_result"
    }
   ],
   "source": [
    "shutil.copy(\"test.txt\", \"new_test.txt\" ) # this is the new copy"
   ]
  },
  {
   "cell_type": "code",
   "execution_count": 41,
   "id": "18e7b9fa-4a1c-4fcb-a9b0-f37e7a3e0a8e",
   "metadata": {},
   "outputs": [],
   "source": [
    "# how to delet ? \n",
    "os.remove(\"test.txt\")"
   ]
  },
  {
   "cell_type": "code",
   "execution_count": 42,
   "id": "eef382ce-c3d0-48ec-9fc0-7d28616aafa1",
   "metadata": {},
   "outputs": [
    {
     "name": "stdout",
     "output_type": "stream",
     "text": [
      "Embark on a transformative learning journey with our Python and Machine Learning Essentials course. Delve into the foundations of Python programming and seamlessly transition into the fascinating world of machine learning. This course is designed for individuals with a keen interest in machine learning and a desire to harness the power of Python for creating intelligent and impactful applications.Embark on a transformative learning journey with our Python and Machine Learning Essentials course. Delve into the foundations of Python programming and seamlessly transition into the fascinating world of machine learning. This course is designed for individuals with a keen interest in machine learning and a desire to harness the power of Python for creating intelligent and impactful applications.\n"
     ]
    }
   ],
   "source": [
    "# how to open a file with diffrent way \n",
    "\n",
    "with open (\"new_test.txt\", \"r\") as f :\n",
    "    print(f.read())"
   ]
  },
  {
   "cell_type": "code",
   "execution_count": 43,
   "id": "1a9c84b2-8464-4cdd-adad-d429de3b92d0",
   "metadata": {},
   "outputs": [],
   "source": [
    "# how to reaname a file \n",
    "os.rename(\"new_test.txt\", \"test1.txt\")"
   ]
  },
  {
   "cell_type": "markdown",
   "id": "7f289c06-2f67-49a0-9fa4-fad949af53bf",
   "metadata": {},
   "source": [
    "# File reading and writing with diffrent type of files "
   ]
  },
  {
   "cell_type": "code",
   "execution_count": 44,
   "id": "ba788d6f-e180-443b-8ce8-92f3aca4a119",
   "metadata": {},
   "outputs": [],
   "source": [
    "data = {\n",
    "    \"name\" :\"sudh\", \n",
    "    \"mail_id\" : \"sudh@gmail.com\",\n",
    "    \"phone_number\" : 28934754,\n",
    "    \"subject\" : [\"data science\" ,\"big data\", \"data analytics\"]\n",
    "    \n",
    "}"
   ]
  },
  {
   "cell_type": "code",
   "execution_count": 45,
   "id": "4bcbd659-766d-4301-9c4d-5c295563ac30",
   "metadata": {},
   "outputs": [],
   "source": [
    "# we want to store this data in jason file \n",
    "\n",
    "import json"
   ]
  },
  {
   "cell_type": "code",
   "execution_count": 46,
   "id": "60086da7-d573-47a9-afe4-8583afec29ac",
   "metadata": {},
   "outputs": [],
   "source": [
    "with open(\"test1.json\" , \"w\") as f:\n",
    "    json.dump(data, f)"
   ]
  },
  {
   "cell_type": "code",
   "execution_count": 47,
   "id": "b0ad15e3-5fef-4e9d-9451-5d55bd24e23a",
   "metadata": {},
   "outputs": [],
   "source": [
    "with open(\"test1.json\", \"r\") as f :\n",
    "    data1 = json.load(f)"
   ]
  },
  {
   "cell_type": "code",
   "execution_count": 48,
   "id": "6033466b-8e7c-4a0b-8267-6798ee85abbd",
   "metadata": {},
   "outputs": [
    {
     "data": {
      "text/plain": [
       "{'name': 'sudh',\n",
       " 'mail_id': 'sudh@gmail.com',\n",
       " 'phone_number': 28934754,\n",
       " 'subject': ['data science', 'big data', 'data analytics']}"
      ]
     },
     "execution_count": 48,
     "metadata": {},
     "output_type": "execute_result"
    }
   ],
   "source": [
    "data1"
   ]
  },
  {
   "cell_type": "code",
   "execution_count": 50,
   "id": "be933557-09db-4ee1-afd9-37ce37053f16",
   "metadata": {},
   "outputs": [
    {
     "data": {
      "text/plain": [
       "'big data'"
      ]
     },
     "execution_count": 50,
     "metadata": {},
     "output_type": "execute_result"
    }
   ],
   "source": [
    "data1[\"subject\"][1]"
   ]
  },
  {
   "cell_type": "code",
   "execution_count": 51,
   "id": "2744f62c-f636-4c43-9044-a88b7ccc83b1",
   "metadata": {},
   "outputs": [],
   "source": [
    "data = [[\"name\", \"email_id\", \"number\"],\n",
    "       [\"sudh\", \"sudh@gmail.com\", 849832475],\n",
    "        [\"krish\", \"krish@gmail.com\", 8759894325]\n",
    "       ]"
   ]
  },
  {
   "cell_type": "code",
   "execution_count": 52,
   "id": "2c08d19b-8079-4739-85d2-38a0d291469b",
   "metadata": {},
   "outputs": [],
   "source": [
    "# when tha data set seprated with comma then we need csv .\n",
    "# it means comma sepearated values\n",
    "\n",
    "import csv\n"
   ]
  },
  {
   "cell_type": "code",
   "execution_count": 54,
   "id": "ad54397a-d139-48ae-a2f1-7dc1663d23d3",
   "metadata": {},
   "outputs": [],
   "source": [
    "with open(\"test3.csv\", \"w\") as f:\n",
    "    w = csv.writer(f)\n",
    "    for i in data :\n",
    "        w.writerow(i)"
   ]
  },
  {
   "cell_type": "code",
   "execution_count": 58,
   "id": "a0bb2877-0561-4f54-935b-df5585cfb1e1",
   "metadata": {},
   "outputs": [
    {
     "name": "stdout",
     "output_type": "stream",
     "text": [
      "['name', 'email_id', 'number']\n",
      "['sudh', 'sudh@gmail.com', '849832475']\n",
      "['krish', 'krish@gmail.com', '8759894325']\n"
     ]
    }
   ],
   "source": [
    "with open(\"test3.csv\", \"r\") as f:\n",
    "    read  = csv.reader(f)\n",
    "    for i in read:\n",
    "        print(i)"
   ]
  },
  {
   "cell_type": "code",
   "execution_count": 59,
   "id": "ac0228a1-8838-4de8-bc7e-e06c46cadc6b",
   "metadata": {},
   "outputs": [],
   "source": [
    "# working with binary data such as (audio, video , images)\n",
    "with open(\"test4.bin\" , \"wb\") as f:\n",
    "    f.write(b\"\\x01\\x02\\x03\")"
   ]
  },
  {
   "cell_type": "code",
   "execution_count": 60,
   "id": "194a1021-77a3-404c-ba04-03ca24878d49",
   "metadata": {},
   "outputs": [
    {
     "name": "stdout",
     "output_type": "stream",
     "text": [
      "b'\\x01\\x02\\x03'\n"
     ]
    }
   ],
   "source": [
    "with open(\"test4.bin\" ,\"rb\") as f :\n",
    "    print(f.read())"
   ]
  },
  {
   "cell_type": "markdown",
   "id": "92e909e9-fc1a-41c5-931a-896d716d9c98",
   "metadata": {},
   "source": [
    "# Bufferd Read and write "
   ]
  },
  {
   "cell_type": "code",
   "execution_count": 64,
   "id": "987fd049-548d-4af3-bf81-f2dd5c7bc45a",
   "metadata": {},
   "outputs": [],
   "source": [
    "import io # means input output"
   ]
  },
  {
   "cell_type": "code",
   "execution_count": 63,
   "id": "f400128b-3366-400f-8bd0-1cbbd0be859b",
   "metadata": {},
   "outputs": [],
   "source": [
    "# bufferd used to abe able to read and write  huge size data as chunks "
   ]
  },
  {
   "cell_type": "code",
   "execution_count": 68,
   "id": "7310131d-0612-4933-bc7a-29f6ce63575a",
   "metadata": {},
   "outputs": [],
   "source": [
    "with open(\"test.txt\", \"wb\") as f :\n",
    "    file = io.BufferedWriter(f)\n",
    "    file.write(b\"Embark on a transformative learning journey with our Python and Machine Learning Essentials course. Delve into the foundations of Python programming and seamlessly transition into the fascinating world of machine learning. This course is designed for individuals with a keen interest in machine learning and a desire to harness the power of Python for creating intelligent and impactful applications.Embark on a transformative learning journey with our Python and Machine Learning Essentials course. Delve into the foundations of Python programming and seamlessly transition into the fascinating world of machine learning. This course is designed for individuals with a keen interest in machine learning and a desire to harness the power of Python for creating intelligent and impactful applications.\\n\")\n",
    "    file.write(b\"this is my seconed line that im trying to write \")\n",
    "    file.flush() # we call to be able to read tho info inside the file (dont call = empty file)"
   ]
  },
  {
   "cell_type": "code",
   "execution_count": 73,
   "id": "fecde594-2e88-4d3f-a9fb-59186c57fe81",
   "metadata": {},
   "outputs": [
    {
     "name": "stdout",
     "output_type": "stream",
     "text": [
      "b'Embark on a transformative learning journey with our Python and Machine Learning Essentials course. Delve into the foundations of Python programming and seamlessly transition into the fascinating world of machine learning. This course is designed for individuals with a keen interest in machine learning and a desire to harness the power of Python for creating intelligent and impactful applications.Embark on a transformative learning journey with our Python and Machine Learning Essentials course. Delve into the foundations of Python programming and seamlessly transition into the fascinating world of machine learning. This course is designed for individuals with a keen interest in machine learning and a desire to harness the power of Python for creating intelligent and impactful applications.\\nthis is my seconed line that im trying to write '\n"
     ]
    }
   ],
   "source": [
    "with open(\"test.txt\", \"rb\") as f :\n",
    "    file = io.BufferedReader(f)\n",
    "    \n",
    "    data = file.read(1000) # the \n",
    "    print(data)"
   ]
  },
  {
   "cell_type": "code",
   "execution_count": null,
   "id": "4bb918ec-7ae5-420a-87e9-d9a3148370a5",
   "metadata": {},
   "outputs": [],
   "source": []
  }
 ],
 "metadata": {
  "kernelspec": {
   "display_name": "Python 3 (ipykernel)",
   "language": "python",
   "name": "python3"
  },
  "language_info": {
   "codemirror_mode": {
    "name": "ipython",
    "version": 3
   },
   "file_extension": ".py",
   "mimetype": "text/x-python",
   "name": "python",
   "nbconvert_exporter": "python",
   "pygments_lexer": "ipython3",
   "version": "3.10.8"
  }
 },
 "nbformat": 4,
 "nbformat_minor": 5
}
