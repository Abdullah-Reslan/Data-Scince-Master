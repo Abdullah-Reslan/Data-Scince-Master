{
 "cells": [
  {
   "cell_type": "code",
   "execution_count": 1,
   "id": "8c7a097d-cf44-4d2b-b6c6-0ef24d73ac7d",
   "metadata": {},
   "outputs": [
    {
     "data": {
      "text/plain": [
       "10"
      ]
     },
     "execution_count": 1,
     "metadata": {},
     "output_type": "execute_result"
    }
   ],
   "source": [
    "a = 10\n",
    "a"
   ]
  },
  {
   "cell_type": "code",
   "execution_count": 2,
   "id": "8ad548fc-8729-4b8c-b826-959a19661068",
   "metadata": {},
   "outputs": [],
   "source": [
    "a = 'C'\n"
   ]
  },
  {
   "cell_type": "code",
   "execution_count": 3,
   "id": "dcdea9b8-ab9a-4571-8f74-63daa273abce",
   "metadata": {},
   "outputs": [
    {
     "data": {
      "text/plain": [
       "str"
      ]
     },
     "execution_count": 3,
     "metadata": {},
     "output_type": "execute_result"
    }
   ],
   "source": [
    "type(a)"
   ]
  },
  {
   "cell_type": "code",
   "execution_count": 8,
   "id": "09e571eb-e606-4a30-aaf7-5a06742a4850",
   "metadata": {},
   "outputs": [
    {
     "data": {
      "text/plain": [
       "1234465"
      ]
     },
     "execution_count": 8,
     "metadata": {},
     "output_type": "execute_result"
    }
   ],
   "source": [
    "int('1234465')"
   ]
  },
  {
   "cell_type": "code",
   "execution_count": 9,
   "id": "7b4ca14e-ba2b-407b-91c8-898e6503b654",
   "metadata": {},
   "outputs": [
    {
     "ename": "ValueError",
     "evalue": "invalid literal for int() with base 10: 'Abs'",
     "output_type": "error",
     "traceback": [
      "\u001b[0;31m---------------------------------------------------------------------------\u001b[0m",
      "\u001b[0;31mValueError\u001b[0m                                Traceback (most recent call last)",
      "Cell \u001b[0;32mIn[9], line 1\u001b[0m\n\u001b[0;32m----> 1\u001b[0m \u001b[38;5;28;43mint\u001b[39;49m\u001b[43m(\u001b[49m\u001b[38;5;124;43m'\u001b[39;49m\u001b[38;5;124;43mAbs\u001b[39;49m\u001b[38;5;124;43m'\u001b[39;49m\u001b[43m)\u001b[49m\n",
      "\u001b[0;31mValueError\u001b[0m: invalid literal for int() with base 10: 'Abs'"
     ]
    }
   ],
   "source": [
    "int('Abs')"
   ]
  },
  {
   "cell_type": "code",
   "execution_count": 13,
   "id": "50aee98e-5096-47e8-bcd9-5aa4bab270ed",
   "metadata": {},
   "outputs": [
    {
     "name": "stdout",
     "output_type": "stream",
     "text": [
      "Hello World\n"
     ]
    }
   ],
   "source": [
    "print('Hello World')"
   ]
  },
  {
   "cell_type": "code",
   "execution_count": 14,
   "id": "640ab471-ba8d-44c9-9bef-264dc8808376",
   "metadata": {},
   "outputs": [
    {
     "name": "stdout",
     "output_type": "stream",
     "text": [
      "123\n"
     ]
    }
   ],
   "source": [
    "print(123)"
   ]
  },
  {
   "cell_type": "code",
   "execution_count": 16,
   "id": "cd419f94-b27f-4fcc-bd26-49635c48c63d",
   "metadata": {},
   "outputs": [
    {
     "name": "stdout",
     "output_type": "stream",
     "text": [
      "Hello World\n"
     ]
    }
   ],
   "source": [
    "print('Hello World')"
   ]
  },
  {
   "cell_type": "code",
   "execution_count": 19,
   "id": "53701a94-e48a-49ac-97c2-be13c4c94cf1",
   "metadata": {},
   "outputs": [
    {
     "name": "stdout",
     "output_type": "stream",
     "text": [
      "My Age is : 26\n"
     ]
    }
   ],
   "source": [
    "age = 26\n",
    "print(\"My Age is :\",age)"
   ]
  },
  {
   "cell_type": "code",
   "execution_count": 23,
   "id": "d0ae3df5-e13b-4883-8422-8742209426f9",
   "metadata": {},
   "outputs": [
    {
     "name": "stdout",
     "output_type": "stream",
     "text": [
      "My Age is : 26\n"
     ]
    }
   ],
   "source": [
    "# f String ....... formating string\n",
    "print(f\"My Age is : {age}\")"
   ]
  },
  {
   "cell_type": "code",
   "execution_count": 26,
   "id": "9ce2c677-8115-4e94-a05c-5fc84875dbc5",
   "metadata": {},
   "outputs": [
    {
     "name": "stdout",
     "output_type": "stream",
     "text": [
      "My Name is abdullah and age is 26\n"
     ]
    }
   ],
   "source": [
    "age = 26\n",
    "name = 'abdullah'\n",
    "print( 'My Name is {} and age is {}'.format(name,age))"
   ]
  },
  {
   "cell_type": "code",
   "execution_count": 27,
   "id": "a198aecb-9234-4532-a9b7-13dafe5865c7",
   "metadata": {},
   "outputs": [
    {
     "name": "stdout",
     "output_type": "stream",
     "text": [
      "My Name is 26 and age Is abdullah\n"
     ]
    }
   ],
   "source": [
    "print('My Name is {} and age Is {}'.format(age,name))"
   ]
  },
  {
   "cell_type": "code",
   "execution_count": 31,
   "id": "30ca168f-6af5-456e-903a-6e5efd3f165f",
   "metadata": {},
   "outputs": [
    {
     "name": "stdout",
     "output_type": "stream",
     "text": [
      "My name is abdullah and age is 26 \n"
     ]
    }
   ],
   "source": [
    "## placeholder\n",
    "print('My name is {firstname} and age is {firstage} '.format(firstage=age,firstname=name))"
   ]
  },
  {
   "cell_type": "code",
   "execution_count": 33,
   "id": "7a98584e-8a3d-4097-96f1-2a09c5122140",
   "metadata": {},
   "outputs": [
    {
     "name": "stdout",
     "output_type": "stream",
     "text": [
      "My Age is 26 and i have completed my degree of BE with the name ofAbdullah\n"
     ]
    }
   ],
   "source": [
    "name = 'Abdullah'\n",
    "age= 26\n",
    "degree='BE'\n",
    "print(f'My Age is {age} and i have completed my degree of {degree} with the name of{name}')"
   ]
  },
  {
   "cell_type": "code",
   "execution_count": 34,
   "id": "e8c7c243-fa0d-49da-a475-9c399901c153",
   "metadata": {},
   "outputs": [
    {
     "name": "stdout",
     "output_type": "stream",
     "text": [
      "My Age is 26 and i have completed my degree of BE with the name of Abdullah\n"
     ]
    }
   ],
   "source": [
    "print('My Age is {} and i have completed my degree of {} with the name of {}'.format(age,degree,name))"
   ]
  },
  {
   "cell_type": "code",
   "execution_count": 43,
   "id": "bfb29104-c862-4a22-a6e7-b6d0f299021a",
   "metadata": {},
   "outputs": [
    {
     "name": "stdout",
     "output_type": "stream",
     "text": [
      "My Age is 26 and i have Completed BE with Name of Abdullah\n"
     ]
    }
   ],
   "source": [
    "print('My Age is {TheAge} and i have Completed {firstdegree} with Name of {firstname}'.format(firstname=name,firstdegree=degree,TheAge=age))"
   ]
  },
  {
   "cell_type": "markdown",
   "id": "f391ac0a-19b1-4d1b-ba1a-9c5962971dad",
   "metadata": {},
   "source": [
    "## contol Flow\n",
    "### Decision Making Statments\n",
    "* its kinde of making Desicion during occurred situation of programm execution and action can be taken according to specified condition \n",
    "***hhhh***\n",
    "**** hgh"
   ]
  },
  {
   "cell_type": "code",
   "execution_count": 44,
   "id": "6cb2fc8a-d8fc-4be6-a48b-689eaa1224d6",
   "metadata": {},
   "outputs": [
    {
     "name": "stdout",
     "output_type": "stream",
     "text": [
      "You are eligible to vote\n"
     ]
    }
   ],
   "source": [
    "## if Statment \n",
    "age = 18\n",
    "if age >= 18:\n",
    "    print(\"You are eligible to vote\") "
   ]
  },
  {
   "cell_type": "code",
   "execution_count": 47,
   "id": "172f346c-b1f0-4f3b-bf8e-ec3df417882e",
   "metadata": {},
   "outputs": [],
   "source": [
    "if age < 18:\n",
    "    print(\"Hello World\")"
   ]
  },
  {
   "cell_type": "code",
   "execution_count": 51,
   "id": "9750cd13-2fc3-4669-8288-308527fe76d0",
   "metadata": {},
   "outputs": [
    {
     "data": {
      "text/plain": [
       "True"
      ]
     },
     "execution_count": 51,
     "metadata": {},
     "output_type": "execute_result"
    }
   ],
   "source": [
    "18!=19"
   ]
  },
  {
   "cell_type": "code",
   "execution_count": 52,
   "id": "465b5f9a-a3a6-472f-8fe0-8d83f4b8c576",
   "metadata": {},
   "outputs": [
    {
     "name": "stdin",
     "output_type": "stream",
     "text": [
      " Abdullah Reslan\n"
     ]
    },
    {
     "data": {
      "text/plain": [
       "'Abdullah Reslan'"
      ]
     },
     "execution_count": 52,
     "metadata": {},
     "output_type": "execute_result"
    }
   ],
   "source": [
    "input()"
   ]
  },
  {
   "cell_type": "code",
   "execution_count": 53,
   "id": "71602027-729e-4f98-b9da-7d71a8ab2207",
   "metadata": {},
   "outputs": [
    {
     "name": "stdin",
     "output_type": "stream",
     "text": [
      "Enter the Name Abdullah Reslan\n"
     ]
    }
   ],
   "source": [
    "name=input('Enter the Name')"
   ]
  },
  {
   "cell_type": "code",
   "execution_count": 54,
   "id": "90ebeb30-9a24-46be-a506-58dde1efce83",
   "metadata": {},
   "outputs": [
    {
     "data": {
      "text/plain": [
       "'Abdullah Reslan'"
      ]
     },
     "execution_count": 54,
     "metadata": {},
     "output_type": "execute_result"
    }
   ],
   "source": [
    "name"
   ]
  },
  {
   "cell_type": "code",
   "execution_count": 55,
   "id": "fedaffe5-2398-4b48-867d-ca8a085d23b9",
   "metadata": {},
   "outputs": [
    {
     "name": "stdin",
     "output_type": "stream",
     "text": [
      "Enter the age  26\n"
     ]
    }
   ],
   "source": [
    "age=input('Enter the age ')"
   ]
  },
  {
   "cell_type": "code",
   "execution_count": 56,
   "id": "d0017712-1782-40f4-8625-b047e269ac53",
   "metadata": {},
   "outputs": [
    {
     "data": {
      "text/plain": [
       "str"
      ]
     },
     "execution_count": 56,
     "metadata": {},
     "output_type": "execute_result"
    }
   ],
   "source": [
    "type(age)"
   ]
  },
  {
   "cell_type": "code",
   "execution_count": 57,
   "id": "206bed04-f6aa-4280-8339-2d185d3ca372",
   "metadata": {},
   "outputs": [
    {
     "data": {
      "text/plain": [
       "26"
      ]
     },
     "execution_count": 57,
     "metadata": {},
     "output_type": "execute_result"
    }
   ],
   "source": [
    "int(age)"
   ]
  },
  {
   "cell_type": "code",
   "execution_count": 58,
   "id": "8fbf3b51-3170-4bb7-94c3-f6fdb0602d99",
   "metadata": {},
   "outputs": [
    {
     "name": "stdin",
     "output_type": "stream",
     "text": [
      "Enter the age 26\n"
     ]
    }
   ],
   "source": [
    "age1=int(input('Enter the age'))"
   ]
  },
  {
   "cell_type": "code",
   "execution_count": 59,
   "id": "b1a24e59-b583-4b85-9f06-9d0103b8e4cb",
   "metadata": {},
   "outputs": [
    {
     "data": {
      "text/plain": [
       "int"
      ]
     },
     "execution_count": 59,
     "metadata": {},
     "output_type": "execute_result"
    }
   ],
   "source": [
    "type(age1)"
   ]
  },
  {
   "cell_type": "code",
   "execution_count": 60,
   "id": "525f2cc9-a269-42d7-8d94-7314b15bc6fe",
   "metadata": {},
   "outputs": [],
   "source": [
    "##Task\n",
    "##Take a input of age\n",
    "## check weather age >=18 and age<=32\n",
    "##if "
   ]
  },
  {
   "cell_type": "code",
   "execution_count": 62,
   "id": "2d299e34-a89f-47bd-9a13-9cfa73835322",
   "metadata": {},
   "outputs": [
    {
     "name": "stdin",
     "output_type": "stream",
     "text": [
      "enter the Age please 26\n"
     ]
    }
   ],
   "source": [
    "age_me=int(input('enter the Age please'))"
   ]
  },
  {
   "cell_type": "code",
   "execution_count": 63,
   "id": "58ddb4b7-2f20-4b83-9961-4b68bca06b6c",
   "metadata": {},
   "outputs": [
    {
     "data": {
      "text/plain": [
       "int"
      ]
     },
     "execution_count": 63,
     "metadata": {},
     "output_type": "execute_result"
    }
   ],
   "source": [
    "type (age_me)"
   ]
  },
  {
   "cell_type": "code",
   "execution_count": 72,
   "id": "71e07cc0-2595-4445-9c48-bb70e84f0b04",
   "metadata": {},
   "outputs": [
    {
     "name": "stdin",
     "output_type": "stream",
     "text": [
      "enter the Age please 90\n"
     ]
    },
    {
     "name": "stdout",
     "output_type": "stream",
     "text": [
      "Thank you we will let you know\n"
     ]
    }
   ],
   "source": [
    "age_me=int(input('enter the Age please'))\n",
    "if age_me >=18 and age_me <=45:\n",
    "    print('You are a young Blood')\n",
    "else:\n",
    "    print(\"Thank you we will let you know\")"
   ]
  },
  {
   "cell_type": "code",
   "execution_count": 86,
   "id": "c38c1868-d2d3-4d4f-8501-455e017e74ec",
   "metadata": {},
   "outputs": [
    {
     "name": "stdin",
     "output_type": "stream",
     "text": [
      "Enter the Product Price 10\n"
     ]
    },
    {
     "name": "stdout",
     "output_type": "stream",
     "text": [
      "The Price of the Product is 7.0\n"
     ]
    }
   ],
   "source": [
    "product=int(input('Enter the Product Price'))\n",
    "if product>1000:\n",
    "    print('The Price of the Product is {}'.format(product*0.8))\n",
    "elif product<1000:\n",
    "    print('The Price of the Product is {}'.format(product*0.7))\n",
    "else:\n",
    "    print('Fuck Bitches')"
   ]
  },
  {
   "cell_type": "code",
   "execution_count": 87,
   "id": "3c7a181a-e878-43e8-b979-0d08808037cc",
   "metadata": {},
   "outputs": [
    {
     "name": "stdin",
     "output_type": "stream",
     "text": [
      "Enter the Product Price 120\n"
     ]
    },
    {
     "name": "stdout",
     "output_type": "stream",
     "text": [
      "The Price of the Product is 84.0\n"
     ]
    }
   ],
   "source": [
    "product=int(input('Enter the Product Price'))\n",
    "if product>1000:\n",
    "    print(f'The Price of the Product is {product*0.8}')\n",
    "elif product<1000:\n",
    "    print(f'The Price of the Product is {product*0.7}')\n",
    "else:\n",
    "    print('Fuck Bitches')"
   ]
  },
  {
   "cell_type": "code",
   "execution_count": null,
   "id": "a130445c-f3ac-4e4a-a9e4-a0a6460b7394",
   "metadata": {},
   "outputs": [],
   "source": [
    "p=int(input('Enter the whole Price:'))\n",
    "if p>3000 :\n",
    "    if p == 4000:\n",
    "        print('you will get a goa trip')\n",
    "    print(f'the Price after discount is {p*0.8}')\n",
    "elif p>=2000 and p<=3000 :\n",
    "    if p==2999:\n",
    "        print('Congratulation you will get an additional gift')\n",
    "    print(f'the Price after discount is {p*0.7}')\n",
    "elif p>=100 and p<=2000:\n",
    "    print(f'the Price after discount is {p*0.6}')\n",
    "else :\n",
    "    print('try something else')\n",
    "    print('I will be there')"
   ]
  },
  {
   "cell_type": "code",
   "execution_count": 105,
   "id": "9afe79d0-dcba-4e0e-a629-c5d021faf713",
   "metadata": {},
   "outputs": [
    {
     "name": "stdin",
     "output_type": "stream",
     "text": [
      "Enter the number 999\n"
     ]
    },
    {
     "name": "stdout",
     "output_type": "stream",
     "text": [
      "Value is less than equal to 999\n"
     ]
    }
   ],
   "source": [
    "##singel statment\n",
    "val=int(input('Enter the number'))\n",
    "if(val<=999):print('Value is less than equal to 999')"
   ]
  },
  {
   "cell_type": "code",
   "execution_count": 1,
   "id": "25fb1fe2-ff45-4aab-8d22-d88c845adc76",
   "metadata": {},
   "outputs": [
    {
     "name": "stdout",
     "output_type": "stream",
     "text": [
      "Hello World\n"
     ]
    }
   ],
   "source": [
    "print('Hello World')"
   ]
  },
  {
   "cell_type": "markdown",
   "id": "9fd53323-befd-4c04-b808-6b0c1885cc01",
   "metadata": {},
   "source": [
    "## Loops Statments\n",
    "1. While loop\n",
    "2. for loop\n",
    "3. nested loops\n",
    "4. Loop control(break,continue,pass)"
   ]
  },
  {
   "cell_type": "code",
   "execution_count": 7,
   "id": "f3081e47-d5ac-4e0d-8db1-83058a65f0bd",
   "metadata": {},
   "outputs": [
    {
     "name": "stdout",
     "output_type": "stream",
     "text": [
      "25\n",
      "26\n",
      "27\n",
      "28\n",
      "29\n",
      "30\n",
      "31\n",
      "32\n",
      "33\n",
      "34\n",
      "35\n",
      "36\n",
      "37\n",
      "38\n",
      "39\n",
      "40\n",
      "41\n",
      "42\n",
      "43\n",
      "44\n",
      "45\n",
      "46\n",
      "47\n",
      "48\n",
      "49\n",
      "50\n",
      "51\n",
      "52\n",
      "53\n",
      "54\n",
      "55\n",
      "56\n",
      "57\n",
      "58\n",
      "59\n",
      "60\n",
      "Its time for retirement\n"
     ]
    }
   ],
   "source": [
    "# while Loop while-else\n",
    "joining_age = 25\n",
    "while joining_age <= 60:\n",
    "    print(joining_age)\n",
    "    joining_age=joining_age+1\n",
    "else:\n",
    "    print('Its time for retirement')\n",
    "    \n",
    "    \n"
   ]
  },
  {
   "cell_type": "code",
   "execution_count": 13,
   "id": "51eae7ab-d82b-4b96-8ce6-4fde71bafdc7",
   "metadata": {},
   "outputs": [
    {
     "name": "stdout",
     "output_type": "stream",
     "text": [
      "1000\n",
      "900\n",
      "800\n",
      "700\n",
      "600\n",
      "500\n",
      "400\n",
      "300\n",
      "200\n",
      "100\n",
      "Put more money bank people\n",
      "Hello\n"
     ]
    }
   ],
   "source": [
    "### Atm machine with 1000 rs\n",
    "total_amount=1000\n",
    "while total_amount!=0:\n",
    "    print(total_amount)\n",
    "    total_amount=total_amount-100\n",
    "else:\n",
    "    print('Put more money bank people')\n",
    "\n",
    "print('Hello')"
   ]
  },
  {
   "cell_type": "markdown",
   "id": "02033cb8-d454-4049-aff1-f2f391dc6ca1",
   "metadata": {},
   "source": [
    "## For loop"
   ]
  },
  {
   "cell_type": "code",
   "execution_count": 14,
   "id": "81d74b18-0f1e-4017-bd2e-771a736f5b7a",
   "metadata": {},
   "outputs": [],
   "source": [
    "lst=['Abdullah',1,2,3,4,'apple','banana']"
   ]
  },
  {
   "cell_type": "code",
   "execution_count": 15,
   "id": "5311cd19-3a5a-4bd2-aae3-76403564bc68",
   "metadata": {},
   "outputs": [
    {
     "data": {
      "text/plain": [
       "list"
      ]
     },
     "execution_count": 15,
     "metadata": {},
     "output_type": "execute_result"
    }
   ],
   "source": [
    "type(lst)"
   ]
  },
  {
   "cell_type": "code",
   "execution_count": 16,
   "id": "95cc3a59-6f62-4b20-9b82-6969f4be5681",
   "metadata": {},
   "outputs": [
    {
     "data": {
      "text/plain": [
       "'Abdullah'"
      ]
     },
     "execution_count": 16,
     "metadata": {},
     "output_type": "execute_result"
    }
   ],
   "source": [
    "lst.pop(0)"
   ]
  },
  {
   "cell_type": "code",
   "execution_count": 18,
   "id": "aff53d89-2edc-4be3-8fc9-b3c370f27fb5",
   "metadata": {},
   "outputs": [
    {
     "name": "stdout",
     "output_type": "stream",
     "text": [
      "[1, 2, 3, 4, 'apple', 'banana']\n"
     ]
    }
   ],
   "source": [
    "print(lst)"
   ]
  },
  {
   "cell_type": "code",
   "execution_count": 20,
   "id": "7008e70b-41e7-4cf6-b0bb-57ec78d0df0f",
   "metadata": {},
   "outputs": [
    {
     "data": {
      "text/plain": [
       "1"
      ]
     },
     "execution_count": 20,
     "metadata": {},
     "output_type": "execute_result"
    }
   ],
   "source": [
    "lst[0]"
   ]
  },
  {
   "cell_type": "code",
   "execution_count": 21,
   "id": "44754405-2146-4755-83e3-770f9f73b4b8",
   "metadata": {},
   "outputs": [],
   "source": [
    "lst=['Abdullah',1,2,3,4,'apple','banana']"
   ]
  },
  {
   "cell_type": "code",
   "execution_count": 22,
   "id": "8ad63057-f51e-453b-bb50-263049497f8f",
   "metadata": {},
   "outputs": [
    {
     "name": "stdout",
     "output_type": "stream",
     "text": [
      "Abdullah\n",
      "1\n",
      "2\n",
      "3\n",
      "4\n",
      "apple\n",
      "banana\n"
     ]
    }
   ],
   "source": [
    "for x in lst :\n",
    "    print(x)"
   ]
  },
  {
   "cell_type": "code",
   "execution_count": 23,
   "id": "d1c40440-b7b4-4fcd-a687-37e93a2149d6",
   "metadata": {},
   "outputs": [],
   "source": [
    "fruits_list = [\"Mango\",\"Cherry\",\"Apple\",\"Papaya\",\"Banana\"]"
   ]
  },
  {
   "cell_type": "code",
   "execution_count": 28,
   "id": "53a5906c-a3a6-4154-a021-4f3ce6584f85",
   "metadata": {},
   "outputs": [
    {
     "name": "stdout",
     "output_type": "stream",
     "text": [
      "Mango\n",
      "Cherry\n",
      "the Fruit is cherry\n",
      "Apple\n",
      "Papaya\n",
      "Banana\n"
     ]
    }
   ],
   "source": [
    "for a in fruits_list:\n",
    "    print(a)\n",
    "    if a== \"Cherry\":\n",
    "        print(\"the Fruit is cherry\")"
   ]
  },
  {
   "cell_type": "code",
   "execution_count": 29,
   "id": "2ead5a71-110b-419a-9800-6b196f5b46ee",
   "metadata": {},
   "outputs": [
    {
     "name": "stdout",
     "output_type": "stream",
     "text": [
      "m\n",
      "a\n",
      "n\n",
      "g\n",
      "o\n"
     ]
    }
   ],
   "source": [
    "fruit = 'mango'\n",
    "for x in fruit:\n",
    "    print(x)"
   ]
  },
  {
   "cell_type": "code",
   "execution_count": 32,
   "id": "ac6e8a2c-fc27-4006-b75e-bc2b84db8e44",
   "metadata": {},
   "outputs": [
    {
     "data": {
      "text/plain": [
       "'n'"
      ]
     },
     "execution_count": 32,
     "metadata": {},
     "output_type": "execute_result"
    }
   ],
   "source": [
    "fruit[2]"
   ]
  },
  {
   "cell_type": "code",
   "execution_count": null,
   "id": "dad8e835-34c8-4815-b72a-ea4f128b435e",
   "metadata": {},
   "outputs": [],
   "source": [
    "### Nested loops\n",
    "n=7\n",
    "\n"
   ]
  },
  {
   "cell_type": "code",
   "execution_count": 39,
   "id": "43bca0f7-c7f9-428f-b72a-cfa015569a0e",
   "metadata": {},
   "outputs": [
    {
     "name": "stdout",
     "output_type": "stream",
     "text": [
      "1\n",
      "3\n",
      "5\n",
      "7\n",
      "9\n"
     ]
    }
   ],
   "source": [
    "### range\n",
    "for i in range(1,10,2):\n",
    "    print(i)"
   ]
  },
  {
   "cell_type": "code",
   "execution_count": 42,
   "id": "e32fbf08-05a3-426d-bff9-b87e0a6d4496",
   "metadata": {},
   "outputs": [
    {
     "name": "stdout",
     "output_type": "stream",
     "text": [
      "*\n",
      "**\n",
      "***\n",
      "****\n",
      "*****\n",
      "******\n",
      "*******\n"
     ]
    }
   ],
   "source": [
    "## Nested Loops\n",
    "n=7\n",
    "\n",
    "for i in range(0,n):\n",
    "    for j in range(0,i+1):\n",
    "        print(\"*\",end=\"\")\n",
    "    print(\"\\r\")"
   ]
  },
  {
   "cell_type": "code",
   "execution_count": 43,
   "id": "6802b98d-070b-4ede-a056-c0b0742dc197",
   "metadata": {},
   "outputs": [],
   "source": [
    "##Loop controls\n",
    "## Break and continue\n",
    "fruits_list = [\"Mango\",\"Cherry\",\"Apple\",\"Papaya\",\"Banana\"]\n"
   ]
  },
  {
   "cell_type": "code",
   "execution_count": 48,
   "id": "804bc937-01c0-4115-b639-9b5b8717d8fa",
   "metadata": {},
   "outputs": [
    {
     "name": "stdout",
     "output_type": "stream",
     "text": [
      "Mango\n",
      "Cherry\n",
      "the fruit is apple\n"
     ]
    }
   ],
   "source": [
    "for i in fruits_list:\n",
    "    if i ==\"Apple\":\n",
    "        print(\"the fruit is apple\")\n",
    "        break\n",
    "    print(i)"
   ]
  },
  {
   "cell_type": "code",
   "execution_count": 49,
   "id": "a57c70c1-a176-4ce2-9bee-1ba220b80da6",
   "metadata": {},
   "outputs": [
    {
     "name": "stdout",
     "output_type": "stream",
     "text": [
      "Mango\n",
      "Cherry\n",
      "the fruit is apple\n",
      "Apple\n",
      "Papaya\n",
      "Banana\n"
     ]
    }
   ],
   "source": [
    "for i in fruits_list:\n",
    "    if i == \"Apple\":\n",
    "        print(\"the fruit is apple\")\n",
    "        pass\n",
    "    print(i)"
   ]
  },
  {
   "cell_type": "code",
   "execution_count": 50,
   "id": "6902b4a5-e9ab-4644-850f-95d1c6080ce0",
   "metadata": {},
   "outputs": [
    {
     "name": "stdout",
     "output_type": "stream",
     "text": [
      "Mango\n",
      "Cherry\n",
      "the fruit is apple\n",
      "Papaya\n",
      "Banana\n"
     ]
    }
   ],
   "source": [
    "for i in fruits_list:\n",
    "    if i == \"Apple\":\n",
    "        print(\"the fruit is apple\")\n",
    "        continue\n",
    "    print(i)"
   ]
  },
  {
   "cell_type": "code",
   "execution_count": null,
   "id": "41fcbcbe-e278-4ead-a3a4-6587e858aaec",
   "metadata": {},
   "outputs": [],
   "source": []
  },
  {
   "cell_type": "code",
   "execution_count": null,
   "id": "a7fa2b91-6437-41a3-bca4-45e67feef58d",
   "metadata": {},
   "outputs": [],
   "source": []
  },
  {
   "cell_type": "code",
   "execution_count": null,
   "id": "3d6133bb-9533-426c-bf4b-e48583c74638",
   "metadata": {},
   "outputs": [],
   "source": []
  },
  {
   "cell_type": "code",
   "execution_count": null,
   "id": "e989ece2-4818-47e0-a904-956db6962d5d",
   "metadata": {},
   "outputs": [],
   "source": []
  },
  {
   "cell_type": "code",
   "execution_count": null,
   "id": "cb164ea9-85f0-4390-9ade-ab29ad1e6d85",
   "metadata": {},
   "outputs": [],
   "source": []
  },
  {
   "cell_type": "code",
   "execution_count": null,
   "id": "b98f81b9-8c60-4751-b075-5142da8c0577",
   "metadata": {},
   "outputs": [],
   "source": []
  }
 ],
 "metadata": {
  "kernelspec": {
   "display_name": "Python 3 (ipykernel)",
   "language": "python",
   "name": "python3"
  },
  "language_info": {
   "codemirror_mode": {
    "name": "ipython",
    "version": 3
   },
   "file_extension": ".py",
   "mimetype": "text/x-python",
   "name": "python",
   "nbconvert_exporter": "python",
   "pygments_lexer": "ipython3",
   "version": "3.10.8"
  }
 },
 "nbformat": 4,
 "nbformat_minor": 5
}
