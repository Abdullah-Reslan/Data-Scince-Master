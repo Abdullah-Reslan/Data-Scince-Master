{
 "cells": [
  {
   "cell_type": "code",
   "execution_count": 2,
   "id": "13e4ba3a-925e-4e22-8d81-15e38bfa8d88",
   "metadata": {},
   "outputs": [
    {
     "data": {
      "text/plain": [
       "'\\nHello World this is just the wright thing to do \\n'"
      ]
     },
     "execution_count": 2,
     "metadata": {},
     "output_type": "execute_result"
    }
   ],
   "source": [
    "\"\"\"\n",
    "Hello World this is just the wright thing to do \n",
    "\"\"\""
   ]
  },
  {
   "cell_type": "markdown",
   "id": "67436369-14eb-4c2a-99d0-ce2b0be76b02",
   "metadata": {},
   "source": [
    "# HI There"
   ]
  },
  {
   "cell_type": "markdown",
   "id": "d657d12e-f9d7-4aed-b674-b35bcc5fdda6",
   "metadata": {},
   "source": [
    "# i love data a lot \n",
    "## How are you there\n",
    "### is this real \n",
    "1. how is this poss\n",
    "    - hi "
   ]
  },
  {
   "cell_type": "code",
   "execution_count": 2,
   "id": "7c08e964-105e-43c7-9cc7-231321fb5575",
   "metadata": {},
   "outputs": [
    {
     "name": "stdout",
     "output_type": "stream",
     "text": [
      "4\n"
     ]
    }
   ],
   "source": [
    "print(1+3)"
   ]
  },
  {
   "cell_type": "code",
   "execution_count": 3,
   "id": "0844742c-f4f2-48c5-a747-f5aaf3cbed7c",
   "metadata": {},
   "outputs": [
    {
     "data": {
      "text/plain": [
       "4"
      ]
     },
     "execution_count": 3,
     "metadata": {},
     "output_type": "execute_result"
    }
   ],
   "source": [
    "1+3"
   ]
  },
  {
   "cell_type": "code",
   "execution_count": 4,
   "id": "931aa0ef-aabb-4fdd-b198-bcbe4ece6f0f",
   "metadata": {},
   "outputs": [
    {
     "data": {
      "text/plain": [
       "5"
      ]
     },
     "execution_count": 4,
     "metadata": {},
     "output_type": "execute_result"
    }
   ],
   "source": [
    "a=5\n",
    "a"
   ]
  },
  {
   "cell_type": "code",
   "execution_count": 5,
   "id": "574c4188-de5b-4f0d-a09e-e1afeef99458",
   "metadata": {},
   "outputs": [
    {
     "name": "stdout",
     "output_type": "stream",
     "text": [
      "5\n"
     ]
    }
   ],
   "source": [
    "print(a)"
   ]
  },
  {
   "cell_type": "code",
   "execution_count": 20,
   "id": "6678d48a-06b5-4c60-a5c6-639250712fed",
   "metadata": {},
   "outputs": [
    {
     "name": "stdout",
     "output_type": "stream",
     "text": [
      "hello World my name is abdullah \n",
      " and i want to work in data scince\n"
     ]
    }
   ],
   "source": [
    "print('hello World my name is abdullah \\n and i want to work in data scince')"
   ]
  },
  {
   "cell_type": "markdown",
   "id": "bd2b22a8-ffe6-496b-b0f8-f48769c77fa5",
   "metadata": {},
   "source": [
    "### Variable Assignment"
   ]
  },
  {
   "cell_type": "code",
   "execution_count": 21,
   "id": "7bc91eb2-a4be-4c43-b0cf-96b33d62f2ce",
   "metadata": {},
   "outputs": [],
   "source": [
    "name = 'Abdullah'\n",
    "Company =\" PWskills and ineuron\""
   ]
  },
  {
   "cell_type": "code",
   "execution_count": 23,
   "id": "22e3fb66-8e4b-429f-a1b5-699cf531df25",
   "metadata": {},
   "outputs": [
    {
     "data": {
      "text/plain": [
       "' PWskills and ineuron'"
      ]
     },
     "execution_count": 23,
     "metadata": {},
     "output_type": "execute_result"
    }
   ],
   "source": [
    "Company"
   ]
  },
  {
   "cell_type": "code",
   "execution_count": 24,
   "id": "7e470b4c-83de-46b2-a75b-24e402c211da",
   "metadata": {},
   "outputs": [
    {
     "data": {
      "text/plain": [
       "'Abdullah'"
      ]
     },
     "execution_count": 24,
     "metadata": {},
     "output_type": "execute_result"
    }
   ],
   "source": [
    "name"
   ]
  },
  {
   "cell_type": "code",
   "execution_count": 25,
   "id": "59bf1322-0413-4043-bee2-25c0b080fec0",
   "metadata": {},
   "outputs": [],
   "source": [
    "name =\"AB\""
   ]
  },
  {
   "cell_type": "code",
   "execution_count": 26,
   "id": "b46c135e-95ae-4bcc-abeb-0358f286296c",
   "metadata": {},
   "outputs": [
    {
     "data": {
      "text/plain": [
       "'AB'"
      ]
     },
     "execution_count": 26,
     "metadata": {},
     "output_type": "execute_result"
    }
   ],
   "source": [
    "name"
   ]
  },
  {
   "cell_type": "code",
   "execution_count": 27,
   "id": "e00c65c5-a681-407a-b09c-8d1ed9b4d93d",
   "metadata": {},
   "outputs": [
    {
     "data": {
      "text/plain": [
       "str"
      ]
     },
     "execution_count": 27,
     "metadata": {},
     "output_type": "execute_result"
    }
   ],
   "source": [
    "type(name)"
   ]
  },
  {
   "cell_type": "code",
   "execution_count": 29,
   "id": "819c5ccd-fc1f-4629-a412-7a656d76024d",
   "metadata": {},
   "outputs": [
    {
     "data": {
      "text/plain": [
       "str"
      ]
     },
     "execution_count": 29,
     "metadata": {},
     "output_type": "execute_result"
    }
   ],
   "source": [
    "type(Company)"
   ]
  },
  {
   "cell_type": "code",
   "execution_count": 30,
   "id": "81814bde-686f-42dc-8640-666b717cecad",
   "metadata": {},
   "outputs": [
    {
     "data": {
      "text/plain": [
       "int"
      ]
     },
     "execution_count": 30,
     "metadata": {},
     "output_type": "execute_result"
    }
   ],
   "source": [
    "type(10)"
   ]
  },
  {
   "cell_type": "code",
   "execution_count": 31,
   "id": "3683a581-7fd3-4477-9429-24b51657d2b6",
   "metadata": {},
   "outputs": [
    {
     "data": {
      "text/plain": [
       "float"
      ]
     },
     "execution_count": 31,
     "metadata": {},
     "output_type": "execute_result"
    }
   ],
   "source": [
    "type(1.2)"
   ]
  },
  {
   "cell_type": "code",
   "execution_count": 32,
   "id": "36a7e29d-0fd9-40d0-b9e2-b8a07ffd8236",
   "metadata": {},
   "outputs": [
    {
     "data": {
      "text/plain": [
       "str"
      ]
     },
     "execution_count": 32,
     "metadata": {},
     "output_type": "execute_result"
    }
   ],
   "source": [
    "type(\"Abdullah\")"
   ]
  },
  {
   "cell_type": "code",
   "execution_count": 33,
   "id": "b5d5b550-f8a3-4345-8474-71e4e25801b3",
   "metadata": {},
   "outputs": [],
   "source": [
    "decimal_number=2.5"
   ]
  },
  {
   "cell_type": "code",
   "execution_count": 34,
   "id": "6aaf819b-17db-4c86-bb85-908d72b42bd5",
   "metadata": {},
   "outputs": [
    {
     "data": {
      "text/plain": [
       "2.5"
      ]
     },
     "execution_count": 34,
     "metadata": {},
     "output_type": "execute_result"
    }
   ],
   "source": [
    "decimal_number"
   ]
  },
  {
   "cell_type": "code",
   "execution_count": 35,
   "id": "e8559369-5f0c-4dd9-bd1b-2c481c12e6da",
   "metadata": {},
   "outputs": [
    {
     "data": {
      "text/plain": [
       "float"
      ]
     },
     "execution_count": 35,
     "metadata": {},
     "output_type": "execute_result"
    }
   ],
   "source": [
    "type(decimal_number)"
   ]
  },
  {
   "cell_type": "code",
   "execution_count": 36,
   "id": "fa945deb-094e-44ac-b45b-f58498cc2e0d",
   "metadata": {},
   "outputs": [
    {
     "data": {
      "text/plain": [
       "list"
      ]
     },
     "execution_count": 36,
     "metadata": {},
     "output_type": "execute_result"
    }
   ],
   "source": [
    "type([0,1,2,'A'])"
   ]
  },
  {
   "cell_type": "code",
   "execution_count": 37,
   "id": "53cc61c9-eab5-4d6c-8b8d-2c13a8d45bd3",
   "metadata": {},
   "outputs": [
    {
     "data": {
      "text/plain": [
       "complex"
      ]
     },
     "execution_count": 37,
     "metadata": {},
     "output_type": "execute_result"
    }
   ],
   "source": [
    "type(1+2j)"
   ]
  },
  {
   "cell_type": "code",
   "execution_count": 39,
   "id": "fe46979e-2c8e-4378-8f34-4971df582448",
   "metadata": {},
   "outputs": [
    {
     "name": "stdout",
     "output_type": "stream",
     "text": [
      "hi\n"
     ]
    }
   ],
   "source": [
    "print('hi')"
   ]
  },
  {
   "cell_type": "code",
   "execution_count": 40,
   "id": "0a47a053-fe79-4f9e-8301-cf8d7edfe40e",
   "metadata": {},
   "outputs": [
    {
     "name": "stdout",
     "output_type": "stream",
     "text": [
      "23\n"
     ]
    }
   ],
   "source": [
    "##dont start the variable with number \n",
    "number1 = 23\n",
    "print(number1)"
   ]
  },
  {
   "cell_type": "code",
   "execution_count": 41,
   "id": "f064e9b0-0894-457e-a156-0698c6238b1a",
   "metadata": {},
   "outputs": [
    {
     "name": "stdout",
     "output_type": "stream",
     "text": [
      "ineuron\n",
      "PWSkills\n"
     ]
    }
   ],
   "source": [
    "company = 'ineuron'\n",
    "Company = 'PWSkills'\n",
    "print(company)\n",
    "print(Company)"
   ]
  },
  {
   "cell_type": "code",
   "execution_count": 42,
   "id": "4680e194-0264-49af-949c-973c4af93831",
   "metadata": {},
   "outputs": [
    {
     "data": {
      "text/plain": [
       "'\\nint,float,len,complex,bool,str,return,yield\\n'"
      ]
     },
     "execution_count": 42,
     "metadata": {},
     "output_type": "execute_result"
    }
   ],
   "source": [
    "##reserved Keywords\n",
    "'''\n",
    "int,float,len,complex,bool,str,return,yield\n",
    "'''"
   ]
  },
  {
   "cell_type": "code",
   "execution_count": 43,
   "id": "5c9572a6-059d-4fd9-b69f-09eb6b15f1c0",
   "metadata": {},
   "outputs": [
    {
     "data": {
      "text/plain": [
       "True"
      ]
     },
     "execution_count": 43,
     "metadata": {},
     "output_type": "execute_result"
    }
   ],
   "source": [
    "True"
   ]
  },
  {
   "cell_type": "code",
   "execution_count": 44,
   "id": "f1f99b66-7fba-47fd-a1d8-94fbfd57fede",
   "metadata": {},
   "outputs": [
    {
     "data": {
      "text/plain": [
       "False"
      ]
     },
     "execution_count": 44,
     "metadata": {},
     "output_type": "execute_result"
    }
   ],
   "source": [
    "False"
   ]
  },
  {
   "cell_type": "markdown",
   "id": "3a2b40ee-7f71-483f-81c6-5d89356b183d",
   "metadata": {},
   "source": [
    "# Both of True and False are booliean "
   ]
  },
  {
   "cell_type": "code",
   "execution_count": 45,
   "id": "93ba1102-729e-48d1-9063-8f74eb8980c1",
   "metadata": {},
   "outputs": [
    {
     "data": {
      "text/plain": [
       "False"
      ]
     },
     "execution_count": 45,
     "metadata": {},
     "output_type": "execute_result"
    }
   ],
   "source": [
    "not True"
   ]
  },
  {
   "cell_type": "code",
   "execution_count": 46,
   "id": "195f3214-6a8f-4291-9ff7-dbb1b707c28a",
   "metadata": {},
   "outputs": [
    {
     "data": {
      "text/plain": [
       "True"
      ]
     },
     "execution_count": 46,
     "metadata": {},
     "output_type": "execute_result"
    }
   ],
   "source": [
    "not False"
   ]
  },
  {
   "cell_type": "code",
   "execution_count": 47,
   "id": "96296a87-f8a4-4515-b372-83a52e5e2832",
   "metadata": {},
   "outputs": [
    {
     "data": {
      "text/plain": [
       "bool"
      ]
     },
     "execution_count": 47,
     "metadata": {},
     "output_type": "execute_result"
    }
   ],
   "source": [
    "type(not False)"
   ]
  },
  {
   "cell_type": "code",
   "execution_count": 48,
   "id": "58919f51-592a-4d59-831a-615e145ca42f",
   "metadata": {},
   "outputs": [
    {
     "data": {
      "text/plain": [
       "False"
      ]
     },
     "execution_count": 48,
     "metadata": {},
     "output_type": "execute_result"
    }
   ],
   "source": [
    "bool(0)"
   ]
  },
  {
   "cell_type": "code",
   "execution_count": 50,
   "id": "9d30619c-0bc3-4fed-9d84-4633d5975a66",
   "metadata": {},
   "outputs": [
    {
     "data": {
      "text/plain": [
       "True"
      ]
     },
     "execution_count": 50,
     "metadata": {},
     "output_type": "execute_result"
    }
   ],
   "source": [
    "bool(19)"
   ]
  },
  {
   "cell_type": "code",
   "execution_count": 60,
   "id": "39133580-be42-4049-9f08-d8ca675ae685",
   "metadata": {},
   "outputs": [
    {
     "name": "stdout",
     "output_type": "stream",
     "text": [
      "True\n"
     ]
    }
   ],
   "source": [
    "a=1\n",
    "if bool(a) == True :\n",
    "    print('True')"
   ]
  },
  {
   "cell_type": "code",
   "execution_count": 56,
   "id": "55bb4ccb-7773-4a05-b99d-b7fb139c8c0f",
   "metadata": {},
   "outputs": [
    {
     "data": {
      "text/plain": [
       "'23'"
      ]
     },
     "execution_count": 56,
     "metadata": {},
     "output_type": "execute_result"
    }
   ],
   "source": [
    "str(23)"
   ]
  },
  {
   "cell_type": "code",
   "execution_count": 57,
   "id": "92ad62a8-0a67-4c4d-9ad2-608f2adac315",
   "metadata": {},
   "outputs": [
    {
     "data": {
      "text/plain": [
       "int"
      ]
     },
     "execution_count": 57,
     "metadata": {},
     "output_type": "execute_result"
    }
   ],
   "source": [
    "type(0)"
   ]
  },
  {
   "cell_type": "code",
   "execution_count": 61,
   "id": "0b5318a0-06ee-436c-8231-2003c0dcf7d6",
   "metadata": {},
   "outputs": [
    {
     "data": {
      "text/plain": [
       "23"
      ]
     },
     "execution_count": 61,
     "metadata": {},
     "output_type": "execute_result"
    }
   ],
   "source": [
    "int(\"23\")"
   ]
  },
  {
   "cell_type": "code",
   "execution_count": null,
   "id": "37bc946c-bb8f-4b66-b4b0-052e0d4e2274",
   "metadata": {},
   "outputs": [],
   "source": []
  },
  {
   "cell_type": "markdown",
   "id": "9f96441c-0d9b-42a0-b3fc-7a4f49aadd4e",
   "metadata": {},
   "source": [
    "###     Dynamic Typing"
   ]
  },
  {
   "cell_type": "code",
   "execution_count": 67,
   "id": "af1bf40a-d7cb-4846-9e46-90b410e0e395",
   "metadata": {},
   "outputs": [
    {
     "data": {
      "text/plain": [
       "12"
      ]
     },
     "execution_count": 67,
     "metadata": {},
     "output_type": "execute_result"
    }
   ],
   "source": [
    "a = 12\n",
    "str1=\"Abdullah\"\n",
    "str1\n",
    "a"
   ]
  },
  {
   "cell_type": "code",
   "execution_count": 64,
   "id": "bb35a375-417c-4df0-825a-b7e23334d95a",
   "metadata": {},
   "outputs": [
    {
     "data": {
      "text/plain": [
       "12"
      ]
     },
     "execution_count": 64,
     "metadata": {},
     "output_type": "execute_result"
    }
   ],
   "source": [
    "a"
   ]
  },
  {
   "cell_type": "code",
   "execution_count": 68,
   "id": "bbbf97df-aa4d-44b0-8d62-a86e29342e6b",
   "metadata": {},
   "outputs": [
    {
     "data": {
      "text/plain": [
       "int"
      ]
     },
     "execution_count": 68,
     "metadata": {},
     "output_type": "execute_result"
    }
   ],
   "source": [
    "type(a)"
   ]
  },
  {
   "cell_type": "code",
   "execution_count": 69,
   "id": "689be2cf-d45e-4369-99f2-15dab845737f",
   "metadata": {},
   "outputs": [
    {
     "name": "stdout",
     "output_type": "stream",
     "text": [
      "<class 'int'>\n"
     ]
    }
   ],
   "source": [
    "print(type(a))"
   ]
  },
  {
   "cell_type": "code",
   "execution_count": 70,
   "id": "23ed8828-850e-4755-b90e-fa8067813c2b",
   "metadata": {},
   "outputs": [
    {
     "name": "stdout",
     "output_type": "stream",
     "text": [
      "<class 'str'>\n"
     ]
    }
   ],
   "source": [
    "print(type(str1))"
   ]
  },
  {
   "cell_type": "code",
   "execution_count": 71,
   "id": "7658fd7f-4e00-4230-b23b-ac6dbb351a35",
   "metadata": {},
   "outputs": [],
   "source": [
    "## concatination between diffrent types"
   ]
  },
  {
   "cell_type": "code",
   "execution_count": 72,
   "id": "ce5272cb-777b-4c87-b5ba-1e367a55aaa0",
   "metadata": {},
   "outputs": [
    {
     "data": {
      "text/plain": [
       "'12'"
      ]
     },
     "execution_count": 72,
     "metadata": {},
     "output_type": "execute_result"
    }
   ],
   "source": [
    "\"1\" + \"2\""
   ]
  },
  {
   "cell_type": "code",
   "execution_count": 73,
   "id": "8551cf87-8207-4123-a99f-b9ae6353696e",
   "metadata": {},
   "outputs": [
    {
     "data": {
      "text/plain": [
       "6"
      ]
     },
     "execution_count": 73,
     "metadata": {},
     "output_type": "execute_result"
    }
   ],
   "source": [
    "int(\"1\") +int(\"5\")"
   ]
  },
  {
   "cell_type": "code",
   "execution_count": null,
   "id": "d8ad9751-edfe-4373-a68b-d3695b28a057",
   "metadata": {},
   "outputs": [],
   "source": []
  },
  {
   "cell_type": "code",
   "execution_count": null,
   "id": "bdb1d303-03ee-4b2b-8e25-589078d549dc",
   "metadata": {},
   "outputs": [],
   "source": []
  },
  {
   "cell_type": "code",
   "execution_count": null,
   "id": "63fc6de2-14ff-43e7-8d59-b2a4a73f95ef",
   "metadata": {},
   "outputs": [],
   "source": []
  }
 ],
 "metadata": {
  "kernelspec": {
   "display_name": "Python 3 (ipykernel)",
   "language": "python",
   "name": "python3"
  },
  "language_info": {
   "codemirror_mode": {
    "name": "ipython",
    "version": 3
   },
   "file_extension": ".py",
   "mimetype": "text/x-python",
   "name": "python",
   "nbconvert_exporter": "python",
   "pygments_lexer": "ipython3",
   "version": "3.10.8"
  }
 },
 "nbformat": 4,
 "nbformat_minor": 5
}
