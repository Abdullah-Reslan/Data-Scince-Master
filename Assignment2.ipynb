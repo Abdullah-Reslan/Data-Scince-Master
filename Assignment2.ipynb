{
 "cells": [
  {
   "cell_type": "markdown",
   "id": "777b1dae-5577-4832-b6a6-0318c03c5550",
   "metadata": {},
   "source": [
    "### Q1\n",
    "There are multible ways:\n",
    "* for example using # while the Konsol on code mode \n",
    "* also we can use the markdown in many ways as headers,titels, subtitels or key points\n",
    "*  or we can use the qutation Mark"
   ]
  },
  {
   "cell_type": "code",
   "execution_count": 2,
   "id": "ac6fc2ce-fe35-45be-bd82-eb0c3b33a3f0",
   "metadata": {},
   "outputs": [],
   "source": [
    "#Exp1: then write anything in code mode"
   ]
  },
  {
   "cell_type": "code",
   "execution_count": 4,
   "id": "ae336f6f-48e4-4532-afa1-df0117bbf4e7",
   "metadata": {},
   "outputs": [
    {
     "data": {
      "text/plain": [
       "'\\nExp2: (multi line code)\\nwe can write anything \\nin more than one line \\nand its fine\\n\\n'"
      ]
     },
     "execution_count": 4,
     "metadata": {},
     "output_type": "execute_result"
    }
   ],
   "source": [
    "'''\n",
    "Exp2: (multi line code)\n",
    "we can write anything \n",
    "in more than one line \n",
    "and its fine\n",
    "\n",
    "'''"
   ]
  },
  {
   "cell_type": "code",
   "execution_count": 5,
   "id": "62104071-e95a-4179-bf22-6e0630c8bf9d",
   "metadata": {},
   "outputs": [
    {
     "data": {
      "text/plain": [
       "\"\\n* variables in python can be in many forms\\n* but we cant start with numbers or some sympols such as - , * ,:, etc\\n* we cant also start the variable with functions : for Example wa cant name it  with : or, if ,while , ...etc\\n* we can declare thim like the following example :\\na = 1        (integer)\\nb = 'pw'     (string)\\nc_data =  [1,2,3,'i']      (list)\\nand so on \\n\""
      ]
     },
     "execution_count": 5,
     "metadata": {},
     "output_type": "execute_result"
    }
   ],
   "source": [
    "#Q2\n",
    "'''\n",
    "* variables in python can be in many forms\n",
    "* but we cant start with numbers or some sympols such as - , * ,:, etc\n",
    "* we cant also start the variable with functions : for Example wa cant name it  with : or, if ,while , ...etc\n",
    "* we can declare thim like the following example :\n",
    "a = 1        (integer)\n",
    "b = 'pw'     (string)\n",
    "c_data =  [1,2,3,'i']      (list)\n",
    "and so on \n",
    "''' \n"
   ]
  },
  {
   "cell_type": "code",
   "execution_count": 11,
   "id": "c39d0783-58b3-41e1-84a1-28291e52e71b",
   "metadata": {},
   "outputs": [
    {
     "data": {
      "text/plain": [
       "\"\\nconverting data can be done in many ways:\\n* we cant use the inbuilt functions, EXP: a='12' (as string) -> int(a) -> = 12 (as integer)\\n* exp: a = 'abdullah' -> list(a) -> = ['a', 'b', 'd', 'u', 'l', 'l', 'a', 'h']\\n\""
      ]
     },
     "execution_count": 11,
     "metadata": {},
     "output_type": "execute_result"
    }
   ],
   "source": [
    "#Q3\n",
    "'''\n",
    "converting data can be done in many ways:\n",
    "* we cant use the inbuilt functions, EXP: a='12' (as string) -> int(a) -> = 12 (as integer)\n",
    "* exp: a = 'abdullah' -> list(a) -> = ['a', 'b', 'd', 'u', 'l', 'l', 'a', 'h']\n",
    "'''"
   ]
  },
  {
   "cell_type": "raw",
   "id": "e7877e8f-3825-4082-855a-ba87a6333e4c",
   "metadata": {},
   "source": [
    "#Q4\n",
    "''' \n",
    "open the command prompt in my pc and then writing the following step after installing python\n",
    "\n",
    "C:\\Users\\abadi>python\n",
    "Python 3.11.4 (tags/v3.11.4:d2340ef, Jun  7 2023, 05:45:37) [MSC v.1934 64 bit (AMD64)] on win32\n",
    "Type \"help\", \"copyright\", \"credits\" or \"license\" for more information.\n",
    ">>> print('Hello World')\n",
    "Hello World\n",
    ">>> 2+3\n",
    "5\n",
    ">>> print('Hallo PWskills')\n",
    "Hallo PWskills\n",
    ">>>\n",
    "\n",
    "\n",
    "'''"
   ]
  },
  {
   "cell_type": "code",
   "execution_count": 13,
   "id": "53a91984-2a89-4082-8044-9c007d5ae5d1",
   "metadata": {},
   "outputs": [
    {
     "data": {
      "text/plain": [
       "[1, 2, 3, 4, 5]"
      ]
     },
     "execution_count": 13,
     "metadata": {},
     "output_type": "execute_result"
    }
   ],
   "source": [
    "#Q5\n",
    "\n",
    "my_list = [1,2,3,4,5]\n",
    "my_list"
   ]
  },
  {
   "cell_type": "code",
   "execution_count": 17,
   "id": "654c466c-79fc-4431-bc0c-a6407abdf7aa",
   "metadata": {},
   "outputs": [
    {
     "data": {
      "text/plain": [
       "[2, 3]"
      ]
     },
     "execution_count": 17,
     "metadata": {},
     "output_type": "execute_result"
    }
   ],
   "source": [
    "sub_list = my_list[1:3]\n",
    "sub_list"
   ]
  },
  {
   "cell_type": "code",
   "execution_count": 18,
   "id": "c0baea40-9357-4cf8-a5e7-7400c838cb37",
   "metadata": {},
   "outputs": [
    {
     "data": {
      "text/plain": [
       "(1+2j)"
      ]
     },
     "execution_count": 18,
     "metadata": {},
     "output_type": "execute_result"
    }
   ],
   "source": [
    "#Q6 \n",
    "' complex number contains to values , one is real and the other on is imaginiry '\n",
    "a = 1+2j\n",
    "a"
   ]
  },
  {
   "cell_type": "code",
   "execution_count": 19,
   "id": "94f3c1e8-5d22-442d-ac12-2f1bb61d1bc0",
   "metadata": {},
   "outputs": [
    {
     "data": {
      "text/plain": [
       "complex"
      ]
     },
     "execution_count": 19,
     "metadata": {},
     "output_type": "execute_result"
    }
   ],
   "source": [
    "type(a)"
   ]
  },
  {
   "cell_type": "code",
   "execution_count": 20,
   "id": "b9f7ff0d-e8b3-4054-b157-6203be680c32",
   "metadata": {},
   "outputs": [
    {
     "data": {
      "text/plain": [
       "[45, 55, 80, 30, 29, 19]"
      ]
     },
     "execution_count": 20,
     "metadata": {},
     "output_type": "execute_result"
    }
   ],
   "source": [
    "# Q7\n",
    "age = [45, 55, 80, 30, 29, 19 ]\n",
    "age"
   ]
  },
  {
   "cell_type": "code",
   "execution_count": 21,
   "id": "54c1d90f-8e89-405f-a72d-c660f7f3932d",
   "metadata": {},
   "outputs": [],
   "source": [
    "age.append(25)"
   ]
  },
  {
   "cell_type": "code",
   "execution_count": 22,
   "id": "67d3f76a-8a8c-4c1e-9e57-671b6d70c3b7",
   "metadata": {},
   "outputs": [
    {
     "data": {
      "text/plain": [
       "[45, 55, 80, 30, 29, 19, 25]"
      ]
     },
     "execution_count": 22,
     "metadata": {},
     "output_type": "execute_result"
    }
   ],
   "source": [
    "age"
   ]
  },
  {
   "cell_type": "code",
   "execution_count": 28,
   "id": "219e2f27-9e33-46ae-a045-205dda1a5a85",
   "metadata": {},
   "outputs": [
    {
     "data": {
      "text/plain": [
       "[100, 200, 35, 14, 66, 2]"
      ]
     },
     "execution_count": 28,
     "metadata": {},
     "output_type": "execute_result"
    }
   ],
   "source": [
    "#Q8\n",
    "price = [100,200,35,14,66,2]\n",
    "price"
   ]
  },
  {
   "cell_type": "code",
   "execution_count": 24,
   "id": "73c14f95-c861-4d2d-adc5-ae86c2b8dfb4",
   "metadata": {},
   "outputs": [],
   "source": [
    "price.append(9.99)"
   ]
  },
  {
   "cell_type": "code",
   "execution_count": 25,
   "id": "6a3e17dc-c8b7-4d2b-846f-2cd30a8fb339",
   "metadata": {},
   "outputs": [
    {
     "data": {
      "text/plain": [
       "[100, 200, 35, 14, 66, 2, 9.99]"
      ]
     },
     "execution_count": 25,
     "metadata": {},
     "output_type": "execute_result"
    }
   ],
   "source": [
    "price"
   ]
  },
  {
   "cell_type": "code",
   "execution_count": 26,
   "id": "296c11b0-8bc7-45c6-8260-33f86d47f0b8",
   "metadata": {},
   "outputs": [
    {
     "data": {
      "text/plain": [
       "list"
      ]
     },
     "execution_count": 26,
     "metadata": {},
     "output_type": "execute_result"
    }
   ],
   "source": [
    "type(price)"
   ]
  },
  {
   "cell_type": "code",
   "execution_count": 27,
   "id": "841a2572-48e9-4647-bfa0-ccd65926d34f",
   "metadata": {},
   "outputs": [
    {
     "data": {
      "text/plain": [
       "float"
      ]
     },
     "execution_count": 27,
     "metadata": {},
     "output_type": "execute_result"
    }
   ],
   "source": [
    "type(9.99)"
   ]
  },
  {
   "cell_type": "code",
   "execution_count": 29,
   "id": "da69f357-75ba-4144-aa32-a5e52e3e372f",
   "metadata": {},
   "outputs": [
    {
     "data": {
      "text/plain": [
       "' Abdullah Reslan '"
      ]
     },
     "execution_count": 29,
     "metadata": {},
     "output_type": "execute_result"
    }
   ],
   "source": [
    "#Q9 , we can print using shift+enter or ctr+enter\n",
    "name = ' Abdullah Reslan '\n",
    "name"
   ]
  },
  {
   "cell_type": "code",
   "execution_count": 31,
   "id": "eca47dd7-04e8-4c7e-a5f6-4f6ba6511de6",
   "metadata": {},
   "outputs": [
    {
     "data": {
      "text/plain": [
       "' Abdullah Reslan '"
      ]
     },
     "execution_count": 31,
     "metadata": {},
     "output_type": "execute_result"
    }
   ],
   "source": [
    "#or\n",
    "name"
   ]
  },
  {
   "cell_type": "code",
   "execution_count": 32,
   "id": "65ec470b-7ea2-460c-81c6-7c6b4e780f82",
   "metadata": {},
   "outputs": [
    {
     "data": {
      "text/plain": [
       "'Hello, World'"
      ]
     },
     "execution_count": 32,
     "metadata": {},
     "output_type": "execute_result"
    }
   ],
   "source": [
    "string = \"Hello, World\"\n",
    "string"
   ]
  },
  {
   "cell_type": "code",
   "execution_count": 38,
   "id": "33b3ace7-4661-4253-8ebe-1230db7a631e",
   "metadata": {},
   "outputs": [
    {
     "data": {
      "text/plain": [
       "' World'"
      ]
     },
     "execution_count": 38,
     "metadata": {},
     "output_type": "execute_result"
    }
   ],
   "source": [
    "substring = string[6:]\n",
    "substring"
   ]
  },
  {
   "cell_type": "code",
   "execution_count": 39,
   "id": "0ea4ae04-0f97-445e-809b-f57f11caec68",
   "metadata": {},
   "outputs": [],
   "source": [
    "#or\n",
    "s_string = string.split(', ')[1]"
   ]
  },
  {
   "cell_type": "code",
   "execution_count": 40,
   "id": "bb84550d-8672-4be1-9b1d-5fdfd26c37f5",
   "metadata": {},
   "outputs": [
    {
     "data": {
      "text/plain": [
       "'World'"
      ]
     },
     "execution_count": 40,
     "metadata": {},
     "output_type": "execute_result"
    }
   ],
   "source": [
    "s_string"
   ]
  },
  {
   "cell_type": "code",
   "execution_count": 41,
   "id": "39e65840-aa19-4eab-8a2b-8aefd77a000e",
   "metadata": {},
   "outputs": [],
   "source": [
    "#Q11\n",
    "var = 'is_student'\n",
    "\n",
    "for i in var :\n",
    "    if i == 'is_student':\n",
    "        print(bool(i))"
   ]
  },
  {
   "cell_type": "code",
   "execution_count": 42,
   "id": "cfb216c0-588f-4d8a-b67c-00c7312f8c9f",
   "metadata": {},
   "outputs": [
    {
     "data": {
      "text/plain": [
       "True"
      ]
     },
     "execution_count": 42,
     "metadata": {},
     "output_type": "execute_result"
    }
   ],
   "source": [
    "bool(i)"
   ]
  },
  {
   "cell_type": "code",
   "execution_count": 46,
   "id": "5090ec44-2583-4449-8e07-27847c73f1d9",
   "metadata": {},
   "outputs": [
    {
     "name": "stdin",
     "output_type": "stream",
     "text": [
      "i is_student\n"
     ]
    },
    {
     "name": "stdout",
     "output_type": "stream",
     "text": [
      "True\n"
     ]
    }
   ],
   "source": [
    "for i in var:\n",
    "    if input(i) == var:\n",
    "        print(True)\n",
    "        break\n",
    "    else:\n",
    "        print(False)"
   ]
  },
  {
   "cell_type": "code",
   "execution_count": null,
   "id": "e7bd650e-3bd0-42b1-b8dd-52f97d011c2c",
   "metadata": {},
   "outputs": [],
   "source": []
  }
 ],
 "metadata": {
  "kernelspec": {
   "display_name": "Python 3 (ipykernel)",
   "language": "python",
   "name": "python3"
  },
  "language_info": {
   "codemirror_mode": {
    "name": "ipython",
    "version": 3
   },
   "file_extension": ".py",
   "mimetype": "text/x-python",
   "name": "python",
   "nbconvert_exporter": "python",
   "pygments_lexer": "ipython3",
   "version": "3.10.8"
  }
 },
 "nbformat": 4,
 "nbformat_minor": 5
}
