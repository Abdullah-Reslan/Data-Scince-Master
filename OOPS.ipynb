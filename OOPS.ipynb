{
 "cells": [
  {
   "cell_type": "code",
   "execution_count": 1,
   "id": "e7bc72ce-1ead-45b3-9304-89b8650086db",
   "metadata": {},
   "outputs": [
    {
     "name": "stdout",
     "output_type": "stream",
     "text": [
      "<class 'int'>\n"
     ]
    }
   ],
   "source": [
    "a = 1\n",
    "print(type(a))"
   ]
  },
  {
   "cell_type": "code",
   "execution_count": 2,
   "id": "5b424efc-669c-4243-a210-b30959b19226",
   "metadata": {},
   "outputs": [
    {
     "name": "stdout",
     "output_type": "stream",
     "text": [
      "<class 'str'>\n"
     ]
    }
   ],
   "source": [
    "print(type('Pwskills'))"
   ]
  },
  {
   "cell_type": "code",
   "execution_count": 5,
   "id": "2e9df7e7-2a05-4509-8b3b-ac898c38e2be",
   "metadata": {},
   "outputs": [],
   "source": [
    "class test:\n",
    "    pass\n",
    "    "
   ]
  },
  {
   "cell_type": "code",
   "execution_count": 6,
   "id": "8c0b0447-36b5-44c3-8559-2e11723919f8",
   "metadata": {},
   "outputs": [],
   "source": [
    "a = test()"
   ]
  },
  {
   "cell_type": "code",
   "execution_count": 8,
   "id": "567dd4a5-c2ad-45a7-ae5e-d55cedbcafa9",
   "metadata": {},
   "outputs": [
    {
     "name": "stdout",
     "output_type": "stream",
     "text": [
      "<class '__main__.test'>\n"
     ]
    }
   ],
   "source": [
    "print(type(a))"
   ]
  },
  {
   "cell_type": "code",
   "execution_count": 12,
   "id": "9541b937-b3dd-4b2d-85f1-d836c7cfd412",
   "metadata": {},
   "outputs": [],
   "source": [
    "class pwskills : \n",
    "    def welcome_msg(self):\n",
    "        print(\"Welcome to pwskills\")"
   ]
  },
  {
   "cell_type": "code",
   "execution_count": 14,
   "id": "62ea216b-f77c-4aaa-8fff-e459ee2c2e16",
   "metadata": {},
   "outputs": [],
   "source": [
    "rohan = pwskills()"
   ]
  },
  {
   "cell_type": "code",
   "execution_count": 15,
   "id": "79e0e5d6-0e87-4d29-ad80-e94642c6073c",
   "metadata": {},
   "outputs": [
    {
     "name": "stdout",
     "output_type": "stream",
     "text": [
      "Welcome to pwskills\n"
     ]
    }
   ],
   "source": [
    "rohan.welcome_msg()"
   ]
  },
  {
   "cell_type": "code",
   "execution_count": 16,
   "id": "0b3b1f0b-2e04-4231-875a-b7bb8d892cf6",
   "metadata": {},
   "outputs": [],
   "source": [
    "sohan = pwskills()"
   ]
  },
  {
   "cell_type": "code",
   "execution_count": 18,
   "id": "aa350400-127e-4171-b297-47551c977b94",
   "metadata": {},
   "outputs": [
    {
     "name": "stdout",
     "output_type": "stream",
     "text": [
      "Welcome to pwskills\n"
     ]
    }
   ],
   "source": [
    "sohan.welcome_msg()"
   ]
  },
  {
   "cell_type": "code",
   "execution_count": 19,
   "id": "a5ff416c-1577-4c49-aee2-faec254eece1",
   "metadata": {},
   "outputs": [],
   "source": [
    "a = 1"
   ]
  },
  {
   "cell_type": "code",
   "execution_count": 20,
   "id": "195d83b9-43dd-4a52-9bcf-0926b37fe553",
   "metadata": {},
   "outputs": [],
   "source": [
    "b = 2"
   ]
  },
  {
   "cell_type": "code",
   "execution_count": 21,
   "id": "c929474f-1205-4f89-9a1c-893ddaf6c7b1",
   "metadata": {},
   "outputs": [
    {
     "data": {
      "text/plain": [
       "1"
      ]
     },
     "execution_count": 21,
     "metadata": {},
     "output_type": "execute_result"
    }
   ],
   "source": [
    "a"
   ]
  },
  {
   "cell_type": "code",
   "execution_count": 22,
   "id": "0f53df5e-2a38-4fc2-b45a-8d0a1d020167",
   "metadata": {},
   "outputs": [
    {
     "data": {
      "text/plain": [
       "2"
      ]
     },
     "execution_count": 22,
     "metadata": {},
     "output_type": "execute_result"
    }
   ],
   "source": [
    "b"
   ]
  },
  {
   "cell_type": "code",
   "execution_count": 37,
   "id": "3f9b2822-cfd2-4876-b144-5fd144399a28",
   "metadata": {},
   "outputs": [],
   "source": [
    "class pwskills1:\n",
    "    def __init__(self , phone_number , email_id, student_id):\n",
    "        self.phone_number = phone_number\n",
    "        self.email_id = email_id\n",
    "        self.student_id = student_id\n",
    "        \n",
    "    def return_student_details(self):\n",
    "        return self.phone_number, self.email_id , self.student_id"
   ]
  },
  {
   "cell_type": "code",
   "execution_count": 44,
   "id": "4765c59d-6369-400f-9f6b-4ac9e1eb36db",
   "metadata": {},
   "outputs": [],
   "source": [
    "sohan = pwskills1(6465454545456,\"sohanQgmail.com\",102)"
   ]
  },
  {
   "cell_type": "code",
   "execution_count": 45,
   "id": "c54ac6da-31a5-4f3b-ab4d-4649a1d1fa56",
   "metadata": {},
   "outputs": [
    {
     "data": {
      "text/plain": [
       "6465454545456"
      ]
     },
     "execution_count": 45,
     "metadata": {},
     "output_type": "execute_result"
    }
   ],
   "source": [
    "sohan.phone_number"
   ]
  },
  {
   "cell_type": "code",
   "execution_count": 46,
   "id": "a5b81ed3-6fdb-4a39-ab7c-bcad1c36d6c0",
   "metadata": {},
   "outputs": [
    {
     "data": {
      "text/plain": [
       "'sohanQgmail.com'"
      ]
     },
     "execution_count": 46,
     "metadata": {},
     "output_type": "execute_result"
    }
   ],
   "source": [
    "sohan.email_id"
   ]
  },
  {
   "cell_type": "code",
   "execution_count": 48,
   "id": "88e47861-208a-48f4-a6a5-fc9da9337e7d",
   "metadata": {},
   "outputs": [
    {
     "data": {
      "text/plain": [
       "(6465454545456, 'sohanQgmail.com', 102)"
      ]
     },
     "execution_count": 48,
     "metadata": {},
     "output_type": "execute_result"
    }
   ],
   "source": [
    "sohan.return_student_details()"
   ]
  },
  {
   "cell_type": "code",
   "execution_count": null,
   "id": "68a62100-2801-41e5-bb14-d888b865c6d1",
   "metadata": {},
   "outputs": [],
   "source": []
  },
  {
   "cell_type": "code",
   "execution_count": 38,
   "id": "3bf8fca8-5aed-46f3-8dc4-34f1d088a17b",
   "metadata": {},
   "outputs": [],
   "source": [
    "rohan = pwskills1(354434464, \"rslan20333Qgmail.com\",101)"
   ]
  },
  {
   "cell_type": "code",
   "execution_count": 39,
   "id": "02f73208-916b-4fae-88b2-bf90bd9bee65",
   "metadata": {},
   "outputs": [
    {
     "data": {
      "text/plain": [
       "354434464"
      ]
     },
     "execution_count": 39,
     "metadata": {},
     "output_type": "execute_result"
    }
   ],
   "source": [
    "rohan.phone_number"
   ]
  },
  {
   "cell_type": "code",
   "execution_count": 40,
   "id": "2b4be84e-85f7-4231-b7ed-d1663030460d",
   "metadata": {},
   "outputs": [
    {
     "data": {
      "text/plain": [
       "'rslan20333Qgmail.com'"
      ]
     },
     "execution_count": 40,
     "metadata": {},
     "output_type": "execute_result"
    }
   ],
   "source": [
    "rohan.email_id"
   ]
  },
  {
   "cell_type": "code",
   "execution_count": 41,
   "id": "78b27943-5af6-4f4f-9c04-5428fc8dc009",
   "metadata": {},
   "outputs": [
    {
     "data": {
      "text/plain": [
       "101"
      ]
     },
     "execution_count": 41,
     "metadata": {},
     "output_type": "execute_result"
    }
   ],
   "source": [
    "rohan.student_id"
   ]
  },
  {
   "cell_type": "code",
   "execution_count": 42,
   "id": "129c44b2-c539-4a2a-ae0a-185f7e3a029d",
   "metadata": {},
   "outputs": [
    {
     "data": {
      "text/plain": [
       "(354434464, 'rslan20333Qgmail.com', 101)"
      ]
     },
     "execution_count": 42,
     "metadata": {},
     "output_type": "execute_result"
    }
   ],
   "source": [
    "rohan.return_student_details()"
   ]
  },
  {
   "cell_type": "code",
   "execution_count": 49,
   "id": "c8506f6c-454b-4635-b95c-bf4b687b1bbe",
   "metadata": {},
   "outputs": [],
   "source": [
    "class pwskills2:\n",
    "    def __init__(abd , phone_number , email_id, student_id):\n",
    "        abd.phone_number = phone_number\n",
    "        abd.email_id = email_id\n",
    "        abd.student_id = student_id\n",
    "        \n",
    "    def return_student_details(abd):\n",
    "        return abd.phone_number, abd.email_id , abd.student_id"
   ]
  },
  {
   "cell_type": "code",
   "execution_count": 50,
   "id": "c000efdb-d767-4188-bdee-6b8088fdc14a",
   "metadata": {},
   "outputs": [],
   "source": [
    "aboodi = pwskills2(488465486898, \"aboodi@gmail.com\" , 234)"
   ]
  },
  {
   "cell_type": "code",
   "execution_count": 51,
   "id": "a43fdcda-5ede-4fdb-9da6-4aac6f3cce97",
   "metadata": {},
   "outputs": [
    {
     "data": {
      "text/plain": [
       "488465486898"
      ]
     },
     "execution_count": 51,
     "metadata": {},
     "output_type": "execute_result"
    }
   ],
   "source": [
    "aboodi.phone_number"
   ]
  },
  {
   "cell_type": "code",
   "execution_count": 52,
   "id": "fdce6782-47a0-48c9-95fa-9e887de93a5f",
   "metadata": {},
   "outputs": [
    {
     "data": {
      "text/plain": [
       "(488465486898, 'aboodi@gmail.com', 234)"
      ]
     },
     "execution_count": 52,
     "metadata": {},
     "output_type": "execute_result"
    }
   ],
   "source": [
    "aboodi.return_student_details()"
   ]
  },
  {
   "cell_type": "code",
   "execution_count": 65,
   "id": "51dbeb3b-3d9c-4af0-a46a-1d810d363c9a",
   "metadata": {},
   "outputs": [],
   "source": [
    "class pwskills3:\n",
    "    def __init__(abd , phone_number , email_id, student_id):\n",
    "        abd.phone_number1 = phone_number\n",
    "        abd.email_id = email_id\n",
    "        abd.student_id = student_id\n",
    "        \n",
    "    def return_student_details(abd):\n",
    "        return abd.phone_number, abd.email_id , abd.student_id"
   ]
  },
  {
   "cell_type": "code",
   "execution_count": 66,
   "id": "956fe95d-189d-4362-822f-97f42835cf71",
   "metadata": {},
   "outputs": [],
   "source": [
    "rohan = pwskills3(534654564,\"rohanQgmail.com\" ,156)"
   ]
  },
  {
   "cell_type": "code",
   "execution_count": 67,
   "id": "bf36e882-c784-4188-a9d9-922e8996ac6e",
   "metadata": {},
   "outputs": [
    {
     "data": {
      "text/plain": [
       "534654564"
      ]
     },
     "execution_count": 67,
     "metadata": {},
     "output_type": "execute_result"
    }
   ],
   "source": [
    "rohan.phone_number1"
   ]
  },
  {
   "cell_type": "markdown",
   "id": "9fb35f9a-9ece-41e8-bba9-14966bb891b3",
   "metadata": {},
   "source": [
    "# Polymorphisim"
   ]
  },
  {
   "cell_type": "code",
   "execution_count": 68,
   "id": "dddb5314-f89d-4a75-a832-8af6fcda7f1a",
   "metadata": {},
   "outputs": [],
   "source": [
    "def test(a,b):\n",
    "    return a+b"
   ]
  },
  {
   "cell_type": "code",
   "execution_count": 69,
   "id": "354c6d32-69d5-450f-a785-2464a189791e",
   "metadata": {},
   "outputs": [
    {
     "data": {
      "text/plain": [
       "9"
      ]
     },
     "execution_count": 69,
     "metadata": {},
     "output_type": "execute_result"
    }
   ],
   "source": [
    "test(4,5)"
   ]
  },
  {
   "cell_type": "code",
   "execution_count": 71,
   "id": "ca6e71f7-3d86-4943-8635-dac11b89403a",
   "metadata": {},
   "outputs": [
    {
     "data": {
      "text/plain": [
       "'abdul lah'"
      ]
     },
     "execution_count": 71,
     "metadata": {},
     "output_type": "execute_result"
    }
   ],
   "source": [
    "test(\"abdul \",\"lah\")"
   ]
  },
  {
   "cell_type": "code",
   "execution_count": 73,
   "id": "d91aee7e-ebe8-48b7-90e7-b655418c1efd",
   "metadata": {},
   "outputs": [
    {
     "data": {
      "text/plain": [
       "[1, 2, 3, 1, 3, 4, 5]"
      ]
     },
     "execution_count": 73,
     "metadata": {},
     "output_type": "execute_result"
    }
   ],
   "source": [
    "test([1,2,3],[1,3,4,5])"
   ]
  },
  {
   "cell_type": "code",
   "execution_count": 74,
   "id": "a40ec955-7d60-4d9d-a3f1-08834f685369",
   "metadata": {},
   "outputs": [],
   "source": [
    "class data_scince:\n",
    "    def syllabus(self) :\n",
    "        print(\"this is my method for data scince syllbaus \")"
   ]
  },
  {
   "cell_type": "code",
   "execution_count": 75,
   "id": "965826d0-8c3a-4d26-af2c-cc332da9d0da",
   "metadata": {},
   "outputs": [],
   "source": [
    "class web_dev :\n",
    "    def syllabus(self):\n",
    "        print(\"thi sis my method for web dev \")"
   ]
  },
  {
   "cell_type": "code",
   "execution_count": 76,
   "id": "bfc39868-af9e-42ff-9a5d-b38425191db5",
   "metadata": {},
   "outputs": [],
   "source": [
    "def class_parcer(class_obj) :\n",
    "    for i in class_obj :\n",
    "        i.syllabus()"
   ]
  },
  {
   "cell_type": "code",
   "execution_count": 77,
   "id": "1c11fa67-3251-4099-a490-3427b9f9c22d",
   "metadata": {},
   "outputs": [],
   "source": [
    "obj_data_scince = data_scince()"
   ]
  },
  {
   "cell_type": "code",
   "execution_count": 78,
   "id": "3fd76f09-29c4-4221-b30f-6cdd705dc53c",
   "metadata": {},
   "outputs": [],
   "source": [
    "obj_web_dev = web_dev()"
   ]
  },
  {
   "cell_type": "code",
   "execution_count": 79,
   "id": "5f719fa6-5a61-4df5-86ab-164cb73feda8",
   "metadata": {},
   "outputs": [],
   "source": [
    "class_obj = [obj_data_scince , obj_web_dev]"
   ]
  },
  {
   "cell_type": "code",
   "execution_count": 81,
   "id": "95c972ce-68e9-4ff9-a655-a4fdbd7a594e",
   "metadata": {},
   "outputs": [
    {
     "name": "stdout",
     "output_type": "stream",
     "text": [
      "this is my method for data scince syllbaus\n",
      "thi sis my method for web dev \n"
     ]
    }
   ],
   "source": [
    "class_parcer(class_obj)"
   ]
  },
  {
   "cell_type": "markdown",
   "id": "b54c88c1-e53c-4689-986b-778dab4e96ca",
   "metadata": {},
   "source": [
    "# Encapsulation"
   ]
  },
  {
   "cell_type": "code",
   "execution_count": 82,
   "id": "64cf500a-3fe8-4e0c-b182-936b8a99d7e8",
   "metadata": {},
   "outputs": [],
   "source": [
    "class test :\n",
    "    def __init__(self , a,b) :\n",
    "        self.a = a\n",
    "        self.b = b"
   ]
  },
  {
   "cell_type": "code",
   "execution_count": 84,
   "id": "dc9291bd-9276-4b0b-aa42-456298be08c0",
   "metadata": {},
   "outputs": [],
   "source": [
    "t = test(54,64)"
   ]
  },
  {
   "cell_type": "code",
   "execution_count": 85,
   "id": "2ba02127-38df-465a-bcd9-cc4ed049f782",
   "metadata": {},
   "outputs": [
    {
     "data": {
      "text/plain": [
       "54"
      ]
     },
     "execution_count": 85,
     "metadata": {},
     "output_type": "execute_result"
    }
   ],
   "source": [
    "t.a"
   ]
  },
  {
   "cell_type": "code",
   "execution_count": 86,
   "id": "17f9168c-dc8e-4047-91d2-2b41452050f3",
   "metadata": {},
   "outputs": [
    {
     "data": {
      "text/plain": [
       "64"
      ]
     },
     "execution_count": 86,
     "metadata": {},
     "output_type": "execute_result"
    }
   ],
   "source": [
    "t.b"
   ]
  },
  {
   "cell_type": "code",
   "execution_count": 87,
   "id": "7731a0d9-651d-4cdc-94db-38c3548cc0e0",
   "metadata": {},
   "outputs": [],
   "source": [
    "t.a = 234"
   ]
  },
  {
   "cell_type": "code",
   "execution_count": 88,
   "id": "9c6e094b-10a4-4665-b168-17b9f79a6871",
   "metadata": {},
   "outputs": [
    {
     "data": {
      "text/plain": [
       "234"
      ]
     },
     "execution_count": 88,
     "metadata": {},
     "output_type": "execute_result"
    }
   ],
   "source": [
    "t.a"
   ]
  },
  {
   "cell_type": "code",
   "execution_count": 109,
   "id": "0c0987f3-810d-4d14-9b2c-edbd82c445bf",
   "metadata": {},
   "outputs": [],
   "source": [
    "class car :\n",
    "    def __init__(self , year , make , model , speed ) :\n",
    "        self.__year = year\n",
    "        self.__make = make\n",
    "        self.__model = model\n",
    "        self.__speed = 0\n",
    "    \n",
    "    def set_speed(self , speed) :\n",
    "        self.__speed = 0 if speed < 0 else speed\n",
    "        \n",
    "    \n",
    "    def get_speed(self) :\n",
    "        return self.__speed"
   ]
  },
  {
   "cell_type": "code",
   "execution_count": 106,
   "id": "86439944-cc37-460d-a1a7-8e7258473805",
   "metadata": {},
   "outputs": [],
   "source": [
    "obj_car.set_speed(-454)"
   ]
  },
  {
   "cell_type": "code",
   "execution_count": 107,
   "id": "50e10dc5-ab41-4fb3-ab87-a9989117dd41",
   "metadata": {},
   "outputs": [],
   "source": [
    "obj_car.set_speed(56465)"
   ]
  },
  {
   "cell_type": "code",
   "execution_count": null,
   "id": "2b264e6a-42f6-4c29-92f5-3df9e3894007",
   "metadata": {},
   "outputs": [],
   "source": []
  },
  {
   "cell_type": "code",
   "execution_count": 110,
   "id": "da1b9f7b-c88a-4504-a701-38fb8562d499",
   "metadata": {},
   "outputs": [],
   "source": [
    "obj_car = car(2021 , 'toyota' , 'inova', 123)"
   ]
  },
  {
   "cell_type": "code",
   "execution_count": 95,
   "id": "16ca994b-251f-40c6-ab55-b6b8ee6ebfc5",
   "metadata": {},
   "outputs": [],
   "source": [
    "obj_car._car__year = 2023"
   ]
  },
  {
   "cell_type": "code",
   "execution_count": 96,
   "id": "68a18603-da55-46c7-8381-2402210a6173",
   "metadata": {},
   "outputs": [
    {
     "data": {
      "text/plain": [
       "2023"
      ]
     },
     "execution_count": 96,
     "metadata": {},
     "output_type": "execute_result"
    }
   ],
   "source": [
    "obj_car._car__year"
   ]
  },
  {
   "cell_type": "code",
   "execution_count": 108,
   "id": "eabd6222-bd0d-4a87-84a8-707b58b33bb8",
   "metadata": {},
   "outputs": [
    {
     "data": {
      "text/plain": [
       "56465"
      ]
     },
     "execution_count": 108,
     "metadata": {},
     "output_type": "execute_result"
    }
   ],
   "source": [
    "obj_car._car__speed"
   ]
  },
  {
   "cell_type": "code",
   "execution_count": 111,
   "id": "ffea5079-6b78-4d8f-bbb5-064a7f8cd8ba",
   "metadata": {},
   "outputs": [
    {
     "data": {
      "text/plain": [
       "0"
      ]
     },
     "execution_count": 111,
     "metadata": {},
     "output_type": "execute_result"
    }
   ],
   "source": [
    "obj_car.get_speed()"
   ]
  },
  {
   "cell_type": "code",
   "execution_count": 113,
   "id": "cc4ff056-a231-46d4-8290-f80eb99b2235",
   "metadata": {},
   "outputs": [],
   "source": [
    "class bank_account():\n",
    "    \n",
    "    def __init__(self , balance ):\n",
    "        self.__balance = balance\n",
    "        \n",
    "    def deposit(self , amount ) :\n",
    "        self.__balance = self.__balance + amount\n",
    "        \n",
    "    def withdraw(self , amount) :\n",
    "        if self.__balance >= amount : \n",
    "            self.__balance = self.__balance - amount\n",
    "            \n",
    "            return True\n",
    "        else :\n",
    "            return False\n",
    "    def get_balance(self) :\n",
    "        return self.__balance\n",
    "        "
   ]
  },
  {
   "cell_type": "code",
   "execution_count": 114,
   "id": "16041803-540e-4696-a9de-40ae6b21b20f",
   "metadata": {},
   "outputs": [],
   "source": [
    "obj_bank_account = bank_account(1000)"
   ]
  },
  {
   "cell_type": "code",
   "execution_count": 115,
   "id": "2eb64fac-985c-4408-bb8a-59592e70b5a8",
   "metadata": {},
   "outputs": [
    {
     "data": {
      "text/plain": [
       "1000"
      ]
     },
     "execution_count": 115,
     "metadata": {},
     "output_type": "execute_result"
    }
   ],
   "source": [
    "obj_bank_account.get_balance()"
   ]
  },
  {
   "cell_type": "code",
   "execution_count": 116,
   "id": "1b2d600d-e256-4b0e-95a3-38cb64d3b160",
   "metadata": {},
   "outputs": [],
   "source": [
    "obj_bank_account = bank_account(10060)"
   ]
  },
  {
   "cell_type": "code",
   "execution_count": 117,
   "id": "264c9e57-21e9-49e2-82f8-9078d9311895",
   "metadata": {},
   "outputs": [],
   "source": [
    "obj_bank_account.deposit(10000)"
   ]
  },
  {
   "cell_type": "code",
   "execution_count": 118,
   "id": "5ade02d9-ff83-4923-81b4-dd69f7e29bed",
   "metadata": {},
   "outputs": [
    {
     "data": {
      "text/plain": [
       "20060"
      ]
     },
     "execution_count": 118,
     "metadata": {},
     "output_type": "execute_result"
    }
   ],
   "source": [
    "obj_bank_account.get_balance()"
   ]
  },
  {
   "cell_type": "code",
   "execution_count": 119,
   "id": "5bd5b102-c0f4-44eb-aa72-2e7e95cd6077",
   "metadata": {},
   "outputs": [
    {
     "data": {
      "text/plain": [
       "True"
      ]
     },
     "execution_count": 119,
     "metadata": {},
     "output_type": "execute_result"
    }
   ],
   "source": [
    "obj_bank_account.withdraw(5000)"
   ]
  },
  {
   "cell_type": "code",
   "execution_count": 120,
   "id": "39268823-5747-4027-bbd1-10baee35d536",
   "metadata": {},
   "outputs": [
    {
     "data": {
      "text/plain": [
       "15060"
      ]
     },
     "execution_count": 120,
     "metadata": {},
     "output_type": "execute_result"
    }
   ],
   "source": [
    "obj_bank_account.get_balance()"
   ]
  },
  {
   "cell_type": "markdown",
   "id": "c182b454-acfb-4768-a400-5cd324219d8a",
   "metadata": {},
   "source": [
    "# Inheritance"
   ]
  },
  {
   "cell_type": "code",
   "execution_count": 121,
   "id": "152b2d3f-3023-4f2f-8d8f-888f13f12742",
   "metadata": {},
   "outputs": [],
   "source": [
    "class parent:\n",
    "    \n",
    "    def test_parent(self) :\n",
    "        print('this is my parent class')"
   ]
  },
  {
   "cell_type": "code",
   "execution_count": 123,
   "id": "760f0549-1091-4b7d-a3e1-adfffc457fa6",
   "metadata": {},
   "outputs": [],
   "source": [
    "class child(parent) :\n",
    "    pass"
   ]
  },
  {
   "cell_type": "code",
   "execution_count": 124,
   "id": "52b95aaa-9c55-449e-bcce-c70f1b9ebf6d",
   "metadata": {},
   "outputs": [],
   "source": [
    "child_obj = child()"
   ]
  },
  {
   "cell_type": "code",
   "execution_count": 126,
   "id": "0422bbb6-5ceb-4a8a-a958-68fffe4a44f0",
   "metadata": {},
   "outputs": [
    {
     "name": "stdout",
     "output_type": "stream",
     "text": [
      "this is my parent class\n"
     ]
    }
   ],
   "source": [
    "child_obj.test_parent()"
   ]
  },
  {
   "cell_type": "code",
   "execution_count": 127,
   "id": "eb6c4d74-aba1-4e34-866d-e032d00fd80f",
   "metadata": {},
   "outputs": [],
   "source": [
    "class class1 :\n",
    "    def test_class1(self):\n",
    "        print(\"this is my class 1\")\n"
   ]
  },
  {
   "cell_type": "code",
   "execution_count": 130,
   "id": "7603026b-030d-4415-ab63-674705ee95ce",
   "metadata": {},
   "outputs": [],
   "source": [
    "class class2(class1):\n",
    "    def test_class2(self):\n",
    "        print(\"this is my class2\")"
   ]
  },
  {
   "cell_type": "code",
   "execution_count": 131,
   "id": "eca4588f-4dca-487c-9db6-31d21a8d20f4",
   "metadata": {},
   "outputs": [],
   "source": [
    "class class3(class2):\n",
    "    def test_class3(self):\n",
    "        print(\"this is my class 3\")"
   ]
  },
  {
   "cell_type": "code",
   "execution_count": 132,
   "id": "78422203-240d-4295-8142-9b5a5b819602",
   "metadata": {},
   "outputs": [],
   "source": [
    "obj_class3 = class3()"
   ]
  },
  {
   "cell_type": "code",
   "execution_count": 133,
   "id": "488ab4eb-a8cb-4f3c-bb63-2983b6ca82fb",
   "metadata": {},
   "outputs": [
    {
     "name": "stdout",
     "output_type": "stream",
     "text": [
      "this is my class 1\n"
     ]
    }
   ],
   "source": [
    "obj_class3.test_class1()"
   ]
  },
  {
   "cell_type": "code",
   "execution_count": 135,
   "id": "1dbb1dae-b5ae-47cc-b633-bafb806936e0",
   "metadata": {},
   "outputs": [
    {
     "name": "stdout",
     "output_type": "stream",
     "text": [
      "this is my class2\n"
     ]
    }
   ],
   "source": [
    "obj_class3.test_class2()"
   ]
  },
  {
   "cell_type": "code",
   "execution_count": 136,
   "id": "28c0116d-9a74-48ae-a203-273a3d98a849",
   "metadata": {},
   "outputs": [
    {
     "name": "stdout",
     "output_type": "stream",
     "text": [
      "this is my class 3\n"
     ]
    }
   ],
   "source": [
    "obj_class3.test_class3()"
   ]
  },
  {
   "cell_type": "code",
   "execution_count": 137,
   "id": "24ac6ca6-17f2-4d5e-ad38-fe6123f0d078",
   "metadata": {},
   "outputs": [],
   "source": [
    "class class1:\n",
    "    def test_class1(self):\n",
    "        print(\"this is my class 1\")"
   ]
  },
  {
   "cell_type": "code",
   "execution_count": 138,
   "id": "34f1444f-ee61-4af0-9c36-1e38293a56de",
   "metadata": {},
   "outputs": [],
   "source": [
    "class class2:\n",
    "    def test_class2(self):\n",
    "        print(\"this is my class 2\")"
   ]
  },
  {
   "cell_type": "code",
   "execution_count": 139,
   "id": "3b47919e-5838-4bf3-8ec0-e28903551b0f",
   "metadata": {},
   "outputs": [],
   "source": [
    "class class3(class1,class2) :\n",
    "    pass"
   ]
  },
  {
   "cell_type": "code",
   "execution_count": 140,
   "id": "a160da79-2d11-44f8-b28d-1c289c250a50",
   "metadata": {},
   "outputs": [],
   "source": [
    "obj_class3 = class3()"
   ]
  },
  {
   "cell_type": "code",
   "execution_count": 141,
   "id": "17bddc60-420c-4123-b524-41f998e12556",
   "metadata": {},
   "outputs": [
    {
     "name": "stdout",
     "output_type": "stream",
     "text": [
      "this is my class 1\n"
     ]
    }
   ],
   "source": [
    "obj_class3.test_class1()"
   ]
  },
  {
   "cell_type": "code",
   "execution_count": 143,
   "id": "f0f47323-e50f-4d1e-8ee1-f8d926dab70e",
   "metadata": {},
   "outputs": [
    {
     "name": "stdout",
     "output_type": "stream",
     "text": [
      "this is my class 2\n"
     ]
    }
   ],
   "source": [
    "obj_class3.test_class2()"
   ]
  },
  {
   "cell_type": "markdown",
   "id": "b63a8a0c-f61a-49bd-a079-fbad342a2598",
   "metadata": {},
   "source": [
    "# Abstraction"
   ]
  },
  {
   "cell_type": "code",
   "execution_count": 147,
   "id": "42624439-3da9-4f57-9bee-0bc58fc887ad",
   "metadata": {},
   "outputs": [],
   "source": [
    "import abc\n",
    "\n",
    "class pwskills: \n",
    "    \n",
    "    @abc.abstractmethod\n",
    "    def student_details(self):\n",
    "        pass\n",
    "    \n",
    "    @abc.abstractmethod\n",
    "    def student_assignment(self) :\n",
    "        pass\n",
    "    \n",
    "    @abc.abstractmethod\n",
    "    def student_mark(self):\n",
    "        pass"
   ]
  },
  {
   "cell_type": "code",
   "execution_count": 148,
   "id": "f97be6a8-6d96-4e27-8e18-e9d62bf78d0c",
   "metadata": {},
   "outputs": [],
   "source": [
    "class data_scince(pwskills):\n",
    "    \n",
    "    def student_details(self):\n",
    "        return \"it will try to returne a details of data siemce masters \"\n",
    "    \n",
    "    def student_assignment(self):\n",
    "        return \"it will return a details of student assignment for data sience masters 0\""
   ]
  },
  {
   "cell_type": "code",
   "execution_count": 149,
   "id": "67bf52e8-2230-4d92-9bfb-2d90a6572166",
   "metadata": {},
   "outputs": [],
   "source": [
    "class web_dev(pwskills):\n",
    "    def student_details(self):\n",
    "        return \"this will return a details of web dev\"\n",
    "    \n",
    "    def student_mark(self):\n",
    "        return \"this will return a marks of web dev class\""
   ]
  },
  {
   "cell_type": "code",
   "execution_count": 153,
   "id": "f8a10517-21c0-4329-a2b0-6876d2ae7ede",
   "metadata": {},
   "outputs": [
    {
     "data": {
      "text/plain": [
       "'it will try to returne a details of data siemce masters '"
      ]
     },
     "execution_count": 153,
     "metadata": {},
     "output_type": "execute_result"
    }
   ],
   "source": [
    "ds = data_scince()\n",
    "ds.student_details()"
   ]
  },
  {
   "cell_type": "code",
   "execution_count": 154,
   "id": "086a0166-23ff-474f-9df3-bead2621741a",
   "metadata": {},
   "outputs": [
    {
     "data": {
      "text/plain": [
       "'this will return a details of web dev'"
      ]
     },
     "execution_count": 154,
     "metadata": {},
     "output_type": "execute_result"
    }
   ],
   "source": [
    "wb = web_dev()\n",
    "wb.student_details()"
   ]
  },
  {
   "cell_type": "markdown",
   "id": "30cc42e0-75d6-4892-817e-cc666d811141",
   "metadata": {},
   "source": [
    "# Decorators"
   ]
  },
  {
   "cell_type": "code",
   "execution_count": 3,
   "id": "7b259340-33b8-48b6-b11e-f520dd08220e",
   "metadata": {},
   "outputs": [],
   "source": [
    "def test():\n",
    "    print(\"this is the start of my function\")\n",
    "    print(4+5)\n",
    "    print(\"This is the end of my Function\")"
   ]
  },
  {
   "cell_type": "code",
   "execution_count": 4,
   "id": "e93b1ef7-67a8-446d-b89a-46640aaf0a95",
   "metadata": {},
   "outputs": [
    {
     "name": "stdout",
     "output_type": "stream",
     "text": [
      "this is the start of my function\n",
      "9\n",
      "This is the end of my Function\n"
     ]
    }
   ],
   "source": [
    "test()"
   ]
  },
  {
   "cell_type": "code",
   "execution_count": 19,
   "id": "8a0458f2-91ee-45fc-92bd-4b36f33bf887",
   "metadata": {},
   "outputs": [],
   "source": [
    "def deco(func):\n",
    "    \n",
    "    def inner_deco():\n",
    "        \n",
    "        print(\"thisis the start of my function\")\n",
    "        func()\n",
    "        print(\"this is the end of my function\")\n",
    "    \n",
    "    return inner_deco\n",
    "    "
   ]
  },
  {
   "cell_type": "code",
   "execution_count": 20,
   "id": "173acb5c-4ddb-401d-8363-ea6e4acafe83",
   "metadata": {},
   "outputs": [],
   "source": [
    "@deco\n",
    "def test1():\n",
    "    print(4+5)"
   ]
  },
  {
   "cell_type": "code",
   "execution_count": 21,
   "id": "0e29cb6e-e0ba-4f88-a6d9-c964571409a9",
   "metadata": {},
   "outputs": [
    {
     "name": "stdout",
     "output_type": "stream",
     "text": [
      "thisis the start of my function\n",
      "9\n",
      "this is the end of my function\n"
     ]
    }
   ],
   "source": [
    "test1()"
   ]
  },
  {
   "cell_type": "code",
   "execution_count": 26,
   "id": "384ba2b6-f984-4d14-81d1-c8ffcc302b49",
   "metadata": {},
   "outputs": [],
   "source": [
    "import time\n",
    "\n",
    "def timer_test(func):\n",
    "    def timer_test_inner():\n",
    "        start = time.time()\n",
    "        func()\n",
    "        end = time.time()\n",
    "        print(end - start)\n",
    "    return timer_test_inner"
   ]
  },
  {
   "cell_type": "code",
   "execution_count": 27,
   "id": "788fa29d-b468-4caf-b39a-a16e6fe9e26d",
   "metadata": {},
   "outputs": [],
   "source": [
    "@timer_test\n",
    "def test2():\n",
    "    print(46+79)"
   ]
  },
  {
   "cell_type": "code",
   "execution_count": 28,
   "id": "af9c79c8-dd3b-4d78-b14e-869eb0fd4fe9",
   "metadata": {},
   "outputs": [
    {
     "name": "stdout",
     "output_type": "stream",
     "text": [
      "125\n",
      "4.458427429199219e-05\n"
     ]
    }
   ],
   "source": [
    "test2()"
   ]
  },
  {
   "cell_type": "code",
   "execution_count": 37,
   "id": "5554a0c8-a08e-4903-9f76-6b1cdb052496",
   "metadata": {},
   "outputs": [],
   "source": [
    "@timer_test\n",
    "def test3():\n",
    "    for i in range(747474700):\n",
    "        pass"
   ]
  },
  {
   "cell_type": "code",
   "execution_count": 38,
   "id": "68a94f81-ea96-4e00-9fef-d6fcadb60e04",
   "metadata": {},
   "outputs": [
    {
     "name": "stdout",
     "output_type": "stream",
     "text": [
      "18.60269522666931\n"
     ]
    }
   ],
   "source": [
    "test3()"
   ]
  },
  {
   "cell_type": "markdown",
   "id": "1228fa06-109c-4ffa-b083-c0d3b66f6f24",
   "metadata": {},
   "source": [
    "# class Methods"
   ]
  },
  {
   "cell_type": "code",
   "execution_count": 75,
   "id": "ff3cfd04-8044-4b43-a749-5c73a904e77d",
   "metadata": {},
   "outputs": [],
   "source": [
    "class pwskills:\n",
    "    def __init__(self, name, email_id):\n",
    "        \n",
    "        self.name = name\n",
    "        self.email_id = email_id\n",
    "        \n",
    "    def student_details(self):\n",
    "        print(self.name, self.email_id)"
   ]
  },
  {
   "cell_type": "code",
   "execution_count": 76,
   "id": "d93fde05-4f90-4b1e-be14-fd6437d29193",
   "metadata": {},
   "outputs": [],
   "source": [
    "pw = pwskills(\"sudh\", \"sudh@gmail.com\")"
   ]
  },
  {
   "cell_type": "code",
   "execution_count": 77,
   "id": "5a3a3a78-6229-40a0-a935-d4de4ed2c3a5",
   "metadata": {},
   "outputs": [
    {
     "data": {
      "text/plain": [
       "'sudh'"
      ]
     },
     "execution_count": 77,
     "metadata": {},
     "output_type": "execute_result"
    }
   ],
   "source": [
    "pw.name"
   ]
  },
  {
   "cell_type": "code",
   "execution_count": 78,
   "id": "1bf9d113-8db3-494d-b2f0-775197042452",
   "metadata": {},
   "outputs": [
    {
     "data": {
      "text/plain": [
       "'sudh@gmail.com'"
      ]
     },
     "execution_count": 78,
     "metadata": {},
     "output_type": "execute_result"
    }
   ],
   "source": [
    "pw.email_id"
   ]
  },
  {
   "cell_type": "code",
   "execution_count": 79,
   "id": "b87260e9-7b42-4256-8b9d-4cd5e00c4d0e",
   "metadata": {},
   "outputs": [
    {
     "name": "stdout",
     "output_type": "stream",
     "text": [
      "sudh sudh@gmail.com\n"
     ]
    }
   ],
   "source": [
    "pw.student_details()"
   ]
  },
  {
   "cell_type": "code",
   "execution_count": 101,
   "id": "3fe08ec4-ec80-4723-9c8a-2a2125ef5966",
   "metadata": {},
   "outputs": [],
   "source": [
    "class pwskills1:\n",
    "    \n",
    "    def __init__(self, name1, email1):\n",
    "        self.name = name1\n",
    "        self.email_id = email1\n",
    "        \n",
    "    @classmethod   \n",
    "    def details(cls , name1 , email1):\n",
    "        return cls(name1, email1)\n",
    "    \n",
    "    def student_details(self):\n",
    "        print(self.name, self.email_id)"
   ]
  },
  {
   "cell_type": "code",
   "execution_count": 102,
   "id": "27148a85-33f1-484d-9f0d-0930dbdf684a",
   "metadata": {},
   "outputs": [
    {
     "data": {
      "text/plain": [
       "<__main__.pwskills1 at 0x7f63ffdc8100>"
      ]
     },
     "execution_count": 102,
     "metadata": {},
     "output_type": "execute_result"
    }
   ],
   "source": [
    "# in this way i will be able to call the function details dirctly thrwo the main class without definig an object\n",
    "pwskills1.details(\"abod\" , \"abo@gmail.com\")"
   ]
  },
  {
   "cell_type": "code",
   "execution_count": 103,
   "id": "ce814f6b-2c1a-4774-b8ea-4cf871fec979",
   "metadata": {},
   "outputs": [],
   "source": [
    "pw1 = pwskills1.details(\"abod\", \"abo@gmail.com\")"
   ]
  },
  {
   "cell_type": "code",
   "execution_count": 104,
   "id": "6ca6a6fd-7e48-455c-b0c6-81651952473a",
   "metadata": {},
   "outputs": [
    {
     "data": {
      "text/plain": [
       "'abod'"
      ]
     },
     "execution_count": 104,
     "metadata": {},
     "output_type": "execute_result"
    }
   ],
   "source": [
    "pw1.name"
   ]
  },
  {
   "cell_type": "code",
   "execution_count": 105,
   "id": "8f1d1135-3cab-45d1-a779-4f1491fe4c1f",
   "metadata": {},
   "outputs": [
    {
     "data": {
      "text/plain": [
       "'abo@gmail.com'"
      ]
     },
     "execution_count": 105,
     "metadata": {},
     "output_type": "execute_result"
    }
   ],
   "source": [
    "pw1.email_id"
   ]
  },
  {
   "cell_type": "code",
   "execution_count": 106,
   "id": "5aa34fcb-4a56-45fd-8727-230c047734e5",
   "metadata": {},
   "outputs": [
    {
     "name": "stdout",
     "output_type": "stream",
     "text": [
      "abod abo@gmail.com\n"
     ]
    }
   ],
   "source": [
    "pw1.student_details()"
   ]
  },
  {
   "cell_type": "code",
   "execution_count": 120,
   "id": "768f42c9-6525-47e8-bb7d-b86c34d1be17",
   "metadata": {},
   "outputs": [],
   "source": [
    "class pwskills2 :\n",
    "    \n",
    "    mobile_number = 123456789\n",
    "    \n",
    "    def __init__(self,name, email):\n",
    "        \n",
    "        self.name = name\n",
    "        self.email = email\n",
    "        \n",
    "    @classmethod\n",
    "    def change_number(cls, mobile):\n",
    "        pwskills2.mobile_number = mobile\n",
    "        \n",
    "    @classmethod\n",
    "    def details(cls, name, email):\n",
    "        return cls(name, email)\n",
    "    \n",
    "    def student_details(self):\n",
    "        print(self.name, self.email, pwskills2.mobile_number)"
   ]
  },
  {
   "cell_type": "code",
   "execution_count": 114,
   "id": "27afe54a-a06b-411d-9996-eee2d441d51e",
   "metadata": {},
   "outputs": [
    {
     "data": {
      "text/plain": [
       "123456789"
      ]
     },
     "execution_count": 114,
     "metadata": {},
     "output_type": "execute_result"
    }
   ],
   "source": [
    "pwskills2.mobile_number"
   ]
  },
  {
   "cell_type": "code",
   "execution_count": 115,
   "id": "1586f486-83b1-49e4-8f68-2a708748f4f2",
   "metadata": {},
   "outputs": [],
   "source": [
    "pw2= pwskills2.details(\"sohan\", \"sohan@gmail.com\")"
   ]
  },
  {
   "cell_type": "code",
   "execution_count": 116,
   "id": "f8406ae2-e9cd-40a3-bfc9-dfa1000789bd",
   "metadata": {},
   "outputs": [
    {
     "data": {
      "text/plain": [
       "123456789"
      ]
     },
     "execution_count": 116,
     "metadata": {},
     "output_type": "execute_result"
    }
   ],
   "source": [
    "pw2.mobile_number"
   ]
  },
  {
   "cell_type": "code",
   "execution_count": 117,
   "id": "1b030141-493c-4192-bf23-0f754269dfa0",
   "metadata": {},
   "outputs": [
    {
     "name": "stdout",
     "output_type": "stream",
     "text": [
      "sohan sohan@gmail.com 123456789\n"
     ]
    }
   ],
   "source": [
    "pw2.student_details()"
   ]
  },
  {
   "cell_type": "code",
   "execution_count": 118,
   "id": "337cb1e9-def5-473d-9adb-2167c8600f19",
   "metadata": {},
   "outputs": [],
   "source": [
    "pw2_obj = pwskills2(\"rohan\", \"rohan@gmail.com\")"
   ]
  },
  {
   "cell_type": "code",
   "execution_count": 119,
   "id": "9d186914-d138-4c81-bed7-c0f585a7eaea",
   "metadata": {},
   "outputs": [
    {
     "name": "stdout",
     "output_type": "stream",
     "text": [
      "rohan rohan@gmail.com 123456789\n"
     ]
    }
   ],
   "source": [
    "pw2_obj.student_details()"
   ]
  },
  {
   "cell_type": "code",
   "execution_count": 121,
   "id": "c04fff22-cb2c-49db-b169-b10ccc39a924",
   "metadata": {},
   "outputs": [
    {
     "data": {
      "text/plain": [
       "123456789"
      ]
     },
     "execution_count": 121,
     "metadata": {},
     "output_type": "execute_result"
    }
   ],
   "source": [
    "pwskills2.mobile_number"
   ]
  },
  {
   "cell_type": "code",
   "execution_count": 122,
   "id": "1044d177-a57d-4345-9f98-d9aedf3532ca",
   "metadata": {},
   "outputs": [],
   "source": [
    "pwskills2.change_number(233445667)"
   ]
  },
  {
   "cell_type": "code",
   "execution_count": 123,
   "id": "d23ad641-b64b-4234-8882-3cc5ed13b367",
   "metadata": {},
   "outputs": [
    {
     "data": {
      "text/plain": [
       "233445667"
      ]
     },
     "execution_count": 123,
     "metadata": {},
     "output_type": "execute_result"
    }
   ],
   "source": [
    "pwskills2.mobile_number"
   ]
  },
  {
   "cell_type": "code",
   "execution_count": 124,
   "id": "d2fb981e-2ed2-4d98-be2a-a279ad157184",
   "metadata": {},
   "outputs": [],
   "source": [
    "# -> so im able to change the mob number with class method "
   ]
  },
  {
   "cell_type": "code",
   "execution_count": 125,
   "id": "c080b856-005e-4932-98c3-42ea2a5a7d6f",
   "metadata": {},
   "outputs": [],
   "source": [
    "pw2_obj = pwskills2(\"sohel\", \"sohel@gmail.com\")"
   ]
  },
  {
   "cell_type": "code",
   "execution_count": 127,
   "id": "5c43dde8-8373-4fa5-9a72-e4a58f118931",
   "metadata": {},
   "outputs": [],
   "source": [
    "pw2_obj.change_number(4545454)"
   ]
  },
  {
   "cell_type": "code",
   "execution_count": 128,
   "id": "c5b08b78-73d1-46f6-87bb-40c0e697a452",
   "metadata": {},
   "outputs": [
    {
     "data": {
      "text/plain": [
       "4545454"
      ]
     },
     "execution_count": 128,
     "metadata": {},
     "output_type": "execute_result"
    }
   ],
   "source": [
    "pw2_obj.mobile_number"
   ]
  },
  {
   "cell_type": "code",
   "execution_count": 129,
   "id": "28d9c0cc-e034-4b64-a845-79b842f156b3",
   "metadata": {},
   "outputs": [
    {
     "data": {
      "text/plain": [
       "'sohel'"
      ]
     },
     "execution_count": 129,
     "metadata": {},
     "output_type": "execute_result"
    }
   ],
   "source": [
    "pw2_obj.name"
   ]
  },
  {
   "cell_type": "code",
   "execution_count": 133,
   "id": "c75687c9-f4b5-4f34-8ffb-cff03775bcd7",
   "metadata": {},
   "outputs": [],
   "source": [
    "class pwskills3 :\n",
    "    \n",
    "    mobile_number = 123456789\n",
    "    \n",
    "    def __init__(self,name, email):\n",
    "        \n",
    "        self.name = name\n",
    "        self.email = email\n",
    "        \n",
    "    @classmethod\n",
    "    def change_number(cls, mobile):\n",
    "        pwskills2.mobile_number = mobile\n",
    "        \n",
    "    @classmethod\n",
    "    def details(cls, name, email):\n",
    "        return cls(name, email)\n",
    "    \n",
    "    def student_details(self):\n",
    "        print(self.name, self.email, pwskills2.mobile_number)"
   ]
  },
  {
   "cell_type": "code",
   "execution_count": 134,
   "id": "d87649ff-4b54-494c-bb9a-451a54b771bc",
   "metadata": {},
   "outputs": [],
   "source": [
    "def course_details(cls , course_name):   # adding this func to class pwskills3\n",
    "    print(\"course details\" , course_name)"
   ]
  },
  {
   "cell_type": "code",
   "execution_count": 135,
   "id": "11c824b2-b281-4665-9f2a-f711bbdb3da3",
   "metadata": {},
   "outputs": [],
   "source": [
    "pwskills3.course_details = classmethod(course_details)"
   ]
  },
  {
   "cell_type": "code",
   "execution_count": 138,
   "id": "0fa8b72c-11ee-4814-b29d-874148152631",
   "metadata": {},
   "outputs": [
    {
     "name": "stdout",
     "output_type": "stream",
     "text": [
      "course details Data science master\n"
     ]
    }
   ],
   "source": [
    "pwskills3.course_details(\"Data science master\")"
   ]
  },
  {
   "cell_type": "code",
   "execution_count": 140,
   "id": "e65bedf4-28a4-4bb3-919f-972c7ba280fc",
   "metadata": {},
   "outputs": [],
   "source": [
    "# or creat an object\n",
    "pw3 = pwskills3(\"sudh\",\"sudh@gmail.com\")"
   ]
  },
  {
   "cell_type": "code",
   "execution_count": 142,
   "id": "f9d74936-c3fe-495f-93c7-f9197278e82d",
   "metadata": {},
   "outputs": [
    {
     "name": "stdout",
     "output_type": "stream",
     "text": [
      "course details Data science\n"
     ]
    }
   ],
   "source": [
    "pw3.course_details(\"Data science\")"
   ]
  },
  {
   "cell_type": "code",
   "execution_count": 143,
   "id": "b4e5c1f5-dc9f-4ad7-b19b-b7f4f8f33159",
   "metadata": {},
   "outputs": [],
   "source": [
    "class pwskills4 :\n",
    "    \n",
    "    mobile_number = 123456789\n",
    "    \n",
    "    def __init__(self,name, email):\n",
    "        \n",
    "        self.name = name\n",
    "        self.email = email\n",
    "        \n",
    "    @classmethod\n",
    "    def change_number(cls, mobile):\n",
    "        pwskills2.mobile_number = mobile\n",
    "        \n",
    "    @classmethod\n",
    "    def details(cls, name, email):\n",
    "        return cls(name, email)\n",
    "    \n",
    "    def student_details(self):\n",
    "        print(self.name, self.email, pwskills2.mobile_number)"
   ]
  },
  {
   "cell_type": "code",
   "execution_count": 144,
   "id": "1c8a345f-13e3-46b4-b56d-3a944753b9da",
   "metadata": {},
   "outputs": [],
   "source": [
    "del pwskills4.change_number # how to delet something in a class "
   ]
  },
  {
   "cell_type": "code",
   "execution_count": 145,
   "id": "b0440fec-b915-4fae-9c20-457fb27c9020",
   "metadata": {},
   "outputs": [],
   "source": [
    "#or \n",
    "delattr(pwskills4,\"details\")"
   ]
  },
  {
   "cell_type": "code",
   "execution_count": 146,
   "id": "077edb0b-115f-4aa5-b766-d51211b62b42",
   "metadata": {},
   "outputs": [
    {
     "data": {
      "text/plain": [
       "123456789"
      ]
     },
     "execution_count": 146,
     "metadata": {},
     "output_type": "execute_result"
    }
   ],
   "source": [
    "pwskills4.mobile_number"
   ]
  },
  {
   "cell_type": "code",
   "execution_count": 147,
   "id": "10f1fa6f-56fc-490d-8b66-694d0f53f007",
   "metadata": {},
   "outputs": [],
   "source": [
    "delattr(pwskills4, \"mobile_number\")"
   ]
  },
  {
   "cell_type": "code",
   "execution_count": 148,
   "id": "295fbe19-6950-4245-9e1f-b0593914c0e5",
   "metadata": {},
   "outputs": [
    {
     "ename": "AttributeError",
     "evalue": "type object 'pwskills4' has no attribute 'mobile_number'",
     "output_type": "error",
     "traceback": [
      "\u001b[0;31m---------------------------------------------------------------------------\u001b[0m",
      "\u001b[0;31mAttributeError\u001b[0m                            Traceback (most recent call last)",
      "Cell \u001b[0;32mIn[148], line 1\u001b[0m\n\u001b[0;32m----> 1\u001b[0m \u001b[43mpwskills4\u001b[49m\u001b[38;5;241;43m.\u001b[39;49m\u001b[43mmobile_number\u001b[49m\n",
      "\u001b[0;31mAttributeError\u001b[0m: type object 'pwskills4' has no attribute 'mobile_number'"
     ]
    }
   ],
   "source": [
    "pwskills4.mobile_number"
   ]
  },
  {
   "cell_type": "code",
   "execution_count": 149,
   "id": "3f1aa58c-ea12-49bb-9dc6-ab32dc19df4a",
   "metadata": {},
   "outputs": [],
   "source": [
    "delattr(pwskills4, \"student_details\")"
   ]
  },
  {
   "cell_type": "markdown",
   "id": "4f01fb68-9a3a-4424-acfd-bea4d53af9fc",
   "metadata": {},
   "source": [
    "# Static Method"
   ]
  },
  {
   "cell_type": "code",
   "execution_count": 151,
   "id": "ff1c8ef5-6ff9-449a-815c-1002650fbcc1",
   "metadata": {},
   "outputs": [],
   "source": [
    "class pwskills:\n",
    "    def student_details(self, name, mail_id, number):\n",
    "        print(name, mail_id, number)"
   ]
  },
  {
   "cell_type": "code",
   "execution_count": 152,
   "id": "9d7c203c-ef25-41c1-9bcf-e5fe26a5f5e4",
   "metadata": {},
   "outputs": [],
   "source": [
    "pw = pwskills()"
   ]
  },
  {
   "cell_type": "code",
   "execution_count": 153,
   "id": "6fc904da-30c3-4c3a-9707-ac87659519f9",
   "metadata": {},
   "outputs": [
    {
     "name": "stdout",
     "output_type": "stream",
     "text": [
      "sudh sudh@gmail.com 122334\n"
     ]
    }
   ],
   "source": [
    "pw.student_details(\"sudh\", \"sudh@gmail.com\", 122334)"
   ]
  },
  {
   "cell_type": "code",
   "execution_count": 158,
   "id": "119ea3d5-57a1-4363-a232-430d984ff8f1",
   "metadata": {},
   "outputs": [],
   "source": [
    "class pwskills1 :\n",
    "    def student_details(self, name, mail_id, number):\n",
    "        print(name, mail_id, number)\n",
    "        \n",
    "        \n",
    "    @staticmethod\n",
    "    def mentor_class(list_mentor):\n",
    "        print(list_mentor)\n",
    "        \n",
    "    def mentor(self, mentor_list):\n",
    "        print(mentor_list)"
   ]
  },
  {
   "cell_type": "code",
   "execution_count": 157,
   "id": "b4abf8ea-d095-4115-aad6-70478f018c25",
   "metadata": {},
   "outputs": [
    {
     "name": "stdout",
     "output_type": "stream",
     "text": [
      "['sudh', 'abod']\n"
     ]
    }
   ],
   "source": [
    "pwskills1.mentor_class([\"sudh\", \"abod\"])"
   ]
  },
  {
   "cell_type": "code",
   "execution_count": 161,
   "id": "b9940cf2-6d7a-4244-a262-b191771764e5",
   "metadata": {},
   "outputs": [],
   "source": [
    "# the diffrence here is that im trying to call it thrwo a bojoct (diffrent about static)\n",
    "pw1 = pwskills1()"
   ]
  },
  {
   "cell_type": "code",
   "execution_count": 162,
   "id": "b9d467be-faad-4b79-b096-a33a1e1a9d79",
   "metadata": {},
   "outputs": [
    {
     "name": "stdout",
     "output_type": "stream",
     "text": [
      "['hadoshi', '2000']\n"
     ]
    }
   ],
   "source": [
    "pw1.mentor([\"hadoshi\", \"2000\"])"
   ]
  },
  {
   "cell_type": "code",
   "execution_count": 163,
   "id": "a7130a98-c1af-4690-9459-9b72057adad0",
   "metadata": {},
   "outputs": [
    {
     "name": "stdout",
     "output_type": "stream",
     "text": [
      "['hallo', 'python']\n"
     ]
    }
   ],
   "source": [
    "pw1.mentor_class([\"hallo\", \"python\"])"
   ]
  },
  {
   "cell_type": "code",
   "execution_count": 168,
   "id": "8d813548-01d5-4ea5-bebe-e3876350cd18",
   "metadata": {},
   "outputs": [],
   "source": [
    "class pwskills1 :\n",
    "    def student_details(self, name, mail_id, number):\n",
    "        print(name, mail_id, number)\n",
    "        \n",
    "    @staticmethod\n",
    "    def mentor_mail_id(mail_id):\n",
    "        print(mail_id)\n",
    "        \n",
    "    @staticmethod\n",
    "    def mentor_class(list_mentor):\n",
    "        print(list_mentor)\n",
    "        pwskills1.mentor_mail_id(\"abdullah@gmail.com\")\n",
    "        \n",
    "    @classmethod\n",
    "    def class_name(cls, class_name):\n",
    "        cls.mentor_class([\"hi\", \"python\"])\n",
    "        \n",
    "    def mentor(self, mentor_list):\n",
    "        print(mentor_list)\n",
    "        self.mentor_class([\"abo\", \"aj\"])"
   ]
  },
  {
   "cell_type": "code",
   "execution_count": 169,
   "id": "6d5e0c23-3e01-43a3-a4d0-13f29b9ddc61",
   "metadata": {},
   "outputs": [],
   "source": [
    "pw1 = pwskills1()"
   ]
  },
  {
   "cell_type": "code",
   "execution_count": 170,
   "id": "3836a32b-8447-468b-8950-e5482040021a",
   "metadata": {},
   "outputs": [
    {
     "name": "stdout",
     "output_type": "stream",
     "text": [
      "huda huda@gmail.com 123\n"
     ]
    }
   ],
   "source": [
    "pw1.student_details(\"huda\", \"huda@gmail.com\", 123)"
   ]
  },
  {
   "cell_type": "code",
   "execution_count": 171,
   "id": "f42cd803-cee4-4390-8504-463ba4d94b24",
   "metadata": {},
   "outputs": [
    {
     "name": "stdout",
     "output_type": "stream",
     "text": [
      "mageburg\n"
     ]
    }
   ],
   "source": [
    "pw1.mentor_mail_id(\"mageburg\")"
   ]
  },
  {
   "cell_type": "code",
   "execution_count": 172,
   "id": "077a6866-e0ac-4cef-bb0c-7da57eb10bcd",
   "metadata": {},
   "outputs": [
    {
     "name": "stdout",
     "output_type": "stream",
     "text": [
      "['hi', 'python']\n",
      "abdullah@gmail.com\n"
     ]
    }
   ],
   "source": [
    "pw1.class_name(\"data\")"
   ]
  },
  {
   "cell_type": "code",
   "execution_count": 174,
   "id": "07ab2532-ddd3-40e0-ba80-06f4d9e14d05",
   "metadata": {},
   "outputs": [
    {
     "name": "stdout",
     "output_type": "stream",
     "text": [
      "german\n"
     ]
    }
   ],
   "source": [
    "pwskills1.mentor_mail_id(\"german\")"
   ]
  },
  {
   "cell_type": "markdown",
   "id": "d907de93-0a19-4dd8-b390-37e92b8be866",
   "metadata": {},
   "source": [
    "# special (Magic or Dunder)"
   ]
  },
  {
   "cell_type": "code",
   "execution_count": 175,
   "id": "fd3ea227-73b3-45b2-9835-69da48417171",
   "metadata": {},
   "outputs": [
    {
     "data": {
      "text/plain": [
       "['__abs__',\n",
       " '__add__',\n",
       " '__and__',\n",
       " '__bool__',\n",
       " '__ceil__',\n",
       " '__class__',\n",
       " '__delattr__',\n",
       " '__dir__',\n",
       " '__divmod__',\n",
       " '__doc__',\n",
       " '__eq__',\n",
       " '__float__',\n",
       " '__floor__',\n",
       " '__floordiv__',\n",
       " '__format__',\n",
       " '__ge__',\n",
       " '__getattribute__',\n",
       " '__getnewargs__',\n",
       " '__gt__',\n",
       " '__hash__',\n",
       " '__index__',\n",
       " '__init__',\n",
       " '__init_subclass__',\n",
       " '__int__',\n",
       " '__invert__',\n",
       " '__le__',\n",
       " '__lshift__',\n",
       " '__lt__',\n",
       " '__mod__',\n",
       " '__mul__',\n",
       " '__ne__',\n",
       " '__neg__',\n",
       " '__new__',\n",
       " '__or__',\n",
       " '__pos__',\n",
       " '__pow__',\n",
       " '__radd__',\n",
       " '__rand__',\n",
       " '__rdivmod__',\n",
       " '__reduce__',\n",
       " '__reduce_ex__',\n",
       " '__repr__',\n",
       " '__rfloordiv__',\n",
       " '__rlshift__',\n",
       " '__rmod__',\n",
       " '__rmul__',\n",
       " '__ror__',\n",
       " '__round__',\n",
       " '__rpow__',\n",
       " '__rrshift__',\n",
       " '__rshift__',\n",
       " '__rsub__',\n",
       " '__rtruediv__',\n",
       " '__rxor__',\n",
       " '__setattr__',\n",
       " '__sizeof__',\n",
       " '__str__',\n",
       " '__sub__',\n",
       " '__subclasshook__',\n",
       " '__truediv__',\n",
       " '__trunc__',\n",
       " '__xor__',\n",
       " 'as_integer_ratio',\n",
       " 'bit_count',\n",
       " 'bit_length',\n",
       " 'conjugate',\n",
       " 'denominator',\n",
       " 'from_bytes',\n",
       " 'imag',\n",
       " 'numerator',\n",
       " 'real',\n",
       " 'to_bytes']"
      ]
     },
     "execution_count": 175,
     "metadata": {},
     "output_type": "execute_result"
    }
   ],
   "source": [
    "dir(int)"
   ]
  },
  {
   "cell_type": "code",
   "execution_count": 176,
   "id": "c51b2066-edbd-4f3e-8380-f86105fc60c3",
   "metadata": {},
   "outputs": [],
   "source": [
    "a = 10"
   ]
  },
  {
   "cell_type": "code",
   "execution_count": 177,
   "id": "79c35106-a4ad-4468-8e1f-313cad632dc2",
   "metadata": {},
   "outputs": [
    {
     "data": {
      "text/plain": [
       "16"
      ]
     },
     "execution_count": 177,
     "metadata": {},
     "output_type": "execute_result"
    }
   ],
   "source": [
    "a + 6"
   ]
  },
  {
   "cell_type": "code",
   "execution_count": 178,
   "id": "0ea7a536-f3b8-4bed-bc8a-d3dd3db9d79d",
   "metadata": {},
   "outputs": [
    {
     "data": {
      "text/plain": [
       "16"
      ]
     },
     "execution_count": 178,
     "metadata": {},
     "output_type": "execute_result"
    }
   ],
   "source": [
    "a.__add__(6)"
   ]
  },
  {
   "cell_type": "code",
   "execution_count": 179,
   "id": "dcb0e243-1f44-410d-bb15-bcef74b91b19",
   "metadata": {},
   "outputs": [
    {
     "data": {
      "text/plain": [
       "['__add__',\n",
       " '__class__',\n",
       " '__contains__',\n",
       " '__delattr__',\n",
       " '__dir__',\n",
       " '__doc__',\n",
       " '__eq__',\n",
       " '__format__',\n",
       " '__ge__',\n",
       " '__getattribute__',\n",
       " '__getitem__',\n",
       " '__getnewargs__',\n",
       " '__gt__',\n",
       " '__hash__',\n",
       " '__init__',\n",
       " '__init_subclass__',\n",
       " '__iter__',\n",
       " '__le__',\n",
       " '__len__',\n",
       " '__lt__',\n",
       " '__mod__',\n",
       " '__mul__',\n",
       " '__ne__',\n",
       " '__new__',\n",
       " '__reduce__',\n",
       " '__reduce_ex__',\n",
       " '__repr__',\n",
       " '__rmod__',\n",
       " '__rmul__',\n",
       " '__setattr__',\n",
       " '__sizeof__',\n",
       " '__str__',\n",
       " '__subclasshook__',\n",
       " 'capitalize',\n",
       " 'casefold',\n",
       " 'center',\n",
       " 'count',\n",
       " 'encode',\n",
       " 'endswith',\n",
       " 'expandtabs',\n",
       " 'find',\n",
       " 'format',\n",
       " 'format_map',\n",
       " 'index',\n",
       " 'isalnum',\n",
       " 'isalpha',\n",
       " 'isascii',\n",
       " 'isdecimal',\n",
       " 'isdigit',\n",
       " 'isidentifier',\n",
       " 'islower',\n",
       " 'isnumeric',\n",
       " 'isprintable',\n",
       " 'isspace',\n",
       " 'istitle',\n",
       " 'isupper',\n",
       " 'join',\n",
       " 'ljust',\n",
       " 'lower',\n",
       " 'lstrip',\n",
       " 'maketrans',\n",
       " 'partition',\n",
       " 'removeprefix',\n",
       " 'removesuffix',\n",
       " 'replace',\n",
       " 'rfind',\n",
       " 'rindex',\n",
       " 'rjust',\n",
       " 'rpartition',\n",
       " 'rsplit',\n",
       " 'rstrip',\n",
       " 'split',\n",
       " 'splitlines',\n",
       " 'startswith',\n",
       " 'strip',\n",
       " 'swapcase',\n",
       " 'title',\n",
       " 'translate',\n",
       " 'upper',\n",
       " 'zfill']"
      ]
     },
     "execution_count": 179,
     "metadata": {},
     "output_type": "execute_result"
    }
   ],
   "source": [
    "dir(str)"
   ]
  },
  {
   "cell_type": "code",
   "execution_count": 182,
   "id": "2cfb62d7-109a-4aaf-9bc7-2514711d0d9d",
   "metadata": {},
   "outputs": [],
   "source": [
    "class pwskills:\n",
    "    \n",
    "    def __new__(cls):\n",
    "        print(\"this is my new\")\n",
    "    \n",
    "    def __init__(self):\n",
    "        print(\"this is my init\")"
   ]
  },
  {
   "cell_type": "code",
   "execution_count": 183,
   "id": "0789a3c8-c3e3-4848-b5d8-d9084a827eab",
   "metadata": {},
   "outputs": [
    {
     "name": "stdout",
     "output_type": "stream",
     "text": [
      "this is my new\n"
     ]
    }
   ],
   "source": [
    "pw = pwskills()"
   ]
  },
  {
   "cell_type": "code",
   "execution_count": 191,
   "id": "80d3aacf-0d0d-4009-b067-c45936da0cb6",
   "metadata": {},
   "outputs": [],
   "source": [
    "class pwskills1 :\n",
    "    def __init__(self):\n",
    "        self.mobile_number = 1234595959\n",
    "        \n",
    "    def __str__(self):\n",
    "        return \"this is a magic method which will print something for object\""
   ]
  },
  {
   "cell_type": "code",
   "execution_count": 192,
   "id": "c73d1652-3dc2-415d-b896-57034720303e",
   "metadata": {},
   "outputs": [],
   "source": [
    "pw1 = pwskills1()"
   ]
  },
  {
   "cell_type": "code",
   "execution_count": 186,
   "id": "bdbd30ab-70d4-419b-9020-d28f2faf6978",
   "metadata": {},
   "outputs": [
    {
     "data": {
      "text/plain": [
       "<__main__.pwskills1 at 0x7f63ffd1b940>"
      ]
     },
     "execution_count": 186,
     "metadata": {},
     "output_type": "execute_result"
    }
   ],
   "source": [
    "pw1"
   ]
  },
  {
   "cell_type": "code",
   "execution_count": 194,
   "id": "da341d7d-ef38-461a-b168-cf573e5ae74b",
   "metadata": {},
   "outputs": [
    {
     "name": "stdout",
     "output_type": "stream",
     "text": [
      "this is a magic method which will print something for object\n"
     ]
    }
   ],
   "source": [
    "print(pw1) # so im able to change the outcome with the magic method __str__"
   ]
  },
  {
   "cell_type": "code",
   "execution_count": 195,
   "id": "76be9094-b95e-4469-9012-2812434129ca",
   "metadata": {},
   "outputs": [
    {
     "data": {
      "text/plain": [
       "['__class__',\n",
       " '__class_getitem__',\n",
       " '__contains__',\n",
       " '__delattr__',\n",
       " '__delitem__',\n",
       " '__dir__',\n",
       " '__doc__',\n",
       " '__eq__',\n",
       " '__format__',\n",
       " '__ge__',\n",
       " '__getattribute__',\n",
       " '__getitem__',\n",
       " '__gt__',\n",
       " '__hash__',\n",
       " '__init__',\n",
       " '__init_subclass__',\n",
       " '__ior__',\n",
       " '__iter__',\n",
       " '__le__',\n",
       " '__len__',\n",
       " '__lt__',\n",
       " '__ne__',\n",
       " '__new__',\n",
       " '__or__',\n",
       " '__reduce__',\n",
       " '__reduce_ex__',\n",
       " '__repr__',\n",
       " '__reversed__',\n",
       " '__ror__',\n",
       " '__setattr__',\n",
       " '__setitem__',\n",
       " '__sizeof__',\n",
       " '__str__',\n",
       " '__subclasshook__',\n",
       " 'clear',\n",
       " 'copy',\n",
       " 'fromkeys',\n",
       " 'get',\n",
       " 'items',\n",
       " 'keys',\n",
       " 'pop',\n",
       " 'popitem',\n",
       " 'setdefault',\n",
       " 'update',\n",
       " 'values']"
      ]
     },
     "execution_count": 195,
     "metadata": {},
     "output_type": "execute_result"
    }
   ],
   "source": [
    "dir(dict)"
   ]
  },
  {
   "cell_type": "code",
   "execution_count": 196,
   "id": "e95f45ac-47a8-494f-85ad-f4e60a9ba1a7",
   "metadata": {},
   "outputs": [
    {
     "data": {
      "text/plain": [
       "['__add__',\n",
       " '__class__',\n",
       " '__class_getitem__',\n",
       " '__contains__',\n",
       " '__delattr__',\n",
       " '__dir__',\n",
       " '__doc__',\n",
       " '__eq__',\n",
       " '__format__',\n",
       " '__ge__',\n",
       " '__getattribute__',\n",
       " '__getitem__',\n",
       " '__getnewargs__',\n",
       " '__gt__',\n",
       " '__hash__',\n",
       " '__init__',\n",
       " '__init_subclass__',\n",
       " '__iter__',\n",
       " '__le__',\n",
       " '__len__',\n",
       " '__lt__',\n",
       " '__mul__',\n",
       " '__ne__',\n",
       " '__new__',\n",
       " '__reduce__',\n",
       " '__reduce_ex__',\n",
       " '__repr__',\n",
       " '__rmul__',\n",
       " '__setattr__',\n",
       " '__sizeof__',\n",
       " '__str__',\n",
       " '__subclasshook__',\n",
       " 'count',\n",
       " 'index']"
      ]
     },
     "execution_count": 196,
     "metadata": {},
     "output_type": "execute_result"
    }
   ],
   "source": [
    "dir(tuple)"
   ]
  },
  {
   "cell_type": "markdown",
   "id": "3624838f-d91f-4154-a74b-b29a96eb1fdf",
   "metadata": {},
   "source": [
    "# Property Decorators Getters, Setters, And Deletes"
   ]
  },
  {
   "cell_type": "code",
   "execution_count": 35,
   "id": "83696542-2227-4718-a646-356417076fe7",
   "metadata": {},
   "outputs": [],
   "source": [
    "class pwskills:\n",
    "    \n",
    "    def __init__(self, course_price, course_name):\n",
    "        self.__course_price = course_price\n",
    "        self.course_name = course_name\n",
    "        \n",
    "    @property   # use to expose privte data to an outer but no one will be able to modify in this way\n",
    "    def course_price_access(self):\n",
    "        return self.__course_price\n",
    "    \n",
    "    @course_price_access.setter  # in this with helb of setter you will be able to modify\n",
    "    def course_price_set(self, price):\n",
    "        if price <= 3500:\n",
    "            pass\n",
    "        else : \n",
    "            self.__course_price = price\n",
    "    \n",
    "    @course_price_access.deleter   #used to delet a private variable\n",
    "    def course_price_del(self):\n",
    "        del self.__course_price\n",
    "    "
   ]
  },
  {
   "cell_type": "code",
   "execution_count": 36,
   "id": "0c651931-6123-4c87-adbd-3476f8e434b2",
   "metadata": {},
   "outputs": [],
   "source": [
    "pw = pwskills(3500 , \"data science master\")"
   ]
  },
  {
   "cell_type": "code",
   "execution_count": 37,
   "id": "0418e237-9593-4847-831d-7dab24587d60",
   "metadata": {},
   "outputs": [
    {
     "data": {
      "text/plain": [
       "3500"
      ]
     },
     "execution_count": 37,
     "metadata": {},
     "output_type": "execute_result"
    }
   ],
   "source": [
    "pw.course_price_access # access throw property"
   ]
  },
  {
   "cell_type": "code",
   "execution_count": 38,
   "id": "703ae644-05b0-44ac-86ca-20a2b97d7098",
   "metadata": {},
   "outputs": [
    {
     "data": {
      "text/plain": [
       "'data science master'"
      ]
     },
     "execution_count": 38,
     "metadata": {},
     "output_type": "execute_result"
    }
   ],
   "source": [
    "\n",
    "pw.course_name\n"
   ]
  },
  {
   "cell_type": "code",
   "execution_count": 39,
   "id": "6924669a-1739-46f1-9d4d-3147578ff59a",
   "metadata": {},
   "outputs": [
    {
     "data": {
      "text/plain": [
       "3500"
      ]
     },
     "execution_count": 39,
     "metadata": {},
     "output_type": "execute_result"
    }
   ],
   "source": [
    "pw._pwskills__course_price  # only accesable as a creatorin this way"
   ]
  },
  {
   "cell_type": "code",
   "execution_count": 40,
   "id": "7ac9ceb6-a74f-4d12-bc5a-a166ef424a05",
   "metadata": {},
   "outputs": [],
   "source": [
    "pw.course_price_set = 2000"
   ]
  },
  {
   "cell_type": "code",
   "execution_count": 41,
   "id": "4e5dfc6a-14b1-4b59-a364-9f447332bb6c",
   "metadata": {},
   "outputs": [
    {
     "data": {
      "text/plain": [
       "3500"
      ]
     },
     "execution_count": 41,
     "metadata": {},
     "output_type": "execute_result"
    }
   ],
   "source": [
    "pw.course_price_access"
   ]
  },
  {
   "cell_type": "code",
   "execution_count": 42,
   "id": "c1110232-6127-4c72-9136-ecf4f149654a",
   "metadata": {},
   "outputs": [],
   "source": [
    "pw.course_price_set = 4000"
   ]
  },
  {
   "cell_type": "code",
   "execution_count": 43,
   "id": "49b41e2e-cbcb-41b2-917a-e960ba31aa95",
   "metadata": {},
   "outputs": [
    {
     "data": {
      "text/plain": [
       "4000"
      ]
     },
     "execution_count": 43,
     "metadata": {},
     "output_type": "execute_result"
    }
   ],
   "source": [
    "pw.course_price_access # so in this case im able to access and modify"
   ]
  },
  {
   "cell_type": "code",
   "execution_count": 44,
   "id": "6a010c96-9124-4109-a718-f2a5d7d53f5d",
   "metadata": {},
   "outputs": [
    {
     "ename": "AttributeError",
     "evalue": "can't delete attribute 'course_price_access'",
     "output_type": "error",
     "traceback": [
      "\u001b[0;31m---------------------------------------------------------------------------\u001b[0m",
      "\u001b[0;31mAttributeError\u001b[0m                            Traceback (most recent call last)",
      "Cell \u001b[0;32mIn[44], line 1\u001b[0m\n\u001b[0;32m----> 1\u001b[0m \u001b[38;5;28;01mdel\u001b[39;00m pw\u001b[38;5;241m.\u001b[39mcourse_price_access\n",
      "\u001b[0;31mAttributeError\u001b[0m: can't delete attribute 'course_price_access'"
     ]
    }
   ],
   "source": [
    "del pw.course_price_access"
   ]
  },
  {
   "cell_type": "code",
   "execution_count": 34,
   "id": "55dde223-3353-4f3d-ae4b-8eed6eb94bfb",
   "metadata": {},
   "outputs": [
    {
     "data": {
      "text/plain": [
       "4000"
      ]
     },
     "execution_count": 34,
     "metadata": {},
     "output_type": "execute_result"
    }
   ],
   "source": [
    "pw.course_price_access"
   ]
  },
  {
   "cell_type": "code",
   "execution_count": null,
   "id": "cc12aa0c-3bdc-46b6-a019-bc612e7d25ca",
   "metadata": {},
   "outputs": [],
   "source": []
  }
 ],
 "metadata": {
  "kernelspec": {
   "display_name": "Python 3 (ipykernel)",
   "language": "python",
   "name": "python3"
  },
  "language_info": {
   "codemirror_mode": {
    "name": "ipython",
    "version": 3
   },
   "file_extension": ".py",
   "mimetype": "text/x-python",
   "name": "python",
   "nbconvert_exporter": "python",
   "pygments_lexer": "ipython3",
   "version": "3.10.8"
  }
 },
 "nbformat": 4,
 "nbformat_minor": 5
}
