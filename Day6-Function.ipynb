{
 "cells": [
  {
   "cell_type": "code",
   "execution_count": 1,
   "id": "2eb4cd76-6dcd-42da-9eb2-dfccd2118016",
   "metadata": {},
   "outputs": [
    {
     "name": "stdout",
     "output_type": "stream",
     "text": [
      "Hello World of Data\n"
     ]
    }
   ],
   "source": [
    "print('Hello World of Data')"
   ]
  },
  {
   "cell_type": "code",
   "execution_count": 2,
   "id": "88273033-2871-4e26-b7ff-f39e64d979c8",
   "metadata": {},
   "outputs": [],
   "source": [
    "l = [1,2,3,4,5]"
   ]
  },
  {
   "cell_type": "code",
   "execution_count": 3,
   "id": "51023371-58d9-4d43-a36b-73cbc8235f73",
   "metadata": {},
   "outputs": [
    {
     "data": {
      "text/plain": [
       "5"
      ]
     },
     "execution_count": 3,
     "metadata": {},
     "output_type": "execute_result"
    }
   ],
   "source": [
    "len(l)"
   ]
  },
  {
   "cell_type": "code",
   "execution_count": 5,
   "id": "22952d33-e3f7-4b72-bb82-2a827193f614",
   "metadata": {},
   "outputs": [],
   "source": [
    "def test():\n",
    "    pass\n",
    "    "
   ]
  },
  {
   "cell_type": "code",
   "execution_count": 6,
   "id": "460efa33-3279-423a-b704-85f28213e79c",
   "metadata": {},
   "outputs": [],
   "source": [
    "def test1():\n",
    "    print('this is my very first fun')"
   ]
  },
  {
   "cell_type": "code",
   "execution_count": 7,
   "id": "cc99d1e7-f5a0-4094-88a5-eb51b29b76af",
   "metadata": {},
   "outputs": [
    {
     "name": "stdout",
     "output_type": "stream",
     "text": [
      "this is my very first fun\n"
     ]
    }
   ],
   "source": [
    "test1()"
   ]
  },
  {
   "cell_type": "code",
   "execution_count": 8,
   "id": "bd157d9c-1fec-4934-83bb-0492e259d50c",
   "metadata": {},
   "outputs": [
    {
     "name": "stdout",
     "output_type": "stream",
     "text": [
      "this is my very first fun\n"
     ]
    }
   ],
   "source": [
    "test1()"
   ]
  },
  {
   "cell_type": "code",
   "execution_count": 9,
   "id": "16045021-ac8a-4332-a676-2ad4903912b8",
   "metadata": {},
   "outputs": [
    {
     "name": "stdout",
     "output_type": "stream",
     "text": [
      "this is my very first fun\n"
     ]
    },
    {
     "ename": "TypeError",
     "evalue": "unsupported operand type(s) for +: 'NoneType' and 'str'",
     "output_type": "error",
     "traceback": [
      "\u001b[0;31m---------------------------------------------------------------------------\u001b[0m",
      "\u001b[0;31mTypeError\u001b[0m                                 Traceback (most recent call last)",
      "Cell \u001b[0;32mIn[9], line 1\u001b[0m\n\u001b[0;32m----> 1\u001b[0m \u001b[43mtest1\u001b[49m\u001b[43m(\u001b[49m\u001b[43m)\u001b[49m\u001b[43m \u001b[49m\u001b[38;5;241;43m+\u001b[39;49m\u001b[43m \u001b[49m\u001b[38;5;124;43m'\u001b[39;49m\u001b[38;5;124;43mAbdullah\u001b[39;49m\u001b[38;5;124;43m'\u001b[39;49m\n",
      "\u001b[0;31mTypeError\u001b[0m: unsupported operand type(s) for +: 'NoneType' and 'str'"
     ]
    }
   ],
   "source": [
    "test1() + 'Abdullah'"
   ]
  },
  {
   "cell_type": "code",
   "execution_count": 13,
   "id": "5be97247-46bf-4832-9619-ca48df5ac681",
   "metadata": {},
   "outputs": [],
   "source": [
    "def test2():\n",
    "    return 'this is my func in return '"
   ]
  },
  {
   "cell_type": "code",
   "execution_count": 14,
   "id": "7dbeefb5-4a3f-4191-abbd-34ce79558502",
   "metadata": {},
   "outputs": [
    {
     "data": {
      "text/plain": [
       "'this is my func in return '"
      ]
     },
     "execution_count": 14,
     "metadata": {},
     "output_type": "execute_result"
    }
   ],
   "source": [
    "test2()"
   ]
  },
  {
   "cell_type": "code",
   "execution_count": 15,
   "id": "096acc28-58b7-4a13-943f-0e0a6f884b7b",
   "metadata": {},
   "outputs": [
    {
     "data": {
      "text/plain": [
       "'this is my func in return Abdullah'"
      ]
     },
     "execution_count": 15,
     "metadata": {},
     "output_type": "execute_result"
    }
   ],
   "source": [
    "test2() + 'Abdullah'"
   ]
  },
  {
   "cell_type": "code",
   "execution_count": 16,
   "id": "43f84eaf-f357-4e5f-9e33-427d9a3b13a1",
   "metadata": {},
   "outputs": [],
   "source": [
    "def test3():\n",
    "    return 1,4, 'pwskills',43.65"
   ]
  },
  {
   "cell_type": "code",
   "execution_count": 17,
   "id": "d2ca43c0-eb3b-4d95-83c0-5cef99c95d1d",
   "metadata": {},
   "outputs": [
    {
     "data": {
      "text/plain": [
       "(1, 4, 'pwskills', 43.65)"
      ]
     },
     "execution_count": 17,
     "metadata": {},
     "output_type": "execute_result"
    }
   ],
   "source": [
    "test3()"
   ]
  },
  {
   "cell_type": "code",
   "execution_count": 18,
   "id": "acee928b-23a1-4735-8779-4e879c2db5c3",
   "metadata": {},
   "outputs": [],
   "source": [
    "a = 1,2,3,4,5"
   ]
  },
  {
   "cell_type": "code",
   "execution_count": 20,
   "id": "749628b3-e711-4a2e-ad89-11dda482c723",
   "metadata": {},
   "outputs": [
    {
     "data": {
      "text/plain": [
       "(1, 2, 3, 4, 5)"
      ]
     },
     "execution_count": 20,
     "metadata": {},
     "output_type": "execute_result"
    }
   ],
   "source": [
    "a"
   ]
  },
  {
   "cell_type": "code",
   "execution_count": 24,
   "id": "9381a693-bcfa-4258-9c44-6f6892d7dbc5",
   "metadata": {},
   "outputs": [],
   "source": [
    "a,b,c,d = 1,2,45.5,True"
   ]
  },
  {
   "cell_type": "code",
   "execution_count": 25,
   "id": "69311074-c4ae-42e5-91cc-9cab4b941aac",
   "metadata": {},
   "outputs": [
    {
     "data": {
      "text/plain": [
       "1"
      ]
     },
     "execution_count": 25,
     "metadata": {},
     "output_type": "execute_result"
    }
   ],
   "source": [
    "a"
   ]
  },
  {
   "cell_type": "code",
   "execution_count": 26,
   "id": "7b8cea1e-2ad4-4cea-840d-ef54078399fd",
   "metadata": {},
   "outputs": [
    {
     "data": {
      "text/plain": [
       "2"
      ]
     },
     "execution_count": 26,
     "metadata": {},
     "output_type": "execute_result"
    }
   ],
   "source": [
    "b"
   ]
  },
  {
   "cell_type": "code",
   "execution_count": 27,
   "id": "c4952f8c-d0b7-49e1-84cd-880b337256e9",
   "metadata": {},
   "outputs": [
    {
     "data": {
      "text/plain": [
       "True"
      ]
     },
     "execution_count": 27,
     "metadata": {},
     "output_type": "execute_result"
    }
   ],
   "source": [
    "d"
   ]
  },
  {
   "cell_type": "code",
   "execution_count": 28,
   "id": "5fb4eb2f-4660-4b9a-9f7f-a13f7bb5efd6",
   "metadata": {},
   "outputs": [
    {
     "data": {
      "text/plain": [
       "45.5"
      ]
     },
     "execution_count": 28,
     "metadata": {},
     "output_type": "execute_result"
    }
   ],
   "source": [
    "c"
   ]
  },
  {
   "cell_type": "code",
   "execution_count": 29,
   "id": "3a7dd283-ed47-48fa-b9cc-24396d6df434",
   "metadata": {},
   "outputs": [
    {
     "data": {
      "text/plain": [
       "(1, 4, 'pwskills', 43.65)"
      ]
     },
     "execution_count": 29,
     "metadata": {},
     "output_type": "execute_result"
    }
   ],
   "source": [
    "test3()"
   ]
  },
  {
   "cell_type": "code",
   "execution_count": 30,
   "id": "7e908b75-19e5-4818-acf1-10596d8743cf",
   "metadata": {},
   "outputs": [
    {
     "data": {
      "text/plain": [
       "1"
      ]
     },
     "execution_count": 30,
     "metadata": {},
     "output_type": "execute_result"
    }
   ],
   "source": [
    "test3()[0]"
   ]
  },
  {
   "cell_type": "code",
   "execution_count": 31,
   "id": "9c698744-93a1-404b-8574-6855d636dae8",
   "metadata": {},
   "outputs": [
    {
     "data": {
      "text/plain": [
       "'pwskills'"
      ]
     },
     "execution_count": 31,
     "metadata": {},
     "output_type": "execute_result"
    }
   ],
   "source": [
    "test3()[2]"
   ]
  },
  {
   "cell_type": "code",
   "execution_count": 32,
   "id": "2d937777-ed88-4587-98f1-92157f27521c",
   "metadata": {},
   "outputs": [
    {
     "data": {
      "text/plain": [
       "4"
      ]
     },
     "execution_count": 32,
     "metadata": {},
     "output_type": "execute_result"
    }
   ],
   "source": [
    "test3()[1]"
   ]
  },
  {
   "cell_type": "code",
   "execution_count": 34,
   "id": "24b33dcc-7e61-46a0-8e0b-52761a39b8ad",
   "metadata": {},
   "outputs": [],
   "source": [
    "a,b,c,d = test3()"
   ]
  },
  {
   "cell_type": "code",
   "execution_count": 35,
   "id": "b1eab680-7c0e-441d-9581-0521bf0733b4",
   "metadata": {},
   "outputs": [
    {
     "data": {
      "text/plain": [
       "1"
      ]
     },
     "execution_count": 35,
     "metadata": {},
     "output_type": "execute_result"
    }
   ],
   "source": [
    "a"
   ]
  },
  {
   "cell_type": "code",
   "execution_count": 36,
   "id": "5b101262-91e0-4be4-b41d-083d0ec83214",
   "metadata": {},
   "outputs": [
    {
     "data": {
      "text/plain": [
       "4"
      ]
     },
     "execution_count": 36,
     "metadata": {},
     "output_type": "execute_result"
    }
   ],
   "source": [
    "b"
   ]
  },
  {
   "cell_type": "code",
   "execution_count": 37,
   "id": "192106d9-d15e-4dc4-8529-a404a6a3af73",
   "metadata": {},
   "outputs": [
    {
     "data": {
      "text/plain": [
       "'pwskills'"
      ]
     },
     "execution_count": 37,
     "metadata": {},
     "output_type": "execute_result"
    }
   ],
   "source": [
    "c"
   ]
  },
  {
   "cell_type": "code",
   "execution_count": 38,
   "id": "891044e2-4555-410e-84cf-057f6ba59f69",
   "metadata": {},
   "outputs": [
    {
     "data": {
      "text/plain": [
       "43.65"
      ]
     },
     "execution_count": 38,
     "metadata": {},
     "output_type": "execute_result"
    }
   ],
   "source": [
    "d"
   ]
  },
  {
   "cell_type": "code",
   "execution_count": 42,
   "id": "68317e15-85cd-432f-8012-b7734e1f153f",
   "metadata": {},
   "outputs": [],
   "source": [
    "def test4():\n",
    "    a = 3*4 +5\n",
    "    return a"
   ]
  },
  {
   "cell_type": "code",
   "execution_count": 43,
   "id": "b2c12c7a-d4fc-420e-a275-f7bb9379d6f9",
   "metadata": {},
   "outputs": [
    {
     "data": {
      "text/plain": [
       "17"
      ]
     },
     "execution_count": 43,
     "metadata": {},
     "output_type": "execute_result"
    }
   ],
   "source": [
    "test4()"
   ]
  },
  {
   "cell_type": "code",
   "execution_count": 44,
   "id": "63fe881f-7b86-4035-aacd-0bb5e7db36eb",
   "metadata": {},
   "outputs": [
    {
     "data": {
      "text/plain": [
       "int"
      ]
     },
     "execution_count": 44,
     "metadata": {},
     "output_type": "execute_result"
    }
   ],
   "source": [
    "type(test4())"
   ]
  },
  {
   "cell_type": "code",
   "execution_count": 45,
   "id": "b1553080-fdda-4d16-ad9b-66e9a76a78e9",
   "metadata": {},
   "outputs": [],
   "source": [
    "def test5(a,b):\n",
    "    c = a+b\n",
    "    return c\n",
    "    "
   ]
  },
  {
   "cell_type": "code",
   "execution_count": 47,
   "id": "f9bd40d6-b44b-4456-a17e-8bb2cbe808ab",
   "metadata": {},
   "outputs": [
    {
     "data": {
      "text/plain": [
       "3"
      ]
     },
     "execution_count": 47,
     "metadata": {},
     "output_type": "execute_result"
    }
   ],
   "source": [
    "test5(1,2)"
   ]
  },
  {
   "cell_type": "code",
   "execution_count": 49,
   "id": "7922cafa-3c43-4c63-b666-b933371dca31",
   "metadata": {},
   "outputs": [
    {
     "data": {
      "text/plain": [
       "'AbdulAllah'"
      ]
     },
     "execution_count": 49,
     "metadata": {},
     "output_type": "execute_result"
    }
   ],
   "source": [
    "test5('Abdul','Allah')"
   ]
  },
  {
   "cell_type": "code",
   "execution_count": 50,
   "id": "d81d9f20-2c53-4d6d-8cd8-144aaf8b3f0e",
   "metadata": {},
   "outputs": [
    {
     "data": {
      "text/plain": [
       "[1, 2, 3, 4, 4, 5, 6, 7, 8]"
      ]
     },
     "execution_count": 50,
     "metadata": {},
     "output_type": "execute_result"
    }
   ],
   "source": [
    "test5([1,2,3,4],[4,5,6,7,8])"
   ]
  },
  {
   "cell_type": "code",
   "execution_count": 51,
   "id": "881ec65b-9aeb-4244-b453-73ca7cce9e37",
   "metadata": {},
   "outputs": [
    {
     "data": {
      "text/plain": [
       "'ReslanAbdullah'"
      ]
     },
     "execution_count": 51,
     "metadata": {},
     "output_type": "execute_result"
    }
   ],
   "source": [
    "test5(b = 'Abdullah',a = 'Reslan')"
   ]
  },
  {
   "cell_type": "code",
   "execution_count": 52,
   "id": "1b5064c9-af5d-40bc-adcc-717df1f3c010",
   "metadata": {},
   "outputs": [],
   "source": [
    "l = [1,2,3,4,5, 'Reslan' , 'pwskills' , [1,2,3,34,45]]"
   ]
  },
  {
   "cell_type": "code",
   "execution_count": 53,
   "id": "629c6fb8-9d5f-4631-a1a7-2cc29bd525fe",
   "metadata": {},
   "outputs": [],
   "source": [
    "# creat a finction which will take list as a input and give me a final list with all the numeric value\n"
   ]
  },
  {
   "cell_type": "code",
   "execution_count": 56,
   "id": "b8664949-7014-48c9-98b3-29291248f90e",
   "metadata": {},
   "outputs": [],
   "source": [
    "def test6(a):\n",
    "    n = []\n",
    "    for i in a :\n",
    "        if type(i) == int or type(i) == float:\n",
    "            n.append(i)\n",
    "    return n\n",
    "        "
   ]
  },
  {
   "cell_type": "code",
   "execution_count": 58,
   "id": "52d615d4-7798-4f4a-945e-d1a9dda47970",
   "metadata": {},
   "outputs": [
    {
     "data": {
      "text/plain": [
       "[1, 2, 3, 4, 5]"
      ]
     },
     "execution_count": 58,
     "metadata": {},
     "output_type": "execute_result"
    }
   ],
   "source": [
    "test6(l)"
   ]
  },
  {
   "cell_type": "code",
   "execution_count": 59,
   "id": "75f61906-5d36-4a05-a057-389ab51cbed8",
   "metadata": {},
   "outputs": [],
   "source": [
    "h = [1,32.55,500,787,'AB',True,4+1j]"
   ]
  },
  {
   "cell_type": "code",
   "execution_count": 60,
   "id": "fe6477b2-3678-4aa6-a6d1-1187c25d83f4",
   "metadata": {},
   "outputs": [
    {
     "data": {
      "text/plain": [
       "[1, 32.55, 500, 787]"
      ]
     },
     "execution_count": 60,
     "metadata": {},
     "output_type": "execute_result"
    }
   ],
   "source": [
    "test6(h)"
   ]
  },
  {
   "cell_type": "code",
   "execution_count": 61,
   "id": "e6834ccc-12f6-47f5-8adb-5e3ed0a9c677",
   "metadata": {},
   "outputs": [
    {
     "data": {
      "text/plain": [
       "[1, 2, 3, 4, 5, 'Reslan', 'pwskills', [1, 2, 3, 34, 45]]"
      ]
     },
     "execution_count": 61,
     "metadata": {},
     "output_type": "execute_result"
    }
   ],
   "source": [
    "l"
   ]
  },
  {
   "cell_type": "code",
   "execution_count": 69,
   "id": "827af5d7-df5f-4795-959f-02d487c39d8a",
   "metadata": {},
   "outputs": [],
   "source": [
    "def test7(a):\n",
    "    n = []\n",
    "    for i in a:\n",
    "        if type(i) == list :\n",
    "            for j in i :\n",
    "                if type(j) == int or type(j) == float:\n",
    "                    n.append(j)\n",
    "        else:\n",
    "            if type(i) == int or type(i) == float:\n",
    "                n.append(i)\n",
    "    return n"
   ]
  },
  {
   "cell_type": "code",
   "execution_count": 70,
   "id": "16076869-d675-4bbf-841b-d05b2d7e264f",
   "metadata": {},
   "outputs": [
    {
     "data": {
      "text/plain": [
       "[1, 2, 3, 4, 5, 1, 2, 3, 34, 45]"
      ]
     },
     "execution_count": 70,
     "metadata": {},
     "output_type": "execute_result"
    }
   ],
   "source": [
    "test7(l)"
   ]
  },
  {
   "cell_type": "code",
   "execution_count": 71,
   "id": "9659d091-6fa0-4482-943d-f1bd60a804bf",
   "metadata": {},
   "outputs": [
    {
     "data": {
      "text/plain": [
       "[1, 32.55, 500, 787]"
      ]
     },
     "execution_count": 71,
     "metadata": {},
     "output_type": "execute_result"
    }
   ],
   "source": [
    "test7(h)"
   ]
  },
  {
   "cell_type": "code",
   "execution_count": 72,
   "id": "bf70f1ad-1c13-44c6-85fe-fb579e46c382",
   "metadata": {},
   "outputs": [],
   "source": [
    "def test(a,b,c,d,e):\n",
    "    pass"
   ]
  },
  {
   "cell_type": "code",
   "execution_count": 73,
   "id": "a6b7df4b-ac1d-4547-b266-467e873440dc",
   "metadata": {},
   "outputs": [],
   "source": [
    "test(1,2,3,4,45)"
   ]
  },
  {
   "cell_type": "code",
   "execution_count": 74,
   "id": "09457d44-bee7-4799-a3a1-4fd6913a3b54",
   "metadata": {},
   "outputs": [
    {
     "ename": "TypeError",
     "evalue": "test() missing 3 required positional arguments: 'c', 'd', and 'e'",
     "output_type": "error",
     "traceback": [
      "\u001b[0;31m---------------------------------------------------------------------------\u001b[0m",
      "\u001b[0;31mTypeError\u001b[0m                                 Traceback (most recent call last)",
      "Cell \u001b[0;32mIn[74], line 1\u001b[0m\n\u001b[0;32m----> 1\u001b[0m \u001b[43mtest\u001b[49m\u001b[43m(\u001b[49m\u001b[38;5;241;43m1\u001b[39;49m\u001b[43m,\u001b[49m\u001b[38;5;241;43m2\u001b[39;49m\u001b[43m)\u001b[49m\n",
      "\u001b[0;31mTypeError\u001b[0m: test() missing 3 required positional arguments: 'c', 'd', and 'e'"
     ]
    }
   ],
   "source": [
    "test(1,2)"
   ]
  },
  {
   "cell_type": "code",
   "execution_count": 75,
   "id": "c56fb92e-2465-4962-9902-1a88d157c58b",
   "metadata": {},
   "outputs": [
    {
     "ename": "TypeError",
     "evalue": "test() takes 5 positional arguments but 7 were given",
     "output_type": "error",
     "traceback": [
      "\u001b[0;31m---------------------------------------------------------------------------\u001b[0m",
      "\u001b[0;31mTypeError\u001b[0m                                 Traceback (most recent call last)",
      "Cell \u001b[0;32mIn[75], line 1\u001b[0m\n\u001b[0;32m----> 1\u001b[0m \u001b[43mtest\u001b[49m\u001b[43m(\u001b[49m\u001b[38;5;241;43m1\u001b[39;49m\u001b[43m,\u001b[49m\u001b[38;5;241;43m2\u001b[39;49m\u001b[43m,\u001b[49m\u001b[38;5;241;43m3\u001b[39;49m\u001b[43m,\u001b[49m\u001b[38;5;241;43m4\u001b[39;49m\u001b[43m,\u001b[49m\u001b[38;5;241;43m54\u001b[39;49m\u001b[43m,\u001b[49m\u001b[38;5;241;43m5\u001b[39;49m\u001b[43m,\u001b[49m\u001b[38;5;241;43m6\u001b[39;49m\u001b[43m,\u001b[49m\u001b[43m)\u001b[49m\n",
      "\u001b[0;31mTypeError\u001b[0m: test() takes 5 positional arguments but 7 were given"
     ]
    }
   ],
   "source": [
    "test(1,2,3,4,54,5,6,)"
   ]
  },
  {
   "cell_type": "code",
   "execution_count": 76,
   "id": "8ccc8ce4-9abd-492a-ac10-8930615a38c8",
   "metadata": {},
   "outputs": [],
   "source": [
    "def test1(*args):\n",
    "    return args"
   ]
  },
  {
   "cell_type": "code",
   "execution_count": 77,
   "id": "aace2e8d-dad9-4bd6-afdd-c18687751df1",
   "metadata": {},
   "outputs": [
    {
     "data": {
      "text/plain": [
       "(2,)"
      ]
     },
     "execution_count": 77,
     "metadata": {},
     "output_type": "execute_result"
    }
   ],
   "source": [
    "test1(2)"
   ]
  },
  {
   "cell_type": "code",
   "execution_count": 78,
   "id": "eb4489fa-1f72-48e5-814e-703f01c9d732",
   "metadata": {},
   "outputs": [
    {
     "data": {
      "text/plain": [
       "(1, 2, 3, 3, 4, 5)"
      ]
     },
     "execution_count": 78,
     "metadata": {},
     "output_type": "execute_result"
    }
   ],
   "source": [
    "test1(1,2,3,3,4,5)"
   ]
  },
  {
   "cell_type": "code",
   "execution_count": 79,
   "id": "cc99e997-5079-4f11-b460-c51ab5c2c14b",
   "metadata": {},
   "outputs": [
    {
     "data": {
      "text/plain": [
       "('abdullah', [1, 2, 3, 4, 5], (1, 2, 3, 4))"
      ]
     },
     "execution_count": 79,
     "metadata": {},
     "output_type": "execute_result"
    }
   ],
   "source": [
    "test1('abdullah',[1,2,3,4,5] , (1,2,3,4))"
   ]
  },
  {
   "cell_type": "code",
   "execution_count": 80,
   "id": "c911c26d-7c94-4fa7-a250-153120954900",
   "metadata": {},
   "outputs": [],
   "source": [
    "def test2(*abdul):\n",
    "    return abdul"
   ]
  },
  {
   "cell_type": "code",
   "execution_count": 82,
   "id": "a726fe7e-d50a-4a8e-9a82-35cbe75aeaa5",
   "metadata": {},
   "outputs": [
    {
     "data": {
      "text/plain": [
       "(1, 2, 3, 34, 4, 5, 6, 7, 87, 8, 98, 9, 9)"
      ]
     },
     "execution_count": 82,
     "metadata": {},
     "output_type": "execute_result"
    }
   ],
   "source": [
    "test2(1,2,3,34,4,5,6,7,87,8,98,9,9,)"
   ]
  },
  {
   "cell_type": "code",
   "execution_count": 83,
   "id": "4599b60e-3f93-44d1-8c91-3ed92874dbf3",
   "metadata": {},
   "outputs": [],
   "source": [
    "def test3(*args, a ):\n",
    "    return args ,a"
   ]
  },
  {
   "cell_type": "code",
   "execution_count": 84,
   "id": "3aa5256c-5f10-462f-8db5-30ea0e4cb4ee",
   "metadata": {},
   "outputs": [
    {
     "ename": "TypeError",
     "evalue": "test3() missing 1 required keyword-only argument: 'a'",
     "output_type": "error",
     "traceback": [
      "\u001b[0;31m---------------------------------------------------------------------------\u001b[0m",
      "\u001b[0;31mTypeError\u001b[0m                                 Traceback (most recent call last)",
      "Cell \u001b[0;32mIn[84], line 1\u001b[0m\n\u001b[0;32m----> 1\u001b[0m \u001b[43mtest3\u001b[49m\u001b[43m(\u001b[49m\u001b[38;5;241;43m3\u001b[39;49m\u001b[43m)\u001b[49m\n",
      "\u001b[0;31mTypeError\u001b[0m: test3() missing 1 required keyword-only argument: 'a'"
     ]
    }
   ],
   "source": [
    "test3(3)"
   ]
  },
  {
   "cell_type": "code",
   "execution_count": 85,
   "id": "a7d507ce-dcfd-4a06-b79e-e0e60fc5f0b2",
   "metadata": {},
   "outputs": [
    {
     "data": {
      "text/plain": [
       "((1, 23, 4, 4, 5, 6, 7), 'aB')"
      ]
     },
     "execution_count": 85,
     "metadata": {},
     "output_type": "execute_result"
    }
   ],
   "source": [
    "test3(1,23,4,4,5,6,7 , a ='aB')"
   ]
  },
  {
   "cell_type": "code",
   "execution_count": 86,
   "id": "475819d5-9808-46d5-8151-c8be536fa4df",
   "metadata": {},
   "outputs": [],
   "source": [
    "def test4(*args):\n",
    "    l = []\n",
    "    for i in args:\n",
    "        if type(i) == list :\n",
    "            l.append(i)\n",
    "    return l"
   ]
  },
  {
   "cell_type": "code",
   "execution_count": 88,
   "id": "a466a7aa-1c66-4d36-930f-c227c84c7bad",
   "metadata": {},
   "outputs": [
    {
     "data": {
      "text/plain": [
       "[[1, 23, 5, 6, 7], [465, 46465, 4548657, 4541354]]"
      ]
     },
     "execution_count": 88,
     "metadata": {},
     "output_type": "execute_result"
    }
   ],
   "source": [
    "test4(1,2,3,4,[1,23,5,6,7],(78,98,987,543), 'Abdulll', [465,46465,4548657,4541354])"
   ]
  },
  {
   "cell_type": "code",
   "execution_count": 89,
   "id": "acadbe7c-9f29-4578-b238-ad6dc3a888bc",
   "metadata": {},
   "outputs": [],
   "source": [
    "def test5(**kwargs):\n",
    "    return kwargs"
   ]
  },
  {
   "cell_type": "code",
   "execution_count": 90,
   "id": "8a5b6426-00f4-4402-9feb-7a8ef6849c6d",
   "metadata": {},
   "outputs": [
    {
     "data": {
      "text/plain": [
       "{}"
      ]
     },
     "execution_count": 90,
     "metadata": {},
     "output_type": "execute_result"
    }
   ],
   "source": [
    "test5()"
   ]
  },
  {
   "cell_type": "code",
   "execution_count": 92,
   "id": "b947f545-9092-4932-8df9-96a6f6a4f540",
   "metadata": {},
   "outputs": [
    {
     "data": {
      "text/plain": [
       "dict"
      ]
     },
     "execution_count": 92,
     "metadata": {},
     "output_type": "execute_result"
    }
   ],
   "source": [
    "type(test5())"
   ]
  },
  {
   "cell_type": "code",
   "execution_count": 94,
   "id": "d7f64e3b-a235-4c6f-8508-2e409ed94ae1",
   "metadata": {},
   "outputs": [
    {
     "data": {
      "text/plain": [
       "{'a': 45, 'b': 34354, 'c': 454, 'd': [3, 4, 5, 6], 'e': ('Abdullah', 'Reslan')}"
      ]
     },
     "execution_count": 94,
     "metadata": {},
     "output_type": "execute_result"
    }
   ],
   "source": [
    "test5(a= 45 , b=34354 , c=454 , d =[3,4,5,6], e = ('Abdullah','Reslan'))"
   ]
  },
  {
   "cell_type": "code",
   "execution_count": 95,
   "id": "974be37f-95d3-461f-b5b1-15481bf5092c",
   "metadata": {},
   "outputs": [],
   "source": [
    "def test6(**kwargs):\n",
    "    for i in kwargs.keys():\n",
    "        if type(kwargs[i]) == list :\n",
    "            return i,kwargs[i]"
   ]
  },
  {
   "cell_type": "code",
   "execution_count": 96,
   "id": "5d4d36a3-df13-4103-954f-40fbeba2e270",
   "metadata": {},
   "outputs": [
    {
     "data": {
      "text/plain": [
       "('d', [3, 4, 5, 6])"
      ]
     },
     "execution_count": 96,
     "metadata": {},
     "output_type": "execute_result"
    }
   ],
   "source": [
    "test6(a= 45 , b=34354 , c=454 , d =[3,4,5,6], e = ('Abdullah','Reslan'))"
   ]
  },
  {
   "cell_type": "code",
   "execution_count": 97,
   "id": "ac570321-4e70-4abb-9bd5-220fc2eaa033",
   "metadata": {},
   "outputs": [],
   "source": [
    "def test7(*args, **kwargs):\n",
    "    return args , kwargs"
   ]
  },
  {
   "cell_type": "code",
   "execution_count": 98,
   "id": "e713145d-6149-43c6-a607-fb466c9eb82d",
   "metadata": {},
   "outputs": [
    {
     "data": {
      "text/plain": [
       "((2, 3, 4, 5, 6), {'a': 45, 'b': 123})"
      ]
     },
     "execution_count": 98,
     "metadata": {},
     "output_type": "execute_result"
    }
   ],
   "source": [
    "test7(2,3,4,5,6, a=45, b=123)"
   ]
  },
  {
   "cell_type": "markdown",
   "id": "e2f778b0-cb02-4915-b0dc-c2a76b6226cf",
   "metadata": {},
   "source": [
    "# Generator Function"
   ]
  },
  {
   "cell_type": "code",
   "execution_count": 99,
   "id": "d39bc8d9-6adb-4eae-91b9-3bf88a34192a",
   "metadata": {},
   "outputs": [
    {
     "data": {
      "text/plain": [
       "range(1, 10)"
      ]
     },
     "execution_count": 99,
     "metadata": {},
     "output_type": "execute_result"
    }
   ],
   "source": [
    "range(1,10)"
   ]
  },
  {
   "cell_type": "code",
   "execution_count": 100,
   "id": "93902935-5ac1-4307-8455-bdde3efff5a0",
   "metadata": {},
   "outputs": [
    {
     "name": "stdout",
     "output_type": "stream",
     "text": [
      "1\n",
      "2\n",
      "3\n",
      "4\n",
      "5\n",
      "6\n",
      "7\n",
      "8\n",
      "9\n"
     ]
    }
   ],
   "source": [
    "for i in range(1,10):\n",
    "    print(i)"
   ]
  },
  {
   "cell_type": "code",
   "execution_count": 101,
   "id": "fa8fbb4c-0ee1-420a-a521-7bd921db1743",
   "metadata": {},
   "outputs": [],
   "source": [
    "l = [1,2,3,3,4,5,5,6,6,7, 'ABD','Data']"
   ]
  },
  {
   "cell_type": "code",
   "execution_count": 102,
   "id": "5abdfad1-ec9e-4d08-b707-a15597a206e9",
   "metadata": {},
   "outputs": [],
   "source": [
    "def test1(a):\n",
    "    n = []\n",
    "    for i in a :\n",
    "        if type(i) == int:\n",
    "            n.append(i)\n",
    "    return n"
   ]
  },
  {
   "cell_type": "code",
   "execution_count": 104,
   "id": "8fbc278b-4e7a-4067-ac72-fea1c03ff73d",
   "metadata": {},
   "outputs": [
    {
     "data": {
      "text/plain": [
       "[1, 2, 3, 3, 4, 5, 5, 6, 6, 7]"
      ]
     },
     "execution_count": 104,
     "metadata": {},
     "output_type": "execute_result"
    }
   ],
   "source": [
    "test1(l)"
   ]
  },
  {
   "cell_type": "code",
   "execution_count": 105,
   "id": "42a5f4c1-4e3e-4da7-9963-98153d7145bf",
   "metadata": {},
   "outputs": [
    {
     "ename": "SyntaxError",
     "evalue": "invalid syntax (4256780187.py, line 1)",
     "output_type": "error",
     "traceback": [
      "\u001b[0;36m  Cell \u001b[0;32mIn[105], line 1\u001b[0;36m\u001b[0m\n\u001b[0;31m    Fibonacci :\u001b[0m\n\u001b[0m               ^\u001b[0m\n\u001b[0;31mSyntaxError\u001b[0m\u001b[0;31m:\u001b[0m invalid syntax\n"
     ]
    }
   ],
   "source": [
    "Fibonacci :\n",
    "    0 ,1 ,1,2,3,5,8,13,21,34"
   ]
  },
  {
   "cell_type": "code",
   "execution_count": 107,
   "id": "40daa4d9-31dc-4a6a-8962-aa63578ed9b7",
   "metadata": {},
   "outputs": [],
   "source": [
    "def test_fib(n) :\n",
    "    a,b = 0,1\n",
    "    for i in range(n):\n",
    "        yield a\n",
    "        a,b = b, a+b"
   ]
  },
  {
   "cell_type": "code",
   "execution_count": 109,
   "id": "463454d5-4fce-4187-89e3-ee4f5c418525",
   "metadata": {},
   "outputs": [
    {
     "data": {
      "text/plain": [
       "<generator object test_fib at 0x7f034f213bc0>"
      ]
     },
     "execution_count": 109,
     "metadata": {},
     "output_type": "execute_result"
    }
   ],
   "source": [
    "test_fib(10)"
   ]
  },
  {
   "cell_type": "code",
   "execution_count": 110,
   "id": "172fec69-d5f3-44ea-b72f-b600053f25d3",
   "metadata": {},
   "outputs": [
    {
     "name": "stdout",
     "output_type": "stream",
     "text": [
      "0\n",
      "1\n",
      "1\n",
      "2\n",
      "3\n",
      "5\n",
      "8\n",
      "13\n",
      "21\n",
      "34\n"
     ]
    }
   ],
   "source": [
    "for i in test_fib(10) :\n",
    "    print(i)"
   ]
  },
  {
   "cell_type": "markdown",
   "id": "3e24b5a5-6112-42c7-9e0c-7918e85498bd",
   "metadata": {},
   "source": [
    "# Lambda Function"
   ]
  },
  {
   "cell_type": "code",
   "execution_count": 111,
   "id": "ce122b43-b88e-474c-91cf-0803c42a200c",
   "metadata": {},
   "outputs": [],
   "source": [
    "n = 3\n",
    "p = 2"
   ]
  },
  {
   "cell_type": "code",
   "execution_count": 112,
   "id": "c40a9218-bcf7-4ef0-9ed4-89fb5a5f998d",
   "metadata": {},
   "outputs": [],
   "source": [
    "def test(n,b):\n",
    "    return n**p"
   ]
  },
  {
   "cell_type": "code",
   "execution_count": 113,
   "id": "b4394762-f910-4f44-8d14-c8db9cc24a77",
   "metadata": {},
   "outputs": [
    {
     "data": {
      "text/plain": [
       "16"
      ]
     },
     "execution_count": 113,
     "metadata": {},
     "output_type": "execute_result"
    }
   ],
   "source": [
    "test(4,2)"
   ]
  },
  {
   "cell_type": "code",
   "execution_count": 114,
   "id": "aee59108-3331-40ad-b5a7-92dd276ec389",
   "metadata": {},
   "outputs": [
    {
     "data": {
      "text/plain": [
       "81"
      ]
     },
     "execution_count": 114,
     "metadata": {},
     "output_type": "execute_result"
    }
   ],
   "source": [
    "test(9,4)"
   ]
  },
  {
   "cell_type": "code",
   "execution_count": 116,
   "id": "59956fa6-a029-456b-9ba6-5159b0163aa1",
   "metadata": {},
   "outputs": [],
   "source": [
    "a =lambda n,p : n**p"
   ]
  },
  {
   "cell_type": "code",
   "execution_count": 117,
   "id": "4c5bf794-0efe-402b-b316-0db5fe1fd44c",
   "metadata": {},
   "outputs": [
    {
     "data": {
      "text/plain": [
       "9"
      ]
     },
     "execution_count": 117,
     "metadata": {},
     "output_type": "execute_result"
    }
   ],
   "source": [
    "a(3,2)"
   ]
  },
  {
   "cell_type": "code",
   "execution_count": 118,
   "id": "7494ff4d-fbf6-47dc-ab5c-71a7a32c07da",
   "metadata": {},
   "outputs": [
    {
     "data": {
      "text/plain": [
       "81"
      ]
     },
     "execution_count": 118,
     "metadata": {},
     "output_type": "execute_result"
    }
   ],
   "source": [
    "a(9,2)"
   ]
  },
  {
   "cell_type": "code",
   "execution_count": 119,
   "id": "3dcf4899-efaf-426e-805d-ada6f763fa82",
   "metadata": {},
   "outputs": [
    {
     "data": {
      "text/plain": [
       "531441"
      ]
     },
     "execution_count": 119,
     "metadata": {},
     "output_type": "execute_result"
    }
   ],
   "source": [
    "a(9,6)"
   ]
  },
  {
   "cell_type": "code",
   "execution_count": 120,
   "id": "d1208302-12a1-4d52-a088-3fa096c49554",
   "metadata": {},
   "outputs": [],
   "source": [
    "add = lambda x,y : x+y"
   ]
  },
  {
   "cell_type": "code",
   "execution_count": 121,
   "id": "48942cf2-8f71-4678-8a07-3de0aa2eb811",
   "metadata": {},
   "outputs": [
    {
     "data": {
      "text/plain": [
       "6"
      ]
     },
     "execution_count": 121,
     "metadata": {},
     "output_type": "execute_result"
    }
   ],
   "source": [
    "add(1,5)"
   ]
  },
  {
   "cell_type": "code",
   "execution_count": 122,
   "id": "665f0b82-cc40-45e1-9e2a-60ee776b3724",
   "metadata": {},
   "outputs": [],
   "source": [
    "c_to_f = lambda c :(9/5)*c+32"
   ]
  },
  {
   "cell_type": "code",
   "execution_count": 124,
   "id": "528c576d-b312-45c2-ba02-6de605972df1",
   "metadata": {},
   "outputs": [
    {
     "data": {
      "text/plain": [
       "120.2"
      ]
     },
     "execution_count": 124,
     "metadata": {},
     "output_type": "execute_result"
    }
   ],
   "source": [
    "c_to_f(49)"
   ]
  },
  {
   "cell_type": "code",
   "execution_count": 125,
   "id": "95ae48ec-5a86-4f45-a228-e67052f0963b",
   "metadata": {},
   "outputs": [],
   "source": [
    "max_two = lambda x,y : x if x>y else y"
   ]
  },
  {
   "cell_type": "code",
   "execution_count": 126,
   "id": "4f966b2a-5c05-4e79-8e69-49c8cfb5dcfd",
   "metadata": {},
   "outputs": [
    {
     "data": {
      "text/plain": [
       "6"
      ]
     },
     "execution_count": 126,
     "metadata": {},
     "output_type": "execute_result"
    }
   ],
   "source": [
    "max_two(5,6)"
   ]
  },
  {
   "cell_type": "code",
   "execution_count": 128,
   "id": "67867b29-a257-4593-b34c-6147a7a1e716",
   "metadata": {},
   "outputs": [
    {
     "data": {
      "text/plain": [
       "555"
      ]
     },
     "execution_count": 128,
     "metadata": {},
     "output_type": "execute_result"
    }
   ],
   "source": [
    "max_two(555,78)"
   ]
  },
  {
   "cell_type": "code",
   "execution_count": 129,
   "id": "69d1ed37-a8bd-4c58-a49d-369b7926bddc",
   "metadata": {},
   "outputs": [],
   "source": [
    "s = \"Pwskills\""
   ]
  },
  {
   "cell_type": "code",
   "execution_count": 130,
   "id": "87f5a57e-1f77-48a9-99fd-157afdf872b4",
   "metadata": {},
   "outputs": [
    {
     "data": {
      "text/plain": [
       "8"
      ]
     },
     "execution_count": 130,
     "metadata": {},
     "output_type": "execute_result"
    }
   ],
   "source": [
    "len(s)"
   ]
  },
  {
   "cell_type": "code",
   "execution_count": 131,
   "id": "c0fa2959-7486-4d2b-9085-6b06a5e3df33",
   "metadata": {},
   "outputs": [],
   "source": [
    "len_st = lambda s :len(s)"
   ]
  },
  {
   "cell_type": "code",
   "execution_count": 132,
   "id": "dc9b7360-9523-49c3-8840-bcdb6c8835e7",
   "metadata": {},
   "outputs": [
    {
     "data": {
      "text/plain": [
       "8"
      ]
     },
     "execution_count": 132,
     "metadata": {},
     "output_type": "execute_result"
    }
   ],
   "source": [
    "len_st(s)"
   ]
  },
  {
   "cell_type": "markdown",
   "id": "b3e36482-98be-4640-b033-529ad1778d75",
   "metadata": {},
   "source": [
    "# Map, Reduce & Filter Functions"
   ]
  },
  {
   "cell_type": "code",
   "execution_count": 136,
   "id": "5ed987b7-8d32-4554-94ec-7d4345fe0658",
   "metadata": {},
   "outputs": [],
   "source": [
    "l =[1,2,3,4,45,5]"
   ]
  },
  {
   "cell_type": "code",
   "execution_count": 137,
   "id": "4a83a058-a984-4ebc-84b6-7b2db98ff891",
   "metadata": {},
   "outputs": [],
   "source": [
    "def test(l):\n",
    "    l1 =[]\n",
    "    for i in l:\n",
    "        l1.append(i**2)\n",
    "    return l1"
   ]
  },
  {
   "cell_type": "code",
   "execution_count": 138,
   "id": "bab66ff0-71e9-463c-ad6f-e6c55ec1cf6f",
   "metadata": {},
   "outputs": [
    {
     "data": {
      "text/plain": [
       "[1, 4, 9, 16, 2025, 25]"
      ]
     },
     "execution_count": 138,
     "metadata": {},
     "output_type": "execute_result"
    }
   ],
   "source": [
    "test(l)"
   ]
  },
  {
   "cell_type": "code",
   "execution_count": 139,
   "id": "f5855014-6e83-4e33-8e09-cba5b9363094",
   "metadata": {},
   "outputs": [],
   "source": [
    "def sq(x):\n",
    "    return x**2"
   ]
  },
  {
   "cell_type": "code",
   "execution_count": 140,
   "id": "a18c2415-2b0e-4f4b-a839-23838049ccf9",
   "metadata": {},
   "outputs": [
    {
     "data": {
      "text/plain": [
       "<map at 0x7f036829c0d0>"
      ]
     },
     "execution_count": 140,
     "metadata": {},
     "output_type": "execute_result"
    }
   ],
   "source": [
    "map(sq,l)"
   ]
  },
  {
   "cell_type": "code",
   "execution_count": 141,
   "id": "900830de-1750-4ee3-93c1-ed97cfde2ca3",
   "metadata": {},
   "outputs": [
    {
     "data": {
      "text/plain": [
       "[1, 4, 9, 16, 2025, 25]"
      ]
     },
     "execution_count": 141,
     "metadata": {},
     "output_type": "execute_result"
    }
   ],
   "source": [
    "list(map(sq,l))"
   ]
  },
  {
   "cell_type": "code",
   "execution_count": 143,
   "id": "98dea956-8b3c-46af-aeb0-5cb36312d7cb",
   "metadata": {},
   "outputs": [
    {
     "data": {
      "text/plain": [
       "[11, 12, 13, 14, 55, 15]"
      ]
     },
     "execution_count": 143,
     "metadata": {},
     "output_type": "execute_result"
    }
   ],
   "source": [
    "list(map(lambda x : x+10 ,l ))"
   ]
  },
  {
   "cell_type": "code",
   "execution_count": 144,
   "id": "2030efc5-4658-4383-b732-5221a2f9daa3",
   "metadata": {},
   "outputs": [
    {
     "data": {
      "text/plain": [
       "['1', '2', '3', '4', '45', '5']"
      ]
     },
     "execution_count": 144,
     "metadata": {},
     "output_type": "execute_result"
    }
   ],
   "source": [
    "list(map(lambda x : str(x) , l))"
   ]
  },
  {
   "cell_type": "code",
   "execution_count": 145,
   "id": "ef0b2d4d-9d22-43fb-b5ba-7c9e8ae049fd",
   "metadata": {},
   "outputs": [],
   "source": [
    "l1 = [1,2,3,4,5]\n",
    "l2 = [6,7,8,9,10]"
   ]
  },
  {
   "cell_type": "code",
   "execution_count": 146,
   "id": "e04574b8-64bc-49ff-a656-258dc43330e8",
   "metadata": {},
   "outputs": [
    {
     "data": {
      "text/plain": [
       "[7, 9, 11, 13, 15]"
      ]
     },
     "execution_count": 146,
     "metadata": {},
     "output_type": "execute_result"
    }
   ],
   "source": [
    "list(map(lambda x,y : x+y , l1,l2))"
   ]
  },
  {
   "cell_type": "code",
   "execution_count": 149,
   "id": "ae95bee5-5d3f-4e3a-ae0c-d2d9463e500a",
   "metadata": {},
   "outputs": [],
   "source": [
    "#or\n",
    "f = lambda x,y :x+y"
   ]
  },
  {
   "cell_type": "code",
   "execution_count": 148,
   "id": "37f06e3d-e821-4a3a-842a-f0c23323cf81",
   "metadata": {},
   "outputs": [
    {
     "data": {
      "text/plain": [
       "[7, 9, 11, 13, 15]"
      ]
     },
     "execution_count": 148,
     "metadata": {},
     "output_type": "execute_result"
    }
   ],
   "source": [
    "list(map(f, l1,l2))"
   ]
  },
  {
   "cell_type": "code",
   "execution_count": 150,
   "id": "34639ede-f123-41e5-b474-6022fe3567ed",
   "metadata": {},
   "outputs": [],
   "source": [
    "s = \"Pwskills\""
   ]
  },
  {
   "cell_type": "code",
   "execution_count": 151,
   "id": "fa2b3a1f-28ec-4769-ae7d-1fc97d44986d",
   "metadata": {},
   "outputs": [
    {
     "data": {
      "text/plain": [
       "['P', 'W', 'S', 'K', 'I', 'L', 'L', 'S']"
      ]
     },
     "execution_count": 151,
     "metadata": {},
     "output_type": "execute_result"
    }
   ],
   "source": [
    "list(map(lambda x : x.upper() , s))"
   ]
  },
  {
   "cell_type": "markdown",
   "id": "479bd26b-2976-4997-a95d-a5112f643285",
   "metadata": {},
   "source": [
    "### Reduce\n"
   ]
  },
  {
   "cell_type": "code",
   "execution_count": 152,
   "id": "1730b8ac-7e50-4f09-a4fc-e304252abab1",
   "metadata": {},
   "outputs": [],
   "source": [
    "from functools import reduce"
   ]
  },
  {
   "cell_type": "code",
   "execution_count": 153,
   "id": "b94d5675-ccfc-4374-af1c-653858c2e0f9",
   "metadata": {},
   "outputs": [],
   "source": [
    "l = [1,2,3,4,5,4]"
   ]
  },
  {
   "cell_type": "code",
   "execution_count": 154,
   "id": "dfa8385d-adb1-4655-8f07-497621ee2b30",
   "metadata": {},
   "outputs": [
    {
     "data": {
      "text/plain": [
       "19"
      ]
     },
     "execution_count": 154,
     "metadata": {},
     "output_type": "execute_result"
    }
   ],
   "source": [
    "reduce(lambda x, y : x+y , l)"
   ]
  },
  {
   "cell_type": "code",
   "execution_count": 155,
   "id": "40cbd132-6e95-4d7d-a7f7-0ddc8ff5bf54",
   "metadata": {},
   "outputs": [],
   "source": [
    "def add(x,y):\n",
    "    return x+y"
   ]
  },
  {
   "cell_type": "code",
   "execution_count": 159,
   "id": "6cc17df3-e001-47d7-ac86-5c1448ee3312",
   "metadata": {},
   "outputs": [
    {
     "data": {
      "text/plain": [
       "19"
      ]
     },
     "execution_count": 159,
     "metadata": {},
     "output_type": "execute_result"
    }
   ],
   "source": [
    "reduce (add, l)"
   ]
  },
  {
   "cell_type": "code",
   "execution_count": 160,
   "id": "5f9e98b5-a1c5-40d9-ab92-14dc9a7087f2",
   "metadata": {},
   "outputs": [
    {
     "ename": "TypeError",
     "evalue": "<lambda>() missing 1 required positional argument: 'z'",
     "output_type": "error",
     "traceback": [
      "\u001b[0;31m---------------------------------------------------------------------------\u001b[0m",
      "\u001b[0;31mTypeError\u001b[0m                                 Traceback (most recent call last)",
      "Cell \u001b[0;32mIn[160], line 1\u001b[0m\n\u001b[0;32m----> 1\u001b[0m \u001b[43mreduce\u001b[49m\u001b[43m(\u001b[49m\u001b[38;5;28;43;01mlambda\u001b[39;49;00m\u001b[43m \u001b[49m\u001b[43mx\u001b[49m\u001b[43m,\u001b[49m\u001b[43my\u001b[49m\u001b[43m,\u001b[49m\u001b[43mz\u001b[49m\u001b[43m \u001b[49m\u001b[43m:\u001b[49m\u001b[43m \u001b[49m\u001b[43mx\u001b[49m\u001b[38;5;241;43m+\u001b[39;49m\u001b[43my\u001b[49m\u001b[38;5;241;43m+\u001b[39;49m\u001b[43mz\u001b[49m\u001b[43m \u001b[49m\u001b[43m,\u001b[49m\u001b[43m \u001b[49m\u001b[43ml\u001b[49m\u001b[43m)\u001b[49m\n",
      "\u001b[0;31mTypeError\u001b[0m: <lambda>() missing 1 required positional argument: 'z'"
     ]
    }
   ],
   "source": [
    "reduce(lambda x,y,z : x+y+z , l)"
   ]
  },
  {
   "cell_type": "code",
   "execution_count": 161,
   "id": "c4fe91e9-422d-49c4-a4d2-312645e13619",
   "metadata": {},
   "outputs": [
    {
     "ename": "TypeError",
     "evalue": "reduce() of empty iterable with no initial value",
     "output_type": "error",
     "traceback": [
      "\u001b[0;31m---------------------------------------------------------------------------\u001b[0m",
      "\u001b[0;31mTypeError\u001b[0m                                 Traceback (most recent call last)",
      "Cell \u001b[0;32mIn[161], line 1\u001b[0m\n\u001b[0;32m----> 1\u001b[0m \u001b[43mreduce\u001b[49m\u001b[43m(\u001b[49m\u001b[38;5;28;43;01mlambda\u001b[39;49;00m\u001b[43m \u001b[49m\u001b[43mx\u001b[49m\u001b[43m,\u001b[49m\u001b[43my\u001b[49m\u001b[43m \u001b[49m\u001b[43m:\u001b[49m\u001b[43m \u001b[49m\u001b[43mx\u001b[49m\u001b[38;5;241;43m+\u001b[39;49m\u001b[43my\u001b[49m\u001b[43m \u001b[49m\u001b[43m,\u001b[49m\u001b[43m[\u001b[49m\u001b[43m]\u001b[49m\u001b[43m)\u001b[49m\n",
      "\u001b[0;31mTypeError\u001b[0m: reduce() of empty iterable with no initial value"
     ]
    }
   ],
   "source": [
    "reduce(lambda x,y : x+y ,[])"
   ]
  },
  {
   "cell_type": "code",
   "execution_count": 162,
   "id": "d50b8cd8-3c77-41d1-a498-1fdaf5ff260c",
   "metadata": {},
   "outputs": [
    {
     "data": {
      "text/plain": [
       "1"
      ]
     },
     "execution_count": 162,
     "metadata": {},
     "output_type": "execute_result"
    }
   ],
   "source": [
    "#Ausnahme\n",
    "reduce(lambda x, y : x*y , [1])"
   ]
  },
  {
   "cell_type": "code",
   "execution_count": 163,
   "id": "1a37ca62-f0a9-4ebc-90f3-2192549925fa",
   "metadata": {},
   "outputs": [
    {
     "data": {
      "text/plain": [
       "1"
      ]
     },
     "execution_count": 163,
     "metadata": {},
     "output_type": "execute_result"
    }
   ],
   "source": [
    "reduce(lambda x ,y : x+y , [1])"
   ]
  },
  {
   "cell_type": "code",
   "execution_count": 164,
   "id": "763a0b93-a7ef-41b1-b7d1-942bb80d20c5",
   "metadata": {},
   "outputs": [
    {
     "data": {
      "text/plain": [
       "[1, 2, 3, 4, 5, 4]"
      ]
     },
     "execution_count": 164,
     "metadata": {},
     "output_type": "execute_result"
    }
   ],
   "source": [
    "l"
   ]
  },
  {
   "cell_type": "code",
   "execution_count": 165,
   "id": "b26b26f9-4983-4cd9-a34b-eff8c93937cd",
   "metadata": {},
   "outputs": [
    {
     "data": {
      "text/plain": [
       "5"
      ]
     },
     "execution_count": 165,
     "metadata": {},
     "output_type": "execute_result"
    }
   ],
   "source": [
    "reduce(lambda x,y : x if x>y else y ,l)"
   ]
  },
  {
   "cell_type": "markdown",
   "id": "c9b0a5ca-6d04-44bf-b506-5ecb99264efa",
   "metadata": {},
   "source": [
    "### Filter"
   ]
  },
  {
   "cell_type": "code",
   "execution_count": 166,
   "id": "c501a066-8d84-4456-8273-03d4d267bf60",
   "metadata": {},
   "outputs": [
    {
     "data": {
      "text/plain": [
       "[1, 2, 3, 4, 5, 4]"
      ]
     },
     "execution_count": 166,
     "metadata": {},
     "output_type": "execute_result"
    }
   ],
   "source": [
    "l"
   ]
  },
  {
   "cell_type": "code",
   "execution_count": 168,
   "id": "61ce3720-7d9a-47e8-ba07-ff8c24fe59b6",
   "metadata": {},
   "outputs": [
    {
     "data": {
      "text/plain": [
       "[2, 4, 4]"
      ]
     },
     "execution_count": 168,
     "metadata": {},
     "output_type": "execute_result"
    }
   ],
   "source": [
    "list(filter(lambda x: x%2 == 0 ,l))"
   ]
  },
  {
   "cell_type": "code",
   "execution_count": 170,
   "id": "164e07d2-203e-433e-a222-50f7fb1c965d",
   "metadata": {},
   "outputs": [
    {
     "data": {
      "text/plain": [
       "[1, 3, 5]"
      ]
     },
     "execution_count": 170,
     "metadata": {},
     "output_type": "execute_result"
    }
   ],
   "source": [
    "list(filter(lambda x: x%2 !=0, l))"
   ]
  },
  {
   "cell_type": "code",
   "execution_count": 172,
   "id": "f94bba05-6503-4f85-a53b-9ac758afa9c0",
   "metadata": {},
   "outputs": [],
   "source": [
    "l1 = [-2,-5,-8,-7,45,6,-44]"
   ]
  },
  {
   "cell_type": "code",
   "execution_count": 173,
   "id": "afcc9a2f-c87b-4965-9222-eb2a93ecfb34",
   "metadata": {},
   "outputs": [
    {
     "data": {
      "text/plain": [
       "[45, 6]"
      ]
     },
     "execution_count": 173,
     "metadata": {},
     "output_type": "execute_result"
    }
   ],
   "source": [
    "list(filter(lambda x : x>0 ,l1))"
   ]
  },
  {
   "cell_type": "code",
   "execution_count": 174,
   "id": "8ed03b33-ad21-49f3-a1ee-1d26fbb398de",
   "metadata": {},
   "outputs": [
    {
     "data": {
      "text/plain": [
       "[-2, -5, -8, -7, -44]"
      ]
     },
     "execution_count": 174,
     "metadata": {},
     "output_type": "execute_result"
    }
   ],
   "source": [
    "list(filter(lambda x : x<0 , l1))\n",
    "            "
   ]
  },
  {
   "cell_type": "code",
   "execution_count": 175,
   "id": "888a3bd8-1c16-4f44-82cb-6d6646ec820d",
   "metadata": {},
   "outputs": [],
   "source": [
    "l2 = ['ABDUL',\"pwskills\",\"kumar\",\"ovgo magdeburg\",\"otto von\"]"
   ]
  },
  {
   "cell_type": "code",
   "execution_count": 176,
   "id": "a156ae44-13a1-4040-b3a7-adb390c74431",
   "metadata": {},
   "outputs": [
    {
     "data": {
      "text/plain": [
       "['ABDUL', 'kumar']"
      ]
     },
     "execution_count": 176,
     "metadata": {},
     "output_type": "execute_result"
    }
   ],
   "source": [
    "list(filter(lambda x : len(x) < 6 , l2))"
   ]
  },
  {
   "cell_type": "code",
   "execution_count": null,
   "id": "33541e20-cce9-4753-9b8d-df06b3f8cdd1",
   "metadata": {},
   "outputs": [],
   "source": []
  }
 ],
 "metadata": {
  "kernelspec": {
   "display_name": "Python 3 (ipykernel)",
   "language": "python",
   "name": "python3"
  },
  "language_info": {
   "codemirror_mode": {
    "name": "ipython",
    "version": 3
   },
   "file_extension": ".py",
   "mimetype": "text/x-python",
   "name": "python",
   "nbconvert_exporter": "python",
   "pygments_lexer": "ipython3",
   "version": "3.10.8"
  }
 },
 "nbformat": 4,
 "nbformat_minor": 5
}
