{
 "cells": [
  {
   "cell_type": "code",
   "execution_count": 1,
   "id": "22d50ca1-eb2c-4512-b929-b537a72f5b5a",
   "metadata": {},
   "outputs": [],
   "source": [
    "name=\"Data Scince Masters\""
   ]
  },
  {
   "cell_type": "code",
   "execution_count": 2,
   "id": "b0d565ce-4b4d-4642-ad1f-0e2442bfdaaf",
   "metadata": {},
   "outputs": [
    {
     "data": {
      "text/plain": [
       "'dATA sCINCE mASTERS'"
      ]
     },
     "execution_count": 2,
     "metadata": {},
     "output_type": "execute_result"
    }
   ],
   "source": [
    "name.swapcase()"
   ]
  },
  {
   "cell_type": "code",
   "execution_count": 3,
   "id": "23a496ec-8398-4adc-9ece-b5147b4fbd91",
   "metadata": {},
   "outputs": [
    {
     "data": {
      "text/plain": [
       "'Data Scince Masters'"
      ]
     },
     "execution_count": 3,
     "metadata": {},
     "output_type": "execute_result"
    }
   ],
   "source": [
    "name.title()"
   ]
  },
  {
   "cell_type": "code",
   "execution_count": 6,
   "id": "28a89c8c-0524-488d-84d1-80d138854407",
   "metadata": {},
   "outputs": [
    {
     "data": {
      "text/plain": [
       "'Data scince masters'"
      ]
     },
     "execution_count": 6,
     "metadata": {},
     "output_type": "execute_result"
    }
   ],
   "source": [
    "name.capitalize()"
   ]
  },
  {
   "cell_type": "markdown",
   "id": "2142ecdb-1f26-4762-a9e0-eee83745cd01",
   "metadata": {},
   "source": [
    "# Reversing a String"
   ]
  },
  {
   "cell_type": "code",
   "execution_count": 7,
   "id": "36aad868-5bed-48a3-95c4-3173122ab129",
   "metadata": {},
   "outputs": [
    {
     "data": {
      "text/plain": [
       "'sretsaM ecnicS ataD'"
      ]
     },
     "execution_count": 7,
     "metadata": {},
     "output_type": "execute_result"
    }
   ],
   "source": [
    "name[::-1]"
   ]
  },
  {
   "cell_type": "code",
   "execution_count": 10,
   "id": "da232d8f-999b-45cb-964c-157bbf0de0ec",
   "metadata": {},
   "outputs": [
    {
     "data": {
      "text/plain": [
       "'s r e t s a M   e c n i c S   a t a D'"
      ]
     },
     "execution_count": 10,
     "metadata": {},
     "output_type": "execute_result"
    }
   ],
   "source": [
    "' '.join(reversed(name))"
   ]
  },
  {
   "cell_type": "code",
   "execution_count": 12,
   "id": "c0f01868-70ef-48c0-b43f-8bc53a95ff5b",
   "metadata": {},
   "outputs": [
    {
     "data": {
      "text/plain": [
       "'R Abdullah e Abdullah s Abdullah l Abdullah a Abdullah n'"
      ]
     },
     "execution_count": 12,
     "metadata": {},
     "output_type": "execute_result"
    }
   ],
   "source": [
    "\" Abdullah \".join('Reslan')"
   ]
  },
  {
   "cell_type": "code",
   "execution_count": 13,
   "id": "0602c0d5-721c-4868-a321-2805d8e82abd",
   "metadata": {},
   "outputs": [
    {
     "data": {
      "text/plain": [
       "'t Pwskills n Pwskills a'"
      ]
     },
     "execution_count": 13,
     "metadata": {},
     "output_type": "execute_result"
    }
   ],
   "source": [
    "\" Pwskills \".join(reversed(\"ant\"))"
   ]
  },
  {
   "cell_type": "code",
   "execution_count": 25,
   "id": "22eba3eb-5dad-4f79-b842-c809cf6ae342",
   "metadata": {},
   "outputs": [
    {
     "data": {
      "text/plain": [
       "['t', 'n', 'a']"
      ]
     },
     "execution_count": 25,
     "metadata": {},
     "output_type": "execute_result"
    }
   ],
   "source": [
    "##type casting\n",
    "list(reversed(\"ant\"))"
   ]
  },
  {
   "cell_type": "code",
   "execution_count": 16,
   "id": "9512f18c-4b5c-4164-8ec0-7347da5ab51d",
   "metadata": {},
   "outputs": [],
   "source": [
    "str1=\"Pw is a good company\""
   ]
  },
  {
   "cell_type": "code",
   "execution_count": 24,
   "id": "053fa183-f618-40df-8c32-d661772ffe87",
   "metadata": {},
   "outputs": [
    {
     "data": {
      "text/plain": [
       "'PSkillswSkills SkillsiSkillssSkills SkillsaSkills SkillsgSkillsoSkillsoSkillsdSkills SkillscSkillsoSkillsmSkillspSkillsaSkillsnSkillsy'"
      ]
     },
     "execution_count": 24,
     "metadata": {},
     "output_type": "execute_result"
    }
   ],
   "source": [
    "\"Skills\".join(str1)"
   ]
  },
  {
   "cell_type": "code",
   "execution_count": 26,
   "id": "6ee4dbfc-df8a-4e4d-a8b1-e87039fe1b9b",
   "metadata": {},
   "outputs": [],
   "source": [
    "##removing character from the end of the string"
   ]
  },
  {
   "cell_type": "code",
   "execution_count": 32,
   "id": "b5d601d4-c160-4297-a2ef-b4e611cd38b6",
   "metadata": {},
   "outputs": [
    {
     "name": "stdout",
     "output_type": "stream",
     "text": [
      "sretsaM ecnicS ataD"
     ]
    }
   ],
   "source": [
    "for i in list(reversed(name)):\n",
    "    print(i,end='')"
   ]
  },
  {
   "cell_type": "code",
   "execution_count": 35,
   "id": "e083e9e4-dad4-45ab-bd3f-2516aa0ce71a",
   "metadata": {},
   "outputs": [],
   "source": [
    "string_a=\" pwskills \""
   ]
  },
  {
   "cell_type": "code",
   "execution_count": 39,
   "id": "ab89993a-6b47-460a-8060-be484c62d794",
   "metadata": {},
   "outputs": [
    {
     "data": {
      "text/plain": [
       "'pwskills'"
      ]
     },
     "execution_count": 39,
     "metadata": {},
     "output_type": "execute_result"
    }
   ],
   "source": [
    "string_a.strip(\" \")"
   ]
  },
  {
   "cell_type": "code",
   "execution_count": 40,
   "id": "e9b93bf4-bbd6-440d-85c9-374f1100d6ef",
   "metadata": {},
   "outputs": [
    {
     "data": {
      "text/plain": [
       "'pwskills '"
      ]
     },
     "execution_count": 40,
     "metadata": {},
     "output_type": "execute_result"
    }
   ],
   "source": [
    "string_a.lstrip(' ')"
   ]
  },
  {
   "cell_type": "code",
   "execution_count": 41,
   "id": "1d2b3ca5-6948-4ffb-9b58-0293774c2692",
   "metadata": {},
   "outputs": [
    {
     "data": {
      "text/plain": [
       "' pwskills'"
      ]
     },
     "execution_count": 41,
     "metadata": {},
     "output_type": "execute_result"
    }
   ],
   "source": [
    "string_a.rstrip(' ')"
   ]
  },
  {
   "cell_type": "code",
   "execution_count": 42,
   "id": "4759564b-8cac-4e4c-93d9-ee1374b1d810",
   "metadata": {},
   "outputs": [
    {
     "data": {
      "text/plain": [
       "'Greeting from Pwskills'"
      ]
     },
     "execution_count": 42,
     "metadata": {},
     "output_type": "execute_result"
    }
   ],
   "source": [
    "string_n=\"Greeting to Pwskills\"\n",
    "string_n.replace(\"to\",\"from\")"
   ]
  },
  {
   "cell_type": "code",
   "execution_count": 43,
   "id": "60a76e4e-3e1e-4b8b-a342-59914340038e",
   "metadata": {},
   "outputs": [
    {
     "data": {
      "text/plain": [
       "'Grddting to Pwskills'"
      ]
     },
     "execution_count": 43,
     "metadata": {},
     "output_type": "execute_result"
    }
   ],
   "source": [
    "string_n.replace('e','d')"
   ]
  },
  {
   "cell_type": "code",
   "execution_count": 45,
   "id": "a8ad75ff-c114-491c-9837-ecae849ca7af",
   "metadata": {},
   "outputs": [
    {
     "data": {
      "text/plain": [
       "'hello worlds'"
      ]
     },
     "execution_count": 45,
     "metadata": {},
     "output_type": "execute_result"
    }
   ],
   "source": [
    "\"hello worlds\""
   ]
  },
  {
   "cell_type": "code",
   "execution_count": 51,
   "id": "2d44688a-8099-4ffb-ad40-d275889c5ddf",
   "metadata": {},
   "outputs": [
    {
     "data": {
      "text/plain": [
       "'hello   world'"
      ]
     },
     "execution_count": 51,
     "metadata": {},
     "output_type": "execute_result"
    }
   ],
   "source": [
    "\"hello \\tworld\".expandtabs()"
   ]
  },
  {
   "cell_type": "code",
   "execution_count": 1,
   "id": "1b8d6c12-48c5-46cf-842c-5fdf6520ea20",
   "metadata": {},
   "outputs": [],
   "source": [
    "str1=\"Welcome to pwskills .Welcome to Dat cience Masters\""
   ]
  },
  {
   "cell_type": "code",
   "execution_count": 14,
   "id": "b4f9a7a2-00bf-4bc3-a34b-72fac0c8602b",
   "metadata": {},
   "outputs": [
    {
     "data": {
      "text/plain": [
       "'Welcome to pwskills .Welcome to Data Science Masters'"
      ]
     },
     "execution_count": 14,
     "metadata": {},
     "output_type": "execute_result"
    }
   ],
   "source": [
    "str1.replace(\"Dat\",\"Data\").replace(\"cience\",\"Science\")\n",
    "\n"
   ]
  },
  {
   "cell_type": "code",
   "execution_count": 15,
   "id": "05e6bf47-8dd2-432f-8c87-cfda41f2ca4a",
   "metadata": {},
   "outputs": [
    {
     "data": {
      "text/plain": [
       "'Welcome to pwskills .Welcome to Dat cience Masters'"
      ]
     },
     "execution_count": 15,
     "metadata": {},
     "output_type": "execute_result"
    }
   ],
   "source": [
    "str1"
   ]
  },
  {
   "cell_type": "code",
   "execution_count": 16,
   "id": "472cab9b-3179-4c4a-8ba7-de73026e0f2b",
   "metadata": {},
   "outputs": [
    {
     "data": {
      "text/plain": [
       "False"
      ]
     },
     "execution_count": 16,
     "metadata": {},
     "output_type": "execute_result"
    }
   ],
   "source": [
    "str1.isupper()"
   ]
  },
  {
   "cell_type": "code",
   "execution_count": 19,
   "id": "8e053940-0950-4366-8df4-6d5179d5878d",
   "metadata": {},
   "outputs": [],
   "source": [
    "str1=\"ABDULLAH\""
   ]
  },
  {
   "cell_type": "code",
   "execution_count": 20,
   "id": "999f5a58-827b-4dbe-ab2c-33b9d7d37ccf",
   "metadata": {},
   "outputs": [
    {
     "data": {
      "text/plain": [
       "True"
      ]
     },
     "execution_count": 20,
     "metadata": {},
     "output_type": "execute_result"
    }
   ],
   "source": [
    "str1.isupper()"
   ]
  },
  {
   "cell_type": "code",
   "execution_count": 22,
   "id": "d1fe8e91-1d0d-46cd-bf1d-ff6940b7f090",
   "metadata": {},
   "outputs": [
    {
     "data": {
      "text/plain": [
       "False"
      ]
     },
     "execution_count": 22,
     "metadata": {},
     "output_type": "execute_result"
    }
   ],
   "source": [
    "str1.islower()"
   ]
  },
  {
   "cell_type": "code",
   "execution_count": 23,
   "id": "01ca78b2-9cd3-418d-9cb1-f5a6b3432bcb",
   "metadata": {},
   "outputs": [
    {
     "data": {
      "text/plain": [
       "False"
      ]
     },
     "execution_count": 23,
     "metadata": {},
     "output_type": "execute_result"
    }
   ],
   "source": [
    "str1.isspace()"
   ]
  },
  {
   "cell_type": "code",
   "execution_count": 25,
   "id": "4f8ed3fe-cdd2-45e6-8646-d50be411976f",
   "metadata": {},
   "outputs": [
    {
     "data": {
      "text/plain": [
       "True"
      ]
     },
     "execution_count": 25,
     "metadata": {},
     "output_type": "execute_result"
    }
   ],
   "source": [
    "\" \".isspace()"
   ]
  },
  {
   "cell_type": "code",
   "execution_count": 26,
   "id": "40f17655-2e3a-435c-aea9-094e8b2f43b3",
   "metadata": {},
   "outputs": [
    {
     "data": {
      "text/plain": [
       "'ABDULLAH'"
      ]
     },
     "execution_count": 26,
     "metadata": {},
     "output_type": "execute_result"
    }
   ],
   "source": [
    "str1"
   ]
  },
  {
   "cell_type": "code",
   "execution_count": 27,
   "id": "034dd1e1-2bec-41b3-a26a-36705e8aad7b",
   "metadata": {},
   "outputs": [
    {
     "name": "stdout",
     "output_type": "stream",
     "text": [
      "UP\n"
     ]
    }
   ],
   "source": [
    "if str1.isspace():\n",
    "    print(\"Khali\")\n",
    "elif str1.islower():\n",
    "    print('LOW')\n",
    "elif str1.isupper():\n",
    "    print('UP')\n",
    "else:\n",
    "    print('Hello World')"
   ]
  },
  {
   "cell_type": "code",
   "execution_count": 28,
   "id": "a0b5740e-21c4-469e-a11a-ce101b64394a",
   "metadata": {},
   "outputs": [],
   "source": [
    "str2=\"pwskills\""
   ]
  },
  {
   "cell_type": "code",
   "execution_count": 29,
   "id": "8ca49fbd-dabc-4ef8-8189-4f66a4d708ba",
   "metadata": {},
   "outputs": [
    {
     "data": {
      "text/plain": [
       "False"
      ]
     },
     "execution_count": 29,
     "metadata": {},
     "output_type": "execute_result"
    }
   ],
   "source": [
    "str2.endswith(\"S\")"
   ]
  },
  {
   "cell_type": "code",
   "execution_count": 30,
   "id": "94cc70b4-903e-45c1-8b20-99a601431244",
   "metadata": {},
   "outputs": [
    {
     "data": {
      "text/plain": [
       "True"
      ]
     },
     "execution_count": 30,
     "metadata": {},
     "output_type": "execute_result"
    }
   ],
   "source": [
    "str2.endswith('s')"
   ]
  },
  {
   "cell_type": "code",
   "execution_count": 35,
   "id": "f1e58e8e-692e-41ad-9999-53e31bc2e79b",
   "metadata": {},
   "outputs": [
    {
     "data": {
      "text/plain": [
       "True"
      ]
     },
     "execution_count": 35,
     "metadata": {},
     "output_type": "execute_result"
    }
   ],
   "source": [
    "str2.startswith('p')"
   ]
  },
  {
   "cell_type": "code",
   "execution_count": 36,
   "id": "d5fd8108-cbec-4057-85ea-4cea6d6a5d7a",
   "metadata": {},
   "outputs": [
    {
     "data": {
      "text/plain": [
       "True"
      ]
     },
     "execution_count": 36,
     "metadata": {},
     "output_type": "execute_result"
    }
   ],
   "source": [
    "## check if all the char in string are alphanumeric\n",
    "a='abcd12340'\n",
    "a.isalnum()"
   ]
  },
  {
   "cell_type": "code",
   "execution_count": 38,
   "id": "10212c7b-d710-477c-8ae6-aca0edd8f37e",
   "metadata": {},
   "outputs": [],
   "source": [
    "## to count the number of character in the strings"
   ]
  },
  {
   "cell_type": "code",
   "execution_count": 39,
   "id": "261e8cf2-7b24-46d1-8ba9-565df5244d8f",
   "metadata": {},
   "outputs": [
    {
     "name": "stdout",
     "output_type": "stream",
     "text": [
      "8\n"
     ]
    }
   ],
   "source": [
    "count=0 \n",
    "for i in str2:\n",
    "    count=count+1\n",
    "print(count)"
   ]
  },
  {
   "cell_type": "code",
   "execution_count": 40,
   "id": "29337d52-6da2-4de1-b932-a590976e174e",
   "metadata": {},
   "outputs": [
    {
     "data": {
      "text/plain": [
       "8"
      ]
     },
     "execution_count": 40,
     "metadata": {},
     "output_type": "execute_result"
    }
   ],
   "source": [
    "len(str2)"
   ]
  },
  {
   "cell_type": "code",
   "execution_count": 41,
   "id": "3feae81f-8b82-4ef1-ac71-b3de39a07c5a",
   "metadata": {},
   "outputs": [
    {
     "data": {
      "text/plain": [
       "'pwskills'"
      ]
     },
     "execution_count": 41,
     "metadata": {},
     "output_type": "execute_result"
    }
   ],
   "source": [
    "str2"
   ]
  },
  {
   "cell_type": "code",
   "execution_count": 42,
   "id": "aeb32f26-0e19-47ee-88f2-a5b6096c8bfd",
   "metadata": {},
   "outputs": [
    {
     "name": "stdout",
     "output_type": "stream",
     "text": [
      "p\n",
      "w\n",
      "s\n",
      "k\n",
      "i\n",
      "l\n",
      "l\n",
      "s\n"
     ]
    }
   ],
   "source": [
    "for i in str2:\n",
    "    print(i)"
   ]
  },
  {
   "cell_type": "code",
   "execution_count": 45,
   "id": "c2511def-c417-410c-bfcc-7a379bc5840f",
   "metadata": {},
   "outputs": [
    {
     "name": "stdout",
     "output_type": "stream",
     "text": [
      "0 = p\n",
      "1 = w\n",
      "2 = s\n",
      "3 = k\n",
      "4 = i\n",
      "5 = l\n",
      "6 = l\n",
      "7 = s\n"
     ]
    }
   ],
   "source": [
    "for i in range(len(str2)):\n",
    "    print(i,'=',str2[i])"
   ]
  },
  {
   "cell_type": "code",
   "execution_count": 46,
   "id": "2b2314be-2fa5-46b7-b957-69a98fee77f4",
   "metadata": {},
   "outputs": [],
   "source": [
    "# We can use index to iterate string reverse direction"
   ]
  },
  {
   "cell_type": "code",
   "execution_count": 53,
   "id": "3e74f1f5-92b7-41d8-97c1-f4b1e88baf95",
   "metadata": {},
   "outputs": [
    {
     "name": "stdout",
     "output_type": "stream",
     "text": [
      "7 s\n",
      "6 l\n",
      "5 l\n",
      "4 i\n",
      "3 k\n",
      "2 s\n",
      "1 w\n",
      "0 p\n"
     ]
    }
   ],
   "source": [
    "for i in range(len(str2)-1,-1,-1):\n",
    "    print(i,str2[i])"
   ]
  },
  {
   "cell_type": "code",
   "execution_count": 55,
   "id": "6b6ab4ee-6d97-477e-a1b4-992aff5ceef4",
   "metadata": {},
   "outputs": [
    {
     "name": "stdout",
     "output_type": "stream",
     "text": [
      "s\n",
      "l\n",
      "l\n",
      "i\n",
      "k\n",
      "s\n",
      "w\n",
      "p\n"
     ]
    }
   ],
   "source": [
    "string='pwskills'\n",
    "ch=len(string)-1\n",
    "while ch>=0:\n",
    "    print(string[ch])\n",
    "    ch=ch-1\n"
   ]
  },
  {
   "cell_type": "code",
   "execution_count": 68,
   "id": "a6521822-4fc5-4663-b3c2-4364661c177a",
   "metadata": {},
   "outputs": [],
   "source": [
    "Name = \"pwskills\"\n",
    "vowels =\"AaEeIiOoUu\""
   ]
  },
  {
   "cell_type": "code",
   "execution_count": 70,
   "id": "304a071d-ad39-4e94-aee7-c48100c139dd",
   "metadata": {},
   "outputs": [
    {
     "name": "stdout",
     "output_type": "stream",
     "text": [
      "p is not a vowel\n",
      "w is not a vowel\n",
      "s is not a vowel\n",
      "k is not a vowel\n",
      "i is a vowel\n",
      "l is not a vowel\n",
      "l is not a vowel\n",
      "s is not a vowel\n"
     ]
    }
   ],
   "source": [
    "for ch in Name:\n",
    "    if ch in vowels:\n",
    "        print(\"{} is a vowel\".format(ch))\n",
    "    else:\n",
    "        print('{} is not a vowel'.format(ch))"
   ]
  },
  {
   "cell_type": "markdown",
   "id": "79936bff-b350-4a92-a75a-174ef1a23e61",
   "metadata": {},
   "source": [
    "## List"
   ]
  },
  {
   "cell_type": "code",
   "execution_count": 9,
   "id": "f383077d-ae72-428e-b876-b10498c7efd2",
   "metadata": {},
   "outputs": [
    {
     "data": {
      "text/plain": [
       "list"
      ]
     },
     "execution_count": 9,
     "metadata": {},
     "output_type": "execute_result"
    }
   ],
   "source": [
    "type([])"
   ]
  },
  {
   "cell_type": "code",
   "execution_count": 10,
   "id": "122a0c9e-09c6-42f5-b691-db20563defca",
   "metadata": {},
   "outputs": [
    {
     "data": {
      "text/plain": [
       "['Abdullah', 'Reslan', 'pwskills', 32]"
      ]
     },
     "execution_count": 10,
     "metadata": {},
     "output_type": "execute_result"
    }
   ],
   "source": [
    "['Abdullah','Reslan','pwskills',32]"
   ]
  },
  {
   "cell_type": "code",
   "execution_count": 11,
   "id": "96bd39e1-64ce-428b-9ada-08ef6d559d56",
   "metadata": {},
   "outputs": [
    {
     "data": {
      "text/plain": [
       "[1, 2, 3, 4]"
      ]
     },
     "execution_count": 11,
     "metadata": {},
     "output_type": "execute_result"
    }
   ],
   "source": [
    "list([1,2,3,4])"
   ]
  },
  {
   "cell_type": "code",
   "execution_count": 12,
   "id": "54f7f8e1-6ff6-4f86-9d75-99e24275440f",
   "metadata": {},
   "outputs": [],
   "source": [
    "str1=\"Abdullah\""
   ]
  },
  {
   "cell_type": "code",
   "execution_count": 13,
   "id": "7f8a5a18-4681-442c-8248-9b7e29b9bb1e",
   "metadata": {},
   "outputs": [],
   "source": [
    "str2=\"Pwskills\""
   ]
  },
  {
   "cell_type": "code",
   "execution_count": 14,
   "id": "f2cc79c2-8a81-44cd-9265-c32d08cec00c",
   "metadata": {},
   "outputs": [
    {
     "data": {
      "text/plain": [
       "['A', 'b', 'd', 'u', 'l', 'l', 'a', 'h']"
      ]
     },
     "execution_count": 14,
     "metadata": {},
     "output_type": "execute_result"
    }
   ],
   "source": [
    "list(str1)"
   ]
  },
  {
   "cell_type": "code",
   "execution_count": 15,
   "id": "2b670823-14ce-453e-bfd7-4f25ec40a2ee",
   "metadata": {},
   "outputs": [
    {
     "data": {
      "text/plain": [
       "['P', 'w', 's', 'k', 'i', 'l', 'l', 's']"
      ]
     },
     "execution_count": 15,
     "metadata": {},
     "output_type": "execute_result"
    }
   ],
   "source": [
    "list(str2)"
   ]
  },
  {
   "cell_type": "code",
   "execution_count": 16,
   "id": "f265b622-315b-4c7b-afb6-c8fd736dcaeb",
   "metadata": {},
   "outputs": [],
   "source": [
    "str1='PW skills Data Scince masters'"
   ]
  },
  {
   "cell_type": "code",
   "execution_count": 17,
   "id": "c026bb78-050f-478d-a5a4-0f0e18ca4fdb",
   "metadata": {},
   "outputs": [
    {
     "data": {
      "text/plain": [
       "['PW', 'skills', 'Data', 'Scince', 'masters']"
      ]
     },
     "execution_count": 17,
     "metadata": {},
     "output_type": "execute_result"
    }
   ],
   "source": [
    "list(str1.split(\" \"))"
   ]
  },
  {
   "cell_type": "code",
   "execution_count": 18,
   "id": "2a9ab7bf-9de9-4734-a103-9ba7961e46fd",
   "metadata": {},
   "outputs": [
    {
     "data": {
      "text/plain": [
       "['PW', 'skills', 'Data', 'Scince', 'masters']"
      ]
     },
     "execution_count": 18,
     "metadata": {},
     "output_type": "execute_result"
    }
   ],
   "source": [
    "str1.split(' ')"
   ]
  },
  {
   "cell_type": "code",
   "execution_count": 19,
   "id": "b300731c-faee-4fbf-8ebd-552820172688",
   "metadata": {},
   "outputs": [],
   "source": [
    "lst1=str1.split(' ')"
   ]
  },
  {
   "cell_type": "code",
   "execution_count": 20,
   "id": "d6c0f298-3c56-429e-b036-9420bfad4597",
   "metadata": {},
   "outputs": [
    {
     "data": {
      "text/plain": [
       "['skills', 'Scince']"
      ]
     },
     "execution_count": 20,
     "metadata": {},
     "output_type": "execute_result"
    }
   ],
   "source": [
    "lst1[1::2]"
   ]
  },
  {
   "cell_type": "code",
   "execution_count": 21,
   "id": "08edd940-ba58-4db6-9e79-c2cbdb703143",
   "metadata": {},
   "outputs": [],
   "source": [
    "lst1[2]='Datas'"
   ]
  },
  {
   "cell_type": "code",
   "execution_count": 22,
   "id": "0ef32ca4-53d4-4d82-a8ed-4ca4c8b11602",
   "metadata": {},
   "outputs": [
    {
     "data": {
      "text/plain": [
       "['PW', 'skills', 'Datas', 'Scince', 'masters']"
      ]
     },
     "execution_count": 22,
     "metadata": {},
     "output_type": "execute_result"
    }
   ],
   "source": [
    "lst1"
   ]
  },
  {
   "cell_type": "code",
   "execution_count": 23,
   "id": "5690aeef-47f1-4bc3-996b-611b57085bd0",
   "metadata": {},
   "outputs": [
    {
     "data": {
      "text/plain": [
       "['masters', 'Datas', 'PW']"
      ]
     },
     "execution_count": 23,
     "metadata": {},
     "output_type": "execute_result"
    }
   ],
   "source": [
    "lst1[::-2]"
   ]
  },
  {
   "cell_type": "code",
   "execution_count": 24,
   "id": "6d4de39e-a3f2-4207-90dc-7e699c580175",
   "metadata": {},
   "outputs": [
    {
     "data": {
      "text/plain": [
       "['skills']"
      ]
     },
     "execution_count": 24,
     "metadata": {},
     "output_type": "execute_result"
    }
   ],
   "source": [
    "lst1[1::-2]"
   ]
  },
  {
   "cell_type": "code",
   "execution_count": 25,
   "id": "46733269-d8a5-4636-9c8f-0e641f0c8632",
   "metadata": {},
   "outputs": [
    {
     "data": {
      "text/plain": [
       "['PW', 'skills', 'Datas', 'Scince', 'masters']"
      ]
     },
     "execution_count": 25,
     "metadata": {},
     "output_type": "execute_result"
    }
   ],
   "source": [
    "lst1"
   ]
  },
  {
   "cell_type": "code",
   "execution_count": 29,
   "id": "37a3de6b-5cb9-47ce-b25d-26df6a95027a",
   "metadata": {},
   "outputs": [
    {
     "data": {
      "text/plain": [
       "['PW', 'skills', 'Datas', 'Scince', 'masters', 'new element', 3]"
      ]
     },
     "execution_count": 29,
     "metadata": {},
     "output_type": "execute_result"
    }
   ],
   "source": [
    "## concatination operation\n",
    "lst1+['new element',3]"
   ]
  },
  {
   "cell_type": "code",
   "execution_count": 31,
   "id": "72ac92cd-4855-4761-9b0e-562915755ebe",
   "metadata": {},
   "outputs": [],
   "source": [
    "## concatination operation\n",
    "list2=lst1+[['new element',3]]"
   ]
  },
  {
   "cell_type": "code",
   "execution_count": 32,
   "id": "5e8f808c-1e1d-4f9e-b46c-a804bd6795e1",
   "metadata": {},
   "outputs": [
    {
     "data": {
      "text/plain": [
       "['PW', 'skills', 'Datas', 'Scince', 'masters', ['new element', 3]]"
      ]
     },
     "execution_count": 32,
     "metadata": {},
     "output_type": "execute_result"
    }
   ],
   "source": [
    "list2"
   ]
  },
  {
   "cell_type": "code",
   "execution_count": 35,
   "id": "c2e9529c-26bb-4955-a72c-5e6c7fe3b67a",
   "metadata": {},
   "outputs": [
    {
     "data": {
      "text/plain": [
       "'new element'"
      ]
     },
     "execution_count": 35,
     "metadata": {},
     "output_type": "execute_result"
    }
   ],
   "source": [
    "list2[-1][0]"
   ]
  },
  {
   "cell_type": "code",
   "execution_count": 44,
   "id": "96f40ba5-1cb2-4a57-9665-5f200baa4acf",
   "metadata": {},
   "outputs": [
    {
     "data": {
      "text/plain": [
       "['PW',\n",
       " 'skills',\n",
       " 'Datas',\n",
       " 'Scince',\n",
       " 'masters',\n",
       " 'PW',\n",
       " 'skills',\n",
       " 'Datas',\n",
       " 'Scince',\n",
       " 'masters']"
      ]
     },
     "execution_count": 44,
     "metadata": {},
     "output_type": "execute_result"
    }
   ],
   "source": [
    "lst1*2"
   ]
  },
  {
   "cell_type": "code",
   "execution_count": 45,
   "id": "afe93cb0-aa0e-4063-92e8-9c014061fa34",
   "metadata": {},
   "outputs": [
    {
     "data": {
      "text/plain": [
       "['PW', 'skills', 'Datas', 'Scince', 'masters']"
      ]
     },
     "execution_count": 45,
     "metadata": {},
     "output_type": "execute_result"
    }
   ],
   "source": [
    "lst1"
   ]
  },
  {
   "cell_type": "code",
   "execution_count": 53,
   "id": "253a998b-d997-460c-9300-1cea7a1cb51c",
   "metadata": {},
   "outputs": [
    {
     "name": "stdout",
     "output_type": "stream",
     "text": [
      "H\n"
     ]
    }
   ],
   "source": [
    "for i in lst1:\n",
    "    if i=='Scince' in lst1:\n",
    "        print('H')\n",
    "        break\n",
    "    else:\n",
    "        print('N')"
   ]
  },
  {
   "cell_type": "code",
   "execution_count": 56,
   "id": "cd074136-bf51-4365-860b-ee8e6bd5d32c",
   "metadata": {},
   "outputs": [
    {
     "data": {
      "text/plain": [
       "True"
      ]
     },
     "execution_count": 56,
     "metadata": {},
     "output_type": "execute_result"
    }
   ],
   "source": [
    "## check elements iside a list\n",
    "lst=[1,2,3,4]\n",
    "\n",
    "4 in lst "
   ]
  },
  {
   "cell_type": "code",
   "execution_count": 58,
   "id": "6d5974b8-6dcc-4d7e-8943-fc3578ac8ec5",
   "metadata": {},
   "outputs": [],
   "source": [
    "lst1=[\"Zebra\",\"Monkey\",\"Donky\",\"Lion\"]\n",
    "lst2=[5,6,2,9,5,8,6]"
   ]
  },
  {
   "cell_type": "code",
   "execution_count": 59,
   "id": "ddf02a57-d703-4b91-b48e-440d5270c8c8",
   "metadata": {},
   "outputs": [
    {
     "name": "stdout",
     "output_type": "stream",
     "text": [
      "Zebra\n"
     ]
    }
   ],
   "source": [
    "print(max(lst1))"
   ]
  },
  {
   "cell_type": "code",
   "execution_count": 60,
   "id": "1534c2bb-a226-4498-8e70-89d5bc21a3c2",
   "metadata": {},
   "outputs": [
    {
     "data": {
      "text/plain": [
       "9"
      ]
     },
     "execution_count": 60,
     "metadata": {},
     "output_type": "execute_result"
    }
   ],
   "source": [
    "max(lst2)"
   ]
  },
  {
   "cell_type": "code",
   "execution_count": 61,
   "id": "e6455d63-386a-4d2b-97c9-aa529a8dbc65",
   "metadata": {},
   "outputs": [
    {
     "data": {
      "text/plain": [
       "'Donky'"
      ]
     },
     "execution_count": 61,
     "metadata": {},
     "output_type": "execute_result"
    }
   ],
   "source": [
    "min(lst1)"
   ]
  },
  {
   "cell_type": "code",
   "execution_count": 62,
   "id": "20efbbdc-61b2-4f27-8a5c-3936fd606b53",
   "metadata": {},
   "outputs": [
    {
     "data": {
      "text/plain": [
       "2"
      ]
     },
     "execution_count": 62,
     "metadata": {},
     "output_type": "execute_result"
    }
   ],
   "source": [
    "min(lst2)"
   ]
  },
  {
   "cell_type": "code",
   "execution_count": 63,
   "id": "c6e62f38-5cc1-4690-8112-d692c80ab288",
   "metadata": {},
   "outputs": [],
   "source": [
    "## Append"
   ]
  },
  {
   "cell_type": "code",
   "execution_count": 64,
   "id": "a688a73d-ad89-46d8-acb1-0f3a7ce16704",
   "metadata": {},
   "outputs": [],
   "source": [
    "lst=[1,2,3,4,5,6]"
   ]
  },
  {
   "cell_type": "code",
   "execution_count": 67,
   "id": "ce2eff81-b5fc-4116-8b3a-62e23679e688",
   "metadata": {},
   "outputs": [],
   "source": [
    "lst.append( 'Abdullah')"
   ]
  },
  {
   "cell_type": "code",
   "execution_count": 68,
   "id": "42da8c00-f80a-4841-8723-52595b1f6a44",
   "metadata": {},
   "outputs": [
    {
     "data": {
      "text/plain": [
       "[1, 2, 3, 4, 5, 6, 'Abdullah']"
      ]
     },
     "execution_count": 68,
     "metadata": {},
     "output_type": "execute_result"
    }
   ],
   "source": [
    "lst"
   ]
  },
  {
   "cell_type": "code",
   "execution_count": 92,
   "id": "4567e55e-61b0-4152-8c1b-f112ce1b0bc0",
   "metadata": {},
   "outputs": [],
   "source": [
    "lst.append(['PW','Skills'])"
   ]
  },
  {
   "cell_type": "code",
   "execution_count": 93,
   "id": "83e6b776-2b2c-4a2f-9ab3-177a2f99a70b",
   "metadata": {},
   "outputs": [
    {
     "data": {
      "text/plain": [
       "[1, 2, 3, 4, 5, 6, 'Abdullah', ['Data', 'Science', 'Master'], ['PW', 'Skills']]"
      ]
     },
     "execution_count": 93,
     "metadata": {},
     "output_type": "execute_result"
    }
   ],
   "source": [
    "lst"
   ]
  },
  {
   "cell_type": "code",
   "execution_count": 105,
   "id": "329e615e-7d5b-4dcc-adc1-445c75a40282",
   "metadata": {},
   "outputs": [],
   "source": [
    "lst.extend(['PW','Skills'])"
   ]
  },
  {
   "cell_type": "code",
   "execution_count": 102,
   "id": "18f7a66b-fe7b-467a-8151-5892da4a04cd",
   "metadata": {},
   "outputs": [
    {
     "data": {
      "text/plain": [
       "[1, 2, 3, 4, 5, 6, ['PW', 'Skills'], 'Skills']"
      ]
     },
     "execution_count": 102,
     "metadata": {},
     "output_type": "execute_result"
    }
   ],
   "source": [
    "lst"
   ]
  },
  {
   "cell_type": "code",
   "execution_count": 97,
   "id": "67b4ee66-ed54-4077-8736-4820a6d06ce1",
   "metadata": {},
   "outputs": [
    {
     "data": {
      "text/plain": [
       "'PW'"
      ]
     },
     "execution_count": 97,
     "metadata": {},
     "output_type": "execute_result"
    }
   ],
   "source": [
    "lst.pop(-2)"
   ]
  },
  {
   "cell_type": "code",
   "execution_count": 99,
   "id": "9e77152a-c0ac-4e25-94df-dfb21ed48a0c",
   "metadata": {},
   "outputs": [
    {
     "data": {
      "text/plain": [
       "['Data', 'Science', 'Master']"
      ]
     },
     "execution_count": 99,
     "metadata": {},
     "output_type": "execute_result"
    }
   ],
   "source": [
    "lst.pop(-3)"
   ]
  },
  {
   "cell_type": "code",
   "execution_count": 100,
   "id": "11e752fa-5280-4408-a63f-7012777e3312",
   "metadata": {},
   "outputs": [
    {
     "data": {
      "text/plain": [
       "[1, 2, 3, 4, 5, 6, ['PW', 'Skills'], 'Skills']"
      ]
     },
     "execution_count": 100,
     "metadata": {},
     "output_type": "execute_result"
    }
   ],
   "source": [
    "lst"
   ]
  },
  {
   "cell_type": "code",
   "execution_count": 70,
   "id": "ea999e1c-687e-4bf1-8396-6b5c057f5a8f",
   "metadata": {},
   "outputs": [],
   "source": [
    "lst.append(['Data','Science','Master'])"
   ]
  },
  {
   "cell_type": "code",
   "execution_count": 71,
   "id": "bbda2daf-509b-404d-9e40-f07b6fd43f2f",
   "metadata": {},
   "outputs": [
    {
     "data": {
      "text/plain": [
       "[1, 2, 3, 4, 5, 6, 'Abdullah', ['Data', 'Science', 'Master']]"
      ]
     },
     "execution_count": 71,
     "metadata": {},
     "output_type": "execute_result"
    }
   ],
   "source": [
    "lst"
   ]
  },
  {
   "cell_type": "code",
   "execution_count": 72,
   "id": "8ac5c4b9-6f61-4ef4-a18e-dcfccb3fbde7",
   "metadata": {},
   "outputs": [],
   "source": [
    "lst1=[\"Zebra\",\"Monkey\",\"Donky\",\"Lion\"]"
   ]
  },
  {
   "cell_type": "code",
   "execution_count": 73,
   "id": "96a6f70a-ca5a-45c1-b9a2-dda42c07a0bb",
   "metadata": {},
   "outputs": [
    {
     "data": {
      "text/plain": [
       "['Zebra', 'Monkey', 'Donky', 'Lion']"
      ]
     },
     "execution_count": 73,
     "metadata": {},
     "output_type": "execute_result"
    }
   ],
   "source": [
    "lst1"
   ]
  },
  {
   "cell_type": "code",
   "execution_count": 74,
   "id": "8780dae6-fa65-4c90-8a34-d0428cbf75e2",
   "metadata": {},
   "outputs": [
    {
     "data": {
      "text/plain": [
       "'Lion'"
      ]
     },
     "execution_count": 74,
     "metadata": {},
     "output_type": "execute_result"
    }
   ],
   "source": [
    "lst1.pop()"
   ]
  },
  {
   "cell_type": "code",
   "execution_count": 75,
   "id": "3a5ab5db-80be-4092-b8f2-5bf1f617ed3a",
   "metadata": {},
   "outputs": [
    {
     "data": {
      "text/plain": [
       "['Zebra', 'Monkey', 'Donky']"
      ]
     },
     "execution_count": 75,
     "metadata": {},
     "output_type": "execute_result"
    }
   ],
   "source": [
    "lst1"
   ]
  },
  {
   "cell_type": "code",
   "execution_count": 76,
   "id": "3a65b176-86ef-4343-8f5d-341f9b2da010",
   "metadata": {},
   "outputs": [
    {
     "data": {
      "text/plain": [
       "'Donky'"
      ]
     },
     "execution_count": 76,
     "metadata": {},
     "output_type": "execute_result"
    }
   ],
   "source": [
    "lst1.pop(2)"
   ]
  },
  {
   "cell_type": "code",
   "execution_count": 78,
   "id": "556bab58-7ffa-47f6-87ab-e3de09916e3f",
   "metadata": {},
   "outputs": [
    {
     "data": {
      "text/plain": [
       "['Zebra', 'Monkey']"
      ]
     },
     "execution_count": 78,
     "metadata": {},
     "output_type": "execute_result"
    }
   ],
   "source": [
    "lst1"
   ]
  },
  {
   "cell_type": "code",
   "execution_count": 79,
   "id": "1c21e15f-1dca-4504-b31c-609a77d12b38",
   "metadata": {},
   "outputs": [],
   "source": [
    "lst1=[\"Zebra\",\"Monkey\",\"Donky\",\"Lion\"]"
   ]
  },
  {
   "cell_type": "code",
   "execution_count": 80,
   "id": "abf80792-de16-43e4-a6b1-73f75b98a73a",
   "metadata": {},
   "outputs": [],
   "source": [
    "removed_element=lst1.pop(0)"
   ]
  },
  {
   "cell_type": "code",
   "execution_count": 81,
   "id": "c7139e3e-2494-44de-9abb-a303d1a69ddb",
   "metadata": {},
   "outputs": [
    {
     "data": {
      "text/plain": [
       "'Zebra'"
      ]
     },
     "execution_count": 81,
     "metadata": {},
     "output_type": "execute_result"
    }
   ],
   "source": [
    "removed_element"
   ]
  },
  {
   "cell_type": "code",
   "execution_count": 82,
   "id": "0dcff61e-cac7-4cb8-97b3-b5071d7e5774",
   "metadata": {},
   "outputs": [
    {
     "data": {
      "text/plain": [
       "['Monkey', 'Donky', 'Lion']"
      ]
     },
     "execution_count": 82,
     "metadata": {},
     "output_type": "execute_result"
    }
   ],
   "source": [
    "lst1"
   ]
  },
  {
   "cell_type": "code",
   "execution_count": 83,
   "id": "a6b9aa93-ef18-442a-8564-67428e8ca531",
   "metadata": {},
   "outputs": [
    {
     "ename": "IndexError",
     "evalue": "list index out of range",
     "output_type": "error",
     "traceback": [
      "\u001b[0;31m---------------------------------------------------------------------------\u001b[0m",
      "\u001b[0;31mIndexError\u001b[0m                                Traceback (most recent call last)",
      "Cell \u001b[0;32mIn[83], line 1\u001b[0m\n\u001b[0;32m----> 1\u001b[0m \u001b[43mlst1\u001b[49m\u001b[43m[\u001b[49m\u001b[38;5;241;43m100\u001b[39;49m\u001b[43m]\u001b[49m\n",
      "\u001b[0;31mIndexError\u001b[0m: list index out of range"
     ]
    }
   ],
   "source": [
    "lst1[100]"
   ]
  },
  {
   "cell_type": "code",
   "execution_count": 84,
   "id": "27a43aaf-5901-40fd-8e72-277b8ad717d8",
   "metadata": {},
   "outputs": [],
   "source": [
    "## Sorting and revesed method in list"
   ]
  },
  {
   "cell_type": "code",
   "execution_count": 85,
   "id": "1cc74e7f-dbfd-43e5-9b3e-dbf5abd298c5",
   "metadata": {},
   "outputs": [
    {
     "data": {
      "text/plain": [
       "['q', 'e', 'f', 's', 't', 'u']"
      ]
     },
     "execution_count": 85,
     "metadata": {},
     "output_type": "execute_result"
    }
   ],
   "source": [
    "new_list=['q','e','f','s','t','u']\n",
    "new_list"
   ]
  },
  {
   "cell_type": "code",
   "execution_count": 86,
   "id": "f85eca1a-00da-4b41-a4c0-09e820d5b9f3",
   "metadata": {},
   "outputs": [
    {
     "data": {
      "text/plain": [
       "['u', 't', 's', 'f', 'e', 'q']"
      ]
     },
     "execution_count": 86,
     "metadata": {},
     "output_type": "execute_result"
    }
   ],
   "source": [
    "new_list[::-1]"
   ]
  },
  {
   "cell_type": "code",
   "execution_count": 89,
   "id": "321ccabf-aaff-4eeb-b424-901c6d66da4f",
   "metadata": {},
   "outputs": [],
   "source": [
    "## inplace \n",
    "new_list.reverse()"
   ]
  },
  {
   "cell_type": "code",
   "execution_count": 88,
   "id": "0200a5b6-741d-4072-91b1-1c8e6af00888",
   "metadata": {},
   "outputs": [
    {
     "data": {
      "text/plain": [
       "['u', 't', 's', 'f', 'e', 'q']"
      ]
     },
     "execution_count": 88,
     "metadata": {},
     "output_type": "execute_result"
    }
   ],
   "source": [
    "new_list"
   ]
  },
  {
   "cell_type": "code",
   "execution_count": 90,
   "id": "22faae2c-6727-468d-8806-22ce6aee2c1b",
   "metadata": {},
   "outputs": [],
   "source": [
    "new_list.sort()"
   ]
  },
  {
   "cell_type": "code",
   "execution_count": 91,
   "id": "6efc8e0a-b700-4c74-a165-49dd65cb34bd",
   "metadata": {},
   "outputs": [
    {
     "data": {
      "text/plain": [
       "['e', 'f', 'q', 's', 't', 'u']"
      ]
     },
     "execution_count": 91,
     "metadata": {},
     "output_type": "execute_result"
    }
   ],
   "source": [
    "new_list"
   ]
  },
  {
   "cell_type": "markdown",
   "id": "6b057b20-bd89-4722-bc20-aae57d698469",
   "metadata": {},
   "source": [
    "## Nested List"
   ]
  },
  {
   "cell_type": "code",
   "execution_count": 109,
   "id": "58e534c7-234a-436f-9d77-aef24883a76c",
   "metadata": {},
   "outputs": [],
   "source": [
    "# Let's make three lists\n",
    "lst_1=[1,2,3]\n",
    "lst_2=[4,5,6]\n",
    "lst_3=[7,8,9]\n",
    "\n",
    "# Make a list of Lists to form a matrix\n",
    "matrix = [lst_1,lst_2,lst_3]"
   ]
  },
  {
   "cell_type": "code",
   "execution_count": 110,
   "id": "f4f8877b-0195-4bd0-821f-34a75adae1c0",
   "metadata": {},
   "outputs": [
    {
     "data": {
      "text/plain": [
       "[[1, 2, 3], [4, 5, 6], [7, 8, 9]]"
      ]
     },
     "execution_count": 110,
     "metadata": {},
     "output_type": "execute_result"
    }
   ],
   "source": [
    "matrix"
   ]
  },
  {
   "cell_type": "code",
   "execution_count": 111,
   "id": "7a58a90b-9bfe-4759-bb62-9e66b6bd48c5",
   "metadata": {},
   "outputs": [
    {
     "data": {
      "text/plain": [
       "6"
      ]
     },
     "execution_count": 111,
     "metadata": {},
     "output_type": "execute_result"
    }
   ],
   "source": [
    "matrix[1][2]"
   ]
  },
  {
   "cell_type": "code",
   "execution_count": 117,
   "id": "32e10701-fcde-465a-8630-44d37d44d363",
   "metadata": {},
   "outputs": [
    {
     "data": {
      "text/plain": [
       "[8, 9]"
      ]
     },
     "execution_count": 117,
     "metadata": {},
     "output_type": "execute_result"
    }
   ],
   "source": [
    "matrix[2][1:]"
   ]
  },
  {
   "cell_type": "code",
   "execution_count": 133,
   "id": "df769907-1825-4409-ae63-bee744507838",
   "metadata": {},
   "outputs": [
    {
     "data": {
      "text/plain": [
       "[0, 1, 2, 3, 4, 5, 6, 7, 8, 9, 10, 11, 12, 13, 14, 15, 16, 17, 18, 19]"
      ]
     },
     "execution_count": 133,
     "metadata": {},
     "output_type": "execute_result"
    }
   ],
   "source": [
    "## List comprehension\n",
    "[i for i in range(20)]"
   ]
  },
  {
   "cell_type": "code",
   "execution_count": 139,
   "id": "80056f4f-13b6-4554-90f9-c570d4ba1f9b",
   "metadata": {},
   "outputs": [
    {
     "data": {
      "text/plain": [
       "[0,\n",
       " 'ODD',\n",
       " 2,\n",
       " 'ODD',\n",
       " 4,\n",
       " 'ODD',\n",
       " 6,\n",
       " 'ODD',\n",
       " 8,\n",
       " 'ODD',\n",
       " 10,\n",
       " 'ODD',\n",
       " 12,\n",
       " 'ODD',\n",
       " 14,\n",
       " 'ODD',\n",
       " 16,\n",
       " 'ODD',\n",
       " 18,\n",
       " 'ODD']"
      ]
     },
     "execution_count": 139,
     "metadata": {},
     "output_type": "execute_result"
    }
   ],
   "source": [
    "## List comprehension\n",
    "#Even Numbers\n",
    "[i if i%2==0 else 'ODD' for i in range(20)]"
   ]
  },
  {
   "cell_type": "code",
   "execution_count": 152,
   "id": "17ddb7d5-a297-4594-9d1d-a707f8abf6fe",
   "metadata": {},
   "outputs": [
    {
     "name": "stdout",
     "output_type": "stream",
     "text": [
      "20\n",
      "16\n"
     ]
    }
   ],
   "source": [
    "# Assignment\n",
    "## sum of even numbers and odd numbers\n",
    "lst=[1,2,3,4,5,6,7,8]\n",
    "\n",
    "even_sum = 0\n",
    "odd_sum = 0\n",
    "\n",
    "for i in lst :\n",
    "    if i % 2 ==0:\n",
    "        even_sum += i\n",
    "    else:\n",
    "        odd_sum += i\n",
    "print(even_sum)\n",
    "print(odd_sum)\n",
    "        "
   ]
  },
  {
   "cell_type": "code",
   "execution_count": 156,
   "id": "a7e48e47-cf47-45a2-adf1-13c0d35891da",
   "metadata": {},
   "outputs": [
    {
     "data": {
      "text/plain": [
       "20"
      ]
     },
     "execution_count": 156,
     "metadata": {},
     "output_type": "execute_result"
    }
   ],
   "source": [
    "even_sum=sum(num for num in lst if num%2==0)\n",
    "even_sum"
   ]
  },
  {
   "cell_type": "code",
   "execution_count": 158,
   "id": "20596171-36e5-4067-a9bc-b82525ea810b",
   "metadata": {},
   "outputs": [
    {
     "data": {
      "text/plain": [
       "16"
      ]
     },
     "execution_count": 158,
     "metadata": {},
     "output_type": "execute_result"
    }
   ],
   "source": [
    "odd_summ=sum(num for num in lst if num%2!=0)\n",
    "odd_summ"
   ]
  },
  {
   "cell_type": "code",
   "execution_count": 163,
   "id": "3140ff8d-4b2b-4266-b8c4-f1447343fa67",
   "metadata": {},
   "outputs": [
    {
     "data": {
      "text/plain": [
       "[1, 4, 9, 16, 25, 36, 49, 64, 81]"
      ]
     },
     "execution_count": 163,
     "metadata": {},
     "output_type": "execute_result"
    }
   ],
   "source": [
    "lst=[1,2,3,4,5,6,7,8,9]\n",
    "\n",
    "[i**2 for i in lst  ]"
   ]
  },
  {
   "cell_type": "code",
   "execution_count": 167,
   "id": "9acf1bd5-e9ff-4fa3-80df-5c64c6de47fb",
   "metadata": {},
   "outputs": [
    {
     "data": {
      "text/plain": [
       "[0, 1, 2, 3, 4]"
      ]
     },
     "execution_count": 167,
     "metadata": {},
     "output_type": "execute_result"
    }
   ],
   "source": [
    "# creat a list of only positive numbers from a given list\n",
    "numbers = [-2,-1,0,1,2,3,4]\n",
    "[i for i in numbers if i >=0 ]"
   ]
  },
  {
   "cell_type": "code",
   "execution_count": 170,
   "id": "db14de8d-f38f-4043-bb71-78b8079fa761",
   "metadata": {},
   "outputs": [
    {
     "data": {
      "text/plain": [
       "['a', 'b', 'c', 'd']"
      ]
     },
     "execution_count": 170,
     "metadata": {},
     "output_type": "execute_result"
    }
   ],
   "source": [
    "# create a list of only the first letters of words in a list \n",
    "words = ['apple', 'banana', 'cherry','date']\n",
    "[word[0]for word in words]"
   ]
  },
  {
   "cell_type": "code",
   "execution_count": 171,
   "id": "db0a9156-7a5f-40ba-961f-e346f1fa4b0a",
   "metadata": {},
   "outputs": [
    {
     "data": {
      "text/plain": [
       "'apple'"
      ]
     },
     "execution_count": 171,
     "metadata": {},
     "output_type": "execute_result"
    }
   ],
   "source": [
    "words[0]"
   ]
  },
  {
   "cell_type": "code",
   "execution_count": 173,
   "id": "989c9349-cbdc-498d-8aa7-9eb2dfed5e28",
   "metadata": {},
   "outputs": [
    {
     "ename": "NameError",
     "evalue": "name 'temp' is not defined",
     "output_type": "error",
     "traceback": [
      "\u001b[0;31m---------------------------------------------------------------------------\u001b[0m",
      "\u001b[0;31mNameError\u001b[0m                                 Traceback (most recent call last)",
      "Cell \u001b[0;32mIn[173], line 1\u001b[0m\n\u001b[0;32m----> 1\u001b[0m (\u001b[38;5;241m9\u001b[39m\u001b[38;5;241m/\u001b[39m\u001b[38;5;241m5\u001b[39m)\u001b[38;5;241m*\u001b[39m\u001b[43mtemp\u001b[49m\u001b[38;5;241m+\u001b[39m\u001b[38;5;241m32\u001b[39m\n",
      "\u001b[0;31mNameError\u001b[0m: name 'temp' is not defined"
     ]
    }
   ],
   "source": [
    "(9/5)*temp+32"
   ]
  },
  {
   "cell_type": "code",
   "execution_count": 174,
   "id": "874215f6-7204-4dd0-afcf-4b27cb71e9da",
   "metadata": {},
   "outputs": [
    {
     "data": {
      "text/plain": [
       "[32.0, 50.0, 68.0, 86.0, 104.0, 122.0]"
      ]
     },
     "execution_count": 174,
     "metadata": {},
     "output_type": "execute_result"
    }
   ],
   "source": [
    "#convert a list of temperatures from Celsius to Fahrenheit using list comprehension\n",
    "celesius_temp=[0,10,20,30,40,50]\n",
    "[(9/5)*temp+32 for temp in celesius_temp]"
   ]
  },
  {
   "cell_type": "code",
   "execution_count": 188,
   "id": "97a1284f-384b-4dba-96be-935d43830307",
   "metadata": {},
   "outputs": [
    {
     "data": {
      "text/plain": [
       "[1, 2, 3, 4, 5, 6, 7, 8, 9]"
      ]
     },
     "execution_count": 188,
     "metadata": {},
     "output_type": "execute_result"
    }
   ],
   "source": [
    "# Flatten a list of lists into a single list\n",
    "lists=[[1,2,3],[4,5,6],[7,8,9]]\n",
    "\n",
    "[num for sublist in lists for num in sublist]"
   ]
  },
  {
   "cell_type": "code",
   "execution_count": 189,
   "id": "36a937c0-521a-452e-a3d4-02c775e2bf8d",
   "metadata": {},
   "outputs": [],
   "source": [
    "##Assignment\n",
    "## Using both code and list comprehension \n",
    "# creat a list of only the prime numbers from a given list\n",
    "numbers = [1,2,3,4,5,6,7,8,9,10]"
   ]
  },
  {
   "cell_type": "code",
   "execution_count": 191,
   "id": "699a6bd0-d8c4-486a-9fc9-a33f774dd87d",
   "metadata": {},
   "outputs": [
    {
     "data": {
      "text/plain": [
       "[1, 3, 5, 7, 9]"
      ]
     },
     "execution_count": 191,
     "metadata": {},
     "output_type": "execute_result"
    }
   ],
   "source": [
    "[ i for i in numbers if i%2!=0   ]"
   ]
  },
  {
   "cell_type": "code",
   "execution_count": 214,
   "id": "a264c398-f65f-47f7-a813-b7f490e306bc",
   "metadata": {},
   "outputs": [
    {
     "name": "stdout",
     "output_type": "stream",
     "text": [
      "[1, 3, 5, 7, 9]\n"
     ]
    }
   ],
   "source": [
    "prim_numbers=[]\n",
    "for i in numbers:\n",
    "    if i%2!=0:\n",
    "        prim_numbers.append(i)\n",
    "print(prim_numbers)"
   ]
  },
  {
   "cell_type": "code",
   "execution_count": null,
   "id": "7c60a3b6-2850-4e87-806b-0796c0ec66a6",
   "metadata": {},
   "outputs": [],
   "source": [
    "## create a list of all the possible combinations of 2 elements from a list \n",
    "num = [1,2,3,4,5]"
   ]
  },
  {
   "cell_type": "code",
   "execution_count": 215,
   "id": "1d7a87b4-0ec5-46d5-b8e4-f8c4d3d6c3a0",
   "metadata": {},
   "outputs": [
    {
     "name": "stdout",
     "output_type": "stream",
     "text": [
      "[(1, 2), (1, 3), (1, 4), (1, 5), (2, 3), (2, 4), (2, 5), (3, 4), (3, 5), (4, 5)]\n"
     ]
    }
   ],
   "source": [
    "num = [1, 2, 3, 4, 5]\n",
    "combinations = []\n",
    "\n",
    "for i in range(len(num)):\n",
    "    for j in range(i + 1, len(num)):\n",
    "        combinations.append((num[i], num[j]))\n",
    "\n",
    "print(combinations)\n"
   ]
  },
  {
   "cell_type": "code",
   "execution_count": null,
   "id": "8b9f547b-af31-4ead-af58-aec12074a683",
   "metadata": {},
   "outputs": [],
   "source": []
  },
  {
   "cell_type": "code",
   "execution_count": null,
   "id": "7daa90d6-7a54-44bb-abbd-842405753ae8",
   "metadata": {},
   "outputs": [],
   "source": []
  }
 ],
 "metadata": {
  "kernelspec": {
   "display_name": "Python 3 (ipykernel)",
   "language": "python",
   "name": "python3"
  },
  "language_info": {
   "codemirror_mode": {
    "name": "ipython",
    "version": 3
   },
   "file_extension": ".py",
   "mimetype": "text/x-python",
   "name": "python",
   "nbconvert_exporter": "python",
   "pygments_lexer": "ipython3",
   "version": "3.10.8"
  }
 },
 "nbformat": 4,
 "nbformat_minor": 5
}
