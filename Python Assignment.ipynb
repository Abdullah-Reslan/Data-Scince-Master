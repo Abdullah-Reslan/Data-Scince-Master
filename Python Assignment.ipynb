{
 "cells": [
  {
   "cell_type": "code",
   "execution_count": 11,
   "id": "8a5014ca-1517-4b5a-8879-36ff4bf551c5",
   "metadata": {},
   "outputs": [],
   "source": [
    "# Q1\n",
    "\n",
    "lst = [('Sachin Tendulkar' , 34357) , ('Ricky Ponting' , 27483), ('Jack Kallis' , 25534), ('Virat Kohli',24936)]"
   ]
  },
  {
   "cell_type": "code",
   "execution_count": 16,
   "id": "6e7bc88e-b4c7-4e70-806f-1623cd203ff7",
   "metadata": {},
   "outputs": [],
   "source": [
    "lst.sort(key=lambda x:x[1])"
   ]
  },
  {
   "cell_type": "code",
   "execution_count": 17,
   "id": "ad3d6684-4273-4e07-bae9-95029d0e6e86",
   "metadata": {},
   "outputs": [
    {
     "data": {
      "text/plain": [
       "[('Virat Kohli', 24936),\n",
       " ('Jack Kallis', 25534),\n",
       " ('Ricky Ponting', 27483),\n",
       " ('Sachin Tendulkar', 34357)]"
      ]
     },
     "execution_count": 17,
     "metadata": {},
     "output_type": "execute_result"
    }
   ],
   "source": [
    "lst"
   ]
  },
  {
   "cell_type": "code",
   "execution_count": 22,
   "id": "65d7f326-d84a-4333-a24f-967128089daa",
   "metadata": {},
   "outputs": [],
   "source": [
    "# Q2\n",
    "\n",
    "l = [1,2,3,4,5,6,7,8,9,10]\n",
    "squers_list = list(map(lambda x : x**2 ,l))"
   ]
  },
  {
   "cell_type": "code",
   "execution_count": 23,
   "id": "9ab5de56-9e8b-4776-9eb0-a46816cb487b",
   "metadata": {},
   "outputs": [
    {
     "name": "stdout",
     "output_type": "stream",
     "text": [
      "[1, 4, 9, 16, 25, 36, 49, 64, 81, 100]\n"
     ]
    }
   ],
   "source": [
    "print(squers_list)"
   ]
  },
  {
   "cell_type": "code",
   "execution_count": 26,
   "id": "9829a4ac-6e47-46ec-9388-eaea754b43c0",
   "metadata": {},
   "outputs": [],
   "source": [
    "# Q3\n",
    "l1 = [1,2,3,4,5,6,7,8,9,10]\n",
    "\n",
    "string_numbers = list(map(lambda x : str(x) ,l1))"
   ]
  },
  {
   "cell_type": "code",
   "execution_count": 27,
   "id": "d521302a-bc8a-430c-b89f-42fb2f96393d",
   "metadata": {},
   "outputs": [
    {
     "name": "stdout",
     "output_type": "stream",
     "text": [
      "['1', '2', '3', '4', '5', '6', '7', '8', '9', '10']\n"
     ]
    }
   ],
   "source": [
    "print(string_numbers)"
   ]
  },
  {
   "cell_type": "code",
   "execution_count": 47,
   "id": "9bd6541f-b989-4da8-8b69-1fd880da3f4a",
   "metadata": {},
   "outputs": [],
   "source": [
    "# Q4\n",
    "from functools import reduce\n",
    "l2 =list(range(1,26))"
   ]
  },
  {
   "cell_type": "code",
   "execution_count": 48,
   "id": "7e9d46ab-a2c4-40d5-9917-f40db149e05d",
   "metadata": {},
   "outputs": [
    {
     "name": "stdout",
     "output_type": "stream",
     "text": [
      "[1, 2, 3, 4, 5, 6, 7, 8, 9, 10, 11, 12, 13, 14, 15, 16, 17, 18, 19, 20, 21, 22, 23, 24, 25]\n"
     ]
    }
   ],
   "source": [
    "print(l2)"
   ]
  },
  {
   "cell_type": "code",
   "execution_count": 38,
   "id": "b2925fee-e8dc-46e3-98a0-6327709f8bd4",
   "metadata": {},
   "outputs": [],
   "source": [
    "def product(a,b):\n",
    "    return a*b"
   ]
  },
  {
   "cell_type": "code",
   "execution_count": 49,
   "id": "b3f3903b-bf3e-41b9-9e8e-da762dedaf4a",
   "metadata": {},
   "outputs": [],
   "source": [
    "answer = reduce(product,l2)"
   ]
  },
  {
   "cell_type": "code",
   "execution_count": 50,
   "id": "5e768d49-fd34-45f5-9a84-84559f7737ba",
   "metadata": {},
   "outputs": [
    {
     "name": "stdout",
     "output_type": "stream",
     "text": [
      "15511210043330985984000000\n"
     ]
    }
   ],
   "source": [
    "print(answer)"
   ]
  },
  {
   "cell_type": "code",
   "execution_count": 51,
   "id": "2dcdee33-37e3-4e00-a763-525988eecbd4",
   "metadata": {},
   "outputs": [],
   "source": [
    "# Q5\n",
    "\n",
    "l3 = [2,3,6,9,27,60,90,120,55,46]"
   ]
  },
  {
   "cell_type": "code",
   "execution_count": 54,
   "id": "d6fddc19-7cb6-4518-933d-e0afdaa6498d",
   "metadata": {},
   "outputs": [],
   "source": [
    "dividable = list(filter(lambda x :  x%2==0 or x%3== 0 ,l3))"
   ]
  },
  {
   "cell_type": "code",
   "execution_count": 55,
   "id": "90db6573-ad70-4c34-8ced-0da6174a4ede",
   "metadata": {},
   "outputs": [
    {
     "name": "stdout",
     "output_type": "stream",
     "text": [
      "[2, 3, 6, 9, 27, 60, 90, 120, 46]\n"
     ]
    }
   ],
   "source": [
    "print(dividable)"
   ]
  },
  {
   "cell_type": "code",
   "execution_count": 56,
   "id": "161b128b-bf0a-43dd-83b5-304ebf790142",
   "metadata": {},
   "outputs": [],
   "source": [
    "dividable_2 = list(filter(lambda x : x%2==0 , l3))"
   ]
  },
  {
   "cell_type": "code",
   "execution_count": 58,
   "id": "520052b6-7157-4610-96e0-05d51b3c9a56",
   "metadata": {},
   "outputs": [
    {
     "name": "stdout",
     "output_type": "stream",
     "text": [
      "[2, 6, 60, 90, 120, 46]\n"
     ]
    }
   ],
   "source": [
    "print(dividable_2)"
   ]
  },
  {
   "cell_type": "code",
   "execution_count": 59,
   "id": "229a695a-804f-43bb-948b-d90405b874e9",
   "metadata": {},
   "outputs": [],
   "source": [
    "dividable_3 = list(filter(lambda x : x%3 ==0 ,l3))"
   ]
  },
  {
   "cell_type": "code",
   "execution_count": 61,
   "id": "462c2d4f-ae4c-4051-9b92-c17890c619da",
   "metadata": {},
   "outputs": [
    {
     "name": "stdout",
     "output_type": "stream",
     "text": [
      "[3, 6, 9, 27, 60, 90, 120]\n"
     ]
    }
   ],
   "source": [
    "print(dividable_3)"
   ]
  },
  {
   "cell_type": "code",
   "execution_count": 70,
   "id": "ab7ee1d9-9ff0-4c7b-b29a-a06d8ac1cda9",
   "metadata": {},
   "outputs": [],
   "source": [
    "l4 = [\"python\",\"php\",\"aba\",\"radar\",\"level\"]\n",
    "\n",
    "palindromes = list(filter(lambda x : x == x[::-1] , l4))"
   ]
  },
  {
   "cell_type": "code",
   "execution_count": 71,
   "id": "afdc7181-8442-464b-8b40-e2e03e852844",
   "metadata": {},
   "outputs": [
    {
     "name": "stdout",
     "output_type": "stream",
     "text": [
      "['php', 'aba', 'radar', 'level']\n"
     ]
    }
   ],
   "source": [
    "print(palindromes)"
   ]
  },
  {
   "cell_type": "code",
   "execution_count": null,
   "id": "e8e3ca71-71d8-495d-8be6-eaf6087be9bb",
   "metadata": {},
   "outputs": [],
   "source": []
  }
 ],
 "metadata": {
  "kernelspec": {
   "display_name": "Python 3 (ipykernel)",
   "language": "python",
   "name": "python3"
  },
  "language_info": {
   "codemirror_mode": {
    "name": "ipython",
    "version": 3
   },
   "file_extension": ".py",
   "mimetype": "text/x-python",
   "name": "python",
   "nbconvert_exporter": "python",
   "pygments_lexer": "ipython3",
   "version": "3.10.8"
  }
 },
 "nbformat": 4,
 "nbformat_minor": 5
}
