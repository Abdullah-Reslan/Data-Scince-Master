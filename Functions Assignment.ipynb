{
 "cells": [
  {
   "cell_type": "code",
   "execution_count": 1,
   "id": "41b47350-659b-4f8f-9c04-0196d0b226f7",
   "metadata": {},
   "outputs": [],
   "source": [
    "# Q1\n",
    "# the Word that used is ( def ) , it means define\n",
    "\n"
   ]
  },
  {
   "cell_type": "code",
   "execution_count": 40,
   "id": "a1e4ac4c-93a7-4857-a85d-cad609144ada",
   "metadata": {},
   "outputs": [],
   "source": [
    "def odd_num():\n",
    "    n = []\n",
    "    for i in range(1,25) :\n",
    "        if i%2 == 0  :\n",
    "            n.append(i)\n",
    "            \n",
    "    return n "
   ]
  },
  {
   "cell_type": "code",
   "execution_count": 11,
   "id": "670544f2-cee6-4914-81a3-116538220383",
   "metadata": {},
   "outputs": [],
   "source": [
    "l = [1,2,3,4,5,6,7,8,9,10,11,12,13]"
   ]
  },
  {
   "cell_type": "code",
   "execution_count": 41,
   "id": "9c99d13e-1572-419e-bb44-1add7a97d702",
   "metadata": {},
   "outputs": [
    {
     "data": {
      "text/plain": [
       "[2, 4, 6, 8, 10, 12, 14, 16, 18, 20, 22, 24]"
      ]
     },
     "execution_count": 41,
     "metadata": {},
     "output_type": "execute_result"
    }
   ],
   "source": [
    "odd_num()"
   ]
  },
  {
   "cell_type": "raw",
   "id": "63a8c972-901b-434e-88b1-fd39cf9b20ec",
   "metadata": {},
   "source": [
    "# Q2\n",
    "\n",
    "'''\n",
    "\n",
    "*args is used to give an argument inside a created function and the output is tuple\n",
    "**kwargs is used to give a dictionory as a output\n",
    "\n",
    "'''"
   ]
  },
  {
   "cell_type": "code",
   "execution_count": 52,
   "id": "bee4b0ac-8b14-4830-a9bf-fc8375b752ce",
   "metadata": {},
   "outputs": [],
   "source": [
    "def ab(*args):\n",
    "    return args"
   ]
  },
  {
   "cell_type": "code",
   "execution_count": 53,
   "id": "473f30d8-3411-4f36-959d-343f7fce8085",
   "metadata": {},
   "outputs": [
    {
     "data": {
      "text/plain": [
       "(1, 2, 3.4, 5, 1, 2, 3.4, 8)"
      ]
     },
     "execution_count": 53,
     "metadata": {},
     "output_type": "execute_result"
    }
   ],
   "source": [
    "ab(1,2,3.4,5,1,2,3.4,8)"
   ]
  },
  {
   "cell_type": "code",
   "execution_count": 54,
   "id": "89d91474-6a10-472b-a77d-0abe202032c3",
   "metadata": {},
   "outputs": [],
   "source": [
    "def Dat(**kwargs):\n",
    "    return kwargs"
   ]
  },
  {
   "cell_type": "code",
   "execution_count": 55,
   "id": "b54565b0-e53e-43ce-9b97-110e163550ee",
   "metadata": {},
   "outputs": [
    {
     "data": {
      "text/plain": [
       "{'a': 2, 'b': [1, 2, 3, 4, 5], 'c': ('Abdullah', 'Reslan', 'Love', 'Data')}"
      ]
     },
     "execution_count": 55,
     "metadata": {},
     "output_type": "execute_result"
    }
   ],
   "source": [
    "Dat(a = 2 , b=[1,2,3,4,5] , c=('Abdullah','Reslan','Love','Data'))"
   ]
  },
  {
   "cell_type": "raw",
   "id": "3d6cceff-0a65-4081-a750-1d4e4c07668c",
   "metadata": {},
   "source": [
    "# Q3\n",
    "'''\n",
    "-An iterator is an object that contains a countable number of values.\n",
    "\n",
    "An iterator is an object that can be iterated upon, meaning that you can traverse through all the values.\n",
    "\n",
    "- the methode is that we have to use an inbuilt function called ( iter )\n",
    "\n",
    "- the methode for iteration is is that we can traverse throug all elements and the elements will not store in the memory if we used next function and it will be saved in the memory if we used a loop function\n",
    "'''\n"
   ]
  },
  {
   "cell_type": "code",
   "execution_count": 107,
   "id": "72d497aa-309b-450c-90f3-5ae0de8f0e80",
   "metadata": {},
   "outputs": [
    {
     "name": "stdout",
     "output_type": "stream",
     "text": [
      "2\n",
      "4\n",
      "6\n",
      "8\n",
      "10\n"
     ]
    }
   ],
   "source": [
    "my_list = [2, 4, 6, 8, 10, 12, 14, 16, 18, 20]\n",
    "\n",
    "# Create an iterator object\n",
    "my_iter = iter(my_list)\n",
    "\n",
    "# Print the first five elements\n",
    "for i in range(5):\n",
    "    item = next(my_iter)\n",
    "    print(item)\n"
   ]
  },
  {
   "cell_type": "code",
   "execution_count": 108,
   "id": "29ac4842-2a9d-49bf-a7d5-60403f188859",
   "metadata": {},
   "outputs": [
    {
     "data": {
      "text/plain": [
       "'\\nIn Python, a generator is a function that returns an iterator that produces a sequence of values when iterated over\\n\\n\\n'"
      ]
     },
     "execution_count": 108,
     "metadata": {},
     "output_type": "execute_result"
    }
   ],
   "source": [
    "# Q4\n",
    "\n",
    "'''\n",
    "- In Python, a generator is a function that returns an iterator that produces a sequence of values when iterated over\n",
    "\n",
    "- The advantages of using yield keywords instead of return are that the values returned by yield statement are stored as local variables states, which allows control over memory overhead allocation\n",
    "\n",
    "'''"
   ]
  },
  {
   "cell_type": "code",
   "execution_count": 113,
   "id": "67a79746-90d6-49ab-8b48-8df51713b8dc",
   "metadata": {},
   "outputs": [],
   "source": [
    "def gen_func(n):\n",
    "    i = 0\n",
    "    \n",
    "    while i < n:\n",
    "        yield i\n",
    "        i +=1\n",
    "\n",
    "        "
   ]
  },
  {
   "cell_type": "code",
   "execution_count": 114,
   "id": "2b52d175-7b35-40f1-a04b-dc2da9b01e6b",
   "metadata": {},
   "outputs": [
    {
     "name": "stdout",
     "output_type": "stream",
     "text": [
      "0\n",
      "1\n",
      "2\n"
     ]
    }
   ],
   "source": [
    "for i in gen_func(3):\n",
    "    print(i)"
   ]
  },
  {
   "cell_type": "code",
   "execution_count": 120,
   "id": "0075b465-444f-4ea0-a70d-f28cd7d2f614",
   "metadata": {},
   "outputs": [
    {
     "name": "stdout",
     "output_type": "stream",
     "text": [
      "2\n",
      "3\n",
      "5\n",
      "7\n",
      "11\n",
      "13\n",
      "17\n",
      "19\n",
      "23\n",
      "29\n",
      "31\n",
      "37\n",
      "41\n",
      "43\n",
      "47\n",
      "53\n",
      "59\n",
      "61\n",
      "67\n",
      "71\n"
     ]
    }
   ],
   "source": [
    "# Q5\n",
    "\n",
    "def prime_generator():\n",
    "    num = 2\n",
    "\n",
    "    while True:\n",
    "        is_prime = True\n",
    "\n",
    "        for i in range(2, num):\n",
    "            if num % i == 0:\n",
    "                is_prime = False\n",
    "                break\n",
    "\n",
    "        if is_prime:\n",
    "            yield num\n",
    "\n",
    "        num += 1\n",
    "\n",
    "# Create a generator object\n",
    "prime_gen = prime_generator()\n",
    "\n",
    "# Print the first 20 prime numbers\n",
    "for _ in range(20):\n",
    "    prime = next(prime_gen)\n",
    "    print(prime)\n"
   ]
  },
  {
   "cell_type": "code",
   "execution_count": 117,
   "id": "bba7874a-e397-43a8-9602-5fce008bbe0f",
   "metadata": {},
   "outputs": [],
   "source": [
    " "
   ]
  },
  {
   "cell_type": "code",
   "execution_count": null,
   "id": "d645d860-2b58-48e7-8c4b-180018d530cc",
   "metadata": {},
   "outputs": [],
   "source": []
  }
 ],
 "metadata": {
  "kernelspec": {
   "display_name": "Python 3 (ipykernel)",
   "language": "python",
   "name": "python3"
  },
  "language_info": {
   "codemirror_mode": {
    "name": "ipython",
    "version": 3
   },
   "file_extension": ".py",
   "mimetype": "text/x-python",
   "name": "python",
   "nbconvert_exporter": "python",
   "pygments_lexer": "ipython3",
   "version": "3.10.8"
  }
 },
 "nbformat": 4,
 "nbformat_minor": 5
}
