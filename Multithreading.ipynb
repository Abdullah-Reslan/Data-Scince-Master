{
 "cells": [
  {
   "cell_type": "code",
   "execution_count": 3,
   "id": "112ac10c-f79e-4265-a402-f1f6b7c3acd6",
   "metadata": {},
   "outputs": [],
   "source": [
    "my_list = [\"Bananna\", \"Orange\", \"Apple\"]"
   ]
  },
  {
   "cell_type": "code",
   "execution_count": 4,
   "id": "8870d9be-162b-4bf8-a0a7-a246c59569ce",
   "metadata": {},
   "outputs": [],
   "source": [
    "my_iterator = iter(my_list)"
   ]
  },
  {
   "cell_type": "code",
   "execution_count": 5,
   "id": "e3ff7101-dabf-439c-9583-908220954a65",
   "metadata": {},
   "outputs": [
    {
     "name": "stdout",
     "output_type": "stream",
     "text": [
      "Bananna\n"
     ]
    }
   ],
   "source": [
    "print(next(my_iterator))"
   ]
  },
  {
   "cell_type": "code",
   "execution_count": 6,
   "id": "039aa83f-e63b-4b8c-8e83-af41d607d931",
   "metadata": {},
   "outputs": [
    {
     "name": "stdout",
     "output_type": "stream",
     "text": [
      "Orange\n"
     ]
    }
   ],
   "source": [
    "print(next(my_iterator))"
   ]
  },
  {
   "cell_type": "code",
   "execution_count": 7,
   "id": "ec117113-c7a4-4888-96c6-6de1b35556e8",
   "metadata": {},
   "outputs": [
    {
     "name": "stdout",
     "output_type": "stream",
     "text": [
      "Apple\n"
     ]
    }
   ],
   "source": [
    "print(next(my_iterator))"
   ]
  },
  {
   "cell_type": "code",
   "execution_count": 8,
   "id": "72fd22b3-1928-4010-8a18-86812bc9c52c",
   "metadata": {},
   "outputs": [
    {
     "ename": "StopIteration",
     "evalue": "",
     "output_type": "error",
     "traceback": [
      "\u001b[0;31m---------------------------------------------------------------------------\u001b[0m",
      "\u001b[0;31mStopIteration\u001b[0m                             Traceback (most recent call last)",
      "Cell \u001b[0;32mIn[8], line 1\u001b[0m\n\u001b[0;32m----> 1\u001b[0m \u001b[38;5;28mprint\u001b[39m(\u001b[38;5;28;43mnext\u001b[39;49m\u001b[43m(\u001b[49m\u001b[43mmy_iterator\u001b[49m\u001b[43m)\u001b[49m)\n",
      "\u001b[0;31mStopIteration\u001b[0m: "
     ]
    }
   ],
   "source": [
    "print(next(my_iterator))"
   ]
  },
  {
   "cell_type": "code",
   "execution_count": 9,
   "id": "d73b8570-9038-4f88-8456-6456d6116877",
   "metadata": {},
   "outputs": [
    {
     "name": "stdout",
     "output_type": "stream",
     "text": [
      "Bananna\n",
      "Orange\n",
      "Apple\n"
     ]
    }
   ],
   "source": [
    "for frutes in my_list :\n",
    "    print(frutes)"
   ]
  },
  {
   "cell_type": "code",
   "execution_count": 11,
   "id": "0b9e7ff4-05d7-4150-9d8b-215c892c308c",
   "metadata": {},
   "outputs": [
    {
     "name": "stdout",
     "output_type": "stream",
     "text": [
      "P y t h o n "
     ]
    }
   ],
   "source": [
    "string = \"Python\"\n",
    "\n",
    "for letters in string :\n",
    "    print(letters, end=\" \")"
   ]
  },
  {
   "cell_type": "code",
   "execution_count": 12,
   "id": "aa1a7d57-1042-491d-bb02-1e16556fe0fb",
   "metadata": {},
   "outputs": [
    {
     "name": "stdout",
     "output_type": "stream",
     "text": [
      "1\n",
      "2\n",
      "3\n",
      "4\n",
      "5\n",
      "6\n",
      "7\n",
      "8\n",
      "9\n"
     ]
    }
   ],
   "source": [
    "class IterCounter :\n",
    "    def __iter__(self):\n",
    "        self.num = 0\n",
    "        return self\n",
    "    \n",
    "    def __next__(self):\n",
    "        self.num += 1\n",
    "        return self.num\n",
    "    \n",
    "iter_counter = iter(IterCounter())\n",
    "\n",
    "print(next(iter_counter))\n",
    "print(next(iter_counter))\n",
    "print(next(iter_counter))\n",
    "print(next(iter_counter))\n",
    "print(next(iter_counter))\n",
    "print(next(iter_counter))\n",
    "print(next(iter_counter))\n",
    "print(next(iter_counter))\n",
    "print(next(iter_counter))"
   ]
  },
  {
   "cell_type": "code",
   "execution_count": 13,
   "id": "96078cd0-6041-4402-b902-4477dac8ed12",
   "metadata": {},
   "outputs": [],
   "source": [
    "class PowTwo:\n",
    "    \n",
    "    def __init__(self, end=1):\n",
    "        self.end = end\n",
    "        \n",
    "    def __iter__(self):\n",
    "        self.n = 1\n",
    "        return self\n",
    "    \n",
    "    def __next__(self):\n",
    "        if self.n <= self.end:\n",
    "            result = 2 **self.n\n",
    "            self.n += 1\n",
    "            return result\n",
    "        else :\n",
    "            raise StopIteration"
   ]
  },
  {
   "cell_type": "code",
   "execution_count": 14,
   "id": "dea76202-8c84-4b36-9a21-545c3d5a9bbb",
   "metadata": {},
   "outputs": [
    {
     "name": "stdout",
     "output_type": "stream",
     "text": [
      "2\n",
      "4\n",
      "8\n",
      "16\n",
      "32\n"
     ]
    }
   ],
   "source": [
    "for val in PowTwo(5):\n",
    "    print(val)"
   ]
  },
  {
   "cell_type": "markdown",
   "id": "ec5658e6-de9e-44a7-9964-cdd258a8c46a",
   "metadata": {},
   "source": [
    "# regular Expressions"
   ]
  },
  {
   "cell_type": "code",
   "execution_count": 15,
   "id": "7713f872-e626-434e-8722-31415427ce59",
   "metadata": {},
   "outputs": [],
   "source": [
    "import re"
   ]
  },
  {
   "cell_type": "code",
   "execution_count": 16,
   "id": "656e8ad0-1d10-419e-95be-0352da50abf0",
   "metadata": {},
   "outputs": [
    {
     "name": "stdout",
     "output_type": "stream",
     "text": [
      "Yes, we found a Match\n"
     ]
    }
   ],
   "source": [
    "txt = \"Python is an easy language to learn\"\n",
    "\n",
    "result = re.search(\"^Python.*learn?\", txt)\n",
    "\n",
    "if result:\n",
    "    print(\"Yes, we found a Match\")\n",
    "    \n",
    "else :\n",
    "    print(\"No match found!\")"
   ]
  },
  {
   "cell_type": "code",
   "execution_count": 17,
   "id": "0bd27a2d-ff97-425c-ab7e-95cb0376b261",
   "metadata": {},
   "outputs": [
    {
     "name": "stdout",
     "output_type": "stream",
     "text": [
      "easy\n",
      "learn\n"
     ]
    }
   ],
   "source": [
    "txt = \"Python is an easy language to learn\"\n",
    "\n",
    "lst = re.findall(\"\\w*ea\\w*\", txt)\n",
    "\n",
    "if lst :\n",
    "    for word in lst :\n",
    "        print(word)\n",
    "else :\n",
    "    print(\"No Match found!\")"
   ]
  },
  {
   "cell_type": "code",
   "execution_count": 18,
   "id": "9b34f708-d117-4cf9-a0ad-2e9ec0ddeed8",
   "metadata": {},
   "outputs": [
    {
     "name": "stdout",
     "output_type": "stream",
     "text": [
      "<re.Match object; span=(13, 17), match='easy'>\n",
      "<re.Match object; span=(30, 35), match='learn'>\n"
     ]
    }
   ],
   "source": [
    "txt = \"Python is an easy language to learn\"\n",
    "\n",
    "lst = re.finditer(\"\\w*ea\\w*\", txt)\n",
    "\n",
    "if lst :\n",
    "    for word in lst :\n",
    "        print(word)\n",
    "else :\n",
    "    print(\"No Match found!\")"
   ]
  },
  {
   "cell_type": "code",
   "execution_count": 24,
   "id": "e2e036a9-5452-4dae-95c4-c23903fcd408",
   "metadata": {},
   "outputs": [
    {
     "name": "stdout",
     "output_type": "stream",
     "text": [
      "Python\n",
      "is\n",
      "an\n",
      "easy\n",
      "language\n",
      "to\n",
      "learn\n"
     ]
    }
   ],
   "source": [
    "result = re.split(\"\\s\", txt)\n",
    "for word in result :\n",
    "    print(word)"
   ]
  },
  {
   "cell_type": "code",
   "execution_count": 28,
   "id": "624ecd2e-51f7-4643-8c22-3417a1698244",
   "metadata": {},
   "outputs": [
    {
     "name": "stdout",
     "output_type": "stream",
     "text": [
      "Python-is-an-easy language to learn\n"
     ]
    }
   ],
   "source": [
    "result = re.sub(\"\\s\", '-', txt, 3)\n",
    "print(result)"
   ]
  },
  {
   "cell_type": "code",
   "execution_count": 31,
   "id": "f2b3b993-8c53-46e7-9d05-d044f2563f41",
   "metadata": {},
   "outputs": [],
   "source": [
    "txt = \"Hello world\""
   ]
  },
  {
   "cell_type": "code",
   "execution_count": 32,
   "id": "62e771af-853c-4e28-882e-2396f4abbfe9",
   "metadata": {},
   "outputs": [
    {
     "name": "stdout",
     "output_type": "stream",
     "text": [
      "The string is starts with 'Hello' .\n",
      "Returned Match object  <re.Match object; span=(0, 5), match='Hello'>\n"
     ]
    }
   ],
   "source": [
    "result = re.search(\"^Hello\", txt)\n",
    "if result :\n",
    "    print(\"The string is starts with 'Hello' .\")\n",
    "    print(\"Returned Match object \", result)\n",
    "else :\n",
    "    print(\"No Match found !\")"
   ]
  },
  {
   "cell_type": "code",
   "execution_count": 35,
   "id": "e60220d7-04be-4ecc-bc90-744d3ba2dd7a",
   "metadata": {},
   "outputs": [
    {
     "name": "stdout",
     "output_type": "stream",
     "text": [
      "it Ends with World <re.Match object; span=(6, 11), match='world'>\n"
     ]
    }
   ],
   "source": [
    "result = re.search(\"world$\", txt)\n",
    "\n",
    "if result:\n",
    "    print(\"it Ends with World\" ,result)\n",
    "else :\n",
    "    print(\"No Match found\")"
   ]
  },
  {
   "cell_type": "code",
   "execution_count": 39,
   "id": "e26b40fc-1136-4188-a0e3-6864cd953c5a",
   "metadata": {},
   "outputs": [
    {
     "name": "stdout",
     "output_type": "stream",
     "text": [
      "['Hello']\n"
     ]
    }
   ],
   "source": [
    "result = re.findall(\"He..o\",txt)\n",
    "if result :\n",
    "    print(result)\n",
    "else:\n",
    "    print(\"No match found\")"
   ]
  },
  {
   "cell_type": "code",
   "execution_count": 40,
   "id": "399efd1c-e16d-472f-b569-a054b594f2d8",
   "metadata": {},
   "outputs": [],
   "source": [
    "txt = \"I like potato and tomato\"\n"
   ]
  },
  {
   "cell_type": "code",
   "execution_count": 41,
   "id": "83aecb8c-26f0-45b8-b1d8-a1cdf1eaa75a",
   "metadata": {},
   "outputs": [
    {
     "name": "stdout",
     "output_type": "stream",
     "text": [
      "['at', 'at']\n"
     ]
    }
   ],
   "source": [
    "result = re.findall(\"at+\", txt)\n",
    "if result:\n",
    "    print(result)\n",
    "else :\n",
    "    print(\"No match found\")"
   ]
  },
  {
   "cell_type": "markdown",
   "id": "e1d00a2e-26d2-43fe-8c92-4e0b9041ebcb",
   "metadata": {},
   "source": [
    "# Exceptions Handling "
   ]
  },
  {
   "cell_type": "code",
   "execution_count": 42,
   "id": "5f5a088f-78b1-4f19-b776-d437fff38d93",
   "metadata": {},
   "outputs": [
    {
     "name": "stdout",
     "output_type": "stream",
     "text": [
      "x =  10\n",
      "Programm still working\n"
     ]
    }
   ],
   "source": [
    "x = 10 \n",
    "\n",
    "try:\n",
    "    print(\"x = \", x)\n",
    "except:\n",
    "    print(\"An exception occurred\")\n",
    "    \n",
    "print(\"Programm still working\")"
   ]
  },
  {
   "cell_type": "code",
   "execution_count": 44,
   "id": "7898c7f0-1afc-4d81-8ecf-855dd2bd83b3",
   "metadata": {},
   "outputs": [
    {
     "name": "stdout",
     "output_type": "stream",
     "text": [
      "An exception occurred\n",
      "Programm still work also , althoug we have an error \n"
     ]
    }
   ],
   "source": [
    "try : \n",
    "    print(\"X = \", y)\n",
    "except :\n",
    "    print(\"An exception occurred\")\n",
    "    \n",
    "print(\"Programm still work also , althoug we have an error \")"
   ]
  },
  {
   "cell_type": "code",
   "execution_count": 46,
   "id": "1c698f32-1a54-469f-a63b-a9e3581b96f8",
   "metadata": {},
   "outputs": [
    {
     "name": "stdout",
     "output_type": "stream",
     "text": [
      "x is not defined\n",
      "programm still work also\n"
     ]
    }
   ],
   "source": [
    "try : \n",
    "    print(\"x= \", X)\n",
    "    \n",
    "except NameError:\n",
    "    print(\"x is not defined\")\n",
    "except:\n",
    "    print(\"An exception occured \")\n",
    "    \n",
    "print(\"programm still work also\")"
   ]
  },
  {
   "cell_type": "code",
   "execution_count": 47,
   "id": "fde74bdc-246a-4635-8150-19a7155e66c5",
   "metadata": {},
   "outputs": [
    {
     "name": "stdout",
     "output_type": "stream",
     "text": [
      "x =  10\n",
      "Finally block always executed \n",
      "Programm still work \n"
     ]
    }
   ],
   "source": [
    "x = 10 \n",
    "\n",
    "try :\n",
    "    print(\"x = \", x)\n",
    "except:\n",
    "    print(\"An exception occurred\")\n",
    "finally :\n",
    "    print(\"Finally block always executed \")\n",
    "    \n",
    "print(\"Programm still work \")"
   ]
  },
  {
   "cell_type": "code",
   "execution_count": 48,
   "id": "657adbd5-ef92-49c2-a859-76ac1009f5fa",
   "metadata": {},
   "outputs": [
    {
     "name": "stdout",
     "output_type": "stream",
     "text": [
      "x =  12\n",
      "Else block executed only when no exception occurred \n",
      "program still work \n"
     ]
    }
   ],
   "source": [
    "x = 12\n",
    "try :\n",
    "    print(\"x = \", x)\n",
    "except:\n",
    "    print(\"An exception occurred\")\n",
    "    \n",
    "else :\n",
    "    print(\"Else block executed only when no exception occurred \")\n",
    "    \n",
    "print(\"program still work \")"
   ]
  },
  {
   "cell_type": "code",
   "execution_count": null,
   "id": "3d014751-7ef0-426f-beb2-c316b9f1c590",
   "metadata": {},
   "outputs": [],
   "source": []
  }
 ],
 "metadata": {
  "kernelspec": {
   "display_name": "Python 3 (ipykernel)",
   "language": "python",
   "name": "python3"
  },
  "language_info": {
   "codemirror_mode": {
    "name": "ipython",
    "version": 3
   },
   "file_extension": ".py",
   "mimetype": "text/x-python",
   "name": "python",
   "nbconvert_exporter": "python",
   "pygments_lexer": "ipython3",
   "version": "3.10.8"
  }
 },
 "nbformat": 4,
 "nbformat_minor": 5
}
