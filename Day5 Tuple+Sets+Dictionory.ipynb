{
 "cells": [
  {
   "cell_type": "code",
   "execution_count": 1,
   "id": "34042fbd-9822-46af-b33f-3715978021af",
   "metadata": {},
   "outputs": [],
   "source": [
    "t = ()"
   ]
  },
  {
   "cell_type": "code",
   "execution_count": 2,
   "id": "3d12df11-bcd9-4217-af6f-640f55c383e8",
   "metadata": {},
   "outputs": [
    {
     "data": {
      "text/plain": [
       "tuple"
      ]
     },
     "execution_count": 2,
     "metadata": {},
     "output_type": "execute_result"
    }
   ],
   "source": [
    "type(t)"
   ]
  },
  {
   "cell_type": "code",
   "execution_count": 3,
   "id": "a631d918-27af-4c7f-863e-bad6361e5414",
   "metadata": {},
   "outputs": [],
   "source": [
    "t1=(1,2,3,4,5,45.67,45+6j,'sudh',True)"
   ]
  },
  {
   "cell_type": "code",
   "execution_count": 4,
   "id": "a1a7bf59-d977-47ec-bced-359117645259",
   "metadata": {},
   "outputs": [
    {
     "data": {
      "text/plain": [
       "(1, 2, 3, 4, 5, 45.67, (45+6j), 'sudh', True)"
      ]
     },
     "execution_count": 4,
     "metadata": {},
     "output_type": "execute_result"
    }
   ],
   "source": [
    "t1"
   ]
  },
  {
   "cell_type": "code",
   "execution_count": 5,
   "id": "9303972b-38ff-4e1a-b695-bbd6f836df2f",
   "metadata": {},
   "outputs": [
    {
     "data": {
      "text/plain": [
       "tuple"
      ]
     },
     "execution_count": 5,
     "metadata": {},
     "output_type": "execute_result"
    }
   ],
   "source": [
    "type(t1)"
   ]
  },
  {
   "cell_type": "code",
   "execution_count": 6,
   "id": "6f9b7aff-d5a7-455e-b069-365371623788",
   "metadata": {},
   "outputs": [],
   "source": [
    "l =[1,2,3,4]"
   ]
  },
  {
   "cell_type": "code",
   "execution_count": 7,
   "id": "a7ed8ddb-7055-432f-8cc0-4257e915d806",
   "metadata": {},
   "outputs": [
    {
     "data": {
      "text/plain": [
       "list"
      ]
     },
     "execution_count": 7,
     "metadata": {},
     "output_type": "execute_result"
    }
   ],
   "source": [
    "type(l)"
   ]
  },
  {
   "cell_type": "code",
   "execution_count": 8,
   "id": "a7dea546-6285-421a-ab2d-bf8cc0b0d8eb",
   "metadata": {},
   "outputs": [
    {
     "data": {
      "text/plain": [
       "1"
      ]
     },
     "execution_count": 8,
     "metadata": {},
     "output_type": "execute_result"
    }
   ],
   "source": [
    "t1[0]"
   ]
  },
  {
   "cell_type": "code",
   "execution_count": 10,
   "id": "471916e3-eb04-450b-b60e-b3813ffdd5ac",
   "metadata": {},
   "outputs": [
    {
     "data": {
      "text/plain": [
       "True"
      ]
     },
     "execution_count": 10,
     "metadata": {},
     "output_type": "execute_result"
    }
   ],
   "source": [
    "t1[-1]"
   ]
  },
  {
   "cell_type": "code",
   "execution_count": 11,
   "id": "cb842e6f-844e-4f54-8c1a-b3d35dd4efe5",
   "metadata": {},
   "outputs": [
    {
     "data": {
      "text/plain": [
       "(True, 'sudh', (45+6j), 45.67, 5, 4, 3, 2, 1)"
      ]
     },
     "execution_count": 11,
     "metadata": {},
     "output_type": "execute_result"
    }
   ],
   "source": [
    "t1[::-1]"
   ]
  },
  {
   "cell_type": "code",
   "execution_count": 14,
   "id": "e2c11674-8a3c-4e03-9cb1-816a91d47d60",
   "metadata": {},
   "outputs": [],
   "source": [
    "t1=t1[::-1]"
   ]
  },
  {
   "cell_type": "code",
   "execution_count": 15,
   "id": "7406676a-259a-4a37-b1f1-758b83ee481f",
   "metadata": {},
   "outputs": [
    {
     "data": {
      "text/plain": [
       "(True, 'sudh', (45+6j), 45.67, 5, 4, 3, 2, 1)"
      ]
     },
     "execution_count": 15,
     "metadata": {},
     "output_type": "execute_result"
    }
   ],
   "source": [
    "t1"
   ]
  },
  {
   "cell_type": "code",
   "execution_count": 17,
   "id": "17831612-bfe8-4b87-b3cc-e72502dc3c71",
   "metadata": {},
   "outputs": [
    {
     "data": {
      "text/plain": [
       "(True, 'sudh', (45+6j))"
      ]
     },
     "execution_count": 17,
     "metadata": {},
     "output_type": "execute_result"
    }
   ],
   "source": [
    "t1[0:3]"
   ]
  },
  {
   "cell_type": "code",
   "execution_count": 18,
   "id": "eb87f16f-89b6-4389-bc7f-0585b7f3c9dd",
   "metadata": {},
   "outputs": [
    {
     "data": {
      "text/plain": [
       "(True, 'sudh', (45+6j), 45.67, 5, 4, 3, 2, 1)"
      ]
     },
     "execution_count": 18,
     "metadata": {},
     "output_type": "execute_result"
    }
   ],
   "source": [
    "t1"
   ]
  },
  {
   "cell_type": "code",
   "execution_count": 23,
   "id": "6549333a-9fd6-4136-90e6-f0cc10208780",
   "metadata": {},
   "outputs": [
    {
     "data": {
      "text/plain": [
       "1"
      ]
     },
     "execution_count": 23,
     "metadata": {},
     "output_type": "execute_result"
    }
   ],
   "source": [
    "t1.count('sudh')"
   ]
  },
  {
   "cell_type": "code",
   "execution_count": 24,
   "id": "30f50eb7-5b59-4d86-bfd8-d157c301072c",
   "metadata": {},
   "outputs": [
    {
     "data": {
      "text/plain": [
       "2"
      ]
     },
     "execution_count": 24,
     "metadata": {},
     "output_type": "execute_result"
    }
   ],
   "source": [
    "t1.count(1)"
   ]
  },
  {
   "cell_type": "code",
   "execution_count": 26,
   "id": "297bec1e-0189-497d-9240-247dd6b09cf5",
   "metadata": {},
   "outputs": [
    {
     "data": {
      "text/plain": [
       "0"
      ]
     },
     "execution_count": 26,
     "metadata": {},
     "output_type": "execute_result"
    }
   ],
   "source": [
    "t1.count(10)"
   ]
  },
  {
   "cell_type": "code",
   "execution_count": 35,
   "id": "4f791658-42b4-4b6f-828c-9fbc6c630783",
   "metadata": {},
   "outputs": [
    {
     "data": {
      "text/plain": [
       "0"
      ]
     },
     "execution_count": 35,
     "metadata": {},
     "output_type": "execute_result"
    }
   ],
   "source": [
    "#recognize True as 1 \n",
    "t1.index(1)"
   ]
  },
  {
   "cell_type": "code",
   "execution_count": 29,
   "id": "570432ed-74fc-4c3f-91f9-d18b150d453d",
   "metadata": {},
   "outputs": [
    {
     "data": {
      "text/plain": [
       "7"
      ]
     },
     "execution_count": 29,
     "metadata": {},
     "output_type": "execute_result"
    }
   ],
   "source": [
    "t1.index(2)"
   ]
  },
  {
   "cell_type": "code",
   "execution_count": 30,
   "id": "0e40ba2a-f4c2-40ab-87e4-1423b4822754",
   "metadata": {},
   "outputs": [
    {
     "data": {
      "text/plain": [
       "1"
      ]
     },
     "execution_count": 30,
     "metadata": {},
     "output_type": "execute_result"
    }
   ],
   "source": [
    "t1.index('sudh')"
   ]
  },
  {
   "cell_type": "code",
   "execution_count": 31,
   "id": "951b4963-fca9-4d09-b474-334c918a1cd9",
   "metadata": {},
   "outputs": [
    {
     "data": {
      "text/plain": [
       "(True, 'sudh', (45+6j), 45.67, 5, 4, 3, 2, 1)"
      ]
     },
     "execution_count": 31,
     "metadata": {},
     "output_type": "execute_result"
    }
   ],
   "source": [
    "t1"
   ]
  },
  {
   "cell_type": "code",
   "execution_count": 34,
   "id": "a880fd49-7add-4701-a036-4e9091f86f71",
   "metadata": {},
   "outputs": [
    {
     "data": {
      "text/plain": [
       "2"
      ]
     },
     "execution_count": 34,
     "metadata": {},
     "output_type": "execute_result"
    }
   ],
   "source": [
    "# because True recognized in system as 1 \n",
    "t1.count(True)"
   ]
  },
  {
   "cell_type": "code",
   "execution_count": 36,
   "id": "03ce82c9-2574-48df-99e8-6867fb147de0",
   "metadata": {},
   "outputs": [
    {
     "data": {
      "text/plain": [
       "(True, 'sudh', (45+6j), 45.67, 5, 4, 3, 2, 1)"
      ]
     },
     "execution_count": 36,
     "metadata": {},
     "output_type": "execute_result"
    }
   ],
   "source": [
    "t1"
   ]
  },
  {
   "cell_type": "code",
   "execution_count": 37,
   "id": "32ad20b6-d8ab-4717-9e93-1df8134d8fd0",
   "metadata": {},
   "outputs": [
    {
     "data": {
      "text/plain": [
       "[1, 2, 3, 4]"
      ]
     },
     "execution_count": 37,
     "metadata": {},
     "output_type": "execute_result"
    }
   ],
   "source": [
    "l"
   ]
  },
  {
   "cell_type": "code",
   "execution_count": 40,
   "id": "50788d3c-b186-4b7f-b685-5737d4134b67",
   "metadata": {},
   "outputs": [],
   "source": [
    "t1 =(True, 'sudh', (45+6j), 45.67, 5, 4, 3, 2, 1)"
   ]
  },
  {
   "cell_type": "code",
   "execution_count": 41,
   "id": "5db4a63e-71ae-490c-a3c9-6553b5acf18e",
   "metadata": {},
   "outputs": [
    {
     "data": {
      "text/plain": [
       "(True, 'sudh', (45+6j), 45.67, 5, 4, 3, 2, 1)"
      ]
     },
     "execution_count": 41,
     "metadata": {},
     "output_type": "execute_result"
    }
   ],
   "source": [
    "t1"
   ]
  },
  {
   "cell_type": "code",
   "execution_count": 42,
   "id": "be0446ba-358c-42a0-a5a3-bb6f62f3153a",
   "metadata": {},
   "outputs": [
    {
     "ename": "TypeError",
     "evalue": "'tuple' object does not support item assignment",
     "output_type": "error",
     "traceback": [
      "\u001b[0;31m---------------------------------------------------------------------------\u001b[0m",
      "\u001b[0;31mTypeError\u001b[0m                                 Traceback (most recent call last)",
      "Cell \u001b[0;32mIn[42], line 1\u001b[0m\n\u001b[0;32m----> 1\u001b[0m \u001b[43mt1\u001b[49m\u001b[43m[\u001b[49m\u001b[38;5;241;43m0\u001b[39;49m\u001b[43m]\u001b[49m\u001b[38;5;241m=\u001b[39m\u001b[38;5;241m2344\u001b[39m\n",
      "\u001b[0;31mTypeError\u001b[0m: 'tuple' object does not support item assignment"
     ]
    }
   ],
   "source": [
    "t1[0]=2344"
   ]
  },
  {
   "cell_type": "code",
   "execution_count": 43,
   "id": "91ce1e89-af4a-446d-b5c3-fefd07017fe5",
   "metadata": {},
   "outputs": [],
   "source": [
    "l[0]=100"
   ]
  },
  {
   "cell_type": "code",
   "execution_count": 44,
   "id": "a991f1a3-ca03-45fa-b26c-bce482e16414",
   "metadata": {},
   "outputs": [
    {
     "data": {
      "text/plain": [
       "[100, 2, 3, 4]"
      ]
     },
     "execution_count": 44,
     "metadata": {},
     "output_type": "execute_result"
    }
   ],
   "source": [
    "l"
   ]
  },
  {
   "cell_type": "code",
   "execution_count": 51,
   "id": "23e8b0bb-3640-4993-b528-db6fbd4ef1ef",
   "metadata": {},
   "outputs": [
    {
     "name": "stdout",
     "output_type": "stream",
     "text": [
      "True <class 'bool'>\n",
      "sudh <class 'str'>\n",
      "(45+6j) <class 'complex'>\n",
      "45.67 <class 'float'>\n",
      "5 <class 'int'>\n",
      "4 <class 'int'>\n",
      "3 <class 'int'>\n",
      "2 <class 'int'>\n",
      "1 <class 'int'>\n"
     ]
    }
   ],
   "source": [
    "for i in t1 :\n",
    "    print(i,type(i))\n"
   ]
  },
  {
   "cell_type": "code",
   "execution_count": 52,
   "id": "cf08a3d5-6292-4ca4-87c4-95e23bf4b0f7",
   "metadata": {},
   "outputs": [],
   "source": [
    "t2 = (1,2,3,4)"
   ]
  },
  {
   "cell_type": "code",
   "execution_count": 53,
   "id": "780e6a51-f081-42ab-b7cc-20a63d5295c2",
   "metadata": {},
   "outputs": [
    {
     "data": {
      "text/plain": [
       "(1, 2, 3, 4)"
      ]
     },
     "execution_count": 53,
     "metadata": {},
     "output_type": "execute_result"
    }
   ],
   "source": [
    "t2"
   ]
  },
  {
   "cell_type": "code",
   "execution_count": 54,
   "id": "e7eea572-2132-4391-8806-472bfe7d06a6",
   "metadata": {},
   "outputs": [
    {
     "data": {
      "text/plain": [
       "(1, 2, 3, 4, 1, 2, 3, 4, 1, 2, 3, 4)"
      ]
     },
     "execution_count": 54,
     "metadata": {},
     "output_type": "execute_result"
    }
   ],
   "source": [
    "t2*3"
   ]
  },
  {
   "cell_type": "code",
   "execution_count": 55,
   "id": "f2033542-175e-41e1-b52d-22ad2189f9a3",
   "metadata": {},
   "outputs": [
    {
     "data": {
      "text/plain": [
       "4"
      ]
     },
     "execution_count": 55,
     "metadata": {},
     "output_type": "execute_result"
    }
   ],
   "source": [
    "max(t2)"
   ]
  },
  {
   "cell_type": "code",
   "execution_count": 57,
   "id": "9fd73e30-b19e-4961-8f0e-6da4d7e80af0",
   "metadata": {},
   "outputs": [
    {
     "data": {
      "text/plain": [
       "1"
      ]
     },
     "execution_count": 57,
     "metadata": {},
     "output_type": "execute_result"
    }
   ],
   "source": [
    "min(t2)"
   ]
  },
  {
   "cell_type": "markdown",
   "id": "0dad604a-658d-4a64-ae41-91528ef8e60b",
   "metadata": {},
   "source": [
    "\"\"\"Tuple are basically follows Immutability concepts where it is not going to allow to change any element at a perticular index\"\"\""
   ]
  },
  {
   "cell_type": "code",
   "execution_count": 58,
   "id": "51afa2c9-48d2-49a3-a9eb-dfe02b27a3fe",
   "metadata": {},
   "outputs": [],
   "source": [
    "t1 = (1,2,32,4)\n",
    "t2 = (4,5,6,7,8)"
   ]
  },
  {
   "cell_type": "code",
   "execution_count": 59,
   "id": "0ebeb230-0c64-471f-b845-8da4e2303b99",
   "metadata": {},
   "outputs": [],
   "source": [
    "t3= (t1,t2)"
   ]
  },
  {
   "cell_type": "code",
   "execution_count": 60,
   "id": "872668d9-04ca-4ea5-9908-b424c3fe82a1",
   "metadata": {},
   "outputs": [
    {
     "data": {
      "text/plain": [
       "((1, 2, 32, 4), (4, 5, 6, 7, 8))"
      ]
     },
     "execution_count": 60,
     "metadata": {},
     "output_type": "execute_result"
    }
   ],
   "source": [
    "t3"
   ]
  },
  {
   "cell_type": "code",
   "execution_count": 61,
   "id": "d52af25e-605b-4130-a977-3601466293dc",
   "metadata": {},
   "outputs": [],
   "source": [
    "t4 = ((1,2,3,4,5),[1,3,5,6,7,8])"
   ]
  },
  {
   "cell_type": "code",
   "execution_count": 62,
   "id": "55b9d74c-e3da-4e94-b1da-bc7aaf5be3c4",
   "metadata": {},
   "outputs": [
    {
     "data": {
      "text/plain": [
       "((1, 2, 3, 4, 5), [1, 3, 5, 6, 7, 8])"
      ]
     },
     "execution_count": 62,
     "metadata": {},
     "output_type": "execute_result"
    }
   ],
   "source": [
    "t4"
   ]
  },
  {
   "cell_type": "code",
   "execution_count": 63,
   "id": "4c21b072-efa7-49b0-b949-c8e1b820ff22",
   "metadata": {},
   "outputs": [],
   "source": [
    "del t4"
   ]
  },
  {
   "cell_type": "code",
   "execution_count": 64,
   "id": "c98f0b25-41be-49c3-9046-dba8d19e6819",
   "metadata": {},
   "outputs": [
    {
     "ename": "NameError",
     "evalue": "name 't4' is not defined",
     "output_type": "error",
     "traceback": [
      "\u001b[0;31m---------------------------------------------------------------------------\u001b[0m",
      "\u001b[0;31mNameError\u001b[0m                                 Traceback (most recent call last)",
      "Cell \u001b[0;32mIn[64], line 1\u001b[0m\n\u001b[0;32m----> 1\u001b[0m \u001b[43mt4\u001b[49m\n",
      "\u001b[0;31mNameError\u001b[0m: name 't4' is not defined"
     ]
    }
   ],
   "source": [
    "t4"
   ]
  },
  {
   "cell_type": "code",
   "execution_count": 65,
   "id": "836f7d71-d3a8-4d8c-8bad-478d0590da7e",
   "metadata": {},
   "outputs": [
    {
     "data": {
      "text/plain": [
       "(1, 2, 32, 4)"
      ]
     },
     "execution_count": 65,
     "metadata": {},
     "output_type": "execute_result"
    }
   ],
   "source": [
    "t1"
   ]
  },
  {
   "cell_type": "code",
   "execution_count": 66,
   "id": "0f849278-61ed-49d7-aa1b-089b75bdd23c",
   "metadata": {},
   "outputs": [
    {
     "data": {
      "text/plain": [
       "4"
      ]
     },
     "execution_count": 66,
     "metadata": {},
     "output_type": "execute_result"
    }
   ],
   "source": [
    "len(t1)"
   ]
  },
  {
   "cell_type": "code",
   "execution_count": 67,
   "id": "c7cea93a-4611-4d8d-b2d2-bbc0524e35b2",
   "metadata": {},
   "outputs": [
    {
     "data": {
      "text/plain": [
       "False"
      ]
     },
     "execution_count": 67,
     "metadata": {},
     "output_type": "execute_result"
    }
   ],
   "source": [
    "\"abdullah\" in t1"
   ]
  },
  {
   "cell_type": "code",
   "execution_count": 68,
   "id": "96940cf0-6b80-410b-8eef-e796bf92f3ed",
   "metadata": {},
   "outputs": [
    {
     "data": {
      "text/plain": [
       "True"
      ]
     },
     "execution_count": 68,
     "metadata": {},
     "output_type": "execute_result"
    }
   ],
   "source": [
    "2 in t1"
   ]
  },
  {
   "cell_type": "markdown",
   "id": "8dce57db-466e-4833-a091-c7bbeab322e3",
   "metadata": {},
   "source": [
    "# Sets "
   ]
  },
  {
   "cell_type": "code",
   "execution_count": 70,
   "id": "f84261e3-4bb7-4b95-97b9-cc6bd7022e6c",
   "metadata": {},
   "outputs": [],
   "source": [
    "s = {}"
   ]
  },
  {
   "cell_type": "code",
   "execution_count": 71,
   "id": "a728ca32-cbc9-4ec6-bcb8-a34e6eac63aa",
   "metadata": {},
   "outputs": [
    {
     "data": {
      "text/plain": [
       "dict"
      ]
     },
     "execution_count": 71,
     "metadata": {},
     "output_type": "execute_result"
    }
   ],
   "source": [
    "type(s)"
   ]
  },
  {
   "cell_type": "code",
   "execution_count": 72,
   "id": "8e2e3d86-15d7-4566-8a4a-79f7bf5ef6ad",
   "metadata": {},
   "outputs": [],
   "source": [
    "s1={1,2,3,4,5,6}"
   ]
  },
  {
   "cell_type": "code",
   "execution_count": 73,
   "id": "5f423484-5da5-4e37-9a6e-e9438a8b6093",
   "metadata": {},
   "outputs": [
    {
     "data": {
      "text/plain": [
       "dict"
      ]
     },
     "execution_count": 73,
     "metadata": {},
     "output_type": "execute_result"
    }
   ],
   "source": [
    "type(s)"
   ]
  },
  {
   "cell_type": "code",
   "execution_count": 75,
   "id": "607b6c62-01a2-4b9d-bed5-0904fee1bea0",
   "metadata": {},
   "outputs": [],
   "source": [
    "s2 = {1,1,12,3,3,3,4,5,5,5,55,523,34,3,45,6,67}"
   ]
  },
  {
   "cell_type": "code",
   "execution_count": 76,
   "id": "661d32aa-7a5f-4132-a549-576865ed101a",
   "metadata": {},
   "outputs": [
    {
     "data": {
      "text/plain": [
       "{1, 3, 4, 5, 6, 12, 34, 45, 55, 67, 523}"
      ]
     },
     "execution_count": 76,
     "metadata": {},
     "output_type": "execute_result"
    }
   ],
   "source": [
    "s2"
   ]
  },
  {
   "cell_type": "code",
   "execution_count": 77,
   "id": "556da692-c7ed-46c0-aa09-00f89daa8efe",
   "metadata": {},
   "outputs": [],
   "source": [
    "s3 = {'a','a','b','b'}"
   ]
  },
  {
   "cell_type": "code",
   "execution_count": 78,
   "id": "192d694c-d0fb-42e7-ba0b-a37d8d74da7e",
   "metadata": {},
   "outputs": [
    {
     "data": {
      "text/plain": [
       "{'a', 'b'}"
      ]
     },
     "execution_count": 78,
     "metadata": {},
     "output_type": "execute_result"
    }
   ],
   "source": [
    "s3"
   ]
  },
  {
   "cell_type": "code",
   "execution_count": 82,
   "id": "2c289a8e-c044-42b4-918b-89af4edf4657",
   "metadata": {},
   "outputs": [],
   "source": [
    "l = list(s2)"
   ]
  },
  {
   "cell_type": "code",
   "execution_count": 80,
   "id": "4d671ab7-4f33-4c9c-84fb-c83b0f2a7cff",
   "metadata": {},
   "outputs": [
    {
     "data": {
      "text/plain": [
       "(1, 34, 3, 4, 5, 6, 67, 523, 12, 45, 55)"
      ]
     },
     "execution_count": 80,
     "metadata": {},
     "output_type": "execute_result"
    }
   ],
   "source": [
    "tuple(s2)"
   ]
  },
  {
   "cell_type": "code",
   "execution_count": 83,
   "id": "5f26da4c-9686-4926-8413-35f1fb7d9aed",
   "metadata": {},
   "outputs": [
    {
     "data": {
      "text/plain": [
       "[1, 34, 3, 4, 5, 6, 67, 523, 12, 45, 55]"
      ]
     },
     "execution_count": 83,
     "metadata": {},
     "output_type": "execute_result"
    }
   ],
   "source": [
    "l"
   ]
  },
  {
   "cell_type": "code",
   "execution_count": 84,
   "id": "9a9f3c9e-fb59-47bf-8cb0-13197a12d16e",
   "metadata": {},
   "outputs": [
    {
     "data": {
      "text/plain": [
       "{1, 3, 4, 5, 6, 12, 34, 45, 55, 67, 523}"
      ]
     },
     "execution_count": 84,
     "metadata": {},
     "output_type": "execute_result"
    }
   ],
   "source": [
    "set(l)"
   ]
  },
  {
   "cell_type": "code",
   "execution_count": 85,
   "id": "5847cf28-5fcd-4e8d-a4d5-46f86af50ada",
   "metadata": {},
   "outputs": [
    {
     "ename": "TypeError",
     "evalue": "unhashable type: 'list'",
     "output_type": "error",
     "traceback": [
      "\u001b[0;31m---------------------------------------------------------------------------\u001b[0m",
      "\u001b[0;31mTypeError\u001b[0m                                 Traceback (most recent call last)",
      "Cell \u001b[0;32mIn[85], line 1\u001b[0m\n\u001b[0;32m----> 1\u001b[0m s4 \u001b[38;5;241m=\u001b[39m {\u001b[38;5;241m1\u001b[39m,\u001b[38;5;241m2\u001b[39m,\u001b[38;5;241m3\u001b[39m,\u001b[38;5;241m4\u001b[39m,[\u001b[38;5;241m1\u001b[39m,\u001b[38;5;241m2\u001b[39m,\u001b[38;5;241m3\u001b[39m,\u001b[38;5;241m4\u001b[39m]}\n",
      "\u001b[0;31mTypeError\u001b[0m: unhashable type: 'list'"
     ]
    }
   ],
   "source": [
    "s4 = {1,2,3,4,[1,2,3,4]}"
   ]
  },
  {
   "cell_type": "code",
   "execution_count": 86,
   "id": "ca115c34-57d0-473b-bd2a-513dd7799883",
   "metadata": {},
   "outputs": [],
   "source": [
    "s5 = {1,2,3,4, (1,2,3,4)}"
   ]
  },
  {
   "cell_type": "code",
   "execution_count": 87,
   "id": "93f91c1f-c0ec-42b1-9b76-987a71afc1b4",
   "metadata": {},
   "outputs": [
    {
     "data": {
      "text/plain": [
       "{(1, 2, 3, 4), 1, 2, 3, 4}"
      ]
     },
     "execution_count": 87,
     "metadata": {},
     "output_type": "execute_result"
    }
   ],
   "source": [
    "s5"
   ]
  },
  {
   "cell_type": "code",
   "execution_count": 88,
   "id": "10a83e5c-fea7-4619-a182-0b4d64b12b93",
   "metadata": {},
   "outputs": [
    {
     "ename": "TypeError",
     "evalue": "'set' object does not support item assignment",
     "output_type": "error",
     "traceback": [
      "\u001b[0;31m---------------------------------------------------------------------------\u001b[0m",
      "\u001b[0;31mTypeError\u001b[0m                                 Traceback (most recent call last)",
      "Cell \u001b[0;32mIn[88], line 1\u001b[0m\n\u001b[0;32m----> 1\u001b[0m \u001b[43ms5\u001b[49m\u001b[43m[\u001b[49m\u001b[38;5;241;43m1\u001b[39;49m\u001b[43m]\u001b[49m \u001b[38;5;241m=\u001b[39m \u001b[38;5;241m2\u001b[39m\n",
      "\u001b[0;31mTypeError\u001b[0m: 'set' object does not support item assignment"
     ]
    }
   ],
   "source": [
    "s5[1] = 2"
   ]
  },
  {
   "cell_type": "code",
   "execution_count": 89,
   "id": "ced6372f-fa6f-4384-ac1d-717511a38867",
   "metadata": {},
   "outputs": [],
   "source": [
    "s6 = {\"Abdullah\",\"reslan\",2,3,4,5}"
   ]
  },
  {
   "cell_type": "code",
   "execution_count": 90,
   "id": "105777f0-e56a-48fd-b8fd-237c5c571fad",
   "metadata": {},
   "outputs": [
    {
     "data": {
      "text/plain": [
       "{2, 3, 4, 5, 'Abdullah', 'reslan'}"
      ]
     },
     "execution_count": 90,
     "metadata": {},
     "output_type": "execute_result"
    }
   ],
   "source": [
    "s6"
   ]
  },
  {
   "cell_type": "code",
   "execution_count": 91,
   "id": "05ebd39b-2159-4c15-814f-bc6c938f3157",
   "metadata": {},
   "outputs": [],
   "source": [
    "s7 = {\"sudh\",\"sudh\",1,2,3,4}"
   ]
  },
  {
   "cell_type": "code",
   "execution_count": 92,
   "id": "b1b14b64-2fff-4310-ba73-6b7d4c59128e",
   "metadata": {},
   "outputs": [
    {
     "data": {
      "text/plain": [
       "{1, 2, 3, 4, 'sudh'}"
      ]
     },
     "execution_count": 92,
     "metadata": {},
     "output_type": "execute_result"
    }
   ],
   "source": [
    "s7"
   ]
  },
  {
   "cell_type": "code",
   "execution_count": 93,
   "id": "3740e400-6dd5-4eed-874c-c56af4953d53",
   "metadata": {},
   "outputs": [
    {
     "ename": "TypeError",
     "evalue": "'set' object is not subscriptable",
     "output_type": "error",
     "traceback": [
      "\u001b[0;31m---------------------------------------------------------------------------\u001b[0m",
      "\u001b[0;31mTypeError\u001b[0m                                 Traceback (most recent call last)",
      "Cell \u001b[0;32mIn[93], line 1\u001b[0m\n\u001b[0;32m----> 1\u001b[0m \u001b[43ms7\u001b[49m\u001b[43m[\u001b[49m\u001b[38;5;241;43m0\u001b[39;49m\u001b[43m]\u001b[49m\n",
      "\u001b[0;31mTypeError\u001b[0m: 'set' object is not subscriptable"
     ]
    }
   ],
   "source": [
    "s7[0]"
   ]
  },
  {
   "cell_type": "code",
   "execution_count": 94,
   "id": "f0459696-980b-42c8-b5e0-d9d50bccc96d",
   "metadata": {},
   "outputs": [
    {
     "ename": "TypeError",
     "evalue": "'set' object is not subscriptable",
     "output_type": "error",
     "traceback": [
      "\u001b[0;31m---------------------------------------------------------------------------\u001b[0m",
      "\u001b[0;31mTypeError\u001b[0m                                 Traceback (most recent call last)",
      "Cell \u001b[0;32mIn[94], line 1\u001b[0m\n\u001b[0;32m----> 1\u001b[0m \u001b[43ms7\u001b[49m\u001b[43m[\u001b[49m\u001b[43m:\u001b[49m\u001b[43m:\u001b[49m\u001b[38;5;241;43m-\u001b[39;49m\u001b[38;5;241;43m1\u001b[39;49m\u001b[43m]\u001b[49m\n",
      "\u001b[0;31mTypeError\u001b[0m: 'set' object is not subscriptable"
     ]
    }
   ],
   "source": [
    "s7[::-1]"
   ]
  },
  {
   "cell_type": "code",
   "execution_count": 96,
   "id": "53de972b-cab1-4d3e-ace8-288affca6ffa",
   "metadata": {},
   "outputs": [
    {
     "name": "stdout",
     "output_type": "stream",
     "text": [
      "1 <class 'int'>\n"
     ]
    }
   ],
   "source": [
    "for i in s7:\n",
    "    if i == 1:\n",
    "        print(i,type(i))"
   ]
  },
  {
   "cell_type": "code",
   "execution_count": 97,
   "id": "00b80ff7-bee4-47c5-ae56-f1083345c779",
   "metadata": {},
   "outputs": [],
   "source": [
    "s7.add(\"34\")"
   ]
  },
  {
   "cell_type": "code",
   "execution_count": 98,
   "id": "50f1cbb4-d2d2-4590-b428-d70b2b92abd0",
   "metadata": {},
   "outputs": [
    {
     "data": {
      "text/plain": [
       "{1, 2, 3, '34', 4, 'sudh'}"
      ]
     },
     "execution_count": 98,
     "metadata": {},
     "output_type": "execute_result"
    }
   ],
   "source": [
    "s7"
   ]
  },
  {
   "cell_type": "code",
   "execution_count": 99,
   "id": "a11e99b9-2de2-4405-abc3-ff30e1a41cec",
   "metadata": {},
   "outputs": [],
   "source": [
    "s7.add(2)"
   ]
  },
  {
   "cell_type": "code",
   "execution_count": 100,
   "id": "0e14aa1d-80f8-4c80-8cd1-9f898bcfe10f",
   "metadata": {},
   "outputs": [
    {
     "data": {
      "text/plain": [
       "{1, 2, 3, '34', 4, 'sudh'}"
      ]
     },
     "execution_count": 100,
     "metadata": {},
     "output_type": "execute_result"
    }
   ],
   "source": [
    "s7"
   ]
  },
  {
   "cell_type": "code",
   "execution_count": 102,
   "id": "158c1ceb-c810-4e09-9952-88b8e77bf497",
   "metadata": {},
   "outputs": [],
   "source": [
    "s7.remove(1)"
   ]
  },
  {
   "cell_type": "code",
   "execution_count": 103,
   "id": "11775dfa-c39a-4330-ae76-96a58fad1ca7",
   "metadata": {},
   "outputs": [
    {
     "data": {
      "text/plain": [
       "{2, 3, '34', 4, 'sudh'}"
      ]
     },
     "execution_count": 103,
     "metadata": {},
     "output_type": "execute_result"
    }
   ],
   "source": [
    "s7"
   ]
  },
  {
   "cell_type": "code",
   "execution_count": 104,
   "id": "f31d0d8f-2d5d-4620-b8e1-ab175e5306f6",
   "metadata": {},
   "outputs": [
    {
     "data": {
      "text/plain": [
       "5"
      ]
     },
     "execution_count": 104,
     "metadata": {},
     "output_type": "execute_result"
    }
   ],
   "source": [
    "len(s7)"
   ]
  },
  {
   "cell_type": "code",
   "execution_count": 105,
   "id": "e2ea832c-b864-4921-9951-e26deb8ef6a4",
   "metadata": {},
   "outputs": [
    {
     "data": {
      "text/plain": [
       "2"
      ]
     },
     "execution_count": 105,
     "metadata": {},
     "output_type": "execute_result"
    }
   ],
   "source": [
    "s7.pop()"
   ]
  },
  {
   "cell_type": "code",
   "execution_count": 106,
   "id": "40546873-86a6-4b3f-8557-e88dcb81a16f",
   "metadata": {},
   "outputs": [
    {
     "data": {
      "text/plain": [
       "3"
      ]
     },
     "execution_count": 106,
     "metadata": {},
     "output_type": "execute_result"
    }
   ],
   "source": [
    "s7.pop()"
   ]
  },
  {
   "cell_type": "code",
   "execution_count": 107,
   "id": "6ee916be-20ca-4b89-8b3c-1ea3036c822c",
   "metadata": {},
   "outputs": [
    {
     "data": {
      "text/plain": [
       "4"
      ]
     },
     "execution_count": 107,
     "metadata": {},
     "output_type": "execute_result"
    }
   ],
   "source": [
    "s7.pop()"
   ]
  },
  {
   "cell_type": "code",
   "execution_count": 108,
   "id": "3821f8e3-6a59-4d2d-88ad-d0e1e0ce58a8",
   "metadata": {},
   "outputs": [
    {
     "data": {
      "text/plain": [
       "{'34', 'sudh'}"
      ]
     },
     "execution_count": 108,
     "metadata": {},
     "output_type": "execute_result"
    }
   ],
   "source": [
    "s7"
   ]
  },
  {
   "cell_type": "code",
   "execution_count": 109,
   "id": "70c94b40-b915-4bb1-9243-4f45abe2c8cd",
   "metadata": {},
   "outputs": [],
   "source": [
    "s7.clear()"
   ]
  },
  {
   "cell_type": "code",
   "execution_count": 110,
   "id": "88379525-ec26-4aef-be7a-9ca639360436",
   "metadata": {},
   "outputs": [
    {
     "data": {
      "text/plain": [
       "set()"
      ]
     },
     "execution_count": 110,
     "metadata": {},
     "output_type": "execute_result"
    }
   ],
   "source": [
    "s7"
   ]
  },
  {
   "cell_type": "code",
   "execution_count": 111,
   "id": "a9fd7295-2ca1-4148-ba78-85c417a0dd1e",
   "metadata": {},
   "outputs": [],
   "source": [
    "s8 = {1,2,3,4}\n",
    "s9 = {1,2,3,5}"
   ]
  },
  {
   "cell_type": "code",
   "execution_count": 113,
   "id": "63c0bf96-dbb2-4929-aad6-22ef57af5799",
   "metadata": {},
   "outputs": [
    {
     "data": {
      "text/plain": [
       "{4}"
      ]
     },
     "execution_count": 113,
     "metadata": {},
     "output_type": "execute_result"
    }
   ],
   "source": [
    "s8.difference(s9)"
   ]
  },
  {
   "cell_type": "code",
   "execution_count": 114,
   "id": "08b0c746-721c-423c-b5eb-9a68c182ec16",
   "metadata": {},
   "outputs": [
    {
     "data": {
      "text/plain": [
       "{5}"
      ]
     },
     "execution_count": 114,
     "metadata": {},
     "output_type": "execute_result"
    }
   ],
   "source": [
    "s9.difference(s8)"
   ]
  },
  {
   "cell_type": "markdown",
   "id": "512d2df8-5233-4902-9c2b-365e5a885736",
   "metadata": {},
   "source": [
    "# Dictionory"
   ]
  },
  {
   "cell_type": "code",
   "execution_count": 115,
   "id": "af68ab47-3de0-43cb-87a4-826c5a0915e7",
   "metadata": {},
   "outputs": [],
   "source": [
    "d = {}"
   ]
  },
  {
   "cell_type": "code",
   "execution_count": 116,
   "id": "5783f0c9-caea-4e97-9d14-37fd93e0979b",
   "metadata": {},
   "outputs": [
    {
     "data": {
      "text/plain": [
       "dict"
      ]
     },
     "execution_count": 116,
     "metadata": {},
     "output_type": "execute_result"
    }
   ],
   "source": [
    "type(d)"
   ]
  },
  {
   "cell_type": "code",
   "execution_count": 117,
   "id": "5247b664-8251-4481-a8dc-ffed7d90940f",
   "metadata": {},
   "outputs": [],
   "source": [
    "d1 = {\"name\":\"Abdullah\",\"email_id\":\"aa@gmail.com\",\"number\":234567}"
   ]
  },
  {
   "cell_type": "code",
   "execution_count": 118,
   "id": "9241e89d-5d13-4487-853e-99e001554be6",
   "metadata": {},
   "outputs": [
    {
     "data": {
      "text/plain": [
       "{'name': 'Abdullah', 'email_id': 'aa@gmail.com', 'number': 234567}"
      ]
     },
     "execution_count": 118,
     "metadata": {},
     "output_type": "execute_result"
    }
   ],
   "source": [
    "d1"
   ]
  },
  {
   "cell_type": "code",
   "execution_count": 119,
   "id": "8b543e67-5db0-4393-944f-83381e055a0f",
   "metadata": {},
   "outputs": [
    {
     "data": {
      "text/plain": [
       "dict"
      ]
     },
     "execution_count": 119,
     "metadata": {},
     "output_type": "execute_result"
    }
   ],
   "source": [
    "type(d1)"
   ]
  },
  {
   "cell_type": "code",
   "execution_count": 120,
   "id": "5a6789dc-3676-42ba-9ee6-df93846edcfb",
   "metadata": {},
   "outputs": [],
   "source": [
    "d2 = {\"name\":\"Abdullah\",\"name\":\"Abdullah\"}"
   ]
  },
  {
   "cell_type": "code",
   "execution_count": 121,
   "id": "3cd7d8a7-aa3f-4b7f-a264-e327a93ee891",
   "metadata": {},
   "outputs": [
    {
     "data": {
      "text/plain": [
       "{'name': 'Abdullah'}"
      ]
     },
     "execution_count": 121,
     "metadata": {},
     "output_type": "execute_result"
    }
   ],
   "source": [
    "d2"
   ]
  },
  {
   "cell_type": "code",
   "execution_count": 122,
   "id": "86d272f1-f692-4f5f-b129-a9f63cf369b1",
   "metadata": {},
   "outputs": [],
   "source": [
    "d3 = {2345423 : \"abc\"}"
   ]
  },
  {
   "cell_type": "code",
   "execution_count": 123,
   "id": "281a5b3e-f0f8-4b4a-8e4f-06f50dea0ed2",
   "metadata": {},
   "outputs": [
    {
     "data": {
      "text/plain": [
       "{2345423: 'abc'}"
      ]
     },
     "execution_count": 123,
     "metadata": {},
     "output_type": "execute_result"
    }
   ],
   "source": [
    "d3"
   ]
  },
  {
   "cell_type": "code",
   "execution_count": 124,
   "id": "3db04491-e1b0-43b6-a643-aeddf8f14f78",
   "metadata": {},
   "outputs": [],
   "source": [
    "d4 = {234.556 : \"ADFS\"}"
   ]
  },
  {
   "cell_type": "code",
   "execution_count": 125,
   "id": "4d91524f-9413-4b52-8483-61ed36b7b6c2",
   "metadata": {},
   "outputs": [
    {
     "data": {
      "text/plain": [
       "{234.556: 'ADFS'}"
      ]
     },
     "execution_count": 125,
     "metadata": {},
     "output_type": "execute_result"
    }
   ],
   "source": [
    "d4"
   ]
  },
  {
   "cell_type": "code",
   "execution_count": 126,
   "id": "7a699fde-0c8c-408a-aeb3-90c4b7257c05",
   "metadata": {},
   "outputs": [],
   "source": [
    "d5 = {True : \"ADS\"}"
   ]
  },
  {
   "cell_type": "code",
   "execution_count": 127,
   "id": "22b3ded8-d043-4887-b39e-50c4f06dc327",
   "metadata": {},
   "outputs": [
    {
     "data": {
      "text/plain": [
       "{True: 'ADS'}"
      ]
     },
     "execution_count": 127,
     "metadata": {},
     "output_type": "execute_result"
    }
   ],
   "source": [
    "d5"
   ]
  },
  {
   "cell_type": "code",
   "execution_count": 128,
   "id": "74cd270a-4263-41bb-9ade-e8f8675704df",
   "metadata": {},
   "outputs": [
    {
     "ename": "SyntaxError",
     "evalue": "incomplete input (3282610106.py, line 1)",
     "output_type": "error",
     "traceback": [
      "\u001b[0;36m  Cell \u001b[0;32mIn[128], line 1\u001b[0;36m\u001b[0m\n\u001b[0;31m    d6 = {# :''ASFD''}\u001b[0m\n\u001b[0m                      ^\u001b[0m\n\u001b[0;31mSyntaxError\u001b[0m\u001b[0;31m:\u001b[0m incomplete input\n"
     ]
    }
   ],
   "source": [
    "d6 = {# :''ASFD''}"
   ]
  },
  {
   "cell_type": "code",
   "execution_count": 129,
   "id": "23ac3906-a6ed-40fe-b24c-c3bc4c83172d",
   "metadata": {},
   "outputs": [
    {
     "ename": "SyntaxError",
     "evalue": "invalid syntax (1769664543.py, line 1)",
     "output_type": "error",
     "traceback": [
      "\u001b[0;36m  Cell \u001b[0;32mIn[129], line 1\u001b[0;36m\u001b[0m\n\u001b[0;31m    d7 = {@ : 'adf'}\u001b[0m\n\u001b[0m          ^\u001b[0m\n\u001b[0;31mSyntaxError\u001b[0m\u001b[0;31m:\u001b[0m invalid syntax\n"
     ]
    }
   ],
   "source": [
    "d7 = {@ : 'adf'}"
   ]
  },
  {
   "cell_type": "code",
   "execution_count": 130,
   "id": "ee584dba-0434-470f-9c79-bfae7a5806a7",
   "metadata": {},
   "outputs": [
    {
     "ename": "TypeError",
     "evalue": "unhashable type: 'list'",
     "output_type": "error",
     "traceback": [
      "\u001b[0;31m---------------------------------------------------------------------------\u001b[0m",
      "\u001b[0;31mTypeError\u001b[0m                                 Traceback (most recent call last)",
      "Cell \u001b[0;32mIn[130], line 1\u001b[0m\n\u001b[0;32m----> 1\u001b[0m d8 \u001b[38;5;241m=\u001b[39m {[\u001b[38;5;241m1\u001b[39m,\u001b[38;5;241m2\u001b[39m,\u001b[38;5;241m3\u001b[39m,\u001b[38;5;241m4\u001b[39m]:\u001b[38;5;124m'\u001b[39m\u001b[38;5;124masfef\u001b[39m\u001b[38;5;124m'\u001b[39m}\n",
      "\u001b[0;31mTypeError\u001b[0m: unhashable type: 'list'"
     ]
    }
   ],
   "source": [
    "d8 = {[1,2,3,4]:'asfef'}"
   ]
  },
  {
   "cell_type": "code",
   "execution_count": 137,
   "id": "67199829-b269-4ea9-8011-bedbd2b2d638",
   "metadata": {},
   "outputs": [],
   "source": [
    "# only tubles work as key******\n",
    "d9 = {(1,2,3): 'abs'}"
   ]
  },
  {
   "cell_type": "code",
   "execution_count": 132,
   "id": "571fe6d4-e69a-428b-bf12-f589ae0899f8",
   "metadata": {},
   "outputs": [
    {
     "data": {
      "text/plain": [
       "{(1, 2, 3): 'abs'}"
      ]
     },
     "execution_count": 132,
     "metadata": {},
     "output_type": "execute_result"
    }
   ],
   "source": [
    "d9"
   ]
  },
  {
   "cell_type": "code",
   "execution_count": 133,
   "id": "9e18c2c0-5ee4-423d-90c0-168224ff93d7",
   "metadata": {},
   "outputs": [
    {
     "ename": "TypeError",
     "evalue": "unhashable type: 'set'",
     "output_type": "error",
     "traceback": [
      "\u001b[0;31m---------------------------------------------------------------------------\u001b[0m",
      "\u001b[0;31mTypeError\u001b[0m                                 Traceback (most recent call last)",
      "Cell \u001b[0;32mIn[133], line 1\u001b[0m\n\u001b[0;32m----> 1\u001b[0m d10 \u001b[38;5;241m=\u001b[39m {{\u001b[38;5;241m1\u001b[39m,\u001b[38;5;241m2\u001b[39m,\u001b[38;5;241m3\u001b[39m}:\u001b[38;5;124m'\u001b[39m\u001b[38;5;124mdsgf\u001b[39m\u001b[38;5;124m'\u001b[39m}\n",
      "\u001b[0;31mTypeError\u001b[0m: unhashable type: 'set'"
     ]
    }
   ],
   "source": [
    "d10 = {{1,2,3}:'dsgf'}"
   ]
  },
  {
   "cell_type": "code",
   "execution_count": 135,
   "id": "b4f146c2-a53d-425f-9bad-dec82e145c6b",
   "metadata": {},
   "outputs": [
    {
     "ename": "TypeError",
     "evalue": "unhashable type: 'dict'",
     "output_type": "error",
     "traceback": [
      "\u001b[0;31m---------------------------------------------------------------------------\u001b[0m",
      "\u001b[0;31mTypeError\u001b[0m                                 Traceback (most recent call last)",
      "Cell \u001b[0;32mIn[135], line 1\u001b[0m\n\u001b[0;32m----> 1\u001b[0m d11 \u001b[38;5;241m=\u001b[39m {{\u001b[38;5;124m'\u001b[39m\u001b[38;5;124mkey\u001b[39m\u001b[38;5;124m'\u001b[39m:\u001b[38;5;241m234\u001b[39m}:\u001b[38;5;124m'\u001b[39m\u001b[38;5;124mSDFG\u001b[39m\u001b[38;5;124m'\u001b[39m}\n",
      "\u001b[0;31mTypeError\u001b[0m: unhashable type: 'dict'"
     ]
    }
   ],
   "source": [
    "d11 = {{'key':234}:'SDFG'}"
   ]
  },
  {
   "cell_type": "code",
   "execution_count": 2,
   "id": "333e4f33-ba6b-413c-87b6-fc02f1ceb5e4",
   "metadata": {},
   "outputs": [
    {
     "name": "stdout",
     "output_type": "stream",
     "text": [
      "Bism Allah\n"
     ]
    }
   ],
   "source": [
    "print('Bism Allah')"
   ]
  },
  {
   "cell_type": "code",
   "execution_count": 3,
   "id": "ebd6d8d6-a5b2-4dcb-b456-4a326830e07b",
   "metadata": {},
   "outputs": [],
   "source": [
    "d12 = {\"course_name\":[\"data scince master\" , \"web dev\" , \"java with dsa and system design \"]}"
   ]
  },
  {
   "cell_type": "code",
   "execution_count": 4,
   "id": "c9a20e0c-85d1-4522-816f-3ff7e6ee598f",
   "metadata": {},
   "outputs": [
    {
     "data": {
      "text/plain": [
       "{'course_name': ['data scince master',\n",
       "  'web dev',\n",
       "  'java with dsa and system design ']}"
      ]
     },
     "execution_count": 4,
     "metadata": {},
     "output_type": "execute_result"
    }
   ],
   "source": [
    "d12"
   ]
  },
  {
   "cell_type": "code",
   "execution_count": 5,
   "id": "b8795253-9863-4448-8dca-bc54768c034f",
   "metadata": {},
   "outputs": [],
   "source": [
    "d13 = {'key' : (1,2,3,4,5)}"
   ]
  },
  {
   "cell_type": "code",
   "execution_count": 6,
   "id": "af02106c-6140-402c-96ab-072c1241fb1a",
   "metadata": {},
   "outputs": [],
   "source": [
    "d14 = {'key' : {1,2,3,4,5}}"
   ]
  },
  {
   "cell_type": "code",
   "execution_count": 10,
   "id": "9c0bdee4-db0f-4642-ac3e-e80e091aa69a",
   "metadata": {},
   "outputs": [],
   "source": [
    "#nested Dictionory\n",
    "d15 = {'key' : {'K' : 123, \"class\":\"sd\"}}"
   ]
  },
  {
   "cell_type": "code",
   "execution_count": 11,
   "id": "9281bc13-6493-4718-8ef0-9e173a3d72ca",
   "metadata": {},
   "outputs": [
    {
     "data": {
      "text/plain": [
       "{'key': {'K': 123, 'class': 'sd'}}"
      ]
     },
     "execution_count": 11,
     "metadata": {},
     "output_type": "execute_result"
    }
   ],
   "source": [
    "d15"
   ]
  },
  {
   "cell_type": "code",
   "execution_count": 12,
   "id": "f3c7ec1b-d343-4700-9217-86db9b8b2a4d",
   "metadata": {},
   "outputs": [],
   "source": [
    "d16 = {\"batch_name\":[\"data scince master\",\"web dev\",\"JDS\"], \"start_date\":(28,14,21),\"mentor_name\":{\"krish naik\",\"sudanshu\",\"hitesh\",\"anurag\"}}"
   ]
  },
  {
   "cell_type": "code",
   "execution_count": 13,
   "id": "de177b60-47bc-40aa-9c41-f3ee534f587b",
   "metadata": {},
   "outputs": [
    {
     "data": {
      "text/plain": [
       "{'batch_name': ['data scince master', 'web dev', 'JDS'],\n",
       " 'start_date': (28, 14, 21),\n",
       " 'mentor_name': {'anurag', 'hitesh', 'krish naik', 'sudanshu'}}"
      ]
     },
     "execution_count": 13,
     "metadata": {},
     "output_type": "execute_result"
    }
   ],
   "source": [
    "d16"
   ]
  },
  {
   "cell_type": "code",
   "execution_count": 14,
   "id": "31f65486-8b60-4716-adc3-53fb74331e58",
   "metadata": {},
   "outputs": [],
   "source": [
    "d16['timing'] = (8,8,8)"
   ]
  },
  {
   "cell_type": "code",
   "execution_count": 15,
   "id": "3215478c-7e9d-43e3-9a7a-c9f158baa79e",
   "metadata": {},
   "outputs": [
    {
     "data": {
      "text/plain": [
       "{'batch_name': ['data scince master', 'web dev', 'JDS'],\n",
       " 'start_date': (28, 14, 21),\n",
       " 'mentor_name': {'anurag', 'hitesh', 'krish naik', 'sudanshu'},\n",
       " 'timing': (8, 8, 8)}"
      ]
     },
     "execution_count": 15,
     "metadata": {},
     "output_type": "execute_result"
    }
   ],
   "source": [
    "d16"
   ]
  },
  {
   "cell_type": "code",
   "execution_count": 16,
   "id": "65215526-e9b1-4a44-a78e-306ce4ded241",
   "metadata": {},
   "outputs": [],
   "source": [
    "d16['mentor_name']={'Abdullah'}"
   ]
  },
  {
   "cell_type": "code",
   "execution_count": 17,
   "id": "643c14ed-93d8-4f79-b036-9826b4b366bb",
   "metadata": {},
   "outputs": [
    {
     "data": {
      "text/plain": [
       "{'batch_name': ['data scince master', 'web dev', 'JDS'],\n",
       " 'start_date': (28, 14, 21),\n",
       " 'mentor_name': {'Abdullah'},\n",
       " 'timing': (8, 8, 8)}"
      ]
     },
     "execution_count": 17,
     "metadata": {},
     "output_type": "execute_result"
    }
   ],
   "source": [
    "d16"
   ]
  },
  {
   "cell_type": "code",
   "execution_count": 18,
   "id": "1e3f903e-20ca-4fa7-97bf-0e27a2e21f71",
   "metadata": {},
   "outputs": [],
   "source": [
    "d16 = {\"batch_name\":[\"data scince master\",\"web dev\",\"JDS\"], \"start_date\":(28,14,21),\"mentor_name\":{\"krish naik\",\"sudanshu\",\"hitesh\",\"anurag\"}}"
   ]
  },
  {
   "cell_type": "code",
   "execution_count": 19,
   "id": "6a3d1cd4-00fc-4ca5-98d2-d0efcae0f1df",
   "metadata": {},
   "outputs": [
    {
     "data": {
      "text/plain": [
       "{'batch_name': ['data scince master', 'web dev', 'JDS'],\n",
       " 'start_date': (28, 14, 21),\n",
       " 'mentor_name': {'anurag', 'hitesh', 'krish naik', 'sudanshu'}}"
      ]
     },
     "execution_count": 19,
     "metadata": {},
     "output_type": "execute_result"
    }
   ],
   "source": [
    "d16"
   ]
  },
  {
   "cell_type": "code",
   "execution_count": 20,
   "id": "7eeaa79a-1883-4f59-9c2d-4ebc33ae3fe5",
   "metadata": {},
   "outputs": [],
   "source": [
    "d16['mentor_name']='Abdullah'"
   ]
  },
  {
   "cell_type": "code",
   "execution_count": 21,
   "id": "ac563b9c-f40a-465e-8bac-b34705f1620d",
   "metadata": {},
   "outputs": [
    {
     "data": {
      "text/plain": [
       "{'batch_name': ['data scince master', 'web dev', 'JDS'],\n",
       " 'start_date': (28, 14, 21),\n",
       " 'mentor_name': 'Abdullah'}"
      ]
     },
     "execution_count": 21,
     "metadata": {},
     "output_type": "execute_result"
    }
   ],
   "source": [
    "d16"
   ]
  },
  {
   "cell_type": "code",
   "execution_count": 22,
   "id": "cfed6e8f-8d68-4bc1-ba0a-d9708da43176",
   "metadata": {},
   "outputs": [],
   "source": [
    "d16 = {\"batch_name\":[\"data scince master\",\"web dev\",\"JDS\"], \"start_date\":(28,14,21),\"mentor_name\":{\"krish naik\",\"sudanshu\",\"hitesh\",\"anurag\"}}"
   ]
  },
  {
   "cell_type": "code",
   "execution_count": 23,
   "id": "dcdbecd5-64b5-4786-a685-7f957ff717f7",
   "metadata": {},
   "outputs": [
    {
     "data": {
      "text/plain": [
       "{'batch_name': ['data scince master', 'web dev', 'JDS'],\n",
       " 'start_date': (28, 14, 21),\n",
       " 'mentor_name': {'anurag', 'hitesh', 'krish naik', 'sudanshu'}}"
      ]
     },
     "execution_count": 23,
     "metadata": {},
     "output_type": "execute_result"
    }
   ],
   "source": [
    "d16"
   ]
  },
  {
   "cell_type": "code",
   "execution_count": 25,
   "id": "d2194868-8805-4e4e-95c3-f012b52cd3fc",
   "metadata": {},
   "outputs": [],
   "source": [
    "d16['mentor_name']=('Abdullah')"
   ]
  },
  {
   "cell_type": "code",
   "execution_count": 26,
   "id": "48a5b538-5f17-4559-9332-0ec895a1c53b",
   "metadata": {},
   "outputs": [
    {
     "data": {
      "text/plain": [
       "{'batch_name': ['data scince master', 'web dev', 'JDS'],\n",
       " 'start_date': (28, 14, 21),\n",
       " 'mentor_name': 'Abdullah'}"
      ]
     },
     "execution_count": 26,
     "metadata": {},
     "output_type": "execute_result"
    }
   ],
   "source": [
    "d16"
   ]
  },
  {
   "cell_type": "code",
   "execution_count": 27,
   "id": "0a24b959-35b8-4ed4-914c-ef11b2942762",
   "metadata": {},
   "outputs": [],
   "source": [
    "d16 = {\"batch_name\":[\"data scince master\",\"web dev\",\"JDS\"], \"start_date\":(28,14,21),\"mentor_name\":{\"krish naik\",\"sudanshu\",\"hitesh\",\"anurag\"}}"
   ]
  },
  {
   "cell_type": "code",
   "execution_count": 28,
   "id": "eb7219ff-8d1d-4429-8874-3950f26fa991",
   "metadata": {},
   "outputs": [
    {
     "data": {
      "text/plain": [
       "{'batch_name': ['data scince master', 'web dev', 'JDS'],\n",
       " 'start_date': (28, 14, 21),\n",
       " 'mentor_name': {'anurag', 'hitesh', 'krish naik', 'sudanshu'}}"
      ]
     },
     "execution_count": 28,
     "metadata": {},
     "output_type": "execute_result"
    }
   ],
   "source": [
    "d16"
   ]
  },
  {
   "cell_type": "code",
   "execution_count": 29,
   "id": "67b0e32d-b13a-44f3-86bc-73e2022e4bf0",
   "metadata": {},
   "outputs": [],
   "source": [
    "d16['timing'] = (8,8,8)"
   ]
  },
  {
   "cell_type": "code",
   "execution_count": 30,
   "id": "a9fc0151-58cd-4529-b1a8-4bd6adbbc322",
   "metadata": {},
   "outputs": [
    {
     "data": {
      "text/plain": [
       "['data scince master', 'web dev', 'JDS']"
      ]
     },
     "execution_count": 30,
     "metadata": {},
     "output_type": "execute_result"
    }
   ],
   "source": [
    "d16['batch_name']"
   ]
  },
  {
   "cell_type": "code",
   "execution_count": 31,
   "id": "f661cd50-235e-4091-8de0-2e7401234bd8",
   "metadata": {},
   "outputs": [
    {
     "data": {
      "text/plain": [
       "{'anurag', 'hitesh', 'krish naik', 'sudanshu'}"
      ]
     },
     "execution_count": 31,
     "metadata": {},
     "output_type": "execute_result"
    }
   ],
   "source": [
    "d16['mentor_name']"
   ]
  },
  {
   "cell_type": "code",
   "execution_count": 32,
   "id": "9f87a8f1-9afd-40fe-ad13-cc28c4ff359b",
   "metadata": {},
   "outputs": [
    {
     "data": {
      "text/plain": [
       "dict"
      ]
     },
     "execution_count": 32,
     "metadata": {},
     "output_type": "execute_result"
    }
   ],
   "source": [
    "type(d16)"
   ]
  },
  {
   "cell_type": "code",
   "execution_count": 33,
   "id": "c0df8de8-e996-4523-bbef-09eb2f175bb1",
   "metadata": {},
   "outputs": [],
   "source": [
    "d16[\"name\"] ='Abdullah'"
   ]
  },
  {
   "cell_type": "code",
   "execution_count": 34,
   "id": "17f08bbc-b423-4b16-8f20-982aeed68add",
   "metadata": {},
   "outputs": [
    {
     "data": {
      "text/plain": [
       "{'batch_name': ['data scince master', 'web dev', 'JDS'],\n",
       " 'start_date': (28, 14, 21),\n",
       " 'mentor_name': {'anurag', 'hitesh', 'krish naik', 'sudanshu'},\n",
       " 'timing': (8, 8, 8),\n",
       " 'name': 'Abdullah'}"
      ]
     },
     "execution_count": 34,
     "metadata": {},
     "output_type": "execute_result"
    }
   ],
   "source": [
    "d16"
   ]
  },
  {
   "cell_type": "code",
   "execution_count": 35,
   "id": "be768ac0-4dd9-4550-9d6c-f40b9201841d",
   "metadata": {},
   "outputs": [
    {
     "data": {
      "text/plain": [
       "'ABDULLAH'"
      ]
     },
     "execution_count": 35,
     "metadata": {},
     "output_type": "execute_result"
    }
   ],
   "source": [
    "d16['name'].upper()"
   ]
  },
  {
   "cell_type": "code",
   "execution_count": 36,
   "id": "7a9b0326-c03f-4151-b41a-8295e0bcbcfe",
   "metadata": {},
   "outputs": [
    {
     "data": {
      "text/plain": [
       "{'key': {'K': 123, 'class': 'sd'}}"
      ]
     },
     "execution_count": 36,
     "metadata": {},
     "output_type": "execute_result"
    }
   ],
   "source": [
    "d15"
   ]
  },
  {
   "cell_type": "code",
   "execution_count": 37,
   "id": "8b0cc311-89d3-4c5f-9b4a-788efe0b27df",
   "metadata": {},
   "outputs": [
    {
     "data": {
      "text/plain": [
       "{'K': 123, 'class': 'sd'}"
      ]
     },
     "execution_count": 37,
     "metadata": {},
     "output_type": "execute_result"
    }
   ],
   "source": [
    "d15['key']"
   ]
  },
  {
   "cell_type": "code",
   "execution_count": 38,
   "id": "db771a43-b10f-4074-a315-b381be24abf0",
   "metadata": {},
   "outputs": [
    {
     "data": {
      "text/plain": [
       "dict"
      ]
     },
     "execution_count": 38,
     "metadata": {},
     "output_type": "execute_result"
    }
   ],
   "source": [
    "type(d15)"
   ]
  },
  {
   "cell_type": "code",
   "execution_count": 39,
   "id": "a68dac01-b037-490a-985a-2f29a6e1d376",
   "metadata": {},
   "outputs": [
    {
     "data": {
      "text/plain": [
       "'sd'"
      ]
     },
     "execution_count": 39,
     "metadata": {},
     "output_type": "execute_result"
    }
   ],
   "source": [
    "d15['key']['class']"
   ]
  },
  {
   "cell_type": "code",
   "execution_count": 41,
   "id": "eede01d5-a83f-44c3-8b70-c43bf8eebeda",
   "metadata": {},
   "outputs": [],
   "source": [
    "d15[\"key1\"] = \"abc\""
   ]
  },
  {
   "cell_type": "code",
   "execution_count": 42,
   "id": "b9deb477-6ee7-497f-9443-217c950026b2",
   "metadata": {},
   "outputs": [
    {
     "data": {
      "text/plain": [
       "{'key': {'K': 123, 'class': 'sd'}, 'key1': 'abc'}"
      ]
     },
     "execution_count": 42,
     "metadata": {},
     "output_type": "execute_result"
    }
   ],
   "source": [
    "d15"
   ]
  },
  {
   "cell_type": "code",
   "execution_count": 43,
   "id": "77a291a9-d545-4713-ac28-d0deae24d241",
   "metadata": {},
   "outputs": [
    {
     "data": {
      "text/plain": [
       "'abc'"
      ]
     },
     "execution_count": 43,
     "metadata": {},
     "output_type": "execute_result"
    }
   ],
   "source": [
    "d15.pop('key1')"
   ]
  },
  {
   "cell_type": "code",
   "execution_count": 44,
   "id": "11598ed3-c3bd-4f3f-b8e6-e55c4d1b4e02",
   "metadata": {},
   "outputs": [
    {
     "data": {
      "text/plain": [
       "{'key': {'K': 123, 'class': 'sd'}}"
      ]
     },
     "execution_count": 44,
     "metadata": {},
     "output_type": "execute_result"
    }
   ],
   "source": [
    "d15"
   ]
  },
  {
   "cell_type": "code",
   "execution_count": 48,
   "id": "d83b090a-3645-4513-b383-60df8b217df0",
   "metadata": {},
   "outputs": [],
   "source": [
    "#or \n",
    "del d15['key']"
   ]
  },
  {
   "cell_type": "code",
   "execution_count": 49,
   "id": "ac2e45db-916f-4c9d-9888-59bccc596b50",
   "metadata": {},
   "outputs": [
    {
     "data": {
      "text/plain": [
       "{}"
      ]
     },
     "execution_count": 49,
     "metadata": {},
     "output_type": "execute_result"
    }
   ],
   "source": [
    "d15"
   ]
  },
  {
   "cell_type": "code",
   "execution_count": 50,
   "id": "a9040a82-a998-45c9-b94a-1ddf95e0c08a",
   "metadata": {},
   "outputs": [
    {
     "data": {
      "text/plain": [
       "5"
      ]
     },
     "execution_count": 50,
     "metadata": {},
     "output_type": "execute_result"
    }
   ],
   "source": [
    "len(d16)"
   ]
  },
  {
   "cell_type": "code",
   "execution_count": 52,
   "id": "1b33b4f0-5f94-4438-9236-182da0053041",
   "metadata": {},
   "outputs": [
    {
     "data": {
      "text/plain": [
       "dict_keys(['batch_name', 'start_date', 'mentor_name', 'timing', 'name'])"
      ]
     },
     "execution_count": 52,
     "metadata": {},
     "output_type": "execute_result"
    }
   ],
   "source": [
    "#extracting keys\n",
    "d16.keys()"
   ]
  },
  {
   "cell_type": "code",
   "execution_count": 58,
   "id": "e114d933-fa27-4536-9d23-dc1f3164cd3c",
   "metadata": {},
   "outputs": [
    {
     "data": {
      "text/plain": [
       "dict_values([['data scince master', 'web dev', 'JDS'], (28, 14, 21), {'sudanshu', 'anurag', 'krish naik', 'hitesh'}, (8, 8, 8), 'Abdullah'])"
      ]
     },
     "execution_count": 58,
     "metadata": {},
     "output_type": "execute_result"
    }
   ],
   "source": [
    "#extracting values\n",
    "d16.values()"
   ]
  },
  {
   "cell_type": "code",
   "execution_count": 60,
   "id": "ba176a12-89e9-43f0-a4b5-ae1931da0245",
   "metadata": {},
   "outputs": [
    {
     "data": {
      "text/plain": [
       "[['data scince master', 'web dev', 'JDS'],\n",
       " (28, 14, 21),\n",
       " {'anurag', 'hitesh', 'krish naik', 'sudanshu'},\n",
       " (8, 8, 8),\n",
       " 'Abdullah']"
      ]
     },
     "execution_count": 60,
     "metadata": {},
     "output_type": "execute_result"
    }
   ],
   "source": [
    "list(d16.values())"
   ]
  },
  {
   "cell_type": "code",
   "execution_count": 62,
   "id": "73d4f333-b4b2-453e-a7ba-ce0d27c15a36",
   "metadata": {},
   "outputs": [
    {
     "data": {
      "text/plain": [
       "['batch_name', 'start_date', 'mentor_name', 'timing', 'name']"
      ]
     },
     "execution_count": 62,
     "metadata": {},
     "output_type": "execute_result"
    }
   ],
   "source": [
    "list(d16.keys())"
   ]
  },
  {
   "cell_type": "code",
   "execution_count": 63,
   "id": "34221646-0f2a-4d32-be8a-9b7cc422838c",
   "metadata": {},
   "outputs": [
    {
     "data": {
      "text/plain": [
       "dict_items([('batch_name', ['data scince master', 'web dev', 'JDS']), ('start_date', (28, 14, 21)), ('mentor_name', {'sudanshu', 'anurag', 'krish naik', 'hitesh'}), ('timing', (8, 8, 8)), ('name', 'Abdullah')])"
      ]
     },
     "execution_count": 63,
     "metadata": {},
     "output_type": "execute_result"
    }
   ],
   "source": [
    "d16.items()"
   ]
  },
  {
   "cell_type": "code",
   "execution_count": 65,
   "id": "69c69776-61fe-4bfc-a85c-7e9dd823b798",
   "metadata": {},
   "outputs": [
    {
     "data": {
      "text/plain": [
       "{'batch_name': ['data scince master', 'web dev', 'JDS'],\n",
       " 'start_date': (28, 14, 21),\n",
       " 'mentor_name': {'anurag', 'hitesh', 'krish naik', 'sudanshu'},\n",
       " 'timing': (8, 8, 8),\n",
       " 'name': 'Abdullah'}"
      ]
     },
     "execution_count": 65,
     "metadata": {},
     "output_type": "execute_result"
    }
   ],
   "source": [
    "d16"
   ]
  },
  {
   "cell_type": "code",
   "execution_count": 68,
   "id": "c77c7eaf-618a-4cfc-80ef-cb3bb6c315e7",
   "metadata": {},
   "outputs": [],
   "source": [
    "#Deep Copy\n",
    "d17 = d16.copy()"
   ]
  },
  {
   "cell_type": "code",
   "execution_count": 67,
   "id": "e8249880-aa94-4c61-ad5c-fa8e9120c65a",
   "metadata": {},
   "outputs": [
    {
     "data": {
      "text/plain": [
       "{'batch_name': ['data scince master', 'web dev', 'JDS'],\n",
       " 'start_date': (28, 14, 21),\n",
       " 'mentor_name': {'anurag', 'hitesh', 'krish naik', 'sudanshu'},\n",
       " 'timing': (8, 8, 8),\n",
       " 'name': 'Abdullah'}"
      ]
     },
     "execution_count": 67,
     "metadata": {},
     "output_type": "execute_result"
    }
   ],
   "source": [
    "d17"
   ]
  },
  {
   "cell_type": "code",
   "execution_count": 69,
   "id": "67fbdaa3-e118-4ffc-b3ee-3a2b4cf3e0f2",
   "metadata": {},
   "outputs": [],
   "source": [
    "d18 = d16"
   ]
  },
  {
   "cell_type": "code",
   "execution_count": 70,
   "id": "5682191c-ca88-4f7a-93b7-732eeec26d21",
   "metadata": {},
   "outputs": [],
   "source": [
    "del d16 ['name']"
   ]
  },
  {
   "cell_type": "code",
   "execution_count": 71,
   "id": "32fb065c-d26a-4b29-9a83-c9e1d876ab8e",
   "metadata": {},
   "outputs": [
    {
     "data": {
      "text/plain": [
       "{'batch_name': ['data scince master', 'web dev', 'JDS'],\n",
       " 'start_date': (28, 14, 21),\n",
       " 'mentor_name': {'anurag', 'hitesh', 'krish naik', 'sudanshu'},\n",
       " 'timing': (8, 8, 8)}"
      ]
     },
     "execution_count": 71,
     "metadata": {},
     "output_type": "execute_result"
    }
   ],
   "source": [
    "d16"
   ]
  },
  {
   "cell_type": "code",
   "execution_count": 72,
   "id": "d2cff407-4c6f-4c06-be6a-44dfd3fadb3d",
   "metadata": {},
   "outputs": [
    {
     "data": {
      "text/plain": [
       "{'batch_name': ['data scince master', 'web dev', 'JDS'],\n",
       " 'start_date': (28, 14, 21),\n",
       " 'mentor_name': {'anurag', 'hitesh', 'krish naik', 'sudanshu'},\n",
       " 'timing': (8, 8, 8),\n",
       " 'name': 'Abdullah'}"
      ]
     },
     "execution_count": 72,
     "metadata": {},
     "output_type": "execute_result"
    }
   ],
   "source": [
    "d17"
   ]
  },
  {
   "cell_type": "code",
   "execution_count": 73,
   "id": "f8cb071d-c7aa-4788-9e3d-4bce2fd2d3cc",
   "metadata": {},
   "outputs": [
    {
     "data": {
      "text/plain": [
       "{'batch_name': ['data scince master', 'web dev', 'JDS'],\n",
       " 'start_date': (28, 14, 21),\n",
       " 'mentor_name': {'anurag', 'hitesh', 'krish naik', 'sudanshu'},\n",
       " 'timing': (8, 8, 8)}"
      ]
     },
     "execution_count": 73,
     "metadata": {},
     "output_type": "execute_result"
    }
   ],
   "source": [
    "d18"
   ]
  },
  {
   "cell_type": "code",
   "execution_count": 74,
   "id": "a2a77dc9-a664-478b-b2d5-ea5df43cb2f3",
   "metadata": {},
   "outputs": [
    {
     "data": {
      "text/plain": [
       "{'batch_name': ['data scince master', 'web dev', 'JDS'],\n",
       " 'start_date': (28, 14, 21),\n",
       " 'mentor_name': {'anurag', 'hitesh', 'krish naik', 'sudanshu'},\n",
       " 'timing': (8, 8, 8)}"
      ]
     },
     "execution_count": 74,
     "metadata": {},
     "output_type": "execute_result"
    }
   ],
   "source": [
    "d16 "
   ]
  },
  {
   "cell_type": "code",
   "execution_count": 76,
   "id": "2637db09-7d76-43a8-98e3-0a483ad309f9",
   "metadata": {},
   "outputs": [
    {
     "ename": "KeyError",
     "evalue": "'8'",
     "output_type": "error",
     "traceback": [
      "\u001b[0;31m---------------------------------------------------------------------------\u001b[0m",
      "\u001b[0;31mKeyError\u001b[0m                                  Traceback (most recent call last)",
      "Cell \u001b[0;32mIn[76], line 1\u001b[0m\n\u001b[0;32m----> 1\u001b[0m \u001b[43md16\u001b[49m\u001b[38;5;241;43m.\u001b[39;49m\u001b[43mpop\u001b[49m\u001b[43m(\u001b[49m\u001b[38;5;124;43m'\u001b[39;49m\u001b[38;5;124;43m8\u001b[39;49m\u001b[38;5;124;43m'\u001b[39;49m\u001b[43m)\u001b[49m\n",
      "\u001b[0;31mKeyError\u001b[0m: '8'"
     ]
    }
   ],
   "source": [
    "d16.pop()"
   ]
  },
  {
   "cell_type": "code",
   "execution_count": 77,
   "id": "9a1ed59b-9df4-4ac9-8ae2-f88217caafec",
   "metadata": {},
   "outputs": [
    {
     "data": {
      "text/plain": [
       "(8, 8, 8)"
      ]
     },
     "execution_count": 77,
     "metadata": {},
     "output_type": "execute_result"
    }
   ],
   "source": [
    "d16.pop(\"timing\")"
   ]
  },
  {
   "cell_type": "code",
   "execution_count": 78,
   "id": "bda46513-08c0-4f91-85a1-5e4584335338",
   "metadata": {},
   "outputs": [
    {
     "data": {
      "text/plain": [
       "{'batch_name': ['data scince master', 'web dev', 'JDS'],\n",
       " 'start_date': (28, 14, 21),\n",
       " 'mentor_name': {'anurag', 'hitesh', 'krish naik', 'sudanshu'}}"
      ]
     },
     "execution_count": 78,
     "metadata": {},
     "output_type": "execute_result"
    }
   ],
   "source": [
    "d16"
   ]
  },
  {
   "cell_type": "code",
   "execution_count": 79,
   "id": "e50906ba-2293-4e81-8408-4e38e2f28144",
   "metadata": {},
   "outputs": [
    {
     "data": {
      "text/plain": [
       "{'anurag', 'hitesh', 'krish naik', 'sudanshu'}"
      ]
     },
     "execution_count": 79,
     "metadata": {},
     "output_type": "execute_result"
    }
   ],
   "source": [
    "d16.pop('mentor_name')"
   ]
  },
  {
   "cell_type": "code",
   "execution_count": 80,
   "id": "8626c618-dbf9-4a7e-856a-0eeb8b1f381a",
   "metadata": {},
   "outputs": [
    {
     "data": {
      "text/plain": [
       "{'batch_name': ['data scince master', 'web dev', 'JDS'],\n",
       " 'start_date': (28, 14, 21)}"
      ]
     },
     "execution_count": 80,
     "metadata": {},
     "output_type": "execute_result"
    }
   ],
   "source": [
    "d16"
   ]
  },
  {
   "cell_type": "code",
   "execution_count": 84,
   "id": "8561e149-1226-4cd0-bb63-0f9780a9c669",
   "metadata": {},
   "outputs": [
    {
     "data": {
      "text/plain": [
       "{1: ('a', 'b', 'c'), 2: ('a', 'b', 'c'), 3: ('a', 'b', 'c')}"
      ]
     },
     "execution_count": 84,
     "metadata": {},
     "output_type": "execute_result"
    }
   ],
   "source": [
    "dict.fromkeys((1,2,3),('a','b','c'))"
   ]
  },
  {
   "cell_type": "code",
   "execution_count": 85,
   "id": "5c6e124e-b17e-4bb6-bd03-4e57141a25a0",
   "metadata": {},
   "outputs": [],
   "source": [
    "d19 = {\"key1\" : \"value\" , \"key2\":\"value2\"}\n",
    "d20 = {\"key3\" : \"value3\" , \"key4\":\"value4\"}"
   ]
  },
  {
   "cell_type": "code",
   "execution_count": 87,
   "id": "0e9a26c0-d8f9-4dab-a6a3-0575602aaf6b",
   "metadata": {},
   "outputs": [
    {
     "data": {
      "text/plain": [
       "({'key1': 'value', 'key2': 'value2'}, {'key3': 'value3', 'key4': 'value4'})"
      ]
     },
     "execution_count": 87,
     "metadata": {},
     "output_type": "execute_result"
    }
   ],
   "source": [
    "# Dict. inside a tuple is possiple\n",
    "(d19,d20)"
   ]
  },
  {
   "cell_type": "code",
   "execution_count": 88,
   "id": "601535df-be51-4efe-a20a-fb0d5c4a4997",
   "metadata": {},
   "outputs": [],
   "source": [
    "d19.update(d20)"
   ]
  },
  {
   "cell_type": "code",
   "execution_count": 89,
   "id": "e4c2a51c-df88-4709-85f6-7cd70b2217cb",
   "metadata": {},
   "outputs": [
    {
     "data": {
      "text/plain": [
       "{'key1': 'value', 'key2': 'value2', 'key3': 'value3', 'key4': 'value4'}"
      ]
     },
     "execution_count": 89,
     "metadata": {},
     "output_type": "execute_result"
    }
   ],
   "source": [
    "d19"
   ]
  },
  {
   "cell_type": "code",
   "execution_count": 91,
   "id": "030acd87-5a4b-48e7-a7c8-6fb127760a35",
   "metadata": {},
   "outputs": [],
   "source": [
    "d20.update(d19)"
   ]
  },
  {
   "cell_type": "code",
   "execution_count": 92,
   "id": "ae519f8b-2f64-4266-be83-a9be312b2cc9",
   "metadata": {},
   "outputs": [
    {
     "data": {
      "text/plain": [
       "{'key3': 'value3', 'key4': 'value4', 'key1': 'value', 'key2': 'value2'}"
      ]
     },
     "execution_count": 92,
     "metadata": {},
     "output_type": "execute_result"
    }
   ],
   "source": [
    "d20"
   ]
  },
  {
   "cell_type": "code",
   "execution_count": 93,
   "id": "62105d38-b656-4956-9b4a-f68079d92f41",
   "metadata": {},
   "outputs": [],
   "source": [
    "d19.update(d20)"
   ]
  },
  {
   "cell_type": "code",
   "execution_count": 94,
   "id": "bb95dcc7-b341-4d5f-96ed-52f095af9284",
   "metadata": {},
   "outputs": [
    {
     "data": {
      "text/plain": [
       "{'key1': 'value', 'key2': 'value2', 'key3': 'value3', 'key4': 'value4'}"
      ]
     },
     "execution_count": 94,
     "metadata": {},
     "output_type": "execute_result"
    }
   ],
   "source": [
    "d19"
   ]
  },
  {
   "cell_type": "code",
   "execution_count": 95,
   "id": "1384609e-0cd5-4efa-87cd-1b1ab880ebda",
   "metadata": {},
   "outputs": [],
   "source": [
    "d20.get(\"sudh\")"
   ]
  },
  {
   "cell_type": "code",
   "execution_count": 96,
   "id": "0522f6d6-5453-4838-915e-47cb96c190af",
   "metadata": {},
   "outputs": [
    {
     "data": {
      "text/plain": [
       "'value3'"
      ]
     },
     "execution_count": 96,
     "metadata": {},
     "output_type": "execute_result"
    }
   ],
   "source": [
    "d20.get(\"key3\")"
   ]
  },
  {
   "cell_type": "code",
   "execution_count": 97,
   "id": "356c2ee6-e1d2-4f21-a74c-2d41573451e3",
   "metadata": {},
   "outputs": [
    {
     "data": {
      "text/plain": [
       "'value3'"
      ]
     },
     "execution_count": 97,
     "metadata": {},
     "output_type": "execute_result"
    }
   ],
   "source": [
    "d20[\"key3\"]"
   ]
  },
  {
   "cell_type": "code",
   "execution_count": 98,
   "id": "24870281-45c7-4306-9018-3413e20fd71d",
   "metadata": {},
   "outputs": [
    {
     "ename": "KeyError",
     "evalue": "'sudh'",
     "output_type": "error",
     "traceback": [
      "\u001b[0;31m---------------------------------------------------------------------------\u001b[0m",
      "\u001b[0;31mKeyError\u001b[0m                                  Traceback (most recent call last)",
      "Cell \u001b[0;32mIn[98], line 1\u001b[0m\n\u001b[0;32m----> 1\u001b[0m \u001b[43md20\u001b[49m\u001b[43m[\u001b[49m\u001b[38;5;124;43m'\u001b[39;49m\u001b[38;5;124;43msudh\u001b[39;49m\u001b[38;5;124;43m'\u001b[39;49m\u001b[43m]\u001b[49m\n",
      "\u001b[0;31mKeyError\u001b[0m: 'sudh'"
     ]
    }
   ],
   "source": [
    "d20['sudh']"
   ]
  },
  {
   "cell_type": "markdown",
   "id": "e573ca8b-8e57-4c92-b98e-b5524e41dc7e",
   "metadata": {},
   "source": [
    "Dictionory comprehensions"
   ]
  },
  {
   "cell_type": "code",
   "execution_count": 99,
   "id": "5f0a3344-68e1-444c-ad2e-322133b9ff90",
   "metadata": {},
   "outputs": [
    {
     "data": {
      "text/plain": [
       "{1: 1, 2: 4, 3: 9, 4: 16, 5: 25, 6: 36, 7: 49, 8: 64, 9: 81, 10: 100}"
      ]
     },
     "execution_count": 99,
     "metadata": {},
     "output_type": "execute_result"
    }
   ],
   "source": [
    "{i : i**2 for i in range(1,11)}"
   ]
  },
  {
   "cell_type": "code",
   "execution_count": 100,
   "id": "5ef24dc6-2ded-4e48-9ac9-78e00406e6c7",
   "metadata": {},
   "outputs": [
    {
     "data": {
      "text/plain": [
       "{1: 11, 2: 12, 3: 13, 4: 14, 5: 15, 6: 16, 7: 17, 8: 18, 9: 19, 10: 20}"
      ]
     },
     "execution_count": 100,
     "metadata": {},
     "output_type": "execute_result"
    }
   ],
   "source": [
    "{i : i+10 for i in range (1,11)}"
   ]
  },
  {
   "cell_type": "code",
   "execution_count": 104,
   "id": "7f72b9b8-3518-4421-ad26-bc6bb30f93cf",
   "metadata": {},
   "outputs": [],
   "source": [
    "import math\n",
    "d21 = {i :math.log10(i) for i in range(1,11)}"
   ]
  },
  {
   "cell_type": "code",
   "execution_count": 102,
   "id": "dafd4a20-8230-4089-bd98-a995d251f911",
   "metadata": {},
   "outputs": [
    {
     "data": {
      "text/plain": [
       "{'batch_name': ['data scince master', 'web dev', 'JDS'],\n",
       " 'start_date': (28, 14, 21)}"
      ]
     },
     "execution_count": 102,
     "metadata": {},
     "output_type": "execute_result"
    }
   ],
   "source": [
    "d16"
   ]
  },
  {
   "cell_type": "code",
   "execution_count": 103,
   "id": "226924dc-87b5-40e5-9e2e-f84465ee652f",
   "metadata": {},
   "outputs": [
    {
     "data": {
      "text/plain": [
       "True"
      ]
     },
     "execution_count": 103,
     "metadata": {},
     "output_type": "execute_result"
    }
   ],
   "source": [
    "'batch_name' in d16"
   ]
  },
  {
   "cell_type": "code",
   "execution_count": 105,
   "id": "8fcb5d7a-692d-41fc-bdb3-00c241103c37",
   "metadata": {},
   "outputs": [
    {
     "data": {
      "text/plain": [
       "{1: 0.0,\n",
       " 2: 0.3010299956639812,\n",
       " 3: 0.47712125471966244,\n",
       " 4: 0.6020599913279624,\n",
       " 5: 0.6989700043360189,\n",
       " 6: 0.7781512503836436,\n",
       " 7: 0.8450980400142568,\n",
       " 8: 0.9030899869919435,\n",
       " 9: 0.9542425094393249,\n",
       " 10: 1.0}"
      ]
     },
     "execution_count": 105,
     "metadata": {},
     "output_type": "execute_result"
    }
   ],
   "source": [
    "d21"
   ]
  },
  {
   "cell_type": "code",
   "execution_count": 121,
   "id": "3cdb5164-6a95-4692-aef4-57c8e884e3a3",
   "metadata": {},
   "outputs": [
    {
     "name": "stdout",
     "output_type": "stream",
     "text": [
      "0.3010299956639812\n",
      "0.6020599913279624\n",
      "0.7781512503836436\n",
      "0.9030899869919435\n",
      "1.0\n"
     ]
    }
   ],
   "source": [
    "for i in d21.keys():\n",
    "    if i%2==0:\n",
    "        print(d21[i])\n"
   ]
  },
  {
   "cell_type": "code",
   "execution_count": null,
   "id": "047949ae-3e46-4447-969d-ebeba2df4371",
   "metadata": {},
   "outputs": [],
   "source": []
  },
  {
   "cell_type": "code",
   "execution_count": null,
   "id": "c5dbcd94-f53a-4fdf-8d33-99c7b271ac53",
   "metadata": {},
   "outputs": [],
   "source": []
  },
  {
   "cell_type": "code",
   "execution_count": null,
   "id": "2b5a8c1e-355e-44ce-a559-d26fcb02d769",
   "metadata": {},
   "outputs": [],
   "source": []
  }
 ],
 "metadata": {
  "kernelspec": {
   "display_name": "Python 3 (ipykernel)",
   "language": "python",
   "name": "python3"
  },
  "language_info": {
   "codemirror_mode": {
    "name": "ipython",
    "version": 3
   },
   "file_extension": ".py",
   "mimetype": "text/x-python",
   "name": "python",
   "nbconvert_exporter": "python",
   "pygments_lexer": "ipython3",
   "version": "3.10.8"
  }
 },
 "nbformat": 4,
 "nbformat_minor": 5
}
